{
 "cells": [
  {
   "cell_type": "code",
   "execution_count": null,
   "metadata": {},
   "outputs": [],
   "source": [
    "# default_exp config.common"
   ]
  },
  {
   "cell_type": "code",
   "execution_count": null,
   "metadata": {},
   "outputs": [
    {
     "data": {
      "application/javascript": [
       "\n",
       "            setTimeout(function() {\n",
       "                var nbb_cell_id = 2;\n",
       "                var nbb_unformatted_code = \"# hide\\n%load_ext nb_black\\n%load_ext autoreload\\n%autoreload 2\";\n",
       "                var nbb_formatted_code = \"# hide\\n%load_ext nb_black\\n%load_ext autoreload\\n%autoreload 2\";\n",
       "                var nbb_cells = Jupyter.notebook.get_cells();\n",
       "                for (var i = 0; i < nbb_cells.length; ++i) {\n",
       "                    if (nbb_cells[i].input_prompt_number == nbb_cell_id) {\n",
       "                        if (nbb_cells[i].get_text() == nbb_unformatted_code) {\n",
       "                             nbb_cells[i].set_text(nbb_formatted_code);\n",
       "                        }\n",
       "                        break;\n",
       "                    }\n",
       "                }\n",
       "            }, 500);\n",
       "            "
      ],
      "text/plain": [
       "<IPython.core.display.Javascript object>"
      ]
     },
     "metadata": {},
     "output_type": "display_data"
    }
   ],
   "source": [
    "# hide\n",
    "%load_ext nb_black\n",
    "%load_ext autoreload\n",
    "%autoreload 2"
   ]
  },
  {
   "cell_type": "code",
   "execution_count": null,
   "metadata": {},
   "outputs": [
    {
     "data": {
      "application/javascript": [
       "\n",
       "            setTimeout(function() {\n",
       "                var nbb_cell_id = 3;\n",
       "                var nbb_unformatted_code = \"# hide\\nimport warnings\\n\\nfrom nbdev.export import *\\nfrom nbdev.showdoc import *\\n\\nwarnings.filterwarnings(\\\"ignore\\\")\";\n",
       "                var nbb_formatted_code = \"# hide\\nimport warnings\\n\\nfrom nbdev.export import *\\nfrom nbdev.showdoc import *\\n\\nwarnings.filterwarnings(\\\"ignore\\\")\";\n",
       "                var nbb_cells = Jupyter.notebook.get_cells();\n",
       "                for (var i = 0; i < nbb_cells.length; ++i) {\n",
       "                    if (nbb_cells[i].input_prompt_number == nbb_cell_id) {\n",
       "                        if (nbb_cells[i].get_text() == nbb_unformatted_code) {\n",
       "                             nbb_cells[i].set_text(nbb_formatted_code);\n",
       "                        }\n",
       "                        break;\n",
       "                    }\n",
       "                }\n",
       "            }, 500);\n",
       "            "
      ],
      "text/plain": [
       "<IPython.core.display.Javascript object>"
      ]
     },
     "metadata": {},
     "output_type": "display_data"
    }
   ],
   "source": [
    "# hide\n",
    "import warnings\n",
    "\n",
    "from nbdev.export import *\n",
    "from nbdev.showdoc import *\n",
    "\n",
    "warnings.filterwarnings(\"ignore\")"
   ]
  },
  {
   "cell_type": "markdown",
   "metadata": {},
   "source": [
    "# Common Configs\n",
    "> Common Structured configs used in `gale` library"
   ]
  },
  {
   "cell_type": "code",
   "execution_count": null,
   "metadata": {},
   "outputs": [
    {
     "data": {
      "application/javascript": [
       "\n",
       "            setTimeout(function() {\n",
       "                var nbb_cell_id = 4;\n",
       "                var nbb_unformatted_code = \"# export\\nfrom dataclasses import dataclass, field\\nfrom typing import *\\n\\nfrom hydra.utils import instantiate\\nfrom omegaconf import MISSING, DictConfig, OmegaConf\\nfrom torch.utils.data._utils.collate import default_collate\\n\\nfrom gale.config.optimizers import OptimizerParams\\nfrom gale.config.schedulers import SchedulerParams\";\n",
       "                var nbb_formatted_code = \"# export\\nfrom dataclasses import dataclass, field\\nfrom typing import *\\n\\nfrom hydra.utils import instantiate\\nfrom omegaconf import MISSING, DictConfig, OmegaConf\\nfrom torch.utils.data._utils.collate import default_collate\\n\\nfrom gale.config.optimizers import OptimizerParams\\nfrom gale.config.schedulers import SchedulerParams\";\n",
       "                var nbb_cells = Jupyter.notebook.get_cells();\n",
       "                for (var i = 0; i < nbb_cells.length; ++i) {\n",
       "                    if (nbb_cells[i].input_prompt_number == nbb_cell_id) {\n",
       "                        if (nbb_cells[i].get_text() == nbb_unformatted_code) {\n",
       "                             nbb_cells[i].set_text(nbb_formatted_code);\n",
       "                        }\n",
       "                        break;\n",
       "                    }\n",
       "                }\n",
       "            }, 500);\n",
       "            "
      ],
      "text/plain": [
       "<IPython.core.display.Javascript object>"
      ]
     },
     "metadata": {},
     "output_type": "display_data"
    }
   ],
   "source": [
    "# export\n",
    "from dataclasses import dataclass, field\n",
    "from typing import *\n",
    "\n",
    "from hydra.utils import instantiate\n",
    "from omegaconf import MISSING, DictConfig, OmegaConf\n",
    "from torch.utils.data._utils.collate import default_collate\n",
    "\n",
    "from gale.config.optimizers import OptimizerParams\n",
    "from gale.config.schedulers import SchedulerParams"
   ]
  },
  {
   "cell_type": "code",
   "execution_count": null,
   "metadata": {},
   "outputs": [
    {
     "data": {
      "application/javascript": [
       "\n",
       "            setTimeout(function() {\n",
       "                var nbb_cell_id = 5;\n",
       "                var nbb_unformatted_code = \"# export\\n@dataclass\\nclass OptimizationConfig:\\n    \\\"\\\"\\\"\\n    Config for Optimizer and LR Scheduler for use in Gale.\\n\\n    *Arguments*:\\n    1. `optimizer` `(OptimizerParams)`: Config for the Optimizer; must be an instance of OptimizerParams.\\n    2. `scheduler` `(SchedulerParams)`: Config for the LR Scheduler; must be an instance of SchedulerParams\\n    3. `interval` `(str)`: either `epoch` (default) for stepping after each epoch ends or `step` for stepping after each optimization step\\n    4. `monitor` `(optional[str])`: metric to condition for ReduceLROnPlateau scheduler.\\n    5. `steps_per_epoch` `(int)`: total number of steps per epochs, this value is computed at runtime and mandatory to have.\\n    6. `max_steps` `(int)`: total number of training steps, computed at runtime or explicitly set here; mandatory to have.\\n    7. `max_epochs` `(int)`: total number of training epochs, computed at runtime or explicitly set here; mandatory to have.\\n    \\\"\\\"\\\"\\n\\n    optimizer: Optional[OptimizerParams] = MISSING\\n    scheduler: Optional[SchedulerParams] = MISSING\\n\\n    # pytorch lightning args for lr scheduler\\n    interval: str = \\\"epoch\\\"\\n    monitor: Optional[str] = None\\n    steps_per_epoch: Optional[int] = None\\n    max_steps: Optional[int] = None\\n    max_epochs: Optional[int] = None\";\n",
       "                var nbb_formatted_code = \"# export\\n@dataclass\\nclass OptimizationConfig:\\n    \\\"\\\"\\\"\\n    Config for Optimizer and LR Scheduler for use in Gale.\\n\\n    *Arguments*:\\n    1. `optimizer` `(OptimizerParams)`: Config for the Optimizer; must be an instance of OptimizerParams.\\n    2. `scheduler` `(SchedulerParams)`: Config for the LR Scheduler; must be an instance of SchedulerParams\\n    3. `interval` `(str)`: either `epoch` (default) for stepping after each epoch ends or `step` for stepping after each optimization step\\n    4. `monitor` `(optional[str])`: metric to condition for ReduceLROnPlateau scheduler.\\n    5. `steps_per_epoch` `(int)`: total number of steps per epochs, this value is computed at runtime and mandatory to have.\\n    6. `max_steps` `(int)`: total number of training steps, computed at runtime or explicitly set here; mandatory to have.\\n    7. `max_epochs` `(int)`: total number of training epochs, computed at runtime or explicitly set here; mandatory to have.\\n    \\\"\\\"\\\"\\n\\n    optimizer: Optional[OptimizerParams] = MISSING\\n    scheduler: Optional[SchedulerParams] = MISSING\\n\\n    # pytorch lightning args for lr scheduler\\n    interval: str = \\\"epoch\\\"\\n    monitor: Optional[str] = None\\n    steps_per_epoch: Optional[int] = None\\n    max_steps: Optional[int] = None\\n    max_epochs: Optional[int] = None\";\n",
       "                var nbb_cells = Jupyter.notebook.get_cells();\n",
       "                for (var i = 0; i < nbb_cells.length; ++i) {\n",
       "                    if (nbb_cells[i].input_prompt_number == nbb_cell_id) {\n",
       "                        if (nbb_cells[i].get_text() == nbb_unformatted_code) {\n",
       "                             nbb_cells[i].set_text(nbb_formatted_code);\n",
       "                        }\n",
       "                        break;\n",
       "                    }\n",
       "                }\n",
       "            }, 500);\n",
       "            "
      ],
      "text/plain": [
       "<IPython.core.display.Javascript object>"
      ]
     },
     "metadata": {},
     "output_type": "display_data"
    }
   ],
   "source": [
    "# export\n",
    "@dataclass\n",
    "class OptimizationConfig:\n",
    "    \"\"\"\n",
    "    Config for Optimizer and LR Scheduler for use in Gale.\n",
    "\n",
    "    *Arguments*:\n",
    "    1. `optimizer` `(OptimizerParams)`: Config for the Optimizer; must be an instance of OptimizerParams.\n",
    "    2. `scheduler` `(SchedulerParams)`: Config for the LR Scheduler; must be an instance of SchedulerParams\n",
    "    3. `interval` `(str)`: either `epoch` (default) for stepping after each epoch ends or `step` for stepping after each optimization step\n",
    "    4. `monitor` `(optional[str])`: metric to condition for ReduceLROnPlateau scheduler.\n",
    "    5. `steps_per_epoch` `(int)`: total number of steps per epochs, this value is computed at runtime and mandatory to have.\n",
    "    6. `max_steps` `(int)`: total number of training steps, computed at runtime or explicitly set here; mandatory to have.\n",
    "    7. `max_epochs` `(int)`: total number of training epochs, computed at runtime or explicitly set here; mandatory to have.\n",
    "    \"\"\"\n",
    "\n",
    "    optimizer: Optional[OptimizerParams] = MISSING\n",
    "    scheduler: Optional[SchedulerParams] = MISSING\n",
    "\n",
    "    # pytorch lightning args for lr scheduler\n",
    "    interval: str = \"epoch\"\n",
    "    monitor: Optional[str] = None\n",
    "    steps_per_epoch: Optional[int] = None\n",
    "    max_steps: Optional[int] = None\n",
    "    max_epochs: Optional[int] = None"
   ]
  },
  {
   "cell_type": "code",
   "execution_count": null,
   "metadata": {},
   "outputs": [
    {
     "data": {
      "application/javascript": [
       "\n",
       "            setTimeout(function() {\n",
       "                var nbb_cell_id = 6;\n",
       "                var nbb_unformatted_code = \"# export\\n@dataclass\\nclass DataLoaderConfig:\\n    \\\"\\\"\\\"\\n    Configuration of PyTorch DataLoader.\\n    For the details on the function/meanings of the arguments, please refer to:\\n    https://pytorch.org/docs/stable/data.html#torch.utils.data.DataLoader\\n    \\\"\\\"\\\"\\n\\n    batch_size: int = MISSING\\n    shuffle: bool = False\\n    sampler: Optional[Any] = None\\n    batch_sampler: Optional[Any] = None\\n    num_workers: int = 0\\n    collate_fn: Optional[Any] = None\\n    pin_memory: bool = False\\n    drop_last: bool = False\\n    timeout: int = 0\\n    worker_init_fn: Optional[Any] = None\\n    multiprocessing_context: Optional[Any] = None\";\n",
       "                var nbb_formatted_code = \"# export\\n@dataclass\\nclass DataLoaderConfig:\\n    \\\"\\\"\\\"\\n    Configuration of PyTorch DataLoader.\\n    For the details on the function/meanings of the arguments, please refer to:\\n    https://pytorch.org/docs/stable/data.html#torch.utils.data.DataLoader\\n    \\\"\\\"\\\"\\n\\n    batch_size: int = MISSING\\n    shuffle: bool = False\\n    sampler: Optional[Any] = None\\n    batch_sampler: Optional[Any] = None\\n    num_workers: int = 0\\n    collate_fn: Optional[Any] = None\\n    pin_memory: bool = False\\n    drop_last: bool = False\\n    timeout: int = 0\\n    worker_init_fn: Optional[Any] = None\\n    multiprocessing_context: Optional[Any] = None\";\n",
       "                var nbb_cells = Jupyter.notebook.get_cells();\n",
       "                for (var i = 0; i < nbb_cells.length; ++i) {\n",
       "                    if (nbb_cells[i].input_prompt_number == nbb_cell_id) {\n",
       "                        if (nbb_cells[i].get_text() == nbb_unformatted_code) {\n",
       "                             nbb_cells[i].set_text(nbb_formatted_code);\n",
       "                        }\n",
       "                        break;\n",
       "                    }\n",
       "                }\n",
       "            }, 500);\n",
       "            "
      ],
      "text/plain": [
       "<IPython.core.display.Javascript object>"
      ]
     },
     "metadata": {},
     "output_type": "display_data"
    }
   ],
   "source": [
    "# export\n",
    "@dataclass\n",
    "class DataLoaderConfig:\n",
    "    \"\"\"\n",
    "    Configuration of PyTorch DataLoader.\n",
    "    For the details on the function/meanings of the arguments, please refer to:\n",
    "    https://pytorch.org/docs/stable/data.html#torch.utils.data.DataLoader\n",
    "    \"\"\"\n",
    "\n",
    "    batch_size: int = MISSING\n",
    "    shuffle: bool = False\n",
    "    sampler: Optional[Any] = None\n",
    "    batch_sampler: Optional[Any] = None\n",
    "    num_workers: int = 0\n",
    "    collate_fn: Optional[Any] = None\n",
    "    pin_memory: bool = False\n",
    "    drop_last: bool = False\n",
    "    timeout: int = 0\n",
    "    worker_init_fn: Optional[Any] = None\n",
    "    multiprocessing_context: Optional[Any] = None"
   ]
  },
  {
   "cell_type": "code",
   "execution_count": null,
   "metadata": {},
   "outputs": [
    {
     "data": {
      "application/javascript": [
       "\n",
       "            setTimeout(function() {\n",
       "                var nbb_cell_id = 7;\n",
       "                var nbb_unformatted_code = \"# export\\n@dataclass\\nclass DatasetsConfig:\\n    \\\"\\\"\\\"\\n    Configuration of `Datasets`.\\n\\n    *Arguments*\\n    1. `train_ds` `(str)`: name of the training dataset. (must be registered in `DatasetCatalog`)\\n    2. `valid_ds` `(str)`: name of the validation dataset. (must be registered in `DatasetCatalog`)\\n    3. `test_ds` `(optional, str)`: name of the test dataset. (must be registered in `DatasetCatalog`)\\n    4. `train_loader` `(DataLoaderConfig)`: configuration for the train dataloader.\\n    5. `valid_loader` `(DataLoaderConfig)`: configuration for the valid dataloader.\\n    6. `valid_loader` `(optional, DataLoaderConfig)`: configuration for the test dataloader.\\n    \\\"\\\"\\\"\\n\\n    train_ds: str = MISSING\\n    valid_ds: str = MISSING\\n    train_loader: DataLoaderConfig = MISSING\\n    valid_loader: DataLoaderConfig = MISSING\\n    test_ds: Optional[str] = None\\n    test_loader: Optional[DataLoaderConfig] = None\";\n",
       "                var nbb_formatted_code = \"# export\\n@dataclass\\nclass DatasetsConfig:\\n    \\\"\\\"\\\"\\n    Configuration of `Datasets`.\\n\\n    *Arguments*\\n    1. `train_ds` `(str)`: name of the training dataset. (must be registered in `DatasetCatalog`)\\n    2. `valid_ds` `(str)`: name of the validation dataset. (must be registered in `DatasetCatalog`)\\n    3. `test_ds` `(optional, str)`: name of the test dataset. (must be registered in `DatasetCatalog`)\\n    4. `train_loader` `(DataLoaderConfig)`: configuration for the train dataloader.\\n    5. `valid_loader` `(DataLoaderConfig)`: configuration for the valid dataloader.\\n    6. `valid_loader` `(optional, DataLoaderConfig)`: configuration for the test dataloader.\\n    \\\"\\\"\\\"\\n\\n    train_ds: str = MISSING\\n    valid_ds: str = MISSING\\n    train_loader: DataLoaderConfig = MISSING\\n    valid_loader: DataLoaderConfig = MISSING\\n    test_ds: Optional[str] = None\\n    test_loader: Optional[DataLoaderConfig] = None\";\n",
       "                var nbb_cells = Jupyter.notebook.get_cells();\n",
       "                for (var i = 0; i < nbb_cells.length; ++i) {\n",
       "                    if (nbb_cells[i].input_prompt_number == nbb_cell_id) {\n",
       "                        if (nbb_cells[i].get_text() == nbb_unformatted_code) {\n",
       "                             nbb_cells[i].set_text(nbb_formatted_code);\n",
       "                        }\n",
       "                        break;\n",
       "                    }\n",
       "                }\n",
       "            }, 500);\n",
       "            "
      ],
      "text/plain": [
       "<IPython.core.display.Javascript object>"
      ]
     },
     "metadata": {},
     "output_type": "display_data"
    }
   ],
   "source": [
    "# export\n",
    "@dataclass\n",
    "class DatasetsConfig:\n",
    "    \"\"\"\n",
    "    Configuration of `Datasets`.\n",
    "\n",
    "    *Arguments*\n",
    "    1. `train_ds` `(str)`: name of the training dataset. (must be registered in `DatasetCatalog`)\n",
    "    2. `valid_ds` `(str)`: name of the validation dataset. (must be registered in `DatasetCatalog`)\n",
    "    3. `test_ds` `(optional, str)`: name of the test dataset. (must be registered in `DatasetCatalog`)\n",
    "    4. `train_loader` `(DataLoaderConfig)`: configuration for the train dataloader.\n",
    "    5. `valid_loader` `(DataLoaderConfig)`: configuration for the valid dataloader.\n",
    "    6. `valid_loader` `(optional, DataLoaderConfig)`: configuration for the test dataloader.\n",
    "    \"\"\"\n",
    "\n",
    "    train_ds: str = MISSING\n",
    "    valid_ds: str = MISSING\n",
    "    train_loader: DataLoaderConfig = MISSING\n",
    "    valid_loader: DataLoaderConfig = MISSING\n",
    "    test_ds: Optional[str] = None\n",
    "    test_loader: Optional[DataLoaderConfig] = None"
   ]
  },
  {
   "cell_type": "code",
   "execution_count": null,
   "metadata": {},
   "outputs": [
    {
     "data": {
      "application/javascript": [
       "\n",
       "            setTimeout(function() {\n",
       "                var nbb_cell_id = 9;\n",
       "                var nbb_unformatted_code = \"# export\\n@dataclass\\nclass BaseGaleConfig:\\n    \\\"\\\"\\\"\\n    Default Gale configuration. All other configuration for\\n    specific tasks are inherited from this base config.\\n\\n    *Arguments*\\n    1. `optimization` `(OptimizationConfig)` : Config contraining optimization information\\n    2. `datasets` `DatasetsConfig`: Config containing information about datasets, dataloaders and how to obtain them.\\n    \\\"\\\"\\\"\\n\\n    optimization: Optional[OptimizationConfig] = MISSING\\n    datasets: DatasetsConfig = MISSING\";\n",
       "                var nbb_formatted_code = \"# export\\n@dataclass\\nclass BaseGaleConfig:\\n    \\\"\\\"\\\"\\n    Default Gale configuration. All other configuration for\\n    specific tasks are inherited from this base config.\\n\\n    *Arguments*\\n    1. `optimization` `(OptimizationConfig)` : Config contraining optimization information\\n    2. `datasets` `DatasetsConfig`: Config containing information about datasets, dataloaders and how to obtain them.\\n    \\\"\\\"\\\"\\n\\n    optimization: Optional[OptimizationConfig] = MISSING\\n    datasets: DatasetsConfig = MISSING\";\n",
       "                var nbb_cells = Jupyter.notebook.get_cells();\n",
       "                for (var i = 0; i < nbb_cells.length; ++i) {\n",
       "                    if (nbb_cells[i].input_prompt_number == nbb_cell_id) {\n",
       "                        if (nbb_cells[i].get_text() == nbb_unformatted_code) {\n",
       "                             nbb_cells[i].set_text(nbb_formatted_code);\n",
       "                        }\n",
       "                        break;\n",
       "                    }\n",
       "                }\n",
       "            }, 500);\n",
       "            "
      ],
      "text/plain": [
       "<IPython.core.display.Javascript object>"
      ]
     },
     "metadata": {},
     "output_type": "display_data"
    }
   ],
   "source": [
    "# export\n",
    "@dataclass\n",
    "class BaseGaleConfig:\n",
    "    \"\"\"\n",
    "    Default Gale configuration. All other configuration for\n",
    "    specific tasks are inherited from this base config.\n",
    "\n",
    "    *Arguments*\n",
    "    1. `optimization` `(OptimizationConfig)` : Config contraining optimization information\n",
    "    2. `datasets` `DatasetsConfig`: Config containing information about datasets, dataloaders and how to obtain them.\n",
    "    \"\"\"\n",
    "\n",
    "    optimization: Optional[OptimizationConfig] = MISSING\n",
    "    datasets: DatasetsConfig = MISSING"
   ]
  },
  {
   "cell_type": "markdown",
   "metadata": {},
   "source": [
    "## Export -"
   ]
  },
  {
   "cell_type": "code",
   "execution_count": null,
   "metadata": {},
   "outputs": [
    {
     "name": "stdout",
     "output_type": "stream",
     "text": [
      "Converted 00_core.logging.ipynb.\n",
      "Converted 00a_core.structures.ipynb.\n",
      "Converted 00b_core.visualize.ipynb.\n",
      "Converted 01_core.nn.utils.ipynb.\n",
      "Converted 01a_core.nn.losses.ipynb.\n",
      "Converted 01b_core.nn.optim.optimizers.ipynb.\n",
      "Converted 01c_core.nn.optim.lr_schedulers.ipynb.\n",
      "Converted 02_config.optimizers.ipynb.\n",
      "Converted 02a_config.schedulers.ipynb.\n",
      "Converted 02b_config.common.ipynb.\n",
      "Converted 03_core.classes.ipynb.\n",
      "Converted 04_classification.modelling.backbones.ipynb.\n",
      "Converted 05_collections.pandas.ipynb.\n",
      "Converted 06a_collections.callbacks.notebook.ipynb.\n",
      "Converted 06b_collections.callbacks.ema.ipynb.\n",
      "Converted index.ipynb.\n"
     ]
    },
    {
     "data": {
      "application/javascript": [
       "\n",
       "            setTimeout(function() {\n",
       "                var nbb_cell_id = 10;\n",
       "                var nbb_unformatted_code = \"# hide\\nnotebook2script()\";\n",
       "                var nbb_formatted_code = \"# hide\\nnotebook2script()\";\n",
       "                var nbb_cells = Jupyter.notebook.get_cells();\n",
       "                for (var i = 0; i < nbb_cells.length; ++i) {\n",
       "                    if (nbb_cells[i].input_prompt_number == nbb_cell_id) {\n",
       "                        if (nbb_cells[i].get_text() == nbb_unformatted_code) {\n",
       "                             nbb_cells[i].set_text(nbb_formatted_code);\n",
       "                        }\n",
       "                        break;\n",
       "                    }\n",
       "                }\n",
       "            }, 500);\n",
       "            "
      ],
      "text/plain": [
       "<IPython.core.display.Javascript object>"
      ]
     },
     "metadata": {},
     "output_type": "display_data"
    }
   ],
   "source": [
    "# hide\n",
    "notebook2script()"
   ]
  },
  {
   "cell_type": "code",
   "execution_count": null,
   "metadata": {},
   "outputs": [],
   "source": []
  }
 ],
 "metadata": {
  "kernelspec": {
   "display_name": "gale",
   "language": "python",
   "name": "gale"
  }
 },
 "nbformat": 4,
 "nbformat_minor": 4
}
