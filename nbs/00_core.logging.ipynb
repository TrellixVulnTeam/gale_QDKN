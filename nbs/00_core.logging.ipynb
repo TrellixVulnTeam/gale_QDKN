{
 "cells": [
  {
   "cell_type": "code",
   "execution_count": null,
   "metadata": {},
   "outputs": [],
   "source": [
    "# default_exp core.logging"
   ]
  },
  {
   "cell_type": "code",
   "execution_count": null,
   "metadata": {},
   "outputs": [
    {
     "data": {
      "application/javascript": [
       "\n",
       "            setTimeout(function() {\n",
       "                var nbb_cell_id = 2;\n",
       "                var nbb_unformatted_code = \"# hide\\n%load_ext nb_black\";\n",
       "                var nbb_formatted_code = \"# hide\\n%load_ext nb_black\";\n",
       "                var nbb_cells = Jupyter.notebook.get_cells();\n",
       "                for (var i = 0; i < nbb_cells.length; ++i) {\n",
       "                    if (nbb_cells[i].input_prompt_number == nbb_cell_id) {\n",
       "                        if (nbb_cells[i].get_text() == nbb_unformatted_code) {\n",
       "                             nbb_cells[i].set_text(nbb_formatted_code);\n",
       "                        }\n",
       "                        break;\n",
       "                    }\n",
       "                }\n",
       "            }, 500);\n",
       "            "
      ],
      "text/plain": [
       "<IPython.core.display.Javascript object>"
      ]
     },
     "metadata": {},
     "output_type": "display_data"
    }
   ],
   "source": [
    "# hide\n",
    "%load_ext nb_black"
   ]
  },
  {
   "cell_type": "code",
   "execution_count": null,
   "metadata": {},
   "outputs": [
    {
     "data": {
      "application/javascript": [
       "\n",
       "            setTimeout(function() {\n",
       "                var nbb_cell_id = 3;\n",
       "                var nbb_unformatted_code = \"# hide\\nimport warnings\\n\\nfrom nbdev.export import *\\nfrom nbdev.showdoc import *\\n\\nwarnings.filterwarnings(\\\"ignore\\\")\";\n",
       "                var nbb_formatted_code = \"# hide\\nimport warnings\\n\\nfrom nbdev.export import *\\nfrom nbdev.showdoc import *\\n\\nwarnings.filterwarnings(\\\"ignore\\\")\";\n",
       "                var nbb_cells = Jupyter.notebook.get_cells();\n",
       "                for (var i = 0; i < nbb_cells.length; ++i) {\n",
       "                    if (nbb_cells[i].input_prompt_number == nbb_cell_id) {\n",
       "                        if (nbb_cells[i].get_text() == nbb_unformatted_code) {\n",
       "                             nbb_cells[i].set_text(nbb_formatted_code);\n",
       "                        }\n",
       "                        break;\n",
       "                    }\n",
       "                }\n",
       "            }, 500);\n",
       "            "
      ],
      "text/plain": [
       "<IPython.core.display.Javascript object>"
      ]
     },
     "metadata": {},
     "output_type": "display_data"
    }
   ],
   "source": [
    "# hide\n",
    "import warnings\n",
    "\n",
    "from nbdev.export import *\n",
    "from nbdev.showdoc import *\n",
    "\n",
    "warnings.filterwarnings(\"ignore\")"
   ]
  },
  {
   "cell_type": "markdown",
   "metadata": {},
   "source": [
    "# Logger\n",
    "> Setups `logger`: name, level, format etc."
   ]
  },
  {
   "cell_type": "code",
   "execution_count": null,
   "metadata": {},
   "outputs": [
    {
     "data": {
      "application/javascript": [
       "\n",
       "            setTimeout(function() {\n",
       "                var nbb_cell_id = 49;\n",
       "                var nbb_unformatted_code = \"# export\\nimport logging\\nimport sys\\n\\nimport loguru\\nfrom fastcore.all import delegates\\nimport functools\\nfrom termcolor import colored\";\n",
       "                var nbb_formatted_code = \"# export\\nimport logging\\nimport sys\\n\\nimport loguru\\nfrom fastcore.all import delegates\\nimport functools\\nfrom termcolor import colored\";\n",
       "                var nbb_cells = Jupyter.notebook.get_cells();\n",
       "                for (var i = 0; i < nbb_cells.length; ++i) {\n",
       "                    if (nbb_cells[i].input_prompt_number == nbb_cell_id) {\n",
       "                        if (nbb_cells[i].get_text() == nbb_unformatted_code) {\n",
       "                             nbb_cells[i].set_text(nbb_formatted_code);\n",
       "                        }\n",
       "                        break;\n",
       "                    }\n",
       "                }\n",
       "            }, 500);\n",
       "            "
      ],
      "text/plain": [
       "<IPython.core.display.Javascript object>"
      ]
     },
     "metadata": {},
     "output_type": "display_data"
    }
   ],
   "source": [
    "# export\n",
    "import logging\n",
    "import sys\n",
    "\n",
    "import loguru\n",
    "from fastcore.all import delegates\n",
    "import functools\n",
    "from termcolor import colored"
   ]
  },
  {
   "cell_type": "code",
   "execution_count": null,
   "metadata": {},
   "outputs": [
    {
     "data": {
      "application/javascript": [
       "\n",
       "            setTimeout(function() {\n",
       "                var nbb_cell_id = 63;\n",
       "                var nbb_unformatted_code = \"# export\\ndef wrapper(record):\\n    \\\"\\\"\\\"\\n    Update logging records\\n    \\\"\\\"\\\"\\n    prefix = \\\"\\\"\\n    log = record[\\\"message\\\"]\\n\\n    if record[\\\"level\\\"].name == \\\"WARNING\\\":\\n        prefix = colored(\\\"WARNING\\\", \\\"red\\\", attrs=[\\\"blink\\\"])\\n        prefix = prefix + \\\":\\\"\\n    elif record[\\\"level\\\"].name == \\\"ERROR\\\" or record[\\\"level\\\"].name == \\\"CRITICAL\\\":\\n        prefix = colored(\\\"ERROR\\\", \\\"red\\\", attrs=[\\\"blink\\\", \\\"underline\\\"])\\n        prefix = prefix + \\\":\\\"\\n    else:\\n        pass\\n    record[\\\"message\\\"] = prefix + \\\" \\\" + log\";\n",
       "                var nbb_formatted_code = \"# export\\ndef wrapper(record):\\n    \\\"\\\"\\\"\\n    Update logging records\\n    \\\"\\\"\\\"\\n    prefix = \\\"\\\"\\n    log = record[\\\"message\\\"]\\n\\n    if record[\\\"level\\\"].name == \\\"WARNING\\\":\\n        prefix = colored(\\\"WARNING\\\", \\\"red\\\", attrs=[\\\"blink\\\"])\\n        prefix = prefix + \\\":\\\"\\n    elif record[\\\"level\\\"].name == \\\"ERROR\\\" or record[\\\"level\\\"].name == \\\"CRITICAL\\\":\\n        prefix = colored(\\\"ERROR\\\", \\\"red\\\", attrs=[\\\"blink\\\", \\\"underline\\\"])\\n        prefix = prefix + \\\":\\\"\\n    else:\\n        pass\\n    record[\\\"message\\\"] = prefix + \\\" \\\" + log\";\n",
       "                var nbb_cells = Jupyter.notebook.get_cells();\n",
       "                for (var i = 0; i < nbb_cells.length; ++i) {\n",
       "                    if (nbb_cells[i].input_prompt_number == nbb_cell_id) {\n",
       "                        if (nbb_cells[i].get_text() == nbb_unformatted_code) {\n",
       "                             nbb_cells[i].set_text(nbb_formatted_code);\n",
       "                        }\n",
       "                        break;\n",
       "                    }\n",
       "                }\n",
       "            }, 500);\n",
       "            "
      ],
      "text/plain": [
       "<IPython.core.display.Javascript object>"
      ]
     },
     "metadata": {},
     "output_type": "display_data"
    }
   ],
   "source": [
    "# export\n",
    "def wrapper(record):\n",
    "    \"\"\"\n",
    "    Update logging records\n",
    "    \"\"\"\n",
    "    prefix = \"\"\n",
    "    log = record[\"message\"]\n",
    "\n",
    "    if record[\"level\"].name == \"WARNING\":\n",
    "        prefix = colored(\"WARNING\", \"red\", attrs=[\"blink\"])\n",
    "        prefix = prefix + \":\"\n",
    "    elif record[\"level\"].name == \"ERROR\" or record[\"level\"].name == \"CRITICAL\":\n",
    "        prefix = colored(\"ERROR\", \"red\", attrs=[\"blink\", \"underline\"])\n",
    "        prefix = prefix + \":\"\n",
    "    else:\n",
    "        pass\n",
    "    record[\"message\"] = prefix + \" \" + log"
   ]
  },
  {
   "cell_type": "code",
   "execution_count": null,
   "metadata": {},
   "outputs": [
    {
     "data": {
      "application/javascript": [
       "\n",
       "            setTimeout(function() {\n",
       "                var nbb_cell_id = 68;\n",
       "                var nbb_unformatted_code = \"# export\\n@delegates(loguru.logger.add)\\ndef setup_logger(\\n    sink=sys.stdout,\\n    level=logging.INFO,\\n    format=\\\"<green>[{time:MM/DD HH:mm:ss} {name}]:</green> {message}\\\",\\n    colorize=True,\\n    **kwargs\\n):\\n    \\\"Default logger for the Gale Library\\\"\\n    logger = loguru.logger\\n    logger.remove()\\n    logger.add(sink, level=level, format=format, colorize=colorize, **kwargs)\\n    logger = logger.patch(lambda record: wrapper(record))\\n    return logger\";\n",
       "                var nbb_formatted_code = \"# export\\n@delegates(loguru.logger.add)\\ndef setup_logger(\\n    sink=sys.stdout,\\n    level=logging.INFO,\\n    format=\\\"<green>[{time:MM/DD HH:mm:ss} {name}]:</green> {message}\\\",\\n    colorize=True,\\n    **kwargs\\n):\\n    \\\"Default logger for the Gale Library\\\"\\n    logger = loguru.logger\\n    logger.remove()\\n    logger.add(sink, level=level, format=format, colorize=colorize, **kwargs)\\n    logger = logger.patch(lambda record: wrapper(record))\\n    return logger\";\n",
       "                var nbb_cells = Jupyter.notebook.get_cells();\n",
       "                for (var i = 0; i < nbb_cells.length; ++i) {\n",
       "                    if (nbb_cells[i].input_prompt_number == nbb_cell_id) {\n",
       "                        if (nbb_cells[i].get_text() == nbb_unformatted_code) {\n",
       "                             nbb_cells[i].set_text(nbb_formatted_code);\n",
       "                        }\n",
       "                        break;\n",
       "                    }\n",
       "                }\n",
       "            }, 500);\n",
       "            "
      ],
      "text/plain": [
       "<IPython.core.display.Javascript object>"
      ]
     },
     "metadata": {},
     "output_type": "display_data"
    }
   ],
   "source": [
    "# export\n",
    "@delegates(loguru.logger.add)\n",
    "def setup_logger(\n",
    "    sink=sys.stdout,\n",
    "    level=logging.INFO,\n",
    "    format=\"<green>[{time:MM/DD HH:mm:ss} {name}]:</green> {message}\",\n",
    "    colorize=True,\n",
    "    **kwargs\n",
    "):\n",
    "    \"Default logger for the Gale Library\"\n",
    "    logger = loguru.logger\n",
    "    logger.remove()\n",
    "    logger.add(sink, level=level, format=format, colorize=colorize, **kwargs)\n",
    "    logger = logger.patch(lambda record: wrapper(record))\n",
    "    return logger"
   ]
  },
  {
   "cell_type": "markdown",
   "metadata": {},
   "source": [
    "Gale use `loguru` logger for logging. For more information to customize logging see : [loguru docs](https://loguru.readthedocs.io/en/stable/api/logger.html)"
   ]
  },
  {
   "cell_type": "code",
   "execution_count": null,
   "metadata": {},
   "outputs": [
    {
     "name": "stdout",
     "output_type": "stream",
     "text": [
      "\u001b[32m[04/22 00:58:30 __main__]:\u001b[0m  This is a INFO message\n",
      "\u001b[32m[04/22 00:58:30 __main__]:\u001b[0m \u001b[5m\u001b[31mWARNING\u001b[0m: This is a WARNING message\n",
      "\u001b[32m[04/22 00:58:30 __main__]:\u001b[0m \u001b[4m\u001b[5m\u001b[31mERROR\u001b[0m: This is a ERROR meassage\n"
     ]
    },
    {
     "data": {
      "application/javascript": [
       "\n",
       "            setTimeout(function() {\n",
       "                var nbb_cell_id = 69;\n",
       "                var nbb_unformatted_code = \"logger = setup_logger()\\nlogger.info(\\\"This is a INFO message\\\")\\nlogger.warning(\\\"This is a WARNING message\\\")\\nlogger.error(\\\"This is a ERROR meassage\\\")\";\n",
       "                var nbb_formatted_code = \"logger = setup_logger()\\nlogger.info(\\\"This is a INFO message\\\")\\nlogger.warning(\\\"This is a WARNING message\\\")\\nlogger.error(\\\"This is a ERROR meassage\\\")\";\n",
       "                var nbb_cells = Jupyter.notebook.get_cells();\n",
       "                for (var i = 0; i < nbb_cells.length; ++i) {\n",
       "                    if (nbb_cells[i].input_prompt_number == nbb_cell_id) {\n",
       "                        if (nbb_cells[i].get_text() == nbb_unformatted_code) {\n",
       "                             nbb_cells[i].set_text(nbb_formatted_code);\n",
       "                        }\n",
       "                        break;\n",
       "                    }\n",
       "                }\n",
       "            }, 500);\n",
       "            "
      ],
      "text/plain": [
       "<IPython.core.display.Javascript object>"
      ]
     },
     "metadata": {},
     "output_type": "display_data"
    }
   ],
   "source": [
    "logger = setup_logger()\n",
    "logger.info(\"This is a INFO message\")\n",
    "logger.warning(\"This is a WARNING message\")\n",
    "logger.error(\"This is a ERROR meassage\")"
   ]
  },
  {
   "cell_type": "markdown",
   "metadata": {},
   "source": [
    "# Export"
   ]
  },
  {
   "cell_type": "code",
   "execution_count": null,
   "metadata": {},
   "outputs": [
    {
     "name": "stdout",
     "output_type": "stream",
     "text": [
      "Converted 00_core.logging.ipynb.\n",
      "Converted 00a_core.structures.ipynb.\n",
      "Converted 00b_core.visualize.ipynb.\n",
      "Converted 01_core.nn.utils.ipynb.\n",
      "Converted 01a_core.nn.losses.ipynb.\n",
      "Converted 02_core.nn.optim.optimizers.ipynb.\n",
      "Converted 02a_core.nn.optim.lr_schedulers.ipynb.\n",
      "Converted 03_core.config.ipynb.\n",
      "Converted 03a_core.classes.ipynb.\n",
      "Converted 04_classification.modelling.backbones.ipynb.\n",
      "Converted 04a_classification.modelling.heads.ipynb.\n",
      "Converted 04b_classification.modelling.meta_arch.ipynb.\n",
      "Converted 05_collections.pandas.ipynb.\n",
      "Converted 06a_collections.callbacks.notebook.ipynb.\n",
      "Converted 06b_collections.callbacks.ema.ipynb.\n",
      "Converted index.ipynb.\n"
     ]
    },
    {
     "data": {
      "application/javascript": [
       "\n",
       "            setTimeout(function() {\n",
       "                var nbb_cell_id = 70;\n",
       "                var nbb_unformatted_code = \"# hide\\nnotebook2script()\";\n",
       "                var nbb_formatted_code = \"# hide\\nnotebook2script()\";\n",
       "                var nbb_cells = Jupyter.notebook.get_cells();\n",
       "                for (var i = 0; i < nbb_cells.length; ++i) {\n",
       "                    if (nbb_cells[i].input_prompt_number == nbb_cell_id) {\n",
       "                        if (nbb_cells[i].get_text() == nbb_unformatted_code) {\n",
       "                             nbb_cells[i].set_text(nbb_formatted_code);\n",
       "                        }\n",
       "                        break;\n",
       "                    }\n",
       "                }\n",
       "            }, 500);\n",
       "            "
      ],
      "text/plain": [
       "<IPython.core.display.Javascript object>"
      ]
     },
     "metadata": {},
     "output_type": "display_data"
    }
   ],
   "source": [
    "# hide\n",
    "notebook2script()"
   ]
  },
  {
   "cell_type": "code",
   "execution_count": null,
   "metadata": {},
   "outputs": [],
   "source": []
  }
 ],
 "metadata": {
  "kernelspec": {
   "display_name": "gale",
   "language": "python",
   "name": "gale"
  }
 },
 "nbformat": 4,
 "nbformat_minor": 5
}
