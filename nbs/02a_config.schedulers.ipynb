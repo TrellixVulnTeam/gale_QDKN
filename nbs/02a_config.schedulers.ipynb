{
 "cells": [
  {
   "cell_type": "code",
   "execution_count": null,
   "metadata": {},
   "outputs": [],
   "source": [
    "# default_exp config.schedulers"
   ]
  },
  {
   "cell_type": "code",
   "execution_count": null,
   "metadata": {},
   "outputs": [
    {
     "data": {
      "application/javascript": [
       "\n",
       "            setTimeout(function() {\n",
       "                var nbb_cell_id = 2;\n",
       "                var nbb_unformatted_code = \"# hide\\n%load_ext nb_black\\n%load_ext autoreload\\n%autoreload 2\";\n",
       "                var nbb_formatted_code = \"# hide\\n%load_ext nb_black\\n%load_ext autoreload\\n%autoreload 2\";\n",
       "                var nbb_cells = Jupyter.notebook.get_cells();\n",
       "                for (var i = 0; i < nbb_cells.length; ++i) {\n",
       "                    if (nbb_cells[i].input_prompt_number == nbb_cell_id) {\n",
       "                        if (nbb_cells[i].get_text() == nbb_unformatted_code) {\n",
       "                             nbb_cells[i].set_text(nbb_formatted_code);\n",
       "                        }\n",
       "                        break;\n",
       "                    }\n",
       "                }\n",
       "            }, 500);\n",
       "            "
      ],
      "text/plain": [
       "<IPython.core.display.Javascript object>"
      ]
     },
     "metadata": {},
     "output_type": "display_data"
    }
   ],
   "source": [
    "# hide\n",
    "%load_ext nb_black\n",
    "%load_ext autoreload\n",
    "%autoreload 2"
   ]
  },
  {
   "cell_type": "code",
   "execution_count": null,
   "metadata": {},
   "outputs": [
    {
     "data": {
      "application/javascript": [
       "\n",
       "            setTimeout(function() {\n",
       "                var nbb_cell_id = 3;\n",
       "                var nbb_unformatted_code = \"# hide\\nimport warnings\\n\\nfrom nbdev.export import *\\nfrom nbdev.showdoc import *\\n\\nwarnings.filterwarnings(\\\"ignore\\\")\";\n",
       "                var nbb_formatted_code = \"# hide\\nimport warnings\\n\\nfrom nbdev.export import *\\nfrom nbdev.showdoc import *\\n\\nwarnings.filterwarnings(\\\"ignore\\\")\";\n",
       "                var nbb_cells = Jupyter.notebook.get_cells();\n",
       "                for (var i = 0; i < nbb_cells.length; ++i) {\n",
       "                    if (nbb_cells[i].input_prompt_number == nbb_cell_id) {\n",
       "                        if (nbb_cells[i].get_text() == nbb_unformatted_code) {\n",
       "                             nbb_cells[i].set_text(nbb_formatted_code);\n",
       "                        }\n",
       "                        break;\n",
       "                    }\n",
       "                }\n",
       "            }, 500);\n",
       "            "
      ],
      "text/plain": [
       "<IPython.core.display.Javascript object>"
      ]
     },
     "metadata": {},
     "output_type": "display_data"
    }
   ],
   "source": [
    "# hide\n",
    "import warnings\n",
    "\n",
    "from nbdev.export import *\n",
    "from nbdev.showdoc import *\n",
    "\n",
    "warnings.filterwarnings(\"ignore\")"
   ]
  },
  {
   "cell_type": "markdown",
   "metadata": {},
   "source": [
    "# Scheduler Configs\n",
    "> Structured configs for available `lr_schedulers`"
   ]
  },
  {
   "cell_type": "code",
   "execution_count": null,
   "metadata": {},
   "outputs": [
    {
     "data": {
      "application/javascript": [
       "\n",
       "            setTimeout(function() {\n",
       "                var nbb_cell_id = 4;\n",
       "                var nbb_unformatted_code = \"# export\\nfrom dataclasses import dataclass\\nfrom typing import *\\n\\nfrom hydra.utils import instantiate\\nfrom omegaconf import MISSING, DictConfig, OmegaConf\\n\\nfrom gale.config.utility import get_class_path\\nfrom gale.core.nn.optim.lr_schedulers import *\";\n",
       "                var nbb_formatted_code = \"# export\\nfrom dataclasses import dataclass\\nfrom typing import *\\n\\nfrom hydra.utils import instantiate\\nfrom omegaconf import MISSING, DictConfig, OmegaConf\\n\\nfrom gale.config.utility import get_class_path\\nfrom gale.core.nn.optim.lr_schedulers import *\";\n",
       "                var nbb_cells = Jupyter.notebook.get_cells();\n",
       "                for (var i = 0; i < nbb_cells.length; ++i) {\n",
       "                    if (nbb_cells[i].input_prompt_number == nbb_cell_id) {\n",
       "                        if (nbb_cells[i].get_text() == nbb_unformatted_code) {\n",
       "                             nbb_cells[i].set_text(nbb_formatted_code);\n",
       "                        }\n",
       "                        break;\n",
       "                    }\n",
       "                }\n",
       "            }, 500);\n",
       "            "
      ],
      "text/plain": [
       "<IPython.core.display.Javascript object>"
      ]
     },
     "metadata": {},
     "output_type": "display_data"
    }
   ],
   "source": [
    "# export\n",
    "from dataclasses import dataclass\n",
    "from typing import *\n",
    "\n",
    "from hydra.utils import instantiate\n",
    "from omegaconf import MISSING, DictConfig, OmegaConf\n",
    "\n",
    "from gale.config.utility import get_class_path\n",
    "from gale.core.nn.optim.lr_schedulers import *"
   ]
  },
  {
   "cell_type": "code",
   "execution_count": null,
   "metadata": {},
   "outputs": [
    {
     "data": {
      "application/javascript": [
       "\n",
       "            setTimeout(function() {\n",
       "                var nbb_cell_id = 5;\n",
       "                var nbb_unformatted_code = \"# export\\n@dataclass\\nclass SchedulerParams:\\n    \\\"\\\"\\\"\\n    Base Scheduler params with no values.\\n    \\\"\\\"\\\"\\n\\n    _target_: str = MISSING\";\n",
       "                var nbb_formatted_code = \"# export\\n@dataclass\\nclass SchedulerParams:\\n    \\\"\\\"\\\"\\n    Base Scheduler params with no values.\\n    \\\"\\\"\\\"\\n\\n    _target_: str = MISSING\";\n",
       "                var nbb_cells = Jupyter.notebook.get_cells();\n",
       "                for (var i = 0; i < nbb_cells.length; ++i) {\n",
       "                    if (nbb_cells[i].input_prompt_number == nbb_cell_id) {\n",
       "                        if (nbb_cells[i].get_text() == nbb_unformatted_code) {\n",
       "                             nbb_cells[i].set_text(nbb_formatted_code);\n",
       "                        }\n",
       "                        break;\n",
       "                    }\n",
       "                }\n",
       "            }, 500);\n",
       "            "
      ],
      "text/plain": [
       "<IPython.core.display.Javascript object>"
      ]
     },
     "metadata": {},
     "output_type": "display_data"
    }
   ],
   "source": [
    "# export\n",
    "@dataclass\n",
    "class SchedulerParams:\n",
    "    \"\"\"\n",
    "    Base Scheduler params with no values.\n",
    "    \"\"\"\n",
    "\n",
    "    _target_: str = MISSING"
   ]
  },
  {
   "cell_type": "code",
   "execution_count": null,
   "metadata": {},
   "outputs": [
    {
     "data": {
      "application/javascript": [
       "\n",
       "            setTimeout(function() {\n",
       "                var nbb_cell_id = 6;\n",
       "                var nbb_unformatted_code = \"# export\\n@dataclass\\nclass FlatCosSchedulerConfig(SchedulerParams):\\n    \\\"\\\"\\\"\\n    Default configuration for `FlatCos` scheduler\\n    \\\"\\\"\\\"\\n\\n    _target_: str = get_class_path(FlatCosScheduler)\\n    pct_start: float = MISSING\\n    max_iters: int = MISSING\";\n",
       "                var nbb_formatted_code = \"# export\\n@dataclass\\nclass FlatCosSchedulerConfig(SchedulerParams):\\n    \\\"\\\"\\\"\\n    Default configuration for `FlatCos` scheduler\\n    \\\"\\\"\\\"\\n\\n    _target_: str = get_class_path(FlatCosScheduler)\\n    pct_start: float = MISSING\\n    max_iters: int = MISSING\";\n",
       "                var nbb_cells = Jupyter.notebook.get_cells();\n",
       "                for (var i = 0; i < nbb_cells.length; ++i) {\n",
       "                    if (nbb_cells[i].input_prompt_number == nbb_cell_id) {\n",
       "                        if (nbb_cells[i].get_text() == nbb_unformatted_code) {\n",
       "                             nbb_cells[i].set_text(nbb_formatted_code);\n",
       "                        }\n",
       "                        break;\n",
       "                    }\n",
       "                }\n",
       "            }, 500);\n",
       "            "
      ],
      "text/plain": [
       "<IPython.core.display.Javascript object>"
      ]
     },
     "metadata": {},
     "output_type": "display_data"
    }
   ],
   "source": [
    "# export\n",
    "@dataclass\n",
    "class FlatCosSchedulerConfig(SchedulerParams):\n",
    "    \"\"\"\n",
    "    Default configuration for `FlatCos` scheduler\n",
    "    \"\"\"\n",
    "\n",
    "    _target_: str = get_class_path(FlatCosScheduler)\n",
    "    pct_start: float = MISSING\n",
    "    max_iters: int = MISSING"
   ]
  },
  {
   "cell_type": "code",
   "execution_count": null,
   "metadata": {},
   "outputs": [
    {
     "data": {
      "application/javascript": [
       "\n",
       "            setTimeout(function() {\n",
       "                var nbb_cell_id = 7;\n",
       "                var nbb_unformatted_code = \"# export\\n@dataclass\\nclass WarmupCosineLRConfig(SchedulerParams):\\n    \\\"\\\"\\\"\\n    Default configuration for `WarmupCosineLR` scheduler\\n    \\\"\\\"\\\"\\n\\n    _target_: str = get_class_path(WarmupCosineLR)\\n    max_iters: int = MISSING\\n    pct_start: Optional[float] = None\\n    warmup_steps: Optional[int] = None\";\n",
       "                var nbb_formatted_code = \"# export\\n@dataclass\\nclass WarmupCosineLRConfig(SchedulerParams):\\n    \\\"\\\"\\\"\\n    Default configuration for `WarmupCosineLR` scheduler\\n    \\\"\\\"\\\"\\n\\n    _target_: str = get_class_path(WarmupCosineLR)\\n    max_iters: int = MISSING\\n    pct_start: Optional[float] = None\\n    warmup_steps: Optional[int] = None\";\n",
       "                var nbb_cells = Jupyter.notebook.get_cells();\n",
       "                for (var i = 0; i < nbb_cells.length; ++i) {\n",
       "                    if (nbb_cells[i].input_prompt_number == nbb_cell_id) {\n",
       "                        if (nbb_cells[i].get_text() == nbb_unformatted_code) {\n",
       "                             nbb_cells[i].set_text(nbb_formatted_code);\n",
       "                        }\n",
       "                        break;\n",
       "                    }\n",
       "                }\n",
       "            }, 500);\n",
       "            "
      ],
      "text/plain": [
       "<IPython.core.display.Javascript object>"
      ]
     },
     "metadata": {},
     "output_type": "display_data"
    }
   ],
   "source": [
    "# export\n",
    "@dataclass\n",
    "class WarmupCosineLRConfig(SchedulerParams):\n",
    "    \"\"\"\n",
    "    Default configuration for `WarmupCosineLR` scheduler\n",
    "    \"\"\"\n",
    "\n",
    "    _target_: str = get_class_path(WarmupCosineLR)\n",
    "    max_iters: int = MISSING\n",
    "    pct_start: Optional[float] = None\n",
    "    warmup_steps: Optional[int] = None"
   ]
  },
  {
   "cell_type": "code",
   "execution_count": null,
   "metadata": {},
   "outputs": [
    {
     "data": {
      "application/javascript": [
       "\n",
       "            setTimeout(function() {\n",
       "                var nbb_cell_id = 8;\n",
       "                var nbb_unformatted_code = \"# export\\n@dataclass\\nclass WarmupLinearLRConfig(WarmupCosineLRConfig):\\n    \\\"\\\"\\\"\\n    Default configuration for `WarmupLinearLR` scheduler\\n    \\\"\\\"\\\"\\n\\n    _target_: str = get_class_path(WarmupLinearLR)\";\n",
       "                var nbb_formatted_code = \"# export\\n@dataclass\\nclass WarmupLinearLRConfig(WarmupCosineLRConfig):\\n    \\\"\\\"\\\"\\n    Default configuration for `WarmupLinearLR` scheduler\\n    \\\"\\\"\\\"\\n\\n    _target_: str = get_class_path(WarmupLinearLR)\";\n",
       "                var nbb_cells = Jupyter.notebook.get_cells();\n",
       "                for (var i = 0; i < nbb_cells.length; ++i) {\n",
       "                    if (nbb_cells[i].input_prompt_number == nbb_cell_id) {\n",
       "                        if (nbb_cells[i].get_text() == nbb_unformatted_code) {\n",
       "                             nbb_cells[i].set_text(nbb_formatted_code);\n",
       "                        }\n",
       "                        break;\n",
       "                    }\n",
       "                }\n",
       "            }, 500);\n",
       "            "
      ],
      "text/plain": [
       "<IPython.core.display.Javascript object>"
      ]
     },
     "metadata": {},
     "output_type": "display_data"
    }
   ],
   "source": [
    "# export\n",
    "@dataclass\n",
    "class WarmupLinearLRConfig(WarmupCosineLRConfig):\n",
    "    \"\"\"\n",
    "    Default configuration for `WarmupLinearLR` scheduler\n",
    "    \"\"\"\n",
    "\n",
    "    _target_: str = get_class_path(WarmupLinearLR)"
   ]
  },
  {
   "cell_type": "code",
   "execution_count": null,
   "metadata": {},
   "outputs": [
    {
     "data": {
      "application/javascript": [
       "\n",
       "            setTimeout(function() {\n",
       "                var nbb_cell_id = 9;\n",
       "                var nbb_unformatted_code = \"# export\\n@dataclass\\nclass WarmupConstantLRConfig(WarmupCosineLRConfig):\\n    \\\"\\\"\\\"\\n    Default configuration for `WarmupConstantLR` scheduler\\n    \\\"\\\"\\\"\\n\\n    _target_: str = get_class_path(WarmupConstantLR)\";\n",
       "                var nbb_formatted_code = \"# export\\n@dataclass\\nclass WarmupConstantLRConfig(WarmupCosineLRConfig):\\n    \\\"\\\"\\\"\\n    Default configuration for `WarmupConstantLR` scheduler\\n    \\\"\\\"\\\"\\n\\n    _target_: str = get_class_path(WarmupConstantLR)\";\n",
       "                var nbb_cells = Jupyter.notebook.get_cells();\n",
       "                for (var i = 0; i < nbb_cells.length; ++i) {\n",
       "                    if (nbb_cells[i].input_prompt_number == nbb_cell_id) {\n",
       "                        if (nbb_cells[i].get_text() == nbb_unformatted_code) {\n",
       "                             nbb_cells[i].set_text(nbb_formatted_code);\n",
       "                        }\n",
       "                        break;\n",
       "                    }\n",
       "                }\n",
       "            }, 500);\n",
       "            "
      ],
      "text/plain": [
       "<IPython.core.display.Javascript object>"
      ]
     },
     "metadata": {},
     "output_type": "display_data"
    }
   ],
   "source": [
    "# export\n",
    "@dataclass\n",
    "class WarmupConstantLRConfig(WarmupCosineLRConfig):\n",
    "    \"\"\"\n",
    "    Default configuration for `WarmupConstantLR` scheduler\n",
    "    \"\"\"\n",
    "\n",
    "    _target_: str = get_class_path(WarmupConstantLR)"
   ]
  },
  {
   "cell_type": "code",
   "execution_count": null,
   "metadata": {},
   "outputs": [
    {
     "data": {
      "application/javascript": [
       "\n",
       "            setTimeout(function() {\n",
       "                var nbb_cell_id = 10;\n",
       "                var nbb_unformatted_code = \"# export\\n@dataclass\\nclass CosineAnnealingWarmRestartsConfig(SchedulerParams):\\n    \\\"\\\"\\\"\\n    Default configuration for `CosineAnnealingWarmRestarts` scheduler\\n    \\\"\\\"\\\"\\n\\n    _target_: str = get_class_path(CosineAnnealingWarmRestarts)\\n    T_0: int = MISSING\\n    T_mult: int = 1\\n    eta_min: int = 0\";\n",
       "                var nbb_formatted_code = \"# export\\n@dataclass\\nclass CosineAnnealingWarmRestartsConfig(SchedulerParams):\\n    \\\"\\\"\\\"\\n    Default configuration for `CosineAnnealingWarmRestarts` scheduler\\n    \\\"\\\"\\\"\\n\\n    _target_: str = get_class_path(CosineAnnealingWarmRestarts)\\n    T_0: int = MISSING\\n    T_mult: int = 1\\n    eta_min: int = 0\";\n",
       "                var nbb_cells = Jupyter.notebook.get_cells();\n",
       "                for (var i = 0; i < nbb_cells.length; ++i) {\n",
       "                    if (nbb_cells[i].input_prompt_number == nbb_cell_id) {\n",
       "                        if (nbb_cells[i].get_text() == nbb_unformatted_code) {\n",
       "                             nbb_cells[i].set_text(nbb_formatted_code);\n",
       "                        }\n",
       "                        break;\n",
       "                    }\n",
       "                }\n",
       "            }, 500);\n",
       "            "
      ],
      "text/plain": [
       "<IPython.core.display.Javascript object>"
      ]
     },
     "metadata": {},
     "output_type": "display_data"
    }
   ],
   "source": [
    "# export\n",
    "@dataclass\n",
    "class CosineAnnealingWarmRestartsConfig(SchedulerParams):\n",
    "    \"\"\"\n",
    "    Default configuration for `CosineAnnealingWarmRestarts` scheduler\n",
    "    \"\"\"\n",
    "\n",
    "    _target_: str = get_class_path(CosineAnnealingWarmRestarts)\n",
    "    T_0: int = MISSING\n",
    "    T_mult: int = 1\n",
    "    eta_min: int = 0"
   ]
  },
  {
   "cell_type": "code",
   "execution_count": null,
   "metadata": {},
   "outputs": [
    {
     "data": {
      "application/javascript": [
       "\n",
       "            setTimeout(function() {\n",
       "                var nbb_cell_id = 11;\n",
       "                var nbb_unformatted_code = \"# export\\n@dataclass\\nclass ReduceLROnPlateauConfig(SchedulerParams):\\n    \\\"\\\"\\\"\\n    Default configuration for `ReduceLROnPlateau` scheduler\\n    \\\"\\\"\\\"\\n\\n    _target_: str = get_class_path(ReduceLROnPlateau)\\n    mode: str = MISSING\\n    factor: float = 0.1\\n    patience: int = MISSING\\n    threshold: float = 0.0001\\n    threshold_mode: str = \\\"rel\\\"\\n    min_lr: float = 0\\n    eps: float = 1e-08\\n    verbose: bool = False\";\n",
       "                var nbb_formatted_code = \"# export\\n@dataclass\\nclass ReduceLROnPlateauConfig(SchedulerParams):\\n    \\\"\\\"\\\"\\n    Default configuration for `ReduceLROnPlateau` scheduler\\n    \\\"\\\"\\\"\\n\\n    _target_: str = get_class_path(ReduceLROnPlateau)\\n    mode: str = MISSING\\n    factor: float = 0.1\\n    patience: int = MISSING\\n    threshold: float = 0.0001\\n    threshold_mode: str = \\\"rel\\\"\\n    min_lr: float = 0\\n    eps: float = 1e-08\\n    verbose: bool = False\";\n",
       "                var nbb_cells = Jupyter.notebook.get_cells();\n",
       "                for (var i = 0; i < nbb_cells.length; ++i) {\n",
       "                    if (nbb_cells[i].input_prompt_number == nbb_cell_id) {\n",
       "                        if (nbb_cells[i].get_text() == nbb_unformatted_code) {\n",
       "                             nbb_cells[i].set_text(nbb_formatted_code);\n",
       "                        }\n",
       "                        break;\n",
       "                    }\n",
       "                }\n",
       "            }, 500);\n",
       "            "
      ],
      "text/plain": [
       "<IPython.core.display.Javascript object>"
      ]
     },
     "metadata": {},
     "output_type": "display_data"
    }
   ],
   "source": [
    "# export\n",
    "@dataclass\n",
    "class ReduceLROnPlateauConfig(SchedulerParams):\n",
    "    \"\"\"\n",
    "    Default configuration for `ReduceLROnPlateau` scheduler\n",
    "    \"\"\"\n",
    "\n",
    "    _target_: str = get_class_path(ReduceLROnPlateau)\n",
    "    mode: str = MISSING\n",
    "    factor: float = 0.1\n",
    "    patience: int = MISSING\n",
    "    threshold: float = 0.0001\n",
    "    threshold_mode: str = \"rel\"\n",
    "    min_lr: float = 0\n",
    "    eps: float = 1e-08\n",
    "    verbose: bool = False"
   ]
  },
  {
   "cell_type": "code",
   "execution_count": null,
   "metadata": {},
   "outputs": [
    {
     "data": {
      "application/javascript": [
       "\n",
       "            setTimeout(function() {\n",
       "                var nbb_cell_id = 14;\n",
       "                var nbb_unformatted_code = \"# export\\n@dataclass\\nclass OneCycleLRConfig(SchedulerParams):\\n    \\\"\\\"\\\"\\n    Default configuration for `OneCycleLR` scheduler\\n    \\\"\\\"\\\"\\n\\n    _target_: str = get_class_path(OneCycleLR)\\n    max_lr: Any = MISSING\\n    total_steps: Any = None\\n    epochs: Any = None\\n    steps_per_epoch: Any = None\\n    pct_start: Any = 0.3\\n    anneal_strategy: Any = \\\"cos\\\"\\n    cycle_momentum: Any = True\\n    base_momentum: Any = 0.85\\n    max_momentum: Any = 0.95\\n    div_factor: Any = 25.0\\n    final_div_factor: Any = 10000.0\\n    last_epoch: Any = -1\";\n",
       "                var nbb_formatted_code = \"# export\\n@dataclass\\nclass OneCycleLRConfig(SchedulerParams):\\n    \\\"\\\"\\\"\\n    Default configuration for `OneCycleLR` scheduler\\n    \\\"\\\"\\\"\\n\\n    _target_: str = get_class_path(OneCycleLR)\\n    max_lr: Any = MISSING\\n    total_steps: Any = None\\n    epochs: Any = None\\n    steps_per_epoch: Any = None\\n    pct_start: Any = 0.3\\n    anneal_strategy: Any = \\\"cos\\\"\\n    cycle_momentum: Any = True\\n    base_momentum: Any = 0.85\\n    max_momentum: Any = 0.95\\n    div_factor: Any = 25.0\\n    final_div_factor: Any = 10000.0\\n    last_epoch: Any = -1\";\n",
       "                var nbb_cells = Jupyter.notebook.get_cells();\n",
       "                for (var i = 0; i < nbb_cells.length; ++i) {\n",
       "                    if (nbb_cells[i].input_prompt_number == nbb_cell_id) {\n",
       "                        if (nbb_cells[i].get_text() == nbb_unformatted_code) {\n",
       "                             nbb_cells[i].set_text(nbb_formatted_code);\n",
       "                        }\n",
       "                        break;\n",
       "                    }\n",
       "                }\n",
       "            }, 500);\n",
       "            "
      ],
      "text/plain": [
       "<IPython.core.display.Javascript object>"
      ]
     },
     "metadata": {},
     "output_type": "display_data"
    }
   ],
   "source": [
    "# export\n",
    "@dataclass\n",
    "class OneCycleLRConfig(SchedulerParams):\n",
    "    \"\"\"\n",
    "    Default configuration for `OneCycleLR` scheduler\n",
    "    \"\"\"\n",
    "\n",
    "    _target_: str = get_class_path(OneCycleLR)\n",
    "    max_lr: Any = MISSING\n",
    "    total_steps: Any = None\n",
    "    epochs: Any = None\n",
    "    steps_per_epoch: Any = None\n",
    "    pct_start: Any = 0.3\n",
    "    anneal_strategy: Any = \"cos\"\n",
    "    cycle_momentum: Any = True\n",
    "    base_momentum: Any = 0.85\n",
    "    max_momentum: Any = 0.95\n",
    "    div_factor: Any = 25.0\n",
    "    final_div_factor: Any = 10000.0\n",
    "    last_epoch: Any = -1"
   ]
  },
  {
   "cell_type": "code",
   "execution_count": null,
   "metadata": {},
   "outputs": [
    {
     "data": {
      "application/javascript": [
       "\n",
       "            setTimeout(function() {\n",
       "                var nbb_cell_id = 15;\n",
       "                var nbb_unformatted_code = \"# export\\n@dataclass\\nclass MultiStepLRConfig(SchedulerParams):\\n    \\\"\\\"\\\"\\n    Default configuration for `MultiStepLR` scheduler\\n    \\\"\\\"\\\"\\n\\n    _target_: str = get_class_path(MultiStepLR)\\n    milestones: List[int] = MISSING\\n    gamma: float = 0.1\";\n",
       "                var nbb_formatted_code = \"# export\\n@dataclass\\nclass MultiStepLRConfig(SchedulerParams):\\n    \\\"\\\"\\\"\\n    Default configuration for `MultiStepLR` scheduler\\n    \\\"\\\"\\\"\\n\\n    _target_: str = get_class_path(MultiStepLR)\\n    milestones: List[int] = MISSING\\n    gamma: float = 0.1\";\n",
       "                var nbb_cells = Jupyter.notebook.get_cells();\n",
       "                for (var i = 0; i < nbb_cells.length; ++i) {\n",
       "                    if (nbb_cells[i].input_prompt_number == nbb_cell_id) {\n",
       "                        if (nbb_cells[i].get_text() == nbb_unformatted_code) {\n",
       "                             nbb_cells[i].set_text(nbb_formatted_code);\n",
       "                        }\n",
       "                        break;\n",
       "                    }\n",
       "                }\n",
       "            }, 500);\n",
       "            "
      ],
      "text/plain": [
       "<IPython.core.display.Javascript object>"
      ]
     },
     "metadata": {},
     "output_type": "display_data"
    }
   ],
   "source": [
    "# export\n",
    "@dataclass\n",
    "class MultiStepLRConfig(SchedulerParams):\n",
    "    \"\"\"\n",
    "    Default configuration for `MultiStepLR` scheduler\n",
    "    \"\"\"\n",
    "\n",
    "    _target_: str = get_class_path(MultiStepLR)\n",
    "    milestones: List[int] = MISSING\n",
    "    gamma: float = 0.1"
   ]
  },
  {
   "cell_type": "code",
   "execution_count": null,
   "metadata": {},
   "outputs": [
    {
     "data": {
      "application/javascript": [
       "\n",
       "            setTimeout(function() {\n",
       "                var nbb_cell_id = 16;\n",
       "                var nbb_unformatted_code = \"# export\\n@dataclass\\nclass StepLRConfig(SchedulerParams):\\n    \\\"\\\"\\\"\\n    Default configuration for `StepLR` scheduler\\n    \\\"\\\"\\\"\\n\\n    _target_: str = get_class_path(StepLR)\\n    step_size: int = MISSING\\n    gamma: float = 0.1\";\n",
       "                var nbb_formatted_code = \"# export\\n@dataclass\\nclass StepLRConfig(SchedulerParams):\\n    \\\"\\\"\\\"\\n    Default configuration for `StepLR` scheduler\\n    \\\"\\\"\\\"\\n\\n    _target_: str = get_class_path(StepLR)\\n    step_size: int = MISSING\\n    gamma: float = 0.1\";\n",
       "                var nbb_cells = Jupyter.notebook.get_cells();\n",
       "                for (var i = 0; i < nbb_cells.length; ++i) {\n",
       "                    if (nbb_cells[i].input_prompt_number == nbb_cell_id) {\n",
       "                        if (nbb_cells[i].get_text() == nbb_unformatted_code) {\n",
       "                             nbb_cells[i].set_text(nbb_formatted_code);\n",
       "                        }\n",
       "                        break;\n",
       "                    }\n",
       "                }\n",
       "            }, 500);\n",
       "            "
      ],
      "text/plain": [
       "<IPython.core.display.Javascript object>"
      ]
     },
     "metadata": {},
     "output_type": "display_data"
    }
   ],
   "source": [
    "# export\n",
    "@dataclass\n",
    "class StepLRConfig(SchedulerParams):\n",
    "    \"\"\"\n",
    "    Default configuration for `StepLR` scheduler\n",
    "    \"\"\"\n",
    "\n",
    "    _target_: str = get_class_path(StepLR)\n",
    "    step_size: int = MISSING\n",
    "    gamma: float = 0.1"
   ]
  },
  {
   "cell_type": "markdown",
   "metadata": {},
   "source": [
    "## Export -"
   ]
  },
  {
   "cell_type": "code",
   "execution_count": null,
   "metadata": {},
   "outputs": [
    {
     "name": "stdout",
     "output_type": "stream",
     "text": [
      "Converted 00_core.logging.ipynb.\n",
      "Converted 00a_core.structures.ipynb.\n",
      "Converted 00b_core.visualize.ipynb.\n",
      "Converted 01_core.nn.utils.ipynb.\n",
      "Converted 01a_core.nn.losses.ipynb.\n",
      "Converted 01b_core.nn.optim.optimizers.ipynb.\n",
      "Converted 01c_core.nn.optim.lr_schedulers.ipynb.\n",
      "Converted 02_config.optimizers.ipynb.\n",
      "Converted 02a_config.schedulers.ipynb.\n",
      "Converted 02b_config.common.ipynb.\n",
      "Converted 03_core.classes.ipynb.\n",
      "Converted 04_classification.modelling.backbones.ipynb.\n",
      "Converted 05_collections.pandas.ipynb.\n",
      "Converted 06a_collections.callbacks.notebook.ipynb.\n",
      "Converted 06b_collections.callbacks.ema.ipynb.\n",
      "Converted index.ipynb.\n"
     ]
    },
    {
     "data": {
      "application/javascript": [
       "\n",
       "            setTimeout(function() {\n",
       "                var nbb_cell_id = 17;\n",
       "                var nbb_unformatted_code = \"# hide\\nnotebook2script()\";\n",
       "                var nbb_formatted_code = \"# hide\\nnotebook2script()\";\n",
       "                var nbb_cells = Jupyter.notebook.get_cells();\n",
       "                for (var i = 0; i < nbb_cells.length; ++i) {\n",
       "                    if (nbb_cells[i].input_prompt_number == nbb_cell_id) {\n",
       "                        if (nbb_cells[i].get_text() == nbb_unformatted_code) {\n",
       "                             nbb_cells[i].set_text(nbb_formatted_code);\n",
       "                        }\n",
       "                        break;\n",
       "                    }\n",
       "                }\n",
       "            }, 500);\n",
       "            "
      ],
      "text/plain": [
       "<IPython.core.display.Javascript object>"
      ]
     },
     "metadata": {},
     "output_type": "display_data"
    }
   ],
   "source": [
    "# hide\n",
    "notebook2script()"
   ]
  },
  {
   "cell_type": "code",
   "execution_count": null,
   "metadata": {},
   "outputs": [],
   "source": []
  }
 ],
 "metadata": {
  "kernelspec": {
   "display_name": "gale",
   "language": "python",
   "name": "gale"
  }
 },
 "nbformat": 4,
 "nbformat_minor": 4
}
