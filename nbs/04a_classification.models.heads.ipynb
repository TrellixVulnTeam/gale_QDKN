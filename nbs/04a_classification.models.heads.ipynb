{
 "cells": [
  {
   "cell_type": "code",
   "execution_count": null,
   "metadata": {},
   "outputs": [],
   "source": [
    "# hide\n",
    "# skip\n",
    "!git clone https://github.com/benihime91/gale # install gale on colab\n",
    "!pip install -e \"gale[dev]\""
   ]
  },
  {
   "cell_type": "code",
   "execution_count": null,
   "metadata": {},
   "outputs": [],
   "source": [
    "# default_exp classification.model.heads"
   ]
  },
  {
   "cell_type": "code",
   "execution_count": null,
   "metadata": {},
   "outputs": [
    {
     "data": {
      "application/javascript": [
       "\n",
       "            setTimeout(function() {\n",
       "                var nbb_cell_id = 2;\n",
       "                var nbb_unformatted_code = \"# hide\\n%load_ext nb_black\\n%load_ext autoreload\\n%autoreload 2\\n%matplotlib inline\";\n",
       "                var nbb_formatted_code = \"# hide\\n%load_ext nb_black\\n%load_ext autoreload\\n%autoreload 2\\n%matplotlib inline\";\n",
       "                var nbb_cells = Jupyter.notebook.get_cells();\n",
       "                for (var i = 0; i < nbb_cells.length; ++i) {\n",
       "                    if (nbb_cells[i].input_prompt_number == nbb_cell_id) {\n",
       "                        if (nbb_cells[i].get_text() == nbb_unformatted_code) {\n",
       "                             nbb_cells[i].set_text(nbb_formatted_code);\n",
       "                        }\n",
       "                        break;\n",
       "                    }\n",
       "                }\n",
       "            }, 500);\n",
       "            "
      ],
      "text/plain": [
       "<IPython.core.display.Javascript object>"
      ]
     },
     "metadata": {},
     "output_type": "display_data"
    }
   ],
   "source": [
    "# hide\n",
    "%load_ext nb_black\n",
    "%load_ext autoreload\n",
    "%autoreload 2\n",
    "%matplotlib inline"
   ]
  },
  {
   "cell_type": "code",
   "execution_count": null,
   "metadata": {},
   "outputs": [
    {
     "data": {
      "application/javascript": [
       "\n",
       "            setTimeout(function() {\n",
       "                var nbb_cell_id = 3;\n",
       "                var nbb_unformatted_code = \"# hide\\nimport warnings\\n\\nfrom nbdev.export import *\\nfrom nbdev.showdoc import *\\n\\nwarnings.filterwarnings(\\\"ignore\\\")\";\n",
       "                var nbb_formatted_code = \"# hide\\nimport warnings\\n\\nfrom nbdev.export import *\\nfrom nbdev.showdoc import *\\n\\nwarnings.filterwarnings(\\\"ignore\\\")\";\n",
       "                var nbb_cells = Jupyter.notebook.get_cells();\n",
       "                for (var i = 0; i < nbb_cells.length; ++i) {\n",
       "                    if (nbb_cells[i].input_prompt_number == nbb_cell_id) {\n",
       "                        if (nbb_cells[i].get_text() == nbb_unformatted_code) {\n",
       "                             nbb_cells[i].set_text(nbb_formatted_code);\n",
       "                        }\n",
       "                        break;\n",
       "                    }\n",
       "                }\n",
       "            }, 500);\n",
       "            "
      ],
      "text/plain": [
       "<IPython.core.display.Javascript object>"
      ]
     },
     "metadata": {},
     "output_type": "display_data"
    }
   ],
   "source": [
    "# hide\n",
    "import warnings\n",
    "\n",
    "from nbdev.export import *\n",
    "from nbdev.showdoc import *\n",
    "\n",
    "warnings.filterwarnings(\"ignore\")"
   ]
  },
  {
   "cell_type": "markdown",
   "metadata": {},
   "source": [
    "# Heads\n",
    "> A head is a regular `torch.nn.Module` that can be attached to a backbone.\n",
    "\n",
    "\n",
    "For Image Classification a, `head` typically contains a pooling layer along with the classifier"
   ]
  },
  {
   "cell_type": "code",
   "execution_count": null,
   "metadata": {},
   "outputs": [
    {
     "data": {
      "application/javascript": [
       "\n",
       "            setTimeout(function() {\n",
       "                var nbb_cell_id = 22;\n",
       "                var nbb_unformatted_code = \"# export\\nimport logging\\nfrom collections import namedtuple\\nfrom dataclasses import dataclass\\nfrom typing import *\\n\\nimport torch\\nimport torch.nn.functional as F\\nfrom fastcore.all import L, ifnone, store_attr\\nfrom timm.models.layers.classifier import _create_fc, _create_pool\\nfrom torch import nn\\n\\nfrom gale.classification.model.backbones import filter_weight_decay\\nfrom gale.core_classes import BasicModule\\nfrom gale.torch_utils import trainable_params\\nfrom gale.utils.activs import ACTIVATION_REGISTRY\\nfrom gale.utils.shape_spec import ShapeSpec\\nfrom gale.utils.structures import IMAGE_CLASSIFIER_HEADS\\n\\n_logger = logging.getLogger(__name__)\";\n",
       "                var nbb_formatted_code = \"# export\\nimport logging\\nfrom collections import namedtuple\\nfrom dataclasses import dataclass\\nfrom typing import *\\n\\nimport torch\\nimport torch.nn.functional as F\\nfrom fastcore.all import L, ifnone, store_attr\\nfrom timm.models.layers.classifier import _create_fc, _create_pool\\nfrom torch import nn\\n\\nfrom gale.classification.model.backbones import filter_weight_decay\\nfrom gale.core_classes import BasicModule\\nfrom gale.torch_utils import trainable_params\\nfrom gale.utils.activs import ACTIVATION_REGISTRY\\nfrom gale.utils.shape_spec import ShapeSpec\\nfrom gale.utils.structures import IMAGE_CLASSIFIER_HEADS\\n\\n_logger = logging.getLogger(__name__)\";\n",
       "                var nbb_cells = Jupyter.notebook.get_cells();\n",
       "                for (var i = 0; i < nbb_cells.length; ++i) {\n",
       "                    if (nbb_cells[i].input_prompt_number == nbb_cell_id) {\n",
       "                        if (nbb_cells[i].get_text() == nbb_unformatted_code) {\n",
       "                             nbb_cells[i].set_text(nbb_formatted_code);\n",
       "                        }\n",
       "                        break;\n",
       "                    }\n",
       "                }\n",
       "            }, 500);\n",
       "            "
      ],
      "text/plain": [
       "<IPython.core.display.Javascript object>"
      ]
     },
     "metadata": {},
     "output_type": "display_data"
    }
   ],
   "source": [
    "# export\n",
    "import logging\n",
    "from collections import namedtuple\n",
    "from dataclasses import dataclass\n",
    "from typing import *\n",
    "\n",
    "import torch\n",
    "import torch.nn.functional as F\n",
    "from fastcore.all import L, ifnone, store_attr\n",
    "from omegaconf import MISSING\n",
    "from timm.models.layers.classifier import _create_fc, _create_pool\n",
    "from torch import nn\n",
    "\n",
    "from gale.classification.model.backbones import filter_weight_decay\n",
    "from gale.core_classes import BasicModule\n",
    "from gale.torch_utils import trainable_params\n",
    "from gale.utils.activs import ACTIVATION_REGISTRY\n",
    "from gale.utils.shape_spec import ShapeSpec\n",
    "from gale.utils.structures import IMAGE_CLASSIFIER_HEADS\n",
    "\n",
    "_logger = logging.getLogger(__name__)"
   ]
  },
  {
   "cell_type": "code",
   "execution_count": null,
   "metadata": {},
   "outputs": [
    {
     "data": {
      "application/javascript": [
       "\n",
       "            setTimeout(function() {\n",
       "                var nbb_cell_id = 23;\n",
       "                var nbb_unformatted_code = \"# hide\\nfrom fastcore.test import *\\nfrom gale.utils.logger import setup_logger\\nfrom omegaconf import MISSING, DictConfig, OmegaConf\\n\\nsetup_logger()\\n_logger = logging.getLogger(\\\"gale.classification.models.backbones\\\")\";\n",
       "                var nbb_formatted_code = \"# hide\\nfrom fastcore.test import *\\nfrom gale.utils.logger import setup_logger\\nfrom omegaconf import MISSING, DictConfig, OmegaConf\\n\\nsetup_logger()\\n_logger = logging.getLogger(\\\"gale.classification.models.backbones\\\")\";\n",
       "                var nbb_cells = Jupyter.notebook.get_cells();\n",
       "                for (var i = 0; i < nbb_cells.length; ++i) {\n",
       "                    if (nbb_cells[i].input_prompt_number == nbb_cell_id) {\n",
       "                        if (nbb_cells[i].get_text() == nbb_unformatted_code) {\n",
       "                             nbb_cells[i].set_text(nbb_formatted_code);\n",
       "                        }\n",
       "                        break;\n",
       "                    }\n",
       "                }\n",
       "            }, 500);\n",
       "            "
      ],
      "text/plain": [
       "<IPython.core.display.Javascript object>"
      ]
     },
     "metadata": {},
     "output_type": "display_data"
    }
   ],
   "source": [
    "# hide\n",
    "from fastcore.test import *\n",
    "from gale.utils.logger import setup_logger\n",
    "from omegaconf import MISSING, DictConfig, OmegaConf\n",
    "\n",
    "setup_logger()\n",
    "_logger = logging.getLogger(\"gale.classification.models.backbones\")"
   ]
  },
  {
   "cell_type": "code",
   "execution_count": null,
   "metadata": {},
   "outputs": [
    {
     "data": {
      "application/javascript": [
       "\n",
       "            setTimeout(function() {\n",
       "                var nbb_cell_id = 8;\n",
       "                var nbb_unformatted_code = \"# export\\n_all_ = [\\\"IMAGE_CLASSIFIER_HEADS\\\"]\";\n",
       "                var nbb_formatted_code = \"# export\\n_all_ = [\\\"IMAGE_CLASSIFIER_HEADS\\\"]\";\n",
       "                var nbb_cells = Jupyter.notebook.get_cells();\n",
       "                for (var i = 0; i < nbb_cells.length; ++i) {\n",
       "                    if (nbb_cells[i].input_prompt_number == nbb_cell_id) {\n",
       "                        if (nbb_cells[i].get_text() == nbb_unformatted_code) {\n",
       "                             nbb_cells[i].set_text(nbb_formatted_code);\n",
       "                        }\n",
       "                        break;\n",
       "                    }\n",
       "                }\n",
       "            }, 500);\n",
       "            "
      ],
      "text/plain": [
       "<IPython.core.display.Javascript object>"
      ]
     },
     "metadata": {},
     "output_type": "display_data"
    }
   ],
   "source": [
    "# export\n",
    "_all_ = [\"IMAGE_CLASSIFIER_HEADS\"]"
   ]
  },
  {
   "cell_type": "code",
   "execution_count": null,
   "metadata": {},
   "outputs": [
    {
     "data": {
      "application/javascript": [
       "\n",
       "            setTimeout(function() {\n",
       "                var nbb_cell_id = 24;\n",
       "                var nbb_unformatted_code = \"# export\\nclass ImageClassificationHead(BasicModule):\\n    \\\"\\\"\\\"\\n    Abstract class for ImageClassification Heads\\n    \\\"\\\"\\\"\\n\\n    _hypers = namedtuple(\\\"hypers\\\", field_names=[\\\"lr\\\", \\\"wd\\\"])\\n\\n    @property\\n    def hypers(self) -> Tuple:\\n        \\\"\\\"\\\"\\n        Returns list of parameters like `lr` and `wd`\\n        for each param group\\n        \\\"\\\"\\\"\\n        lrs = []\\n        wds = []\\n\\n        for p in self.build_param_dicts():\\n            lrs.append(p[\\\"lr\\\"])\\n            wds.append(p[\\\"weight_decay\\\"])\\n        return self._hypers(lrs, wds)\";\n",
       "                var nbb_formatted_code = \"# export\\nclass ImageClassificationHead(BasicModule):\\n    \\\"\\\"\\\"\\n    Abstract class for ImageClassification Heads\\n    \\\"\\\"\\\"\\n\\n    _hypers = namedtuple(\\\"hypers\\\", field_names=[\\\"lr\\\", \\\"wd\\\"])\\n\\n    @property\\n    def hypers(self) -> Tuple:\\n        \\\"\\\"\\\"\\n        Returns list of parameters like `lr` and `wd`\\n        for each param group\\n        \\\"\\\"\\\"\\n        lrs = []\\n        wds = []\\n\\n        for p in self.build_param_dicts():\\n            lrs.append(p[\\\"lr\\\"])\\n            wds.append(p[\\\"weight_decay\\\"])\\n        return self._hypers(lrs, wds)\";\n",
       "                var nbb_cells = Jupyter.notebook.get_cells();\n",
       "                for (var i = 0; i < nbb_cells.length; ++i) {\n",
       "                    if (nbb_cells[i].input_prompt_number == nbb_cell_id) {\n",
       "                        if (nbb_cells[i].get_text() == nbb_unformatted_code) {\n",
       "                             nbb_cells[i].set_text(nbb_formatted_code);\n",
       "                        }\n",
       "                        break;\n",
       "                    }\n",
       "                }\n",
       "            }, 500);\n",
       "            "
      ],
      "text/plain": [
       "<IPython.core.display.Javascript object>"
      ]
     },
     "metadata": {},
     "output_type": "display_data"
    }
   ],
   "source": [
    "# export\n",
    "class ImageClassificationHead(BasicModule):\n",
    "    \"\"\"\n",
    "    Abstract class for ImageClassification Heads\n",
    "    \"\"\"\n",
    "\n",
    "    _hypers = namedtuple(\"hypers\", field_names=[\"lr\", \"wd\"])\n",
    "\n",
    "    @property\n",
    "    def hypers(self) -> Tuple:\n",
    "        \"\"\"\n",
    "        Returns list of parameters like `lr` and `wd`\n",
    "        for each param group\n",
    "        \"\"\"\n",
    "        lrs = []\n",
    "        wds = []\n",
    "\n",
    "        for p in self.build_param_dicts():\n",
    "            lrs.append(p[\"lr\"])\n",
    "            wds.append(p[\"weight_decay\"])\n",
    "        return self._hypers(lrs, wds)"
   ]
  },
  {
   "cell_type": "code",
   "execution_count": null,
   "metadata": {},
   "outputs": [
    {
     "data": {
      "text/markdown": [
       "<h4 id=\"ImageClassificationHead.hypers\" class=\"doc_header\"><code>ImageClassificationHead.hypers</code><a href=\"\" class=\"source_link\" style=\"float:right\">[source]</a></h4>\n",
       "\n",
       "Returns list of parameters like `lr` and `wd`\n",
       "for each param group"
      ],
      "text/plain": [
       "<IPython.core.display.Markdown object>"
      ]
     },
     "metadata": {},
     "output_type": "display_data"
    },
    {
     "data": {
      "application/javascript": [
       "\n",
       "            setTimeout(function() {\n",
       "                var nbb_cell_id = 25;\n",
       "                var nbb_unformatted_code = \"show_doc(ImageClassificationHead.hypers)\";\n",
       "                var nbb_formatted_code = \"show_doc(ImageClassificationHead.hypers)\";\n",
       "                var nbb_cells = Jupyter.notebook.get_cells();\n",
       "                for (var i = 0; i < nbb_cells.length; ++i) {\n",
       "                    if (nbb_cells[i].input_prompt_number == nbb_cell_id) {\n",
       "                        if (nbb_cells[i].get_text() == nbb_unformatted_code) {\n",
       "                             nbb_cells[i].set_text(nbb_formatted_code);\n",
       "                        }\n",
       "                        break;\n",
       "                    }\n",
       "                }\n",
       "            }, 500);\n",
       "            "
      ],
      "text/plain": [
       "<IPython.core.display.Javascript object>"
      ]
     },
     "metadata": {},
     "output_type": "display_data"
    }
   ],
   "source": [
    "show_doc(ImageClassificationHead.hypers)"
   ]
  },
  {
   "cell_type": "markdown",
   "metadata": {},
   "source": [
    "## FullyConnectedHead"
   ]
  },
  {
   "cell_type": "code",
   "execution_count": null,
   "metadata": {},
   "outputs": [
    {
     "data": {
      "application/javascript": [
       "\n",
       "            setTimeout(function() {\n",
       "                var nbb_cell_id = 26;\n",
       "                var nbb_unformatted_code = \"# export\\nclass FullyConnectedHead(ImageClassificationHead):\\n    \\\"\\\"\\\"\\n    Classifier head w/ configurable global pooling and dropout.\\n    From - https://github.com/rwightman/pytorch-image-models/blob/master/timm/models/layers/classifier.py\\n    \\\"\\\"\\\"\\n\\n    def __init__(\\n        self,\\n        input_shape: ShapeSpec,\\n        num_classes: int,\\n        pool_type: str = \\\"avg\\\",\\n        drop_rate: float = 0.0,\\n        use_conv: bool = False,\\n        lr: float = 2e-03,\\n        wd: float = 0,\\n        filter_wd: bool = False,\\n    ):\\n        super(FullyConnectedHead, self).__init__()\\n        self.drop_rate = drop_rate\\n        in_planes = input_shape.channels\\n        # fmt: off\\n        self.global_pool, num_pooled_features = _create_pool(in_planes, num_classes, pool_type, use_conv=use_conv)\\n        # fmt: on\\n        self.fc = _create_fc(num_pooled_features, num_classes, use_conv=use_conv)\\n        self.flatten_after_fc = use_conv and pool_type\\n\\n        store_attr(\\\"lr, wd, filter_wd\\\")\\n\\n    def forward(self, x):\\n        x = self.global_pool(x)\\n        if self.drop_rate:\\n            x = F.dropout(x, p=float(self.drop_rate), training=self.training)\\n        x = self.fc(x)\\n        return x\\n\\n    def build_param_dicts(self) -> Any:\\n        # fmt: off\\n        if self.filter_wd:\\n            ps = filter_weight_decay(self, lr=self.lr, weight_decay=self.wd)\\n        else:\\n            ps = [{\\\"params\\\": trainable_params(self),\\\"lr\\\": self.lr,\\\"weight_decay\\\": self.wd}]\\n        return ps\";\n",
       "                var nbb_formatted_code = \"# export\\nclass FullyConnectedHead(ImageClassificationHead):\\n    \\\"\\\"\\\"\\n    Classifier head w/ configurable global pooling and dropout.\\n    From - https://github.com/rwightman/pytorch-image-models/blob/master/timm/models/layers/classifier.py\\n    \\\"\\\"\\\"\\n\\n    def __init__(\\n        self,\\n        input_shape: ShapeSpec,\\n        num_classes: int,\\n        pool_type: str = \\\"avg\\\",\\n        drop_rate: float = 0.0,\\n        use_conv: bool = False,\\n        lr: float = 2e-03,\\n        wd: float = 0,\\n        filter_wd: bool = False,\\n    ):\\n        super(FullyConnectedHead, self).__init__()\\n        self.drop_rate = drop_rate\\n        in_planes = input_shape.channels\\n        # fmt: off\\n        self.global_pool, num_pooled_features = _create_pool(in_planes, num_classes, pool_type, use_conv=use_conv)\\n        # fmt: on\\n        self.fc = _create_fc(num_pooled_features, num_classes, use_conv=use_conv)\\n        self.flatten_after_fc = use_conv and pool_type\\n\\n        store_attr(\\\"lr, wd, filter_wd\\\")\\n\\n    def forward(self, x):\\n        x = self.global_pool(x)\\n        if self.drop_rate:\\n            x = F.dropout(x, p=float(self.drop_rate), training=self.training)\\n        x = self.fc(x)\\n        return x\\n\\n    def build_param_dicts(self) -> Any:\\n        # fmt: off\\n        if self.filter_wd:\\n            ps = filter_weight_decay(self, lr=self.lr, weight_decay=self.wd)\\n        else:\\n            ps = [{\\\"params\\\": trainable_params(self),\\\"lr\\\": self.lr,\\\"weight_decay\\\": self.wd}]\\n        return ps\";\n",
       "                var nbb_cells = Jupyter.notebook.get_cells();\n",
       "                for (var i = 0; i < nbb_cells.length; ++i) {\n",
       "                    if (nbb_cells[i].input_prompt_number == nbb_cell_id) {\n",
       "                        if (nbb_cells[i].get_text() == nbb_unformatted_code) {\n",
       "                             nbb_cells[i].set_text(nbb_formatted_code);\n",
       "                        }\n",
       "                        break;\n",
       "                    }\n",
       "                }\n",
       "            }, 500);\n",
       "            "
      ],
      "text/plain": [
       "<IPython.core.display.Javascript object>"
      ]
     },
     "metadata": {},
     "output_type": "display_data"
    }
   ],
   "source": [
    "# export\n",
    "class FullyConnectedHead(ImageClassificationHead):\n",
    "    \"\"\"\n",
    "    Classifier head w/ configurable global pooling and dropout.\n",
    "    From - https://github.com/rwightman/pytorch-image-models/blob/master/timm/models/layers/classifier.py\n",
    "    \"\"\"\n",
    "\n",
    "    def __init__(\n",
    "        self,\n",
    "        input_shape: ShapeSpec,\n",
    "        num_classes: int,\n",
    "        pool_type: str = \"avg\",\n",
    "        drop_rate: float = 0.0,\n",
    "        use_conv: bool = False,\n",
    "        lr: float = 2e-03,\n",
    "        wd: float = 0,\n",
    "        filter_wd: bool = False,\n",
    "    ):\n",
    "        super(FullyConnectedHead, self).__init__()\n",
    "        self.drop_rate = drop_rate\n",
    "        in_planes = input_shape.channels\n",
    "        # fmt: off\n",
    "        self.global_pool, num_pooled_features = _create_pool(in_planes, num_classes, pool_type, use_conv=use_conv)\n",
    "        # fmt: on\n",
    "        self.fc = _create_fc(num_pooled_features, num_classes, use_conv=use_conv)\n",
    "        self.flatten_after_fc = use_conv and pool_type\n",
    "\n",
    "        store_attr(\"lr, wd, filter_wd\")\n",
    "\n",
    "    def forward(self, x):\n",
    "        x = self.global_pool(x)\n",
    "        if self.drop_rate:\n",
    "            x = F.dropout(x, p=float(self.drop_rate), training=self.training)\n",
    "        x = self.fc(x)\n",
    "        return x\n",
    "\n",
    "    def build_param_dicts(self) -> Any:\n",
    "        # fmt: off\n",
    "        if self.filter_wd:\n",
    "            ps = filter_weight_decay(self, lr=self.lr, weight_decay=self.wd)\n",
    "        else:\n",
    "            ps = [{\"params\": trainable_params(self),\"lr\": self.lr,\"weight_decay\": self.wd}]\n",
    "        return ps"
   ]
  },
  {
   "cell_type": "markdown",
   "metadata": {},
   "source": [
    "Arguments to `FullyConnectedHead`:\n",
    "- `input_shape` (ShapeSpec): input shape\n",
    "- `num_classes` (int): Number of classes for the head.\n",
    "- `pool_type` (str): The pooling layer to use. Check [here](https://github.com/rwightman/pytorch-image-models/blob/9a1bd358c7e998799eed88b29842e3c9e5483e34/timm/models/layers/adaptive_avgmax_pool.py#L79).\n",
    "-  `drop_rate` (float): If >0.0 then applies dropout between the pool_layer and the fc layer.\n",
    "- `use_conv` (bool): Use a convolutional layer as the final fc layer.\n",
    "- `lr` (float): Learning rate for the modules.\n",
    "- `wd` (float): Weight decay for the modules.\n",
    "- `filter_wd` (bool): Filter out `bias`, `bn` from `weight_decay`."
   ]
  },
  {
   "cell_type": "code",
   "execution_count": null,
   "metadata": {},
   "outputs": [
    {
     "data": {
      "text/plain": [
       "FullyConnectedHead(\n",
       "  (global_pool): SelectAdaptivePool2d (pool_type=avg, flatten=True)\n",
       "  (fc): Linear(in_features=512, out_features=10, bias=True)\n",
       ")"
      ]
     },
     "execution_count": null,
     "metadata": {},
     "output_type": "execute_result"
    },
    {
     "data": {
      "application/javascript": [
       "\n",
       "            setTimeout(function() {\n",
       "                var nbb_cell_id = 27;\n",
       "                var nbb_unformatted_code = \"input_shape = ShapeSpec(channels=512)\\ntst = FullyConnectedHead(input_shape, 10)\\ntst\";\n",
       "                var nbb_formatted_code = \"input_shape = ShapeSpec(channels=512)\\ntst = FullyConnectedHead(input_shape, 10)\\ntst\";\n",
       "                var nbb_cells = Jupyter.notebook.get_cells();\n",
       "                for (var i = 0; i < nbb_cells.length; ++i) {\n",
       "                    if (nbb_cells[i].input_prompt_number == nbb_cell_id) {\n",
       "                        if (nbb_cells[i].get_text() == nbb_unformatted_code) {\n",
       "                             nbb_cells[i].set_text(nbb_formatted_code);\n",
       "                        }\n",
       "                        break;\n",
       "                    }\n",
       "                }\n",
       "            }, 500);\n",
       "            "
      ],
      "text/plain": [
       "<IPython.core.display.Javascript object>"
      ]
     },
     "metadata": {},
     "output_type": "display_data"
    }
   ],
   "source": [
    "input_shape = ShapeSpec(channels=512)\n",
    "tst = FullyConnectedHead(input_shape, 10)\n",
    "tst"
   ]
  },
  {
   "cell_type": "code",
   "execution_count": null,
   "metadata": {},
   "outputs": [
    {
     "data": {
      "text/plain": [
       "torch.Size([2, 10])"
      ]
     },
     "execution_count": null,
     "metadata": {},
     "output_type": "execute_result"
    },
    {
     "data": {
      "application/javascript": [
       "\n",
       "            setTimeout(function() {\n",
       "                var nbb_cell_id = 28;\n",
       "                var nbb_unformatted_code = \"# hide\\no = tst(torch.randn(2, 512, 2, 2))\\no.shape\";\n",
       "                var nbb_formatted_code = \"# hide\\no = tst(torch.randn(2, 512, 2, 2))\\no.shape\";\n",
       "                var nbb_cells = Jupyter.notebook.get_cells();\n",
       "                for (var i = 0; i < nbb_cells.length; ++i) {\n",
       "                    if (nbb_cells[i].input_prompt_number == nbb_cell_id) {\n",
       "                        if (nbb_cells[i].get_text() == nbb_unformatted_code) {\n",
       "                             nbb_cells[i].set_text(nbb_formatted_code);\n",
       "                        }\n",
       "                        break;\n",
       "                    }\n",
       "                }\n",
       "            }, 500);\n",
       "            "
      ],
      "text/plain": [
       "<IPython.core.display.Javascript object>"
      ]
     },
     "metadata": {},
     "output_type": "display_data"
    }
   ],
   "source": [
    "# hide\n",
    "o = tst(torch.randn(2, 512, 2, 2))\n",
    "o.shape"
   ]
  },
  {
   "cell_type": "markdown",
   "metadata": {},
   "source": [
    "### Dataclass"
   ]
  },
  {
   "cell_type": "code",
   "execution_count": null,
   "metadata": {},
   "outputs": [
    {
     "data": {
      "application/javascript": [
       "\n",
       "            setTimeout(function() {\n",
       "                var nbb_cell_id = 44;\n",
       "                var nbb_unformatted_code = \"# export\\n@dataclass\\nclass FCHeadDataClass:\\n    \\\"\\\"\\\"\\n    Base config for `FullyConnectedHead`\\n    \\\"\\\"\\\"\\n\\n    num_classes: int = MISSING\\n    pool_type: str = \\\"avg\\\"\\n    drop_rate: float = 0.0\\n    use_conv: bool = False\\n    lr: float = 1e-03\\n    wd: float = 0.0\\n    use_conv: bool = False\";\n",
       "                var nbb_formatted_code = \"# export\\n@dataclass\\nclass FCHeadDataClass:\\n    \\\"\\\"\\\"\\n    Base config for `FullyConnectedHead`\\n    \\\"\\\"\\\"\\n\\n    num_classes: int = MISSING\\n    pool_type: str = \\\"avg\\\"\\n    drop_rate: float = 0.0\\n    use_conv: bool = False\\n    lr: float = 1e-03\\n    wd: float = 0.0\\n    use_conv: bool = False\";\n",
       "                var nbb_cells = Jupyter.notebook.get_cells();\n",
       "                for (var i = 0; i < nbb_cells.length; ++i) {\n",
       "                    if (nbb_cells[i].input_prompt_number == nbb_cell_id) {\n",
       "                        if (nbb_cells[i].get_text() == nbb_unformatted_code) {\n",
       "                             nbb_cells[i].set_text(nbb_formatted_code);\n",
       "                        }\n",
       "                        break;\n",
       "                    }\n",
       "                }\n",
       "            }, 500);\n",
       "            "
      ],
      "text/plain": [
       "<IPython.core.display.Javascript object>"
      ]
     },
     "metadata": {},
     "output_type": "display_data"
    }
   ],
   "source": [
    "# export\n",
    "@dataclass\n",
    "class FCHeadDataClass:\n",
    "    \"\"\"\n",
    "    Base config for `FullyConnectedHead`\n",
    "    \"\"\"\n",
    "\n",
    "    num_classes: int = MISSING\n",
    "    pool_type: str = \"avg\"\n",
    "    drop_rate: float = 0.0\n",
    "    use_conv: bool = False\n",
    "    lr: float = 1e-03\n",
    "    wd: float = 0.0\n",
    "    use_conv: bool = False"
   ]
  },
  {
   "cell_type": "code",
   "execution_count": null,
   "metadata": {},
   "outputs": [
    {
     "data": {
      "text/plain": [
       "FullyConnectedHead(\n",
       "  (global_pool): SelectAdaptivePool2d (pool_type=avg, flatten=True)\n",
       "  (fc): Linear(in_features=512, out_features=10, bias=True)\n",
       ")"
      ]
     },
     "execution_count": null,
     "metadata": {},
     "output_type": "execute_result"
    },
    {
     "data": {
      "application/javascript": [
       "\n",
       "            setTimeout(function() {\n",
       "                var nbb_cell_id = 45;\n",
       "                var nbb_unformatted_code = \"input_shape = ShapeSpec(channels=512)\\nc = OmegaConf.structured(FCHeadDataClass(num_classes=10))\\ntst = FullyConnectedHead.from_config_dict(c, input_shape=input_shape)\\ntst\";\n",
       "                var nbb_formatted_code = \"input_shape = ShapeSpec(channels=512)\\nc = OmegaConf.structured(FCHeadDataClass(num_classes=10))\\ntst = FullyConnectedHead.from_config_dict(c, input_shape=input_shape)\\ntst\";\n",
       "                var nbb_cells = Jupyter.notebook.get_cells();\n",
       "                for (var i = 0; i < nbb_cells.length; ++i) {\n",
       "                    if (nbb_cells[i].input_prompt_number == nbb_cell_id) {\n",
       "                        if (nbb_cells[i].get_text() == nbb_unformatted_code) {\n",
       "                             nbb_cells[i].set_text(nbb_formatted_code);\n",
       "                        }\n",
       "                        break;\n",
       "                    }\n",
       "                }\n",
       "            }, 500);\n",
       "            "
      ],
      "text/plain": [
       "<IPython.core.display.Javascript object>"
      ]
     },
     "metadata": {},
     "output_type": "display_data"
    }
   ],
   "source": [
    "input_shape = ShapeSpec(channels=512)\n",
    "c = OmegaConf.structured(FCHeadDataClass(num_classes=10))\n",
    "tst = FullyConnectedHead.from_config_dict(c, input_shape=input_shape)\n",
    "tst"
   ]
  },
  {
   "cell_type": "markdown",
   "metadata": {},
   "source": [
    "## FastaiHead"
   ]
  },
  {
   "cell_type": "code",
   "execution_count": null,
   "metadata": {},
   "outputs": [
    {
     "data": {
      "application/javascript": [
       "\n",
       "            setTimeout(function() {\n",
       "                var nbb_cell_id = 40;\n",
       "                var nbb_unformatted_code = \"# export\\nclass FastaiHead(ImageClassificationHead):\\n    \\\"\\\"\\\"\\n    Model head that takes `in_planes` features, runs through `lin_ftrs`, and out `num_classes` classes.\\n\\n    From -\\n    https://github.com/fastai/fastai/blob/8b1da8765fc07f1232c20fa8dc5e909d2835640c/fastai/vision/learner.py#L76\\n    \\\"\\\"\\\"\\n\\n    def __init__(\\n        self,\\n        input_shape: ShapeSpec,\\n        num_classes: int,\\n        act: str = \\\"ReLU\\\",\\n        lin_ftrs: Optional[List] = None,\\n        ps: Union[List, int] = 0.5,\\n        concat_pool: bool = True,\\n        first_bn: bool = True,\\n        bn_final: bool = False,\\n        lr: float = 2e-03,\\n        wd: float = 0,\\n        filter_wd: bool = False,\\n    ):\\n        super(FastaiHead, self).__init__()\\n        in_planes = input_shape.channels\\n        pool = \\\"catavgmax\\\" if concat_pool else \\\"avg\\\"\\n        pool, nf = _create_pool(in_planes, num_classes, pool, use_conv=False)\\n\\n        # fmt: off\\n        lin_ftrs = [nf, 512, num_classes] if lin_ftrs is None else [nf] + lin_ftrs + [num_classes]\\n        # fmt: on\\n\\n        bns = [first_bn] + [True] * len(lin_ftrs[1:])\\n\\n        ps = L(ps)\\n\\n        if len(ps) == 1:\\n            ps = [ps[0] / 2] * (len(lin_ftrs) - 2) + ps\\n\\n        act = ifnone(act, \\\"ReLU\\\")\\n        # fmt: off\\n        actns = [ACTIVATION_REGISTRY.get(act)(inplace=True)] * (len(lin_ftrs) - 2) + [None]\\n        if bn_final:\\n            actns[-1] = ACTIVATION_REGISTRY.get(act)(inplace=True)\\n        # fmt: on\\n\\n        self.layers = [pool]\\n\\n        for ni, no, bn, p, actn in zip(lin_ftrs[:-1], lin_ftrs[1:], bns, ps, actns):\\n            self.layers += nn.Sequential(\\n                nn.BatchNorm1d(ni), nn.Dropout(p), nn.Linear(ni, no, bias=not bns), actn\\n            )\\n\\n        if bn_final:\\n            self.layers.append(nn.BatchNorm1d(lin_ftrs[-1], momentum=0.01))\\n        self.layers = nn.Sequential(*[l for l in self.layers if l is not None])\\n\\n        store_attr(\\\"lr, wd, filter_wd\\\")\\n\\n    def forward(self, xb: torch.Tensor) -> Any:\\n        return self.layers(xb)\\n\\n    def build_param_dicts(self) -> Any:\\n        if self.filter_wd:\\n            ps = filter_weight_decay(self.layers, lr=self.lr, weight_decay=self.wd)\\n        else:\\n            # fmt: off\\n            ps = [{\\\"params\\\": trainable_params(self.layers),\\\"lr\\\": self.lr,\\\"weight_decay\\\": self.wd}]\\n            # fmt: on\\n        return ps\";\n",
       "                var nbb_formatted_code = \"# export\\nclass FastaiHead(ImageClassificationHead):\\n    \\\"\\\"\\\"\\n    Model head that takes `in_planes` features, runs through `lin_ftrs`, and out `num_classes` classes.\\n\\n    From -\\n    https://github.com/fastai/fastai/blob/8b1da8765fc07f1232c20fa8dc5e909d2835640c/fastai/vision/learner.py#L76\\n    \\\"\\\"\\\"\\n\\n    def __init__(\\n        self,\\n        input_shape: ShapeSpec,\\n        num_classes: int,\\n        act: str = \\\"ReLU\\\",\\n        lin_ftrs: Optional[List] = None,\\n        ps: Union[List, int] = 0.5,\\n        concat_pool: bool = True,\\n        first_bn: bool = True,\\n        bn_final: bool = False,\\n        lr: float = 2e-03,\\n        wd: float = 0,\\n        filter_wd: bool = False,\\n    ):\\n        super(FastaiHead, self).__init__()\\n        in_planes = input_shape.channels\\n        pool = \\\"catavgmax\\\" if concat_pool else \\\"avg\\\"\\n        pool, nf = _create_pool(in_planes, num_classes, pool, use_conv=False)\\n\\n        # fmt: off\\n        lin_ftrs = [nf, 512, num_classes] if lin_ftrs is None else [nf] + lin_ftrs + [num_classes]\\n        # fmt: on\\n\\n        bns = [first_bn] + [True] * len(lin_ftrs[1:])\\n\\n        ps = L(ps)\\n\\n        if len(ps) == 1:\\n            ps = [ps[0] / 2] * (len(lin_ftrs) - 2) + ps\\n\\n        act = ifnone(act, \\\"ReLU\\\")\\n        # fmt: off\\n        actns = [ACTIVATION_REGISTRY.get(act)(inplace=True)] * (len(lin_ftrs) - 2) + [None]\\n        if bn_final:\\n            actns[-1] = ACTIVATION_REGISTRY.get(act)(inplace=True)\\n        # fmt: on\\n\\n        self.layers = [pool]\\n\\n        for ni, no, bn, p, actn in zip(lin_ftrs[:-1], lin_ftrs[1:], bns, ps, actns):\\n            self.layers += nn.Sequential(\\n                nn.BatchNorm1d(ni), nn.Dropout(p), nn.Linear(ni, no, bias=not bns), actn\\n            )\\n\\n        if bn_final:\\n            self.layers.append(nn.BatchNorm1d(lin_ftrs[-1], momentum=0.01))\\n        self.layers = nn.Sequential(*[l for l in self.layers if l is not None])\\n\\n        store_attr(\\\"lr, wd, filter_wd\\\")\\n\\n    def forward(self, xb: torch.Tensor) -> Any:\\n        return self.layers(xb)\\n\\n    def build_param_dicts(self) -> Any:\\n        if self.filter_wd:\\n            ps = filter_weight_decay(self.layers, lr=self.lr, weight_decay=self.wd)\\n        else:\\n            # fmt: off\\n            ps = [{\\\"params\\\": trainable_params(self.layers),\\\"lr\\\": self.lr,\\\"weight_decay\\\": self.wd}]\\n            # fmt: on\\n        return ps\";\n",
       "                var nbb_cells = Jupyter.notebook.get_cells();\n",
       "                for (var i = 0; i < nbb_cells.length; ++i) {\n",
       "                    if (nbb_cells[i].input_prompt_number == nbb_cell_id) {\n",
       "                        if (nbb_cells[i].get_text() == nbb_unformatted_code) {\n",
       "                             nbb_cells[i].set_text(nbb_formatted_code);\n",
       "                        }\n",
       "                        break;\n",
       "                    }\n",
       "                }\n",
       "            }, 500);\n",
       "            "
      ],
      "text/plain": [
       "<IPython.core.display.Javascript object>"
      ]
     },
     "metadata": {},
     "output_type": "display_data"
    }
   ],
   "source": [
    "# export\n",
    "class FastaiHead(ImageClassificationHead):\n",
    "    \"\"\"\n",
    "    Model head that takes `in_planes` features, runs through `lin_ftrs`, and out `num_classes` classes.\n",
    "\n",
    "    From -\n",
    "    https://github.com/fastai/fastai/blob/8b1da8765fc07f1232c20fa8dc5e909d2835640c/fastai/vision/learner.py#L76\n",
    "    \"\"\"\n",
    "\n",
    "    def __init__(\n",
    "        self,\n",
    "        input_shape: ShapeSpec,\n",
    "        num_classes: int,\n",
    "        act: str = \"ReLU\",\n",
    "        lin_ftrs: Optional[List] = None,\n",
    "        ps: Union[List, int] = 0.5,\n",
    "        concat_pool: bool = True,\n",
    "        first_bn: bool = True,\n",
    "        bn_final: bool = False,\n",
    "        lr: float = 2e-03,\n",
    "        wd: float = 0,\n",
    "        filter_wd: bool = False,\n",
    "    ):\n",
    "        super(FastaiHead, self).__init__()\n",
    "        in_planes = input_shape.channels\n",
    "        pool = \"catavgmax\" if concat_pool else \"avg\"\n",
    "        pool, nf = _create_pool(in_planes, num_classes, pool, use_conv=False)\n",
    "\n",
    "        # fmt: off\n",
    "        lin_ftrs = [nf, 512, num_classes] if lin_ftrs is None else [nf] + lin_ftrs + [num_classes]\n",
    "        # fmt: on\n",
    "\n",
    "        bns = [first_bn] + [True] * len(lin_ftrs[1:])\n",
    "\n",
    "        ps = L(ps)\n",
    "\n",
    "        if len(ps) == 1:\n",
    "            ps = [ps[0] / 2] * (len(lin_ftrs) - 2) + ps\n",
    "\n",
    "        act = ifnone(act, \"ReLU\")\n",
    "        # fmt: off\n",
    "        actns = [ACTIVATION_REGISTRY.get(act)(inplace=True)] * (len(lin_ftrs) - 2) + [None]\n",
    "        if bn_final:\n",
    "            actns[-1] = ACTIVATION_REGISTRY.get(act)(inplace=True)\n",
    "        # fmt: on\n",
    "\n",
    "        self.layers = [pool]\n",
    "\n",
    "        for ni, no, bn, p, actn in zip(lin_ftrs[:-1], lin_ftrs[1:], bns, ps, actns):\n",
    "            self.layers += nn.Sequential(\n",
    "                nn.BatchNorm1d(ni), nn.Dropout(p), nn.Linear(ni, no, bias=not bns), actn\n",
    "            )\n",
    "\n",
    "        if bn_final:\n",
    "            self.layers.append(nn.BatchNorm1d(lin_ftrs[-1], momentum=0.01))\n",
    "        self.layers = nn.Sequential(*[l for l in self.layers if l is not None])\n",
    "\n",
    "        store_attr(\"lr, wd, filter_wd\")\n",
    "\n",
    "    def forward(self, xb: torch.Tensor) -> Any:\n",
    "        return self.layers(xb)\n",
    "\n",
    "    def build_param_dicts(self) -> Any:\n",
    "        if self.filter_wd:\n",
    "            ps = filter_weight_decay(self.layers, lr=self.lr, weight_decay=self.wd)\n",
    "        else:\n",
    "            # fmt: off\n",
    "            ps = [{\"params\": trainable_params(self.layers),\"lr\": self.lr,\"weight_decay\": self.wd}]\n",
    "            # fmt: on\n",
    "        return ps"
   ]
  },
  {
   "cell_type": "markdown",
   "metadata": {},
   "source": [
    "The head begins with `AdaptiveConcatPool2d` if `concat_pool=True` otherwise, it uses traditional average pooling. Then it uses a Flatten layer before going on blocks of `BatchNorm`, `Dropout` and `Linear` layers.\n",
    "\n",
    "Those blocks start at `in_planes`, then every element of `lin_ftrs` (defaults to [512]) and end at `num_classes`. `ps` is a list of probabilities used for the dropouts (if you only pass 1, it will use half the value then that value as many times as necessary).\n",
    "\n",
    "Arguments to `FastaiHead`:\n",
    "- `input_shape` (ShapeSpec): input shape\n",
    "- `num_classes` (int): Number of classes for the head.\n",
    "- `act` (str): name of the activation function to use. If None uses the default activations else the name must be in ACTIVATION_REGISTRY. Activation layers are used after every block (`BatchNorm`, `Dropout` and `Linear` layers) if it is not the last block.\n",
    "- `lin_ftrs` (List): Features of the Linear layers. (defaults to [512])\n",
    "- `ps` (List): list of probabilities used for the dropouts.\n",
    "- `concat_pool` (bool): Wether to use `AdaptiveConcatPool2d` or `AdaptiveAveragePool2d`.\n",
    "- `first_bn` (bool): BatchNorm Layer after pool.\n",
    "- `bn_final` (bool): Final Layer is BatchNorm.\n",
    "- `lr` (float): Learning rate for the modules.\n",
    "- `wd` (float): Weight decay for the modules.\n",
    "- `filter_wd` (bool): Filter out `bias`, `bn` from `weight_decay`."
   ]
  },
  {
   "cell_type": "code",
   "execution_count": null,
   "metadata": {},
   "outputs": [
    {
     "data": {
      "text/plain": [
       "FastaiHead(\n",
       "  (layers): Sequential(\n",
       "    (0): SelectAdaptivePool2d (pool_type=catavgmax, flatten=True)\n",
       "    (1): BatchNorm1d(1024, eps=1e-05, momentum=0.1, affine=True, track_running_stats=True)\n",
       "    (2): Dropout(p=0.25, inplace=False)\n",
       "    (3): Linear(in_features=1024, out_features=512, bias=False)\n",
       "    (4): ReLU(inplace=True)\n",
       "    (5): BatchNorm1d(512, eps=1e-05, momentum=0.1, affine=True, track_running_stats=True)\n",
       "    (6): Dropout(p=0.5, inplace=False)\n",
       "    (7): Linear(in_features=512, out_features=10, bias=False)\n",
       "  )\n",
       ")"
      ]
     },
     "execution_count": null,
     "metadata": {},
     "output_type": "execute_result"
    },
    {
     "data": {
      "application/javascript": [
       "\n",
       "            setTimeout(function() {\n",
       "                var nbb_cell_id = 41;\n",
       "                var nbb_unformatted_code = \"input_shape = ShapeSpec(channels=512)\\ntst = FastaiHead(input_shape=input_shape, num_classes=10)\\ntst\";\n",
       "                var nbb_formatted_code = \"input_shape = ShapeSpec(channels=512)\\ntst = FastaiHead(input_shape=input_shape, num_classes=10)\\ntst\";\n",
       "                var nbb_cells = Jupyter.notebook.get_cells();\n",
       "                for (var i = 0; i < nbb_cells.length; ++i) {\n",
       "                    if (nbb_cells[i].input_prompt_number == nbb_cell_id) {\n",
       "                        if (nbb_cells[i].get_text() == nbb_unformatted_code) {\n",
       "                             nbb_cells[i].set_text(nbb_formatted_code);\n",
       "                        }\n",
       "                        break;\n",
       "                    }\n",
       "                }\n",
       "            }, 500);\n",
       "            "
      ],
      "text/plain": [
       "<IPython.core.display.Javascript object>"
      ]
     },
     "metadata": {},
     "output_type": "display_data"
    }
   ],
   "source": [
    "input_shape = ShapeSpec(channels=512)\n",
    "tst = FastaiHead(input_shape=input_shape, num_classes=10)\n",
    "tst"
   ]
  },
  {
   "cell_type": "code",
   "execution_count": null,
   "metadata": {},
   "outputs": [
    {
     "data": {
      "text/plain": [
       "torch.Size([2, 10])"
      ]
     },
     "execution_count": null,
     "metadata": {},
     "output_type": "execute_result"
    },
    {
     "data": {
      "application/javascript": [
       "\n",
       "            setTimeout(function() {\n",
       "                var nbb_cell_id = 43;\n",
       "                var nbb_unformatted_code = \"# hide\\no = tst(torch.randn(2, 512, 2, 2))\\no.shape\";\n",
       "                var nbb_formatted_code = \"# hide\\no = tst(torch.randn(2, 512, 2, 2))\\no.shape\";\n",
       "                var nbb_cells = Jupyter.notebook.get_cells();\n",
       "                for (var i = 0; i < nbb_cells.length; ++i) {\n",
       "                    if (nbb_cells[i].input_prompt_number == nbb_cell_id) {\n",
       "                        if (nbb_cells[i].get_text() == nbb_unformatted_code) {\n",
       "                             nbb_cells[i].set_text(nbb_formatted_code);\n",
       "                        }\n",
       "                        break;\n",
       "                    }\n",
       "                }\n",
       "            }, 500);\n",
       "            "
      ],
      "text/plain": [
       "<IPython.core.display.Javascript object>"
      ]
     },
     "metadata": {},
     "output_type": "display_data"
    }
   ],
   "source": [
    "# hide\n",
    "o = tst(torch.randn(2, 512, 2, 2))\n",
    "o.shape"
   ]
  },
  {
   "cell_type": "markdown",
   "metadata": {},
   "source": [
    "### Dataclass"
   ]
  },
  {
   "cell_type": "code",
   "execution_count": null,
   "metadata": {},
   "outputs": [
    {
     "data": {
      "application/javascript": [
       "\n",
       "            setTimeout(function() {\n",
       "                var nbb_cell_id = 46;\n",
       "                var nbb_unformatted_code = \"# export\\n@dataclass\\nclass FastaiHeadDataClass:\\n    num_classes: int = MISSING\\n    act: str = \\\"ReLU\\\"\\n    lin_ftrs: Optional[List] = None\\n    ps: Any = 0.5\\n    concat_pool: bool = True\\n    first_bn: bool = True\\n    bn_final: bool = False\\n    lr: float = 0.002\\n    wd: float = 0\\n    filter_wd: bool = False\";\n",
       "                var nbb_formatted_code = \"# export\\n@dataclass\\nclass FastaiHeadDataClass:\\n    num_classes: int = MISSING\\n    act: str = \\\"ReLU\\\"\\n    lin_ftrs: Optional[List] = None\\n    ps: Any = 0.5\\n    concat_pool: bool = True\\n    first_bn: bool = True\\n    bn_final: bool = False\\n    lr: float = 0.002\\n    wd: float = 0\\n    filter_wd: bool = False\";\n",
       "                var nbb_cells = Jupyter.notebook.get_cells();\n",
       "                for (var i = 0; i < nbb_cells.length; ++i) {\n",
       "                    if (nbb_cells[i].input_prompt_number == nbb_cell_id) {\n",
       "                        if (nbb_cells[i].get_text() == nbb_unformatted_code) {\n",
       "                             nbb_cells[i].set_text(nbb_formatted_code);\n",
       "                        }\n",
       "                        break;\n",
       "                    }\n",
       "                }\n",
       "            }, 500);\n",
       "            "
      ],
      "text/plain": [
       "<IPython.core.display.Javascript object>"
      ]
     },
     "metadata": {},
     "output_type": "display_data"
    }
   ],
   "source": [
    "# export\n",
    "@dataclass\n",
    "class FastaiHeadDataClass:\n",
    "    num_classes: int = MISSING\n",
    "    act: str = \"ReLU\"\n",
    "    lin_ftrs: Optional[List] = None\n",
    "    ps: Any = 0.5\n",
    "    concat_pool: bool = True\n",
    "    first_bn: bool = True\n",
    "    bn_final: bool = False\n",
    "    lr: float = 0.002\n",
    "    wd: float = 0\n",
    "    filter_wd: bool = False"
   ]
  },
  {
   "cell_type": "code",
   "execution_count": null,
   "metadata": {},
   "outputs": [
    {
     "data": {
      "text/plain": [
       "FastaiHead(\n",
       "  (layers): Sequential(\n",
       "    (0): SelectAdaptivePool2d (pool_type=catavgmax, flatten=True)\n",
       "    (1): BatchNorm1d(1024, eps=1e-05, momentum=0.1, affine=True, track_running_stats=True)\n",
       "    (2): Dropout(p=0.25, inplace=False)\n",
       "    (3): Linear(in_features=1024, out_features=512, bias=False)\n",
       "    (4): ReLU(inplace=True)\n",
       "    (5): BatchNorm1d(512, eps=1e-05, momentum=0.1, affine=True, track_running_stats=True)\n",
       "    (6): Dropout(p=0.5, inplace=False)\n",
       "    (7): Linear(in_features=512, out_features=10, bias=False)\n",
       "  )\n",
       ")"
      ]
     },
     "execution_count": null,
     "metadata": {},
     "output_type": "execute_result"
    },
    {
     "data": {
      "application/javascript": [
       "\n",
       "            setTimeout(function() {\n",
       "                var nbb_cell_id = 47;\n",
       "                var nbb_unformatted_code = \"conf = OmegaConf.structured(FastaiHeadDataClass(num_classes=10))\\n\\ntst = FastaiHead.from_config_dict(conf, input_shape=input_shape)\\ntst\";\n",
       "                var nbb_formatted_code = \"conf = OmegaConf.structured(FastaiHeadDataClass(num_classes=10))\\n\\ntst = FastaiHead.from_config_dict(conf, input_shape=input_shape)\\ntst\";\n",
       "                var nbb_cells = Jupyter.notebook.get_cells();\n",
       "                for (var i = 0; i < nbb_cells.length; ++i) {\n",
       "                    if (nbb_cells[i].input_prompt_number == nbb_cell_id) {\n",
       "                        if (nbb_cells[i].get_text() == nbb_unformatted_code) {\n",
       "                             nbb_cells[i].set_text(nbb_formatted_code);\n",
       "                        }\n",
       "                        break;\n",
       "                    }\n",
       "                }\n",
       "            }, 500);\n",
       "            "
      ],
      "text/plain": [
       "<IPython.core.display.Javascript object>"
      ]
     },
     "metadata": {},
     "output_type": "display_data"
    }
   ],
   "source": [
    "conf = OmegaConf.structured(FastaiHeadDataClass(num_classes=10))\n",
    "tst = FastaiHead.from_config_dict(conf, input_shape=input_shape)\n",
    "tst"
   ]
  },
  {
   "cell_type": "markdown",
   "metadata": {},
   "source": [
    "## Export-"
   ]
  },
  {
   "cell_type": "code",
   "execution_count": null,
   "metadata": {},
   "outputs": [
    {
     "name": "stdout",
     "output_type": "stream",
     "text": [
      "Converted 04a_classification.models.heads.ipynb.\n"
     ]
    },
    {
     "data": {
      "application/javascript": [
       "\n",
       "            setTimeout(function() {\n",
       "                var nbb_cell_id = 49;\n",
       "                var nbb_unformatted_code = \"# hide\\nnotebook2script(\\\"04a_classification.models.heads.ipynb\\\")\";\n",
       "                var nbb_formatted_code = \"# hide\\nnotebook2script(\\\"04a_classification.models.heads.ipynb\\\")\";\n",
       "                var nbb_cells = Jupyter.notebook.get_cells();\n",
       "                for (var i = 0; i < nbb_cells.length; ++i) {\n",
       "                    if (nbb_cells[i].input_prompt_number == nbb_cell_id) {\n",
       "                        if (nbb_cells[i].get_text() == nbb_unformatted_code) {\n",
       "                             nbb_cells[i].set_text(nbb_formatted_code);\n",
       "                        }\n",
       "                        break;\n",
       "                    }\n",
       "                }\n",
       "            }, 500);\n",
       "            "
      ],
      "text/plain": [
       "<IPython.core.display.Javascript object>"
      ]
     },
     "metadata": {},
     "output_type": "display_data"
    }
   ],
   "source": [
    "# hide\n",
    "notebook2script(\"04a_classification.models.heads.ipynb\")"
   ]
  },
  {
   "cell_type": "code",
   "execution_count": null,
   "metadata": {},
   "outputs": [],
   "source": []
  }
 ],
 "metadata": {
  "kernelspec": {
   "display_name": "gale_dev",
   "language": "python",
   "name": "gale_dev"
  }
 },
 "nbformat": 4,
 "nbformat_minor": 4
}
