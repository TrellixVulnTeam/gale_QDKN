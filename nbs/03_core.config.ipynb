{
 "cells": [
  {
   "cell_type": "code",
   "execution_count": null,
   "metadata": {},
   "outputs": [],
   "source": [
    "# default_exp config"
   ]
  },
  {
   "cell_type": "code",
   "execution_count": null,
   "metadata": {},
   "outputs": [
    {
     "data": {
      "application/javascript": [
       "\n",
       "            setTimeout(function() {\n",
       "                var nbb_cell_id = 2;\n",
       "                var nbb_unformatted_code = \"# hide\\n%load_ext nb_black\\n%load_ext autoreload\\n%autoreload 2\";\n",
       "                var nbb_formatted_code = \"# hide\\n%load_ext nb_black\\n%load_ext autoreload\\n%autoreload 2\";\n",
       "                var nbb_cells = Jupyter.notebook.get_cells();\n",
       "                for (var i = 0; i < nbb_cells.length; ++i) {\n",
       "                    if (nbb_cells[i].input_prompt_number == nbb_cell_id) {\n",
       "                        if (nbb_cells[i].get_text() == nbb_unformatted_code) {\n",
       "                             nbb_cells[i].set_text(nbb_formatted_code);\n",
       "                        }\n",
       "                        break;\n",
       "                    }\n",
       "                }\n",
       "            }, 500);\n",
       "            "
      ],
      "text/plain": [
       "<IPython.core.display.Javascript object>"
      ]
     },
     "metadata": {},
     "output_type": "display_data"
    }
   ],
   "source": [
    "# hide\n",
    "%load_ext nb_black\n",
    "%load_ext autoreload\n",
    "%autoreload 2"
   ]
  },
  {
   "cell_type": "code",
   "execution_count": null,
   "metadata": {},
   "outputs": [
    {
     "data": {
      "application/javascript": [
       "\n",
       "            setTimeout(function() {\n",
       "                var nbb_cell_id = 3;\n",
       "                var nbb_unformatted_code = \"# hide\\nimport warnings\\n\\nfrom nbdev.export import *\\nfrom nbdev.showdoc import *\\n\\nwarnings.filterwarnings(\\\"ignore\\\")\";\n",
       "                var nbb_formatted_code = \"# hide\\nimport warnings\\n\\nfrom nbdev.export import *\\nfrom nbdev.showdoc import *\\n\\nwarnings.filterwarnings(\\\"ignore\\\")\";\n",
       "                var nbb_cells = Jupyter.notebook.get_cells();\n",
       "                for (var i = 0; i < nbb_cells.length; ++i) {\n",
       "                    if (nbb_cells[i].input_prompt_number == nbb_cell_id) {\n",
       "                        if (nbb_cells[i].get_text() == nbb_unformatted_code) {\n",
       "                             nbb_cells[i].set_text(nbb_formatted_code);\n",
       "                        }\n",
       "                        break;\n",
       "                    }\n",
       "                }\n",
       "            }, 500);\n",
       "            "
      ],
      "text/plain": [
       "<IPython.core.display.Javascript object>"
      ]
     },
     "metadata": {},
     "output_type": "display_data"
    }
   ],
   "source": [
    "# hide\n",
    "import warnings\n",
    "\n",
    "from nbdev.export import *\n",
    "from nbdev.showdoc import *\n",
    "\n",
    "warnings.filterwarnings(\"ignore\")"
   ]
  },
  {
   "cell_type": "markdown",
   "metadata": {},
   "source": [
    "# PyTorch Gale Config\n",
    "> Docs for the config API used within PyTorch Gale"
   ]
  },
  {
   "cell_type": "code",
   "execution_count": null,
   "metadata": {},
   "outputs": [
    {
     "data": {
      "application/javascript": [
       "\n",
       "            setTimeout(function() {\n",
       "                var nbb_cell_id = 4;\n",
       "                var nbb_unformatted_code = \"# export\\nfrom dataclasses import dataclass, field\\nfrom typing import *\\n\\nfrom fastcore.all import delegates\\nfrom hydra.experimental import compose, initialize_config_module\\nfrom hydra.utils import instantiate\\nfrom omegaconf import DictConfig, OmegaConf\";\n",
       "                var nbb_formatted_code = \"# export\\nfrom dataclasses import dataclass, field\\nfrom typing import *\\n\\nfrom fastcore.all import delegates\\nfrom hydra.experimental import compose, initialize_config_module\\nfrom hydra.utils import instantiate\\nfrom omegaconf import DictConfig, OmegaConf\";\n",
       "                var nbb_cells = Jupyter.notebook.get_cells();\n",
       "                for (var i = 0; i < nbb_cells.length; ++i) {\n",
       "                    if (nbb_cells[i].input_prompt_number == nbb_cell_id) {\n",
       "                        if (nbb_cells[i].get_text() == nbb_unformatted_code) {\n",
       "                             nbb_cells[i].set_text(nbb_formatted_code);\n",
       "                        }\n",
       "                        break;\n",
       "                    }\n",
       "                }\n",
       "            }, 500);\n",
       "            "
      ],
      "text/plain": [
       "<IPython.core.display.Javascript object>"
      ]
     },
     "metadata": {},
     "output_type": "display_data"
    }
   ],
   "source": [
    "# export\n",
    "from dataclasses import dataclass, field\n",
    "from typing import *\n",
    "\n",
    "from fastcore.all import delegates\n",
    "from hydra.experimental import compose, initialize_config_module\n",
    "from hydra.utils import instantiate\n",
    "from omegaconf import DictConfig, OmegaConf"
   ]
  },
  {
   "cell_type": "code",
   "execution_count": null,
   "metadata": {},
   "outputs": [
    {
     "data": {
      "application/javascript": [
       "\n",
       "            setTimeout(function() {\n",
       "                var nbb_cell_id = 5;\n",
       "                var nbb_unformatted_code = \"# export\\n@delegates(compose)\\ndef get_config(config_name=\\\"classification\\\", **kwargs):\\n    \\\"\\\"\\\"\\n    Get a copy of the default config.\\n    \\\"\\\"\\\"\\n    with initialize_config_module(\\\"gale.hydra\\\"):\\n        cfg = compose(config_name, **kwargs)\\n        #cfg = OmegaConf.set_struct(cfg, True)\\n    return cfg.copy()\";\n",
       "                var nbb_formatted_code = \"# export\\n@delegates(compose)\\ndef get_config(config_name=\\\"classification\\\", **kwargs):\\n    \\\"\\\"\\\"\\n    Get a copy of the default config.\\n    \\\"\\\"\\\"\\n    with initialize_config_module(\\\"gale.hydra\\\"):\\n        cfg = compose(config_name, **kwargs)\\n        # cfg = OmegaConf.set_struct(cfg, True)\\n    return cfg.copy()\";\n",
       "                var nbb_cells = Jupyter.notebook.get_cells();\n",
       "                for (var i = 0; i < nbb_cells.length; ++i) {\n",
       "                    if (nbb_cells[i].input_prompt_number == nbb_cell_id) {\n",
       "                        if (nbb_cells[i].get_text() == nbb_unformatted_code) {\n",
       "                             nbb_cells[i].set_text(nbb_formatted_code);\n",
       "                        }\n",
       "                        break;\n",
       "                    }\n",
       "                }\n",
       "            }, 500);\n",
       "            "
      ],
      "text/plain": [
       "<IPython.core.display.Javascript object>"
      ]
     },
     "metadata": {},
     "output_type": "display_data"
    }
   ],
   "source": [
    "# export\n",
    "@delegates(compose)\n",
    "def get_config(config_name=\"classification\", **kwargs):\n",
    "    \"\"\"\n",
    "    Get a copy of the default config.\n",
    "    \"\"\"\n",
    "    with initialize_config_module(\"gale.hydra\"):\n",
    "        cfg = compose(config_name, **kwargs)\n",
    "        # cfg = OmegaConf.set_struct(cfg, True)\n",
    "    return cfg.copy()"
   ]
  },
  {
   "cell_type": "code",
   "execution_count": null,
   "metadata": {},
   "outputs": [
    {
     "data": {
      "application/javascript": [
       "\n",
       "            setTimeout(function() {\n",
       "                var nbb_cell_id = 6;\n",
       "                var nbb_unformatted_code = \"# export\\ndef get_class_path(cls):\\n    \\\"\\\"\\\"\\n    Utility for building the class path\\n    \\\"\\\"\\\"\\n    return f\\\"{cls.__module__}.{cls.__name__}\\\"\";\n",
       "                var nbb_formatted_code = \"# export\\ndef get_class_path(cls):\\n    \\\"\\\"\\\"\\n    Utility for building the class path\\n    \\\"\\\"\\\"\\n    return f\\\"{cls.__module__}.{cls.__name__}\\\"\";\n",
       "                var nbb_cells = Jupyter.notebook.get_cells();\n",
       "                for (var i = 0; i < nbb_cells.length; ++i) {\n",
       "                    if (nbb_cells[i].input_prompt_number == nbb_cell_id) {\n",
       "                        if (nbb_cells[i].get_text() == nbb_unformatted_code) {\n",
       "                             nbb_cells[i].set_text(nbb_formatted_code);\n",
       "                        }\n",
       "                        break;\n",
       "                    }\n",
       "                }\n",
       "            }, 500);\n",
       "            "
      ],
      "text/plain": [
       "<IPython.core.display.Javascript object>"
      ]
     },
     "metadata": {},
     "output_type": "display_data"
    }
   ],
   "source": [
    "# export\n",
    "def get_class_path(cls):\n",
    "    \"\"\"\n",
    "    Utility for building the class path\n",
    "    \"\"\"\n",
    "    return f\"{cls.__module__}.{cls.__name__}\""
   ]
  },
  {
   "cell_type": "markdown",
   "metadata": {},
   "source": [
    "## Config Structure"
   ]
  },
  {
   "cell_type": "code",
   "execution_count": null,
   "metadata": {},
   "outputs": [
    {
     "name": "stdout",
     "output_type": "stream",
     "text": [
      "\u001b[01;34mgale/hydra\u001b[00m\r\n",
      "├── __init__.py\r\n",
      "├── classification.yaml\r\n",
      "├── \u001b[01;34moptimizer\u001b[00m\r\n",
      "│   └── adamw.yaml\r\n",
      "└── \u001b[01;34mscheduler\u001b[00m\r\n",
      "    └── onecycle.yaml\r\n",
      "\r\n",
      "2 directories, 4 files\r\n"
     ]
    },
    {
     "data": {
      "application/javascript": [
       "\n",
       "            setTimeout(function() {\n",
       "                var nbb_cell_id = 7;\n",
       "                var nbb_unformatted_code = \"# hide-input\\n!tree gale/hydra\";\n",
       "                var nbb_formatted_code = \"# hide-input\\n!tree gale/hydra\";\n",
       "                var nbb_cells = Jupyter.notebook.get_cells();\n",
       "                for (var i = 0; i < nbb_cells.length; ++i) {\n",
       "                    if (nbb_cells[i].input_prompt_number == nbb_cell_id) {\n",
       "                        if (nbb_cells[i].get_text() == nbb_unformatted_code) {\n",
       "                             nbb_cells[i].set_text(nbb_formatted_code);\n",
       "                        }\n",
       "                        break;\n",
       "                    }\n",
       "                }\n",
       "            }, 500);\n",
       "            "
      ],
      "text/plain": [
       "<IPython.core.display.Javascript object>"
      ]
     },
     "metadata": {},
     "output_type": "display_data"
    }
   ],
   "source": [
    "# hide-input\n",
    "!tree gale/hydra"
   ]
  },
  {
   "cell_type": "markdown",
   "metadata": {},
   "source": [
    "## Config References"
   ]
  },
  {
   "cell_type": "code",
   "execution_count": null,
   "metadata": {},
   "outputs": [
    {
     "name": "stdout",
     "output_type": "stream",
     "text": [
      "defaults:\r\n",
      "  # default optimizer\r\n",
      "  - optimizer: adamw\r\n",
      "  # default lr_scheduler\r\n",
      "  - scheduler: onecycle\r\n",
      "\r\n",
      "OPTIMIZATION:\r\n",
      "  # Additional Parameters for Optimization\r\n",
      "  # metric to condition for ReduceLROnPlateau scheduler.\r\n",
      "  monitor: null\r\n",
      "  # # total number of steps per epochs, this value is computed at runtime and mandatory to have.\r\n",
      "  steps_per_epoch: null\r\n",
      "  # total number of training steps, computed at runtime or explicitly set here; mandatory to have\r\n",
      "  max_steps: null\r\n",
      "  # total number of training epochs, computed at runtime or explicitly set here; mandatory to have.\r\n",
      "  max_epochs: null\r\n",
      "\r\n",
      "DATASETS:\r\n",
      "  # name of the training dataset. (must be registered in `DatasetCatalog`)\r\n",
      "  train_ds: ???\r\n",
      "  # name of the validation dataset. (must be registered in `DatasetCatalog`)\r\n",
      "  valid_ds: ???\r\n",
      "  # name of the test dataset. (must be registered in `DatasetCatalog`) [OPTIONAL]\r\n",
      "  test_ds: null\r\n",
      "\r\n",
      "# configuration for dataloaders\r\n",
      "# NOTE: The training data is shuffled by default and\r\n",
      "# validation and testing datasets are not shuffled\r\n",
      "DATALOADER:\r\n",
      "  batch_size: ???\r\n",
      "  sampler: null\r\n",
      "  batch_sampler: null\r\n",
      "  num_workers: 0\r\n",
      "  collate_fn: null\r\n",
      "  pin_memory: false\r\n"
     ]
    },
    {
     "data": {
      "application/javascript": [
       "\n",
       "            setTimeout(function() {\n",
       "                var nbb_cell_id = 8;\n",
       "                var nbb_unformatted_code = \"# hide-input\\n%cat gale/hydra/classification.yaml\";\n",
       "                var nbb_formatted_code = \"# hide-input\\n%cat gale/hydra/classification.yaml\";\n",
       "                var nbb_cells = Jupyter.notebook.get_cells();\n",
       "                for (var i = 0; i < nbb_cells.length; ++i) {\n",
       "                    if (nbb_cells[i].input_prompt_number == nbb_cell_id) {\n",
       "                        if (nbb_cells[i].get_text() == nbb_unformatted_code) {\n",
       "                             nbb_cells[i].set_text(nbb_formatted_code);\n",
       "                        }\n",
       "                        break;\n",
       "                    }\n",
       "                }\n",
       "            }, 500);\n",
       "            "
      ],
      "text/plain": [
       "<IPython.core.display.Javascript object>"
      ]
     },
     "metadata": {},
     "output_type": "display_data"
    }
   ],
   "source": [
    "# hide-input\n",
    "%cat gale/hydra/classification.yaml"
   ]
  },
  {
   "cell_type": "markdown",
   "metadata": {},
   "source": [
    "## Export -"
   ]
  },
  {
   "cell_type": "code",
   "execution_count": null,
   "metadata": {},
   "outputs": [
    {
     "name": "stdout",
     "output_type": "stream",
     "text": [
      "Converted 00_core.logging.ipynb.\n",
      "Converted 00a_core.structures.ipynb.\n",
      "Converted 00b_core.visualize.ipynb.\n",
      "Converted 01_core.nn.utils.ipynb.\n",
      "Converted 01a_core.nn.losses.ipynb.\n",
      "Converted 02_core.nn.optim.optimizers.ipynb.\n",
      "Converted 02a_core.nn.optim.lr_schedulers.ipynb.\n",
      "Converted 03_core.config.ipynb.\n",
      "Converted 03a_core.classes.ipynb.\n",
      "Converted 04_classification.modelling.backbones.ipynb.\n",
      "Converted 05_collections.pandas.ipynb.\n",
      "Converted 06a_collections.callbacks.notebook.ipynb.\n",
      "Converted 06b_collections.callbacks.ema.ipynb.\n",
      "Converted index.ipynb.\n"
     ]
    },
    {
     "data": {
      "application/javascript": [
       "\n",
       "            setTimeout(function() {\n",
       "                var nbb_cell_id = 9;\n",
       "                var nbb_unformatted_code = \"# hide\\nnotebook2script()\";\n",
       "                var nbb_formatted_code = \"# hide\\nnotebook2script()\";\n",
       "                var nbb_cells = Jupyter.notebook.get_cells();\n",
       "                for (var i = 0; i < nbb_cells.length; ++i) {\n",
       "                    if (nbb_cells[i].input_prompt_number == nbb_cell_id) {\n",
       "                        if (nbb_cells[i].get_text() == nbb_unformatted_code) {\n",
       "                             nbb_cells[i].set_text(nbb_formatted_code);\n",
       "                        }\n",
       "                        break;\n",
       "                    }\n",
       "                }\n",
       "            }, 500);\n",
       "            "
      ],
      "text/plain": [
       "<IPython.core.display.Javascript object>"
      ]
     },
     "metadata": {},
     "output_type": "display_data"
    }
   ],
   "source": [
    "# hide\n",
    "notebook2script()"
   ]
  },
  {
   "cell_type": "code",
   "execution_count": null,
   "metadata": {},
   "outputs": [],
   "source": []
  }
 ],
 "metadata": {
  "kernelspec": {
   "display_name": "gale",
   "language": "python",
   "name": "gale"
  }
 },
 "nbformat": 4,
 "nbformat_minor": 4
}
