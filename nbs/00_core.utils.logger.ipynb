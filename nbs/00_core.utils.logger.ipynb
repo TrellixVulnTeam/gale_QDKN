{
 "cells": [
  {
   "cell_type": "code",
   "execution_count": null,
   "id": "a319fc92",
   "metadata": {},
   "outputs": [],
   "source": [
    "# default_exp core.utils.logger"
   ]
  },
  {
   "cell_type": "code",
   "execution_count": null,
   "id": "531795a1",
   "metadata": {},
   "outputs": [],
   "source": [
    "# export\n",
    "# Modified from :\n",
    "# https://github.com/facebookresearch/detectron2/blob/9c7f8a142216ebc52d3617c11f8fafd75b74e637/detectron2/utils/logger.py#L119"
   ]
  },
  {
   "cell_type": "code",
   "execution_count": null,
   "id": "f658611c",
   "metadata": {},
   "outputs": [
    {
     "data": {
      "application/javascript": [
       "\n",
       "            setTimeout(function() {\n",
       "                var nbb_cell_id = 3;\n",
       "                var nbb_unformatted_code = \"# hide\\n%load_ext nb_black\";\n",
       "                var nbb_formatted_code = \"# hide\\n%load_ext nb_black\";\n",
       "                var nbb_cells = Jupyter.notebook.get_cells();\n",
       "                for (var i = 0; i < nbb_cells.length; ++i) {\n",
       "                    if (nbb_cells[i].input_prompt_number == nbb_cell_id) {\n",
       "                        if (nbb_cells[i].get_text() == nbb_unformatted_code) {\n",
       "                             nbb_cells[i].set_text(nbb_formatted_code);\n",
       "                        }\n",
       "                        break;\n",
       "                    }\n",
       "                }\n",
       "            }, 500);\n",
       "            "
      ],
      "text/plain": [
       "<IPython.core.display.Javascript object>"
      ]
     },
     "metadata": {},
     "output_type": "display_data"
    }
   ],
   "source": [
    "# hide\n",
    "%load_ext nb_black"
   ]
  },
  {
   "cell_type": "code",
   "execution_count": null,
   "id": "a175b137",
   "metadata": {},
   "outputs": [
    {
     "data": {
      "application/javascript": [
       "\n",
       "            setTimeout(function() {\n",
       "                var nbb_cell_id = 4;\n",
       "                var nbb_unformatted_code = \"# hide\\nfrom nbdev.export import *\\nfrom nbdev.showdoc import *\";\n",
       "                var nbb_formatted_code = \"# hide\\nfrom nbdev.export import *\\nfrom nbdev.showdoc import *\";\n",
       "                var nbb_cells = Jupyter.notebook.get_cells();\n",
       "                for (var i = 0; i < nbb_cells.length; ++i) {\n",
       "                    if (nbb_cells[i].input_prompt_number == nbb_cell_id) {\n",
       "                        if (nbb_cells[i].get_text() == nbb_unformatted_code) {\n",
       "                             nbb_cells[i].set_text(nbb_formatted_code);\n",
       "                        }\n",
       "                        break;\n",
       "                    }\n",
       "                }\n",
       "            }, 500);\n",
       "            "
      ],
      "text/plain": [
       "<IPython.core.display.Javascript object>"
      ]
     },
     "metadata": {},
     "output_type": "display_data"
    }
   ],
   "source": [
    "# hide\n",
    "from nbdev.export import *\n",
    "from nbdev.showdoc import *"
   ]
  },
  {
   "cell_type": "markdown",
   "id": "e181d323",
   "metadata": {},
   "source": [
    "# Logger\n",
    "> Setups `logger`: name, level, format etc."
   ]
  },
  {
   "cell_type": "code",
   "execution_count": null,
   "id": "d02b36d1",
   "metadata": {},
   "outputs": [
    {
     "data": {
      "application/javascript": [
       "\n",
       "            setTimeout(function() {\n",
       "                var nbb_cell_id = 5;\n",
       "                var nbb_unformatted_code = \"# export\\nimport functools\\nimport logging\\nimport sys\\n\\nfrom fastcore.all import ifnone\\nfrom pytorch_lightning.utilities import rank_zero_only\\nfrom termcolor import colored\";\n",
       "                var nbb_formatted_code = \"# export\\nimport functools\\nimport logging\\nimport sys\\n\\nfrom fastcore.all import ifnone\\nfrom pytorch_lightning.utilities import rank_zero_only\\nfrom termcolor import colored\";\n",
       "                var nbb_cells = Jupyter.notebook.get_cells();\n",
       "                for (var i = 0; i < nbb_cells.length; ++i) {\n",
       "                    if (nbb_cells[i].input_prompt_number == nbb_cell_id) {\n",
       "                        if (nbb_cells[i].get_text() == nbb_unformatted_code) {\n",
       "                             nbb_cells[i].set_text(nbb_formatted_code);\n",
       "                        }\n",
       "                        break;\n",
       "                    }\n",
       "                }\n",
       "            }, 500);\n",
       "            "
      ],
      "text/plain": [
       "<IPython.core.display.Javascript object>"
      ]
     },
     "metadata": {},
     "output_type": "display_data"
    }
   ],
   "source": [
    "# export\n",
    "import functools\n",
    "import logging\n",
    "import sys\n",
    "\n",
    "from fastcore.all import ifnone\n",
    "from pytorch_lightning.utilities import rank_zero_only\n",
    "from termcolor import colored"
   ]
  },
  {
   "cell_type": "code",
   "execution_count": null,
   "id": "f92461b6",
   "metadata": {},
   "outputs": [
    {
     "data": {
      "application/javascript": [
       "\n",
       "            setTimeout(function() {\n",
       "                var nbb_cell_id = 6;\n",
       "                var nbb_unformatted_code = \"# export\\nclass _ColorfulFormatter(logging.Formatter):\\n    def __init__(self, *args, **kwargs):\\n        self._root_name = kwargs.pop(\\\"root_name\\\") + \\\".\\\"\\n        self._abbrev_name = kwargs.pop(\\\"abbrev_name\\\", \\\"\\\")\\n        if len(self._abbrev_name):\\n            self._abbrev_name = self._abbrev_name + \\\".\\\"\\n        super(_ColorfulFormatter, self).__init__(*args, **kwargs)\\n\\n    def formatMessage(self, record):\\n        record.name = record.name.replace(self._root_name, self._abbrev_name)\\n        log = super(_ColorfulFormatter, self).formatMessage(record)\\n        if record.levelno == logging.WARNING:\\n            prefix = colored(\\\"WARNING\\\", \\\"red\\\", attrs=[\\\"blink\\\"])\\n        elif record.levelno == logging.ERROR or record.levelno == logging.CRITICAL:\\n            prefix = colored(\\\"ERROR\\\", \\\"red\\\", attrs=[\\\"blink\\\", \\\"underline\\\"])\\n        else:\\n            return log\\n        return prefix + \\\" \\\" + log\";\n",
       "                var nbb_formatted_code = \"# export\\nclass _ColorfulFormatter(logging.Formatter):\\n    def __init__(self, *args, **kwargs):\\n        self._root_name = kwargs.pop(\\\"root_name\\\") + \\\".\\\"\\n        self._abbrev_name = kwargs.pop(\\\"abbrev_name\\\", \\\"\\\")\\n        if len(self._abbrev_name):\\n            self._abbrev_name = self._abbrev_name + \\\".\\\"\\n        super(_ColorfulFormatter, self).__init__(*args, **kwargs)\\n\\n    def formatMessage(self, record):\\n        record.name = record.name.replace(self._root_name, self._abbrev_name)\\n        log = super(_ColorfulFormatter, self).formatMessage(record)\\n        if record.levelno == logging.WARNING:\\n            prefix = colored(\\\"WARNING\\\", \\\"red\\\", attrs=[\\\"blink\\\"])\\n        elif record.levelno == logging.ERROR or record.levelno == logging.CRITICAL:\\n            prefix = colored(\\\"ERROR\\\", \\\"red\\\", attrs=[\\\"blink\\\", \\\"underline\\\"])\\n        else:\\n            return log\\n        return prefix + \\\" \\\" + log\";\n",
       "                var nbb_cells = Jupyter.notebook.get_cells();\n",
       "                for (var i = 0; i < nbb_cells.length; ++i) {\n",
       "                    if (nbb_cells[i].input_prompt_number == nbb_cell_id) {\n",
       "                        if (nbb_cells[i].get_text() == nbb_unformatted_code) {\n",
       "                             nbb_cells[i].set_text(nbb_formatted_code);\n",
       "                        }\n",
       "                        break;\n",
       "                    }\n",
       "                }\n",
       "            }, 500);\n",
       "            "
      ],
      "text/plain": [
       "<IPython.core.display.Javascript object>"
      ]
     },
     "metadata": {},
     "output_type": "display_data"
    }
   ],
   "source": [
    "# export\n",
    "class _ColorfulFormatter(logging.Formatter):\n",
    "    def __init__(self, *args, **kwargs):\n",
    "        self._root_name = kwargs.pop(\"root_name\") + \".\"\n",
    "        self._abbrev_name = kwargs.pop(\"abbrev_name\", \"\")\n",
    "        if len(self._abbrev_name):\n",
    "            self._abbrev_name = self._abbrev_name + \".\"\n",
    "        super(_ColorfulFormatter, self).__init__(*args, **kwargs)\n",
    "\n",
    "    def formatMessage(self, record):\n",
    "        record.name = record.name.replace(self._root_name, self._abbrev_name)\n",
    "        log = super(_ColorfulFormatter, self).formatMessage(record)\n",
    "        if record.levelno == logging.WARNING:\n",
    "            prefix = colored(\"WARNING\", \"red\", attrs=[\"blink\"])\n",
    "        elif record.levelno == logging.ERROR or record.levelno == logging.CRITICAL:\n",
    "            prefix = colored(\"ERROR\", \"red\", attrs=[\"blink\", \"underline\"])\n",
    "        else:\n",
    "            return log\n",
    "        return prefix + \" \" + log"
   ]
  },
  {
   "cell_type": "code",
   "execution_count": null,
   "id": "ac132367",
   "metadata": {},
   "outputs": [
    {
     "data": {
      "application/javascript": [
       "\n",
       "            setTimeout(function() {\n",
       "                var nbb_cell_id = 7;\n",
       "                var nbb_unformatted_code = \"# export\\n@functools.lru_cache()  # so that calling setup_logger multiple times won't add many handlers\\ndef setup_logger(distributed_rank=0, *, color=True, name=\\\"gale\\\", level=logging.DEBUG):\\n    \\\"\\\"\\\"\\n    Initialize the gale logger and set its verbosity level to `level`.\\n    \\\"\\\"\\\"\\n    logger = logging.getLogger(name)\\n    logger.setLevel(level)\\n    logger.propagate = False\\n\\n    abbrev_name = name\\n\\n    plain_formatter = logging.Formatter(\\n        \\\"[%(asctime)s] %(name)s %(levelname)s: %(message)s\\\", datefmt=\\\"%m/%d %H:%M:%S\\\"\\n    )\\n\\n    # stdout logging: master only\\n    if distributed_rank == 0:\\n        ch = logging.StreamHandler(stream=sys.stdout)\\n        ch.setLevel(logging.DEBUG)\\n        if color:\\n            formatter = _ColorfulFormatter(\\n                colored(\\\"[%(asctime)s %(name)s]: \\\", \\\"green\\\") + \\\"%(message)s\\\",\\n                datefmt=\\\"%m/%d %H:%M:%S\\\",\\n                root_name=name,\\n                abbrev_name=str(abbrev_name),\\n            )\\n        else:\\n            formatter = plain_formatter\\n        ch.setFormatter(formatter)\\n        logger.addHandler(ch)\\n    return logger\";\n",
       "                var nbb_formatted_code = \"# export\\n@functools.lru_cache()  # so that calling setup_logger multiple times won't add many handlers\\ndef setup_logger(distributed_rank=0, *, color=True, name=\\\"gale\\\", level=logging.DEBUG):\\n    \\\"\\\"\\\"\\n    Initialize the gale logger and set its verbosity level to `level`.\\n    \\\"\\\"\\\"\\n    logger = logging.getLogger(name)\\n    logger.setLevel(level)\\n    logger.propagate = False\\n\\n    abbrev_name = name\\n\\n    plain_formatter = logging.Formatter(\\n        \\\"[%(asctime)s] %(name)s %(levelname)s: %(message)s\\\", datefmt=\\\"%m/%d %H:%M:%S\\\"\\n    )\\n\\n    # stdout logging: master only\\n    if distributed_rank == 0:\\n        ch = logging.StreamHandler(stream=sys.stdout)\\n        ch.setLevel(logging.DEBUG)\\n        if color:\\n            formatter = _ColorfulFormatter(\\n                colored(\\\"[%(asctime)s %(name)s]: \\\", \\\"green\\\") + \\\"%(message)s\\\",\\n                datefmt=\\\"%m/%d %H:%M:%S\\\",\\n                root_name=name,\\n                abbrev_name=str(abbrev_name),\\n            )\\n        else:\\n            formatter = plain_formatter\\n        ch.setFormatter(formatter)\\n        logger.addHandler(ch)\\n    return logger\";\n",
       "                var nbb_cells = Jupyter.notebook.get_cells();\n",
       "                for (var i = 0; i < nbb_cells.length; ++i) {\n",
       "                    if (nbb_cells[i].input_prompt_number == nbb_cell_id) {\n",
       "                        if (nbb_cells[i].get_text() == nbb_unformatted_code) {\n",
       "                             nbb_cells[i].set_text(nbb_formatted_code);\n",
       "                        }\n",
       "                        break;\n",
       "                    }\n",
       "                }\n",
       "            }, 500);\n",
       "            "
      ],
      "text/plain": [
       "<IPython.core.display.Javascript object>"
      ]
     },
     "metadata": {},
     "output_type": "display_data"
    }
   ],
   "source": [
    "# export\n",
    "@functools.lru_cache()  # so that calling setup_logger multiple times won't add many handlers\n",
    "def setup_logger(distributed_rank=0, *, color=True, name=\"gale\", level=logging.DEBUG):\n",
    "    \"\"\"\n",
    "    Initialize the gale logger and set its verbosity level to `level`.\n",
    "    \"\"\"\n",
    "    logger = logging.getLogger(name)\n",
    "    logger.setLevel(level)\n",
    "    logger.propagate = False\n",
    "\n",
    "    abbrev_name = name\n",
    "\n",
    "    plain_formatter = logging.Formatter(\n",
    "        \"[%(asctime)s] %(name)s %(levelname)s: %(message)s\", datefmt=\"%m/%d %H:%M:%S\"\n",
    "    )\n",
    "\n",
    "    # stdout logging: master only\n",
    "    if distributed_rank == 0:\n",
    "        ch = logging.StreamHandler(stream=sys.stdout)\n",
    "        ch.setLevel(logging.DEBUG)\n",
    "        if color:\n",
    "            formatter = _ColorfulFormatter(\n",
    "                colored(\"[%(asctime)s %(name)s]: \", \"green\") + \"%(message)s\",\n",
    "                datefmt=\"%m/%d %H:%M:%S\",\n",
    "                root_name=name,\n",
    "                abbrev_name=str(abbrev_name),\n",
    "            )\n",
    "        else:\n",
    "            formatter = plain_formatter\n",
    "        ch.setFormatter(formatter)\n",
    "        logger.addHandler(ch)\n",
    "    return logger"
   ]
  },
  {
   "cell_type": "code",
   "execution_count": null,
   "id": "76b0c52f",
   "metadata": {},
   "outputs": [
    {
     "data": {
      "text/markdown": [
       "<h4 id=\"setup_logger\" class=\"doc_header\"><code>setup_logger</code><a href=\"__main__.py#L2\" class=\"source_link\" style=\"float:right\">[source]</a></h4>\n",
       "\n",
       "> <code>setup_logger</code>(**`distributed_rank`**=*`0`*, **`color`**=*`True`*, **`name`**=*`'gale'`*, **`level`**=*`10`*)\n",
       "\n",
       "Initialize the gale logger and set its verbosity level to `level`."
      ],
      "text/plain": [
       "<IPython.core.display.Markdown object>"
      ]
     },
     "metadata": {},
     "output_type": "display_data"
    },
    {
     "data": {
      "application/javascript": [
       "\n",
       "            setTimeout(function() {\n",
       "                var nbb_cell_id = 8;\n",
       "                var nbb_unformatted_code = \"show_doc(setup_logger)\";\n",
       "                var nbb_formatted_code = \"show_doc(setup_logger)\";\n",
       "                var nbb_cells = Jupyter.notebook.get_cells();\n",
       "                for (var i = 0; i < nbb_cells.length; ++i) {\n",
       "                    if (nbb_cells[i].input_prompt_number == nbb_cell_id) {\n",
       "                        if (nbb_cells[i].get_text() == nbb_unformatted_code) {\n",
       "                             nbb_cells[i].set_text(nbb_formatted_code);\n",
       "                        }\n",
       "                        break;\n",
       "                    }\n",
       "                }\n",
       "            }, 500);\n",
       "            "
      ],
      "text/plain": [
       "<IPython.core.display.Javascript object>"
      ]
     },
     "metadata": {},
     "output_type": "display_data"
    }
   ],
   "source": [
    "show_doc(setup_logger)"
   ]
  },
  {
   "cell_type": "code",
   "execution_count": null,
   "id": "c5e2fe3b",
   "metadata": {},
   "outputs": [
    {
     "name": "stdout",
     "output_type": "stream",
     "text": [
      "\u001b[32m[04/25 22:26:34 gale.logger]: \u001b[0mThis is a INFO message\n",
      "\u001b[32m[04/25 22:26:34 gale.logger]: \u001b[0mThis is a DEBUG message\n",
      "\u001b[5m\u001b[31mWARNING\u001b[0m \u001b[32m[04/25 22:26:34 gale.logger]: \u001b[0mThis is a WARNING message\n",
      "\u001b[4m\u001b[5m\u001b[31mERROR\u001b[0m \u001b[32m[04/25 22:26:34 gale.logger]: \u001b[0mThis is a ERROR message\n"
     ]
    },
    {
     "data": {
      "application/javascript": [
       "\n",
       "            setTimeout(function() {\n",
       "                var nbb_cell_id = 9;\n",
       "                var nbb_unformatted_code = \"setup_logger()\\n\\nlogger = logging.getLogger(\\\"gale.logger\\\")\\n\\nlogger.info(\\\"This is a INFO message\\\")\\nlogger.debug(\\\"This is a DEBUG message\\\")\\nlogger.warning(\\\"This is a WARNING message\\\")\\nlogger.error(\\\"This is a ERROR message\\\")\";\n",
       "                var nbb_formatted_code = \"setup_logger()\\n\\nlogger = logging.getLogger(\\\"gale.logger\\\")\\n\\nlogger.info(\\\"This is a INFO message\\\")\\nlogger.debug(\\\"This is a DEBUG message\\\")\\nlogger.warning(\\\"This is a WARNING message\\\")\\nlogger.error(\\\"This is a ERROR message\\\")\";\n",
       "                var nbb_cells = Jupyter.notebook.get_cells();\n",
       "                for (var i = 0; i < nbb_cells.length; ++i) {\n",
       "                    if (nbb_cells[i].input_prompt_number == nbb_cell_id) {\n",
       "                        if (nbb_cells[i].get_text() == nbb_unformatted_code) {\n",
       "                             nbb_cells[i].set_text(nbb_formatted_code);\n",
       "                        }\n",
       "                        break;\n",
       "                    }\n",
       "                }\n",
       "            }, 500);\n",
       "            "
      ],
      "text/plain": [
       "<IPython.core.display.Javascript object>"
      ]
     },
     "metadata": {},
     "output_type": "display_data"
    }
   ],
   "source": [
    "setup_logger()\n",
    "\n",
    "logger = logging.getLogger(\"gale.logger\")\n",
    "\n",
    "logger.info(\"This is a INFO message\")\n",
    "logger.debug(\"This is a DEBUG message\")\n",
    "logger.warning(\"This is a WARNING message\")\n",
    "logger.error(\"This is a ERROR message\")"
   ]
  },
  {
   "cell_type": "code",
   "execution_count": null,
   "id": "ea207744",
   "metadata": {},
   "outputs": [
    {
     "data": {
      "application/javascript": [
       "\n",
       "            setTimeout(function() {\n",
       "                var nbb_cell_id = 10;\n",
       "                var nbb_unformatted_code = \"# export\\n@rank_zero_only\\ndef log_main_process(logger, lvl, msg):\\n    \\\"\\\"\\\"\\n    Logs `msg` using `logger` only on the main process\\n    \\\"\\\"\\\"\\n    logger.log(lvl, msg)\";\n",
       "                var nbb_formatted_code = \"# export\\n@rank_zero_only\\ndef log_main_process(logger, lvl, msg):\\n    \\\"\\\"\\\"\\n    Logs `msg` using `logger` only on the main process\\n    \\\"\\\"\\\"\\n    logger.log(lvl, msg)\";\n",
       "                var nbb_cells = Jupyter.notebook.get_cells();\n",
       "                for (var i = 0; i < nbb_cells.length; ++i) {\n",
       "                    if (nbb_cells[i].input_prompt_number == nbb_cell_id) {\n",
       "                        if (nbb_cells[i].get_text() == nbb_unformatted_code) {\n",
       "                             nbb_cells[i].set_text(nbb_formatted_code);\n",
       "                        }\n",
       "                        break;\n",
       "                    }\n",
       "                }\n",
       "            }, 500);\n",
       "            "
      ],
      "text/plain": [
       "<IPython.core.display.Javascript object>"
      ]
     },
     "metadata": {},
     "output_type": "display_data"
    }
   ],
   "source": [
    "# export\n",
    "@rank_zero_only\n",
    "def log_main_process(logger, lvl, msg):\n",
    "    \"\"\"\n",
    "    Logs `msg` using `logger` only on the main process\n",
    "    \"\"\"\n",
    "    logger.log(lvl, msg)"
   ]
  },
  {
   "cell_type": "code",
   "execution_count": null,
   "id": "d86e24e7",
   "metadata": {},
   "outputs": [
    {
     "name": "stdout",
     "output_type": "stream",
     "text": [
      "\u001b[32m[04/25 22:26:36 gale.logger]: \u001b[0mThis logs only on the main process\n",
      "\u001b[4m\u001b[5m\u001b[31mERROR\u001b[0m \u001b[32m[04/25 22:26:36 gale.logger]: \u001b[0mThis logs only on the main process\n",
      "\u001b[5m\u001b[31mWARNING\u001b[0m \u001b[32m[04/25 22:26:36 gale.logger]: \u001b[0mThis logs only on the main process\n"
     ]
    },
    {
     "data": {
      "application/javascript": [
       "\n",
       "            setTimeout(function() {\n",
       "                var nbb_cell_id = 11;\n",
       "                var nbb_unformatted_code = \"log_main_process(logger, logging.INFO, \\\"This logs only on the main process\\\")\\nlog_main_process(logger, logging.ERROR, \\\"This logs only on the main process\\\")\\nlog_main_process(logger, logging.WARNING, \\\"This logs only on the main process\\\")\";\n",
       "                var nbb_formatted_code = \"log_main_process(logger, logging.INFO, \\\"This logs only on the main process\\\")\\nlog_main_process(logger, logging.ERROR, \\\"This logs only on the main process\\\")\\nlog_main_process(logger, logging.WARNING, \\\"This logs only on the main process\\\")\";\n",
       "                var nbb_cells = Jupyter.notebook.get_cells();\n",
       "                for (var i = 0; i < nbb_cells.length; ++i) {\n",
       "                    if (nbb_cells[i].input_prompt_number == nbb_cell_id) {\n",
       "                        if (nbb_cells[i].get_text() == nbb_unformatted_code) {\n",
       "                             nbb_cells[i].set_text(nbb_formatted_code);\n",
       "                        }\n",
       "                        break;\n",
       "                    }\n",
       "                }\n",
       "            }, 500);\n",
       "            "
      ],
      "text/plain": [
       "<IPython.core.display.Javascript object>"
      ]
     },
     "metadata": {},
     "output_type": "display_data"
    }
   ],
   "source": [
    "log_main_process(logger, logging.INFO, \"This logs only on the main process\")\n",
    "log_main_process(logger, logging.ERROR, \"This logs only on the main process\")\n",
    "log_main_process(logger, logging.WARNING, \"This logs only on the main process\")"
   ]
  },
  {
   "cell_type": "markdown",
   "id": "912856f4",
   "metadata": {},
   "source": [
    "## Export-"
   ]
  },
  {
   "cell_type": "code",
   "execution_count": null,
   "id": "d78d7639",
   "metadata": {},
   "outputs": [
    {
     "name": "stdout",
     "output_type": "stream",
     "text": [
      "Converted 00_core.utils.logger.ipynb.\n",
      "Converted 00a_core.utils.visualize.ipynb.\n",
      "Converted 00b_core.utils.structures.ipynb.\n",
      "Converted 01_core.nn.utils.ipynb.\n",
      "Converted 01a_core.nn.losses.ipynb.\n",
      "Converted 02_core.nn.optim.optimizers.ipynb.\n",
      "Converted 02a_core.nn.optim.lr_schedulers.ipynb.\n",
      "Converted 03_core.classes.ipynb.\n",
      "Converted 04_classification.modelling.backbones.ipynb.\n",
      "Converted 04a_classification.modelling.heads.ipynb.\n",
      "Converted 04b_classification.modelling.meta_arch.common.ipynb.\n",
      "Converted 04b_classification.modelling.meta_arch.vit.ipynb.\n",
      "Converted 05_classification.data.common.ipynb.\n",
      "Converted 05_classification.data.transforms.ipynb.\n",
      "Converted 06_collections.pandas.ipynb.\n",
      "Converted 06a_collections.callbacks.notebook.ipynb.\n",
      "Converted 06b_collections.callbacks.ema.ipynb.\n",
      "Converted index.ipynb.\n"
     ]
    },
    {
     "data": {
      "application/javascript": [
       "\n",
       "            setTimeout(function() {\n",
       "                var nbb_cell_id = 12;\n",
       "                var nbb_unformatted_code = \"# hide\\nnotebook2script()\";\n",
       "                var nbb_formatted_code = \"# hide\\nnotebook2script()\";\n",
       "                var nbb_cells = Jupyter.notebook.get_cells();\n",
       "                for (var i = 0; i < nbb_cells.length; ++i) {\n",
       "                    if (nbb_cells[i].input_prompt_number == nbb_cell_id) {\n",
       "                        if (nbb_cells[i].get_text() == nbb_unformatted_code) {\n",
       "                             nbb_cells[i].set_text(nbb_formatted_code);\n",
       "                        }\n",
       "                        break;\n",
       "                    }\n",
       "                }\n",
       "            }, 500);\n",
       "            "
      ],
      "text/plain": [
       "<IPython.core.display.Javascript object>"
      ]
     },
     "metadata": {},
     "output_type": "display_data"
    }
   ],
   "source": [
    "# hide\n",
    "notebook2script()"
   ]
  },
  {
   "cell_type": "code",
   "execution_count": null,
   "id": "476e34f5",
   "metadata": {},
   "outputs": [],
   "source": []
  }
 ],
 "metadata": {
  "kernelspec": {
   "display_name": "gale",
   "language": "python",
   "name": "gale"
  }
 },
 "nbformat": 4,
 "nbformat_minor": 5
}
