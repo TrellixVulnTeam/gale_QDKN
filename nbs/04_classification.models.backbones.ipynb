{
 "cells": [
  {
   "cell_type": "code",
   "execution_count": null,
   "metadata": {},
   "outputs": [],
   "source": [
    "# hide\n",
    "# skip\n",
    "!git clone https://github.com/benihime91/gale # install gale on colab\n",
    "!pip install -e \"gale[dev]\""
   ]
  },
  {
   "cell_type": "code",
   "execution_count": null,
   "metadata": {},
   "outputs": [],
   "source": [
    "# default_exp classification.model.backbones"
   ]
  },
  {
   "cell_type": "code",
   "execution_count": null,
   "metadata": {},
   "outputs": [
    {
     "data": {
      "application/javascript": [
       "\n",
       "            setTimeout(function() {\n",
       "                var nbb_cell_id = 2;\n",
       "                var nbb_unformatted_code = \"# hide\\n%load_ext nb_black\\n%load_ext autoreload\\n%autoreload 2\\n%matplotlib inline\";\n",
       "                var nbb_formatted_code = \"# hide\\n%load_ext nb_black\\n%load_ext autoreload\\n%autoreload 2\\n%matplotlib inline\";\n",
       "                var nbb_cells = Jupyter.notebook.get_cells();\n",
       "                for (var i = 0; i < nbb_cells.length; ++i) {\n",
       "                    if (nbb_cells[i].input_prompt_number == nbb_cell_id) {\n",
       "                        if (nbb_cells[i].get_text() == nbb_unformatted_code) {\n",
       "                             nbb_cells[i].set_text(nbb_formatted_code);\n",
       "                        }\n",
       "                        break;\n",
       "                    }\n",
       "                }\n",
       "            }, 500);\n",
       "            "
      ],
      "text/plain": [
       "<IPython.core.display.Javascript object>"
      ]
     },
     "metadata": {},
     "output_type": "display_data"
    }
   ],
   "source": [
    "# hide\n",
    "%load_ext nb_black\n",
    "%load_ext autoreload\n",
    "%autoreload 2\n",
    "%matplotlib inline"
   ]
  },
  {
   "cell_type": "code",
   "execution_count": null,
   "metadata": {},
   "outputs": [
    {
     "data": {
      "application/javascript": [
       "\n",
       "            setTimeout(function() {\n",
       "                var nbb_cell_id = 3;\n",
       "                var nbb_unformatted_code = \"# hide\\nimport warnings\\n\\nfrom nbdev.export import *\\nfrom nbdev.showdoc import *\\nfrom timm.utils import *\\n\\nwarnings.filterwarnings(\\\"ignore\\\")\\n\\nsetup_default_logging()\";\n",
       "                var nbb_formatted_code = \"# hide\\nimport warnings\\n\\nfrom nbdev.export import *\\nfrom nbdev.showdoc import *\\nfrom timm.utils import *\\n\\nwarnings.filterwarnings(\\\"ignore\\\")\\n\\nsetup_default_logging()\";\n",
       "                var nbb_cells = Jupyter.notebook.get_cells();\n",
       "                for (var i = 0; i < nbb_cells.length; ++i) {\n",
       "                    if (nbb_cells[i].input_prompt_number == nbb_cell_id) {\n",
       "                        if (nbb_cells[i].get_text() == nbb_unformatted_code) {\n",
       "                             nbb_cells[i].set_text(nbb_formatted_code);\n",
       "                        }\n",
       "                        break;\n",
       "                    }\n",
       "                }\n",
       "            }, 500);\n",
       "            "
      ],
      "text/plain": [
       "<IPython.core.display.Javascript object>"
      ]
     },
     "metadata": {},
     "output_type": "display_data"
    }
   ],
   "source": [
    "# hide\n",
    "import warnings\n",
    "\n",
    "from nbdev.export import *\n",
    "from nbdev.showdoc import *\n",
    "from timm.utils import *\n",
    "\n",
    "warnings.filterwarnings(\"ignore\")\n",
    "\n",
    "setup_default_logging()"
   ]
  },
  {
   "cell_type": "markdown",
   "metadata": {},
   "source": [
    "# Backbones \n",
    "> Backbones/feature extractors for use in Image Classification Tasks"
   ]
  },
  {
   "cell_type": "code",
   "execution_count": null,
   "metadata": {},
   "outputs": [
    {
     "data": {
      "application/javascript": [
       "\n",
       "            setTimeout(function() {\n",
       "                var nbb_cell_id = 4;\n",
       "                var nbb_unformatted_code = \"# export\\nimport logging\\nimport re\\nfrom collections import namedtuple\\nfrom dataclasses import dataclass\\nfrom typing import *\\n\\nimport timm\\nimport torch\\nfrom fastcore.all import store_attr, use_kwargs_dict\\nfrom omegaconf import MISSING\\nfrom timm.models import ResNet\\nfrom torch import nn\\n\\nfrom gale.core_classes import BasicModule\\nfrom gale.torch_utils import build_discriminative_lrs, set_bn_eval, trainable_params\\nfrom gale.utils.activs import ACTIVATION_REGISTRY\\nfrom gale.utils.shape_spec import ShapeSpec\\nfrom gale.utils.structures import IMAGE_CLASSIFIER_BACKBONES\\n\\n_logger = logging.getLogger(__name__)\";\n",
       "                var nbb_formatted_code = \"# export\\nimport logging\\nimport re\\nfrom collections import namedtuple\\nfrom dataclasses import dataclass\\nfrom typing import *\\n\\nimport timm\\nimport torch\\nfrom fastcore.all import store_attr, use_kwargs_dict\\nfrom omegaconf import MISSING\\nfrom timm.models import ResNet\\nfrom torch import nn\\n\\nfrom gale.core_classes import BasicModule\\nfrom gale.torch_utils import build_discriminative_lrs, set_bn_eval, trainable_params\\nfrom gale.utils.activs import ACTIVATION_REGISTRY\\nfrom gale.utils.shape_spec import ShapeSpec\\nfrom gale.utils.structures import IMAGE_CLASSIFIER_BACKBONES\\n\\n_logger = logging.getLogger(__name__)\";\n",
       "                var nbb_cells = Jupyter.notebook.get_cells();\n",
       "                for (var i = 0; i < nbb_cells.length; ++i) {\n",
       "                    if (nbb_cells[i].input_prompt_number == nbb_cell_id) {\n",
       "                        if (nbb_cells[i].get_text() == nbb_unformatted_code) {\n",
       "                             nbb_cells[i].set_text(nbb_formatted_code);\n",
       "                        }\n",
       "                        break;\n",
       "                    }\n",
       "                }\n",
       "            }, 500);\n",
       "            "
      ],
      "text/plain": [
       "<IPython.core.display.Javascript object>"
      ]
     },
     "metadata": {},
     "output_type": "display_data"
    }
   ],
   "source": [
    "# export\n",
    "import logging\n",
    "import re\n",
    "from collections import namedtuple\n",
    "from dataclasses import dataclass\n",
    "from typing import *\n",
    "\n",
    "import timm\n",
    "import torch\n",
    "from fastcore.all import store_attr, use_kwargs_dict\n",
    "from omegaconf import MISSING\n",
    "from timm.models import ResNet\n",
    "from torch import nn\n",
    "\n",
    "from gale.core_classes import BasicModule\n",
    "from gale.torch_utils import build_discriminative_lrs, set_bn_eval, trainable_params\n",
    "from gale.utils.activs import ACTIVATION_REGISTRY\n",
    "from gale.utils.shape_spec import ShapeSpec\n",
    "from gale.utils.structures import IMAGE_CLASSIFIER_BACKBONES\n",
    "\n",
    "_logger = logging.getLogger(__name__)"
   ]
  },
  {
   "cell_type": "code",
   "execution_count": null,
   "metadata": {},
   "outputs": [
    {
     "data": {
      "application/javascript": [
       "\n",
       "            setTimeout(function() {\n",
       "                var nbb_cell_id = 5;\n",
       "                var nbb_unformatted_code = \"# export\\n_all_ = [\\\"IMAGE_CLASSIFIER_BACKBONES\\\"]\";\n",
       "                var nbb_formatted_code = \"# export\\n_all_ = [\\\"IMAGE_CLASSIFIER_BACKBONES\\\"]\";\n",
       "                var nbb_cells = Jupyter.notebook.get_cells();\n",
       "                for (var i = 0; i < nbb_cells.length; ++i) {\n",
       "                    if (nbb_cells[i].input_prompt_number == nbb_cell_id) {\n",
       "                        if (nbb_cells[i].get_text() == nbb_unformatted_code) {\n",
       "                             nbb_cells[i].set_text(nbb_formatted_code);\n",
       "                        }\n",
       "                        break;\n",
       "                    }\n",
       "                }\n",
       "            }, 500);\n",
       "            "
      ],
      "text/plain": [
       "<IPython.core.display.Javascript object>"
      ]
     },
     "metadata": {},
     "output_type": "display_data"
    }
   ],
   "source": [
    "# export\n",
    "_all_ = [\"IMAGE_CLASSIFIER_BACKBONES\"]"
   ]
  },
  {
   "cell_type": "code",
   "execution_count": null,
   "metadata": {},
   "outputs": [
    {
     "data": {
      "application/javascript": [
       "\n",
       "            setTimeout(function() {\n",
       "                var nbb_cell_id = 6;\n",
       "                var nbb_unformatted_code = \"# hide\\nfrom omegaconf import MISSING, DictConfig, OmegaConf\\nfrom fastcore.test import *\";\n",
       "                var nbb_formatted_code = \"# hide\\nfrom omegaconf import MISSING, DictConfig, OmegaConf\\nfrom fastcore.test import *\";\n",
       "                var nbb_cells = Jupyter.notebook.get_cells();\n",
       "                for (var i = 0; i < nbb_cells.length; ++i) {\n",
       "                    if (nbb_cells[i].input_prompt_number == nbb_cell_id) {\n",
       "                        if (nbb_cells[i].get_text() == nbb_unformatted_code) {\n",
       "                             nbb_cells[i].set_text(nbb_formatted_code);\n",
       "                        }\n",
       "                        break;\n",
       "                    }\n",
       "                }\n",
       "            }, 500);\n",
       "            "
      ],
      "text/plain": [
       "<IPython.core.display.Javascript object>"
      ]
     },
     "metadata": {},
     "output_type": "display_data"
    }
   ],
   "source": [
    "# hide\n",
    "from omegaconf import MISSING, DictConfig, OmegaConf\n",
    "from fastcore.test import *"
   ]
  },
  {
   "cell_type": "markdown",
   "metadata": {},
   "source": [
    "## Utils function"
   ]
  },
  {
   "cell_type": "code",
   "execution_count": null,
   "metadata": {},
   "outputs": [
    {
     "data": {
      "application/javascript": [
       "\n",
       "            setTimeout(function() {\n",
       "                var nbb_cell_id = 7;\n",
       "                var nbb_unformatted_code = \"# export\\ndef _is_pool_type(l: nn.Module) -> bool:\\n    \\\"\\\"\\\"\\n    True if `l` is a pooling layer.\\n    From: https://github.com/fastai/fastai/blob/master/fastai/vision/learner.py#L76\\n    \\\"\\\"\\\"\\n    return re.search(r\\\"Pool[123]d$\\\", l.__class__.__name__)\\n\\n\\ndef has_pool_type(m: nn.Module) -> bool:\\n    \\\"\\\"\\\"\\n    Return `True` if `m` is a pooling layer or has one in its children\\n    From: https://github.com/fastai/fastai/blob/master/fastai/vision/learner.py#L76\\n    \\\"\\\"\\\"\\n    if _is_pool_type(m):\\n        return True\\n    for l in m.children():\\n        if has_pool_type(l):\\n            return True\\n    return False\";\n",
       "                var nbb_formatted_code = \"# export\\ndef _is_pool_type(l: nn.Module) -> bool:\\n    \\\"\\\"\\\"\\n    True if `l` is a pooling layer.\\n    From: https://github.com/fastai/fastai/blob/master/fastai/vision/learner.py#L76\\n    \\\"\\\"\\\"\\n    return re.search(r\\\"Pool[123]d$\\\", l.__class__.__name__)\\n\\n\\ndef has_pool_type(m: nn.Module) -> bool:\\n    \\\"\\\"\\\"\\n    Return `True` if `m` is a pooling layer or has one in its children\\n    From: https://github.com/fastai/fastai/blob/master/fastai/vision/learner.py#L76\\n    \\\"\\\"\\\"\\n    if _is_pool_type(m):\\n        return True\\n    for l in m.children():\\n        if has_pool_type(l):\\n            return True\\n    return False\";\n",
       "                var nbb_cells = Jupyter.notebook.get_cells();\n",
       "                for (var i = 0; i < nbb_cells.length; ++i) {\n",
       "                    if (nbb_cells[i].input_prompt_number == nbb_cell_id) {\n",
       "                        if (nbb_cells[i].get_text() == nbb_unformatted_code) {\n",
       "                             nbb_cells[i].set_text(nbb_formatted_code);\n",
       "                        }\n",
       "                        break;\n",
       "                    }\n",
       "                }\n",
       "            }, 500);\n",
       "            "
      ],
      "text/plain": [
       "<IPython.core.display.Javascript object>"
      ]
     },
     "metadata": {},
     "output_type": "display_data"
    }
   ],
   "source": [
    "# export\n",
    "def _is_pool_type(l: nn.Module) -> bool:\n",
    "    \"\"\"\n",
    "    True if `l` is a pooling layer.\n",
    "    From: https://github.com/fastai/fastai/blob/master/fastai/vision/learner.py#L76\n",
    "    \"\"\"\n",
    "    return re.search(r\"Pool[123]d$\", l.__class__.__name__)\n",
    "\n",
    "\n",
    "def has_pool_type(m: nn.Module) -> bool:\n",
    "    \"\"\"\n",
    "    Return `True` if `m` is a pooling layer or has one in its children\n",
    "    From: https://github.com/fastai/fastai/blob/master/fastai/vision/learner.py#L76\n",
    "    \"\"\"\n",
    "    if _is_pool_type(m):\n",
    "        return True\n",
    "    for l in m.children():\n",
    "        if has_pool_type(l):\n",
    "            return True\n",
    "    return False"
   ]
  },
  {
   "cell_type": "code",
   "execution_count": null,
   "metadata": {},
   "outputs": [
    {
     "data": {
      "application/javascript": [
       "\n",
       "            setTimeout(function() {\n",
       "                var nbb_cell_id = 8;\n",
       "                var nbb_unformatted_code = \"# export\\ndef prepare_backbone(model: nn.Module, cut=None):\\n    \\\"Cut off the body of a typically pretrained `model` as determined by `cut`\\\"\\n    if cut is None:\\n        ll = list(enumerate(model.children()))\\n        cut = next(i for i, o in reversed(ll) if has_pool_type(o))\\n    if isinstance(cut, int):\\n        return nn.Sequential(*list(model.children())[:cut])\\n    elif callable(cut):\\n        return cut(model)\\n    else:\\n        raise NamedError(\\\"cut must be either integer or a function\\\")\";\n",
       "                var nbb_formatted_code = \"# export\\ndef prepare_backbone(model: nn.Module, cut=None):\\n    \\\"Cut off the body of a typically pretrained `model` as determined by `cut`\\\"\\n    if cut is None:\\n        ll = list(enumerate(model.children()))\\n        cut = next(i for i, o in reversed(ll) if has_pool_type(o))\\n    if isinstance(cut, int):\\n        return nn.Sequential(*list(model.children())[:cut])\\n    elif callable(cut):\\n        return cut(model)\\n    else:\\n        raise NamedError(\\\"cut must be either integer or a function\\\")\";\n",
       "                var nbb_cells = Jupyter.notebook.get_cells();\n",
       "                for (var i = 0; i < nbb_cells.length; ++i) {\n",
       "                    if (nbb_cells[i].input_prompt_number == nbb_cell_id) {\n",
       "                        if (nbb_cells[i].get_text() == nbb_unformatted_code) {\n",
       "                             nbb_cells[i].set_text(nbb_formatted_code);\n",
       "                        }\n",
       "                        break;\n",
       "                    }\n",
       "                }\n",
       "            }, 500);\n",
       "            "
      ],
      "text/plain": [
       "<IPython.core.display.Javascript object>"
      ]
     },
     "metadata": {},
     "output_type": "display_data"
    }
   ],
   "source": [
    "# export\n",
    "def prepare_backbone(model: nn.Module, cut=None):\n",
    "    \"Cut off the body of a typically pretrained `model` as determined by `cut`\"\n",
    "    if cut is None:\n",
    "        ll = list(enumerate(model.children()))\n",
    "        cut = next(i for i, o in reversed(ll) if has_pool_type(o))\n",
    "    if isinstance(cut, int):\n",
    "        return nn.Sequential(*list(model.children())[:cut])\n",
    "    elif callable(cut):\n",
    "        return cut(model)\n",
    "    else:\n",
    "        raise NamedError(\"cut must be either integer or a function\")"
   ]
  },
  {
   "cell_type": "code",
   "execution_count": null,
   "metadata": {},
   "outputs": [
    {
     "data": {
      "application/javascript": [
       "\n",
       "            setTimeout(function() {\n",
       "                var nbb_cell_id = 9;\n",
       "                var nbb_unformatted_code = \"# fmt: off\\ntst = nn.Sequential(nn.Conv2d(3, 5, 3), nn.BatchNorm2d(5), nn.AvgPool2d(1), nn.Linear(3, 4))\\n\\nm = prepare_backbone(tst)\\ntest_eq(len(m), 2)\\n\\nm = prepare_backbone(tst, cut=3)\\ntest_eq(len(m), 3)\\n\\nm = prepare_backbone(tst, cut=-1)\\ntest_eq(len(m), 3)\";\n",
       "                var nbb_formatted_code = \"# fmt: off\\ntst = nn.Sequential(nn.Conv2d(3, 5, 3), nn.BatchNorm2d(5), nn.AvgPool2d(1), nn.Linear(3, 4))\\n\\nm = prepare_backbone(tst)\\ntest_eq(len(m), 2)\\n\\nm = prepare_backbone(tst, cut=3)\\ntest_eq(len(m), 3)\\n\\nm = prepare_backbone(tst, cut=-1)\\ntest_eq(len(m), 3)\";\n",
       "                var nbb_cells = Jupyter.notebook.get_cells();\n",
       "                for (var i = 0; i < nbb_cells.length; ++i) {\n",
       "                    if (nbb_cells[i].input_prompt_number == nbb_cell_id) {\n",
       "                        if (nbb_cells[i].get_text() == nbb_unformatted_code) {\n",
       "                             nbb_cells[i].set_text(nbb_formatted_code);\n",
       "                        }\n",
       "                        break;\n",
       "                    }\n",
       "                }\n",
       "            }, 500);\n",
       "            "
      ],
      "text/plain": [
       "<IPython.core.display.Javascript object>"
      ]
     },
     "metadata": {},
     "output_type": "display_data"
    }
   ],
   "source": [
    "# fmt: off\n",
    "tst = nn.Sequential(nn.Conv2d(3, 5, 3), nn.BatchNorm2d(5), nn.AvgPool2d(1), nn.Linear(3, 4))\n",
    "\n",
    "m = prepare_backbone(tst)\n",
    "test_eq(len(m), 2)\n",
    "\n",
    "m = prepare_backbone(tst, cut=3)\n",
    "test_eq(len(m), 3)\n",
    "\n",
    "m = prepare_backbone(tst, cut=-1)\n",
    "test_eq(len(m), 3)"
   ]
  },
  {
   "cell_type": "code",
   "execution_count": null,
   "metadata": {},
   "outputs": [
    {
     "data": {
      "application/javascript": [
       "\n",
       "            setTimeout(function() {\n",
       "                var nbb_cell_id = 10;\n",
       "                var nbb_unformatted_code = \"# export\\ndef filter_weight_decay(\\n    model: nn.Module,\\n    lr: float,\\n    weight_decay: float = 1e-5,\\n    skip_list=(),\\n) -> List[Dict]:\\n    \\\"\\\"\\\"\\n    Filter out bias, bn and other 1d params from weight decay.\\n    Modified from: https://github.com/rwightman/pytorch-image-models/timm/optim/optim_factory.py\\n    \\\"\\\"\\\"\\n    decay = []\\n    no_decay = []\\n    for name, param in model.named_parameters():\\n        if not param.requires_grad:\\n            continue  # frozen weights\\n        if len(param.shape) == 1 or name.endswith(\\\".bias\\\") or name in skip_list:\\n            no_decay.append(param)\\n        else:\\n            decay.append(param)\\n    return [\\n        {\\\"params\\\": no_decay, \\\"weight_decay\\\": 0.0, \\\"lr\\\": lr},\\n        {\\\"params\\\": decay, \\\"weight_decay\\\": weight_decay, \\\"lr\\\": lr},\\n    ]\";\n",
       "                var nbb_formatted_code = \"# export\\ndef filter_weight_decay(\\n    model: nn.Module,\\n    lr: float,\\n    weight_decay: float = 1e-5,\\n    skip_list=(),\\n) -> List[Dict]:\\n    \\\"\\\"\\\"\\n    Filter out bias, bn and other 1d params from weight decay.\\n    Modified from: https://github.com/rwightman/pytorch-image-models/timm/optim/optim_factory.py\\n    \\\"\\\"\\\"\\n    decay = []\\n    no_decay = []\\n    for name, param in model.named_parameters():\\n        if not param.requires_grad:\\n            continue  # frozen weights\\n        if len(param.shape) == 1 or name.endswith(\\\".bias\\\") or name in skip_list:\\n            no_decay.append(param)\\n        else:\\n            decay.append(param)\\n    return [\\n        {\\\"params\\\": no_decay, \\\"weight_decay\\\": 0.0, \\\"lr\\\": lr},\\n        {\\\"params\\\": decay, \\\"weight_decay\\\": weight_decay, \\\"lr\\\": lr},\\n    ]\";\n",
       "                var nbb_cells = Jupyter.notebook.get_cells();\n",
       "                for (var i = 0; i < nbb_cells.length; ++i) {\n",
       "                    if (nbb_cells[i].input_prompt_number == nbb_cell_id) {\n",
       "                        if (nbb_cells[i].get_text() == nbb_unformatted_code) {\n",
       "                             nbb_cells[i].set_text(nbb_formatted_code);\n",
       "                        }\n",
       "                        break;\n",
       "                    }\n",
       "                }\n",
       "            }, 500);\n",
       "            "
      ],
      "text/plain": [
       "<IPython.core.display.Javascript object>"
      ]
     },
     "metadata": {},
     "output_type": "display_data"
    }
   ],
   "source": [
    "# export\n",
    "def filter_weight_decay(\n",
    "    model: nn.Module,\n",
    "    lr: float,\n",
    "    weight_decay: float = 1e-5,\n",
    "    skip_list=(),\n",
    ") -> List[Dict]:\n",
    "    \"\"\"\n",
    "    Filter out bias, bn and other 1d params from weight decay.\n",
    "    Modified from: https://github.com/rwightman/pytorch-image-models/timm/optim/optim_factory.py\n",
    "    \"\"\"\n",
    "    decay = []\n",
    "    no_decay = []\n",
    "    for name, param in model.named_parameters():\n",
    "        if not param.requires_grad:\n",
    "            continue  # frozen weights\n",
    "        if len(param.shape) == 1 or name.endswith(\".bias\") or name in skip_list:\n",
    "            no_decay.append(param)\n",
    "        else:\n",
    "            decay.append(param)\n",
    "    return [\n",
    "        {\"params\": no_decay, \"weight_decay\": 0.0, \"lr\": lr},\n",
    "        {\"params\": decay, \"weight_decay\": weight_decay, \"lr\": lr},\n",
    "    ]"
   ]
  },
  {
   "cell_type": "markdown",
   "metadata": {},
   "source": [
    "## ImageClassificationBackbone -"
   ]
  },
  {
   "cell_type": "code",
   "execution_count": null,
   "metadata": {},
   "outputs": [
    {
     "data": {
      "application/javascript": [
       "\n",
       "            setTimeout(function() {\n",
       "                var nbb_cell_id = 11;\n",
       "                var nbb_unformatted_code = \"# export\\nclass ImageClassificationBackbone(BasicModule):\\n    \\\"\\\"\\\"\\n    Abstract class for ImageClassification BackBones\\n    \\\"\\\"\\\"\\n\\n    _hypers = namedtuple(\\\"hypers\\\", field_names=[\\\"lr\\\", \\\"wd\\\"])\\n\\n    def filter_params(self, parameters: List[Dict]):\\n        \\\"\\\"\\\"Filters any empty paramter groups in `p`\\\"\\\"\\\"\\n        pgs_filterd = []\\n\\n        for group in parameters:\\n            if group[\\\"params\\\"] == []:\\n                pass\\n            else:\\n                pgs_filterd += [group]\\n        return pgs_filterd\\n\\n    @property\\n    def hypers(self) -> Tuple:\\n        \\\"\\\"\\\"\\n        Returns list of parameters like `lr` and `wd`\\n        for each param group\\n        \\\"\\\"\\\"\\n        lrs = []\\n        wds = []\\n\\n        for p in self.build_param_dicts():\\n            lrs.append(p[\\\"lr\\\"])\\n            wds.append(p[\\\"weight_decay\\\"])\\n        return self._hypers(lrs, wds)\\n\\n    def output_shape(self) -> ShapeSpec:\\n        \\\"\\\"\\\"\\n        Returns the output shape. For most backbones\\n        this means it will contain the channels in the\\n        output layer.\\n        \\\"\\\"\\\"\\n        pass\";\n",
       "                var nbb_formatted_code = \"# export\\nclass ImageClassificationBackbone(BasicModule):\\n    \\\"\\\"\\\"\\n    Abstract class for ImageClassification BackBones\\n    \\\"\\\"\\\"\\n\\n    _hypers = namedtuple(\\\"hypers\\\", field_names=[\\\"lr\\\", \\\"wd\\\"])\\n\\n    def filter_params(self, parameters: List[Dict]):\\n        \\\"\\\"\\\"Filters any empty paramter groups in `p`\\\"\\\"\\\"\\n        pgs_filterd = []\\n\\n        for group in parameters:\\n            if group[\\\"params\\\"] == []:\\n                pass\\n            else:\\n                pgs_filterd += [group]\\n        return pgs_filterd\\n\\n    @property\\n    def hypers(self) -> Tuple:\\n        \\\"\\\"\\\"\\n        Returns list of parameters like `lr` and `wd`\\n        for each param group\\n        \\\"\\\"\\\"\\n        lrs = []\\n        wds = []\\n\\n        for p in self.build_param_dicts():\\n            lrs.append(p[\\\"lr\\\"])\\n            wds.append(p[\\\"weight_decay\\\"])\\n        return self._hypers(lrs, wds)\\n\\n    def output_shape(self) -> ShapeSpec:\\n        \\\"\\\"\\\"\\n        Returns the output shape. For most backbones\\n        this means it will contain the channels in the\\n        output layer.\\n        \\\"\\\"\\\"\\n        pass\";\n",
       "                var nbb_cells = Jupyter.notebook.get_cells();\n",
       "                for (var i = 0; i < nbb_cells.length; ++i) {\n",
       "                    if (nbb_cells[i].input_prompt_number == nbb_cell_id) {\n",
       "                        if (nbb_cells[i].get_text() == nbb_unformatted_code) {\n",
       "                             nbb_cells[i].set_text(nbb_formatted_code);\n",
       "                        }\n",
       "                        break;\n",
       "                    }\n",
       "                }\n",
       "            }, 500);\n",
       "            "
      ],
      "text/plain": [
       "<IPython.core.display.Javascript object>"
      ]
     },
     "metadata": {},
     "output_type": "display_data"
    }
   ],
   "source": [
    "# export\n",
    "class ImageClassificationBackbone(BasicModule):\n",
    "    \"\"\"\n",
    "    Abstract class for ImageClassification BackBones\n",
    "    \"\"\"\n",
    "\n",
    "    _hypers = namedtuple(\"hypers\", field_names=[\"lr\", \"wd\"])\n",
    "\n",
    "    def filter_params(self, parameters: List[Dict]):\n",
    "        \"\"\"Filters any empty paramter groups in `p`\"\"\"\n",
    "        pgs_filterd = []\n",
    "\n",
    "        for group in parameters:\n",
    "            if group[\"params\"] == []:\n",
    "                pass\n",
    "            else:\n",
    "                pgs_filterd += [group]\n",
    "        return pgs_filterd\n",
    "\n",
    "    @property\n",
    "    def hypers(self) -> Tuple:\n",
    "        \"\"\"\n",
    "        Returns list of parameters like `lr` and `wd`\n",
    "        for each param group\n",
    "        \"\"\"\n",
    "        lrs = []\n",
    "        wds = []\n",
    "\n",
    "        for p in self.build_param_dicts():\n",
    "            lrs.append(p[\"lr\"])\n",
    "            wds.append(p[\"weight_decay\"])\n",
    "        return self._hypers(lrs, wds)\n",
    "\n",
    "    def output_shape(self) -> ShapeSpec:\n",
    "        \"\"\"\n",
    "        Returns the output shape. For most backbones\n",
    "        this means it will contain the channels in the\n",
    "        output layer.\n",
    "        \"\"\"\n",
    "        pass"
   ]
  },
  {
   "cell_type": "markdown",
   "metadata": {},
   "source": [
    "Some `meta_arch`'s in gale require backbones and for image classsification all the backbones should inherit from `ImageClassificationBackbone` "
   ]
  },
  {
   "cell_type": "code",
   "execution_count": null,
   "metadata": {},
   "outputs": [
    {
     "data": {
      "application/javascript": [
       "\n",
       "            setTimeout(function() {\n",
       "                var nbb_cell_id = 12;\n",
       "                var nbb_unformatted_code = \"class TstModule(ImageClassificationBackbone):\\n    def __init__(self):\\n        super(TstModule, self).__init__()\\n        layers = [nn.Linear(3, 4), nn.Linear(4, 5)]\\n        self.layers = nn.Sequential(*layers)\\n\\n    def forward(self, o):\\n        return self.layers(o)\\n\\n    def output_shape(self):\\n        return ShapeSpec(4, None, None)\\n\\n    def build_param_dicts(self):\\n        p0 = {\\\"params\\\": self.layers[0].parameters(), \\\"lr\\\": 1e-06, \\\"weight_decay\\\": 0.001}\\n        p1 = {\\\"params\\\": self.layers[1].parameters(), \\\"lr\\\": 1e-03, \\\"weight_decay\\\": 0.1}\\n        return [p0, p1]\\n\\n\\ntst = TstModule()\";\n",
       "                var nbb_formatted_code = \"class TstModule(ImageClassificationBackbone):\\n    def __init__(self):\\n        super(TstModule, self).__init__()\\n        layers = [nn.Linear(3, 4), nn.Linear(4, 5)]\\n        self.layers = nn.Sequential(*layers)\\n\\n    def forward(self, o):\\n        return self.layers(o)\\n\\n    def output_shape(self):\\n        return ShapeSpec(4, None, None)\\n\\n    def build_param_dicts(self):\\n        p0 = {\\\"params\\\": self.layers[0].parameters(), \\\"lr\\\": 1e-06, \\\"weight_decay\\\": 0.001}\\n        p1 = {\\\"params\\\": self.layers[1].parameters(), \\\"lr\\\": 1e-03, \\\"weight_decay\\\": 0.1}\\n        return [p0, p1]\\n\\n\\ntst = TstModule()\";\n",
       "                var nbb_cells = Jupyter.notebook.get_cells();\n",
       "                for (var i = 0; i < nbb_cells.length; ++i) {\n",
       "                    if (nbb_cells[i].input_prompt_number == nbb_cell_id) {\n",
       "                        if (nbb_cells[i].get_text() == nbb_unformatted_code) {\n",
       "                             nbb_cells[i].set_text(nbb_formatted_code);\n",
       "                        }\n",
       "                        break;\n",
       "                    }\n",
       "                }\n",
       "            }, 500);\n",
       "            "
      ],
      "text/plain": [
       "<IPython.core.display.Javascript object>"
      ]
     },
     "metadata": {},
     "output_type": "display_data"
    }
   ],
   "source": [
    "class TstModule(ImageClassificationBackbone):\n",
    "    def __init__(self):\n",
    "        super(TstModule, self).__init__()\n",
    "        layers = [nn.Linear(3, 4), nn.Linear(4, 5)]\n",
    "        self.layers = nn.Sequential(*layers)\n",
    "\n",
    "    def forward(self, o):\n",
    "        return self.layers(o)\n",
    "\n",
    "    def output_shape(self):\n",
    "        return ShapeSpec(4, None, None)\n",
    "\n",
    "    def build_param_dicts(self):\n",
    "        p0 = {\"params\": self.layers[0].parameters(), \"lr\": 1e-06, \"weight_decay\": 0.001}\n",
    "        p1 = {\"params\": self.layers[1].parameters(), \"lr\": 1e-03, \"weight_decay\": 0.1}\n",
    "        return [p0, p1]\n",
    "\n",
    "\n",
    "tst = TstModule()"
   ]
  },
  {
   "cell_type": "markdown",
   "metadata": {},
   "source": [
    "### Properties-"
   ]
  },
  {
   "cell_type": "code",
   "execution_count": null,
   "metadata": {},
   "outputs": [
    {
     "data": {
      "text/markdown": [
       "<h4 id=\"ImageClassificationBackbone.hypers\" class=\"doc_header\"><code>ImageClassificationBackbone.hypers</code><a href=\"\" class=\"source_link\" style=\"float:right\">[source]</a></h4>\n",
       "\n",
       "Returns list of parameters like `lr` and `wd`\n",
       "for each param group"
      ],
      "text/plain": [
       "<IPython.core.display.Markdown object>"
      ]
     },
     "metadata": {},
     "output_type": "display_data"
    },
    {
     "data": {
      "application/javascript": [
       "\n",
       "            setTimeout(function() {\n",
       "                var nbb_cell_id = 13;\n",
       "                var nbb_unformatted_code = \"show_doc(ImageClassificationBackbone.hypers)\";\n",
       "                var nbb_formatted_code = \"show_doc(ImageClassificationBackbone.hypers)\";\n",
       "                var nbb_cells = Jupyter.notebook.get_cells();\n",
       "                for (var i = 0; i < nbb_cells.length; ++i) {\n",
       "                    if (nbb_cells[i].input_prompt_number == nbb_cell_id) {\n",
       "                        if (nbb_cells[i].get_text() == nbb_unformatted_code) {\n",
       "                             nbb_cells[i].set_text(nbb_formatted_code);\n",
       "                        }\n",
       "                        break;\n",
       "                    }\n",
       "                }\n",
       "            }, 500);\n",
       "            "
      ],
      "text/plain": [
       "<IPython.core.display.Javascript object>"
      ]
     },
     "metadata": {},
     "output_type": "display_data"
    }
   ],
   "source": [
    "show_doc(ImageClassificationBackbone.hypers)"
   ]
  },
  {
   "cell_type": "code",
   "execution_count": null,
   "metadata": {},
   "outputs": [
    {
     "data": {
      "application/javascript": [
       "\n",
       "            setTimeout(function() {\n",
       "                var nbb_cell_id = 14;\n",
       "                var nbb_unformatted_code = \"test_eq(tst.hypers.lr, [1e-06, 1e-03])\\ntest_eq(tst.hypers.wd, [0.001, 0.1])\";\n",
       "                var nbb_formatted_code = \"test_eq(tst.hypers.lr, [1e-06, 1e-03])\\ntest_eq(tst.hypers.wd, [0.001, 0.1])\";\n",
       "                var nbb_cells = Jupyter.notebook.get_cells();\n",
       "                for (var i = 0; i < nbb_cells.length; ++i) {\n",
       "                    if (nbb_cells[i].input_prompt_number == nbb_cell_id) {\n",
       "                        if (nbb_cells[i].get_text() == nbb_unformatted_code) {\n",
       "                             nbb_cells[i].set_text(nbb_formatted_code);\n",
       "                        }\n",
       "                        break;\n",
       "                    }\n",
       "                }\n",
       "            }, 500);\n",
       "            "
      ],
      "text/plain": [
       "<IPython.core.display.Javascript object>"
      ]
     },
     "metadata": {},
     "output_type": "display_data"
    }
   ],
   "source": [
    "test_eq(tst.hypers.lr, [1e-06, 1e-03])\n",
    "test_eq(tst.hypers.wd, [0.001, 0.1])"
   ]
  },
  {
   "cell_type": "code",
   "execution_count": null,
   "metadata": {},
   "outputs": [
    {
     "data": {
      "text/markdown": [
       "<h4 id=\"ImageClassificationBackbone.output_shape\" class=\"doc_header\"><code>ImageClassificationBackbone.output_shape</code><a href=\"__main__.py#L34\" class=\"source_link\" style=\"float:right\">[source]</a></h4>\n",
       "\n",
       "> <code>ImageClassificationBackbone.output_shape</code>()\n",
       "\n",
       "Returns the output shape. For most backbones\n",
       "this means it will contain the channels in the\n",
       "output layer."
      ],
      "text/plain": [
       "<IPython.core.display.Markdown object>"
      ]
     },
     "metadata": {},
     "output_type": "display_data"
    },
    {
     "data": {
      "application/javascript": [
       "\n",
       "            setTimeout(function() {\n",
       "                var nbb_cell_id = 15;\n",
       "                var nbb_unformatted_code = \"show_doc(ImageClassificationBackbone.output_shape)\";\n",
       "                var nbb_formatted_code = \"show_doc(ImageClassificationBackbone.output_shape)\";\n",
       "                var nbb_cells = Jupyter.notebook.get_cells();\n",
       "                for (var i = 0; i < nbb_cells.length; ++i) {\n",
       "                    if (nbb_cells[i].input_prompt_number == nbb_cell_id) {\n",
       "                        if (nbb_cells[i].get_text() == nbb_unformatted_code) {\n",
       "                             nbb_cells[i].set_text(nbb_formatted_code);\n",
       "                        }\n",
       "                        break;\n",
       "                    }\n",
       "                }\n",
       "            }, 500);\n",
       "            "
      ],
      "text/plain": [
       "<IPython.core.display.Javascript object>"
      ]
     },
     "metadata": {},
     "output_type": "display_data"
    }
   ],
   "source": [
    "show_doc(ImageClassificationBackbone.output_shape)"
   ]
  },
  {
   "cell_type": "code",
   "execution_count": null,
   "metadata": {},
   "outputs": [
    {
     "data": {
      "application/javascript": [
       "\n",
       "            setTimeout(function() {\n",
       "                var nbb_cell_id = 16;\n",
       "                var nbb_unformatted_code = \"assert tst.output_shape() == ShapeSpec(4, None, None)\";\n",
       "                var nbb_formatted_code = \"assert tst.output_shape() == ShapeSpec(4, None, None)\";\n",
       "                var nbb_cells = Jupyter.notebook.get_cells();\n",
       "                for (var i = 0; i < nbb_cells.length; ++i) {\n",
       "                    if (nbb_cells[i].input_prompt_number == nbb_cell_id) {\n",
       "                        if (nbb_cells[i].get_text() == nbb_unformatted_code) {\n",
       "                             nbb_cells[i].set_text(nbb_formatted_code);\n",
       "                        }\n",
       "                        break;\n",
       "                    }\n",
       "                }\n",
       "            }, 500);\n",
       "            "
      ],
      "text/plain": [
       "<IPython.core.display.Javascript object>"
      ]
     },
     "metadata": {},
     "output_type": "display_data"
    }
   ],
   "source": [
    "assert tst.output_shape() == ShapeSpec(4, None, None)"
   ]
  },
  {
   "cell_type": "code",
   "execution_count": null,
   "metadata": {},
   "outputs": [
    {
     "data": {
      "text/markdown": [
       "<h4 id=\"ImageClassificationBackbone.filter_params\" class=\"doc_header\"><code>ImageClassificationBackbone.filter_params</code><a href=\"__main__.py#L9\" class=\"source_link\" style=\"float:right\">[source]</a></h4>\n",
       "\n",
       "> <code>ImageClassificationBackbone.filter_params</code>(**`parameters`**:`List`\\[`Dict`\\])\n",
       "\n",
       "Filters any empty paramter groups in `p`"
      ],
      "text/plain": [
       "<IPython.core.display.Markdown object>"
      ]
     },
     "metadata": {},
     "output_type": "display_data"
    },
    {
     "data": {
      "application/javascript": [
       "\n",
       "            setTimeout(function() {\n",
       "                var nbb_cell_id = 17;\n",
       "                var nbb_unformatted_code = \"show_doc(ImageClassificationBackbone.filter_params)\";\n",
       "                var nbb_formatted_code = \"show_doc(ImageClassificationBackbone.filter_params)\";\n",
       "                var nbb_cells = Jupyter.notebook.get_cells();\n",
       "                for (var i = 0; i < nbb_cells.length; ++i) {\n",
       "                    if (nbb_cells[i].input_prompt_number == nbb_cell_id) {\n",
       "                        if (nbb_cells[i].get_text() == nbb_unformatted_code) {\n",
       "                             nbb_cells[i].set_text(nbb_formatted_code);\n",
       "                        }\n",
       "                        break;\n",
       "                    }\n",
       "                }\n",
       "            }, 500);\n",
       "            "
      ],
      "text/plain": [
       "<IPython.core.display.Javascript object>"
      ]
     },
     "metadata": {},
     "output_type": "display_data"
    }
   ],
   "source": [
    "show_doc(ImageClassificationBackbone.filter_params)"
   ]
  },
  {
   "cell_type": "markdown",
   "metadata": {},
   "source": [
    "## TimmBackboneBase -"
   ]
  },
  {
   "cell_type": "code",
   "execution_count": null,
   "metadata": {},
   "outputs": [
    {
     "data": {
      "application/javascript": [
       "\n",
       "            setTimeout(function() {\n",
       "                var nbb_cell_id = 18;\n",
       "                var nbb_unformatted_code = \"# export\\nclass TimmBackboneBase(ImageClassificationBackbone):\\n    \\\"Create a model from `timm` and converts it into a Image Classification Backbone\\\"\\n\\n    @use_kwargs_dict(\\n        keep=True,\\n        pretrained=True,\\n        drop_block_rate=None,\\n        drop_path_rate=None,\\n        bn_tf=False,\\n    )\\n    def __init__(\\n        self,\\n        model_name: str,\\n        input_shape: ShapeSpec,\\n        act: str = None,\\n        lr: float = 1e-03,\\n        wd: float = 0,\\n        freeze_bn: bool = False,\\n        freeze_at: int = False,\\n        filter_wd: bool = False,\\n        **kwargs,\\n    ):\\n        super(TimmBackboneBase, self).__init__()\\n\\n        store_attr(\\\"lr, wd, filter_wd, input_shape\\\")\\n\\n        if act is not None:\\n            act = ACTIVATION_REGISTRY.get(act)\\n\\n        model = timm.create_model(\\n            model_name,\\n            act_layer=act,\\n            global_pool=\\\"\\\",\\n            num_classes=0,\\n            in_chans=input_shape.channels,\\n            **kwargs,\\n        )\\n\\n        # save some of information from timm models\\n        self.num_features = model.num_features\\n        self.timm_model_cfg = model.default_cfg\\n        self.model = prepare_backbone(model)\\n\\n        if not freeze_at:\\n            self.unfreeze()\\n        else:\\n            self.freeze_to(freeze_at)\\n\\n        if freeze_bn:\\n            set_bn_eval(self.model)\\n\\n    def forward(self, xb: torch.Tensor) -> torch.Tensor:\\n        return self.model(xb)\\n\\n    def build_param_dicts(self) -> List:\\n        if self.filter_wd:\\n            ps = filter_weight_decay(self.model, lr=self.lr, weight_decay=self.wd)\\n        else:\\n            ps = {\\n                \\\"params\\\": trainable_params(self.model),\\n                \\\"lr\\\": self.lr,\\n                \\\"weight_decay\\\": self.wd,\\n            }\\n            ps = [ps]\\n\\n        return self.filter_params(ps)\\n\\n    def output_shape(self) -> ShapeSpec:\\n        return ShapeSpec(self.num_features, None, None)\";\n",
       "                var nbb_formatted_code = \"# export\\nclass TimmBackboneBase(ImageClassificationBackbone):\\n    \\\"Create a model from `timm` and converts it into a Image Classification Backbone\\\"\\n\\n    @use_kwargs_dict(\\n        keep=True,\\n        pretrained=True,\\n        drop_block_rate=None,\\n        drop_path_rate=None,\\n        bn_tf=False,\\n    )\\n    def __init__(\\n        self,\\n        model_name: str,\\n        input_shape: ShapeSpec,\\n        act: str = None,\\n        lr: float = 1e-03,\\n        wd: float = 0,\\n        freeze_bn: bool = False,\\n        freeze_at: int = False,\\n        filter_wd: bool = False,\\n        **kwargs,\\n    ):\\n        super(TimmBackboneBase, self).__init__()\\n\\n        store_attr(\\\"lr, wd, filter_wd, input_shape\\\")\\n\\n        if act is not None:\\n            act = ACTIVATION_REGISTRY.get(act)\\n\\n        model = timm.create_model(\\n            model_name,\\n            act_layer=act,\\n            global_pool=\\\"\\\",\\n            num_classes=0,\\n            in_chans=input_shape.channels,\\n            **kwargs,\\n        )\\n\\n        # save some of information from timm models\\n        self.num_features = model.num_features\\n        self.timm_model_cfg = model.default_cfg\\n        self.model = prepare_backbone(model)\\n\\n        if not freeze_at:\\n            self.unfreeze()\\n        else:\\n            self.freeze_to(freeze_at)\\n\\n        if freeze_bn:\\n            set_bn_eval(self.model)\\n\\n    def forward(self, xb: torch.Tensor) -> torch.Tensor:\\n        return self.model(xb)\\n\\n    def build_param_dicts(self) -> List:\\n        if self.filter_wd:\\n            ps = filter_weight_decay(self.model, lr=self.lr, weight_decay=self.wd)\\n        else:\\n            ps = {\\n                \\\"params\\\": trainable_params(self.model),\\n                \\\"lr\\\": self.lr,\\n                \\\"weight_decay\\\": self.wd,\\n            }\\n            ps = [ps]\\n\\n        return self.filter_params(ps)\\n\\n    def output_shape(self) -> ShapeSpec:\\n        return ShapeSpec(self.num_features, None, None)\";\n",
       "                var nbb_cells = Jupyter.notebook.get_cells();\n",
       "                for (var i = 0; i < nbb_cells.length; ++i) {\n",
       "                    if (nbb_cells[i].input_prompt_number == nbb_cell_id) {\n",
       "                        if (nbb_cells[i].get_text() == nbb_unformatted_code) {\n",
       "                             nbb_cells[i].set_text(nbb_formatted_code);\n",
       "                        }\n",
       "                        break;\n",
       "                    }\n",
       "                }\n",
       "            }, 500);\n",
       "            "
      ],
      "text/plain": [
       "<IPython.core.display.Javascript object>"
      ]
     },
     "metadata": {},
     "output_type": "display_data"
    }
   ],
   "source": [
    "# export\n",
    "class TimmBackboneBase(ImageClassificationBackbone):\n",
    "    \"Create a model from `timm` and converts it into a Image Classification Backbone\"\n",
    "\n",
    "    @use_kwargs_dict(\n",
    "        keep=True,\n",
    "        pretrained=True,\n",
    "        drop_block_rate=None,\n",
    "        drop_path_rate=None,\n",
    "        bn_tf=False,\n",
    "    )\n",
    "    def __init__(\n",
    "        self,\n",
    "        model_name: str,\n",
    "        input_shape: ShapeSpec,\n",
    "        act: str = None,\n",
    "        lr: float = 1e-03,\n",
    "        wd: float = 0,\n",
    "        freeze_bn: bool = False,\n",
    "        freeze_at: int = False,\n",
    "        filter_wd: bool = False,\n",
    "        **kwargs,\n",
    "    ):\n",
    "        super(TimmBackboneBase, self).__init__()\n",
    "\n",
    "        store_attr(\"lr, wd, filter_wd, input_shape\")\n",
    "\n",
    "        if act is not None:\n",
    "            act = ACTIVATION_REGISTRY.get(act)\n",
    "\n",
    "        model = timm.create_model(\n",
    "            model_name,\n",
    "            act_layer=act,\n",
    "            global_pool=\"\",\n",
    "            num_classes=0,\n",
    "            in_chans=input_shape.channels,\n",
    "            **kwargs,\n",
    "        )\n",
    "\n",
    "        # save some of information from timm models\n",
    "        self.num_features = model.num_features\n",
    "        self.timm_model_cfg = model.default_cfg\n",
    "        self.model = prepare_backbone(model)\n",
    "\n",
    "        if not freeze_at:\n",
    "            self.unfreeze()\n",
    "        else:\n",
    "            self.freeze_to(freeze_at)\n",
    "\n",
    "        if freeze_bn:\n",
    "            set_bn_eval(self.model)\n",
    "\n",
    "    def forward(self, xb: torch.Tensor) -> torch.Tensor:\n",
    "        return self.model(xb)\n",
    "\n",
    "    def build_param_dicts(self) -> List:\n",
    "        if self.filter_wd:\n",
    "            ps = filter_weight_decay(self.model, lr=self.lr, weight_decay=self.wd)\n",
    "        else:\n",
    "            ps = {\n",
    "                \"params\": trainable_params(self.model),\n",
    "                \"lr\": self.lr,\n",
    "                \"weight_decay\": self.wd,\n",
    "            }\n",
    "            ps = [ps]\n",
    "\n",
    "        return self.filter_params(ps)\n",
    "\n",
    "    def output_shape(self) -> ShapeSpec:\n",
    "        return ShapeSpec(self.num_features, None, None)"
   ]
  },
  {
   "cell_type": "markdown",
   "metadata": {},
   "source": [
    "This class provides a simple way to load a model from timm using all it's arguments. It then cuts the model at the pooling layer before the classifier of the model .ie., we keep the feature extractor the feature extractor is converted to the backbone. You can optionally choose to partially or fully freeze the parameters groups of the backbone using `freeze_at`. `freeze_bn` sets the BatchNorm layers of the model to eval & if `filter_wd` then the weight decay is not applied to bias and other 1d paramters of the backbone.\n",
    "\n",
    "`TimmBackboneBase.build_param_dics()` is responsible to building the parameters of the model. Currently it returns the `trainable_params` of the model with `lr` and `wd`. The paramters are filterd with `wd` if `filter_wd`. For more advanced options you should probably override this method."
   ]
  },
  {
   "cell_type": "markdown",
   "metadata": {},
   "source": [
    "**Arguments to `TimmBackboneBase`:**\n",
    "- `input_shape` (ShapeSpec): Shape of the Inputs\n",
    "- `model_name` (str): name of model to instantiate.\n",
    "- `act` (str): name of the activation function to use. If None uses the default activations else the name must be in `ACTIVATION_REGISTRY`.\n",
    "- `lr` (float): learning rate for the modules.\n",
    "- `wd` (float): weight decay for the modules.\n",
    "- `freeze_bn` (bool): freeze the batch normalization layers of the model.\n",
    "- `freeze_at` (int): freeze the layers of the backbone upto `freeze_at`, false means train all.\n",
    "- `filter_wd` (bool): Filter out bias, bn from weight_decay.\n",
    "- `pretrained` (bool): load pretrained ImageNet-1k weights if true.\n",
    "- `drop_block_rate` (float): Drop block rate\n",
    "- `drop_path_rate` (float): Drop_path_rate\n",
    "- `bn_tf` (bool): Use Tensorflow BatchNorm defaults for models that support it.\n",
    "- `kwargs` (optional): Optional kwargs passed onto `timm.create_model()`"
   ]
  },
  {
   "cell_type": "code",
   "execution_count": null,
   "metadata": {},
   "outputs": [
    {
     "name": "stderr",
     "output_type": "stream",
     "text": [
      "Loading pretrained weights from url (https://download.pytorch.org/models/resnet18-5c106cde.pth)\n"
     ]
    },
    {
     "data": {
      "application/javascript": [
       "\n",
       "            setTimeout(function() {\n",
       "                var nbb_cell_id = 19;\n",
       "                var nbb_unformatted_code = \"input_shape = ShapeSpec(channels=3, height=255, width=255)\\nbk = TimmBackboneBase(model_name=\\\"resnet18\\\", pretrained=True, input_shape=input_shape)\\nm = timm.create_model(\\\"resnet18\\\")\\n\\ni = torch.randn(2, 3, 224, 224)\\no1 = bk(i)\\ntest_eq(o1.shape, torch.Size([2, 512, 7, 7]))\\ntest_eq(bk.output_shape().channels, m.num_features)\";\n",
       "                var nbb_formatted_code = \"input_shape = ShapeSpec(channels=3, height=255, width=255)\\nbk = TimmBackboneBase(model_name=\\\"resnet18\\\", pretrained=True, input_shape=input_shape)\\nm = timm.create_model(\\\"resnet18\\\")\\n\\ni = torch.randn(2, 3, 224, 224)\\no1 = bk(i)\\ntest_eq(o1.shape, torch.Size([2, 512, 7, 7]))\\ntest_eq(bk.output_shape().channels, m.num_features)\";\n",
       "                var nbb_cells = Jupyter.notebook.get_cells();\n",
       "                for (var i = 0; i < nbb_cells.length; ++i) {\n",
       "                    if (nbb_cells[i].input_prompt_number == nbb_cell_id) {\n",
       "                        if (nbb_cells[i].get_text() == nbb_unformatted_code) {\n",
       "                             nbb_cells[i].set_text(nbb_formatted_code);\n",
       "                        }\n",
       "                        break;\n",
       "                    }\n",
       "                }\n",
       "            }, 500);\n",
       "            "
      ],
      "text/plain": [
       "<IPython.core.display.Javascript object>"
      ]
     },
     "metadata": {},
     "output_type": "display_data"
    }
   ],
   "source": [
    "input_shape = ShapeSpec(channels=3, height=255, width=255)\n",
    "bk = TimmBackboneBase(model_name=\"resnet18\", pretrained=True, input_shape=input_shape)\n",
    "m = timm.create_model(\"resnet18\")\n",
    "\n",
    "i = torch.randn(2, 3, 224, 224)\n",
    "o1 = bk(i)\n",
    "test_eq(o1.shape, torch.Size([2, 512, 7, 7]))\n",
    "test_eq(bk.output_shape().channels, m.num_features)"
   ]
  },
  {
   "cell_type": "markdown",
   "metadata": {},
   "source": [
    "### Dataclass"
   ]
  },
  {
   "cell_type": "code",
   "execution_count": null,
   "metadata": {},
   "outputs": [
    {
     "data": {
      "application/javascript": [
       "\n",
       "            setTimeout(function() {\n",
       "                var nbb_cell_id = 20;\n",
       "                var nbb_unformatted_code = \"# export\\n@dataclass\\nclass TimmBackboneDataClass:\\n    \\\"\\\"\\\"\\n    Base config file for `TimmBackboneBase`. You need to pass in a\\n    `model_name` the opter parameters are optional.\\n    \\\"\\\"\\\"\\n\\n    model_name: str = MISSING\\n    act: Optional[str] = None\\n    lr: Any = 1e-03\\n    wd: Any = 0.0\\n    freeze_bn: bool = False\\n    freeze_at: Any = False\\n    filter_wd: bool = False\\n    pretrained: bool = True\\n    drop_block_rate: Optional[float] = None\\n    drop_path_rate: Optional[float] = None\\n    bn_tf: bool = False\";\n",
       "                var nbb_formatted_code = \"# export\\n@dataclass\\nclass TimmBackboneDataClass:\\n    \\\"\\\"\\\"\\n    Base config file for `TimmBackboneBase`. You need to pass in a\\n    `model_name` the opter parameters are optional.\\n    \\\"\\\"\\\"\\n\\n    model_name: str = MISSING\\n    act: Optional[str] = None\\n    lr: Any = 1e-03\\n    wd: Any = 0.0\\n    freeze_bn: bool = False\\n    freeze_at: Any = False\\n    filter_wd: bool = False\\n    pretrained: bool = True\\n    drop_block_rate: Optional[float] = None\\n    drop_path_rate: Optional[float] = None\\n    bn_tf: bool = False\";\n",
       "                var nbb_cells = Jupyter.notebook.get_cells();\n",
       "                for (var i = 0; i < nbb_cells.length; ++i) {\n",
       "                    if (nbb_cells[i].input_prompt_number == nbb_cell_id) {\n",
       "                        if (nbb_cells[i].get_text() == nbb_unformatted_code) {\n",
       "                             nbb_cells[i].set_text(nbb_formatted_code);\n",
       "                        }\n",
       "                        break;\n",
       "                    }\n",
       "                }\n",
       "            }, 500);\n",
       "            "
      ],
      "text/plain": [
       "<IPython.core.display.Javascript object>"
      ]
     },
     "metadata": {},
     "output_type": "display_data"
    }
   ],
   "source": [
    "# export\n",
    "@dataclass\n",
    "class TimmBackboneDataClass:\n",
    "    \"\"\"\n",
    "    Base config file for `TimmBackboneBase`. You need to pass in a\n",
    "    `model_name` the opter parameters are optional.\n",
    "    \"\"\"\n",
    "\n",
    "    model_name: str = MISSING\n",
    "    act: Optional[str] = None\n",
    "    lr: Any = 1e-03\n",
    "    wd: Any = 0.0\n",
    "    freeze_bn: bool = False\n",
    "    freeze_at: Any = False\n",
    "    filter_wd: bool = False\n",
    "    pretrained: bool = True\n",
    "    drop_block_rate: Optional[float] = None\n",
    "    drop_path_rate: Optional[float] = None\n",
    "    bn_tf: bool = False"
   ]
  },
  {
   "cell_type": "markdown",
   "metadata": {},
   "source": [
    "The config for `TimmBackboneBaseConfig` is going to look like this. We need to convert the dataclass to the Omegaconf config file and then we can use `from_config_dict` method to instantiate our class ..."
   ]
  },
  {
   "cell_type": "code",
   "execution_count": null,
   "metadata": {},
   "outputs": [
    {
     "name": "stderr",
     "output_type": "stream",
     "text": [
      "Loading pretrained weights from url (https://download.pytorch.org/models/resnet18-5c106cde.pth)\n"
     ]
    },
    {
     "data": {
      "application/javascript": [
       "\n",
       "            setTimeout(function() {\n",
       "                var nbb_cell_id = 21;\n",
       "                var nbb_unformatted_code = \"# create a config to instantiate the same backbone as above\\nconf = TimmBackboneDataClass(model_name=\\\"resnet18\\\", pretrained=True)\\nconf = OmegaConf.structured(conf)\\n\\n# we need to explicitely pass in the input_shape argument\\nm = TimmBackboneBase.from_config_dict(conf, input_shape=input_shape)\\n\\no2 = m(i)\\ntest_eq(o2.shape, torch.Size([2, 512, 7, 7]))\\n\\ntest_eq(o1.data, o2.data)\";\n",
       "                var nbb_formatted_code = \"# create a config to instantiate the same backbone as above\\nconf = TimmBackboneDataClass(model_name=\\\"resnet18\\\", pretrained=True)\\nconf = OmegaConf.structured(conf)\\n\\n# we need to explicitely pass in the input_shape argument\\nm = TimmBackboneBase.from_config_dict(conf, input_shape=input_shape)\\n\\no2 = m(i)\\ntest_eq(o2.shape, torch.Size([2, 512, 7, 7]))\\n\\ntest_eq(o1.data, o2.data)\";\n",
       "                var nbb_cells = Jupyter.notebook.get_cells();\n",
       "                for (var i = 0; i < nbb_cells.length; ++i) {\n",
       "                    if (nbb_cells[i].input_prompt_number == nbb_cell_id) {\n",
       "                        if (nbb_cells[i].get_text() == nbb_unformatted_code) {\n",
       "                             nbb_cells[i].set_text(nbb_formatted_code);\n",
       "                        }\n",
       "                        break;\n",
       "                    }\n",
       "                }\n",
       "            }, 500);\n",
       "            "
      ],
      "text/plain": [
       "<IPython.core.display.Javascript object>"
      ]
     },
     "metadata": {},
     "output_type": "display_data"
    }
   ],
   "source": [
    "# create a config to instantiate the same backbone as above\n",
    "conf = TimmBackboneDataClass(model_name=\"resnet18\", pretrained=True)\n",
    "conf = OmegaConf.structured(conf)\n",
    "\n",
    "# we need to explicitely pass in the input_shape argument\n",
    "m = TimmBackboneBase.from_config_dict(conf, input_shape=input_shape)\n",
    "\n",
    "o2 = m(i)\n",
    "test_eq(o2.shape, torch.Size([2, 512, 7, 7]))\n",
    "\n",
    "test_eq(o1.data, o2.data)"
   ]
  },
  {
   "cell_type": "markdown",
   "metadata": {},
   "source": [
    "## ResNetBackbone-"
   ]
  },
  {
   "cell_type": "code",
   "execution_count": null,
   "metadata": {},
   "outputs": [
    {
     "data": {
      "application/javascript": [
       "\n",
       "            setTimeout(function() {\n",
       "                var nbb_cell_id = 22;\n",
       "                var nbb_unformatted_code = \"# export\\nclass ResNetBackbone(ImageClassificationBackbone):\\n    \\\"\\\"\\\"\\n    A Backbone for ResNet based models from timm. Note: this class\\n    does supports all the models listed\\n    [here](https://github.com/rwightman/pytorch-image-models/blob/e8a64fb88108b592da192e98054095b1ee25e96e/timm/models/resnet.py)\\n    \\\"\\\"\\\"\\n\\n    @use_kwargs_dict(\\n        keep=True,\\n        pretrained=True,\\n        drop_block_rate=0.0,\\n        drop_path_rate=0.0,\\n    )\\n    def __init__(\\n        self,\\n        model_name: str,\\n        input_shape: ShapeSpec,\\n        act: str = None,\\n        lr: float = 1e-03,\\n        wd: float = 1e-02,\\n        lr_div: float = 100,\\n        freeze_at: int = 0,\\n        freeze_bn: bool = False,\\n        **kwargs,\\n    ):\\n        super(ResNetBackbone, self).__init__()\\n        store_attr(\\\"freeze_at, wd, lr, lr_div, input_shape, freeze_bn\\\")\\n\\n        if act is not None:\\n            act = ACTIVATION_REGISTRY.get(act)\\n\\n        model = timm.create_model(\\n            model_name,\\n            act_layer=act,\\n            global_pool=\\\"\\\",\\n            num_classes=0,\\n            in_chans=input_shape.channels,\\n            **kwargs,\\n        )\\n\\n        assert isinstance(model, ResNet), \\\"ResNetBackbone supports only ResNet models\\\"\\n        # save some of the input information from timm models\\n        self.num_features = model.num_features\\n        self.timm_model_cfg = model.default_cfg\\n\\n        # break up the model\\n        # the stem for the resnet model consists of a convolutional block, norm, act, pool\\n        stem = nn.Sequential(model.conv1, model.bn1, model.act1, model.maxpool)\\n\\n        # stages will consisit of the remaining 4 layers\\n        stages = [model.layer1, model.layer2, model.layer3, model.layer4]\\n        stages = nn.Sequential(*stages)\\n\\n        # creat the module\\n        self.resnet = nn.Sequential(stem, stages)\\n        self.prepare_model(self.resnet)\\n\\n    def forward(self, x: torch.Tensor) -> torch.Tensor:\\n        return self.resnet(x)\\n\\n    def build_param_dicts(self) -> Any:\\n        # model split according to https://github.com/fastai/fastai/blob/master/fastai/vision/learner.py\\n        p0 = {\\n            \\\"params\\\": trainable_params(self.resnet[0])\\n            + trainable_params(self.resnet[1][:3]),\\n            \\\"weight_decay\\\": self.wd,\\n        }\\n        p1 = {\\\"params\\\": trainable_params(self.resnet[1][3:]), \\\"weight_decay\\\": self.wd}\\n        ps = [p0, p1]\\n        ps, _ = build_discriminative_lrs(ps, self.lr, self.lr / self.lr_div)\\n        return self.filter_params(ps)\\n\\n    def freeze_block(self, m: nn.Module):\\n        \\\"\\\"\\\"\\n        Make this block `m` not trainable.\\n        \\\"\\\"\\\"\\n        for p in m.parameters():\\n            p.requires_grad = False\\n        m.eval()\\n\\n    def prepare_model(self, m: nn.Module):\\n        \\\"\\\"\\\"\\n        Freeze the first several stages of the `ResNet`. Commonly used in fine-tuning.\\n        \\\"\\\"\\\"\\n        if self.freeze_at >= 1:\\n            _logger.debug(\\\"Freezing stem\\\")\\n            # freeze the stem of the model\\n            self.freeze_block(m[0])\\n\\n        # freeze the blocks of the model according to\\n        # freeze_at\\n        for idx, stage in enumerate(m[1], start=2):\\n            if self.freeze_at >= idx:\\n                _logger.debug(f\\\"Freezing ResBlock {idx - 2 }\\\")\\n                for block in stage.children():\\n                    self.freeze_block(block)\\n\\n        if self.freeze_bn:\\n            set_bn_eval(m)\\n\\n    def output_shape(self) -> ShapeSpec:\\n        return ShapeSpec(self.num_features, None, None)\";\n",
       "                var nbb_formatted_code = \"# export\\nclass ResNetBackbone(ImageClassificationBackbone):\\n    \\\"\\\"\\\"\\n    A Backbone for ResNet based models from timm. Note: this class\\n    does supports all the models listed\\n    [here](https://github.com/rwightman/pytorch-image-models/blob/e8a64fb88108b592da192e98054095b1ee25e96e/timm/models/resnet.py)\\n    \\\"\\\"\\\"\\n\\n    @use_kwargs_dict(\\n        keep=True,\\n        pretrained=True,\\n        drop_block_rate=0.0,\\n        drop_path_rate=0.0,\\n    )\\n    def __init__(\\n        self,\\n        model_name: str,\\n        input_shape: ShapeSpec,\\n        act: str = None,\\n        lr: float = 1e-03,\\n        wd: float = 1e-02,\\n        lr_div: float = 100,\\n        freeze_at: int = 0,\\n        freeze_bn: bool = False,\\n        **kwargs,\\n    ):\\n        super(ResNetBackbone, self).__init__()\\n        store_attr(\\\"freeze_at, wd, lr, lr_div, input_shape, freeze_bn\\\")\\n\\n        if act is not None:\\n            act = ACTIVATION_REGISTRY.get(act)\\n\\n        model = timm.create_model(\\n            model_name,\\n            act_layer=act,\\n            global_pool=\\\"\\\",\\n            num_classes=0,\\n            in_chans=input_shape.channels,\\n            **kwargs,\\n        )\\n\\n        assert isinstance(model, ResNet), \\\"ResNetBackbone supports only ResNet models\\\"\\n        # save some of the input information from timm models\\n        self.num_features = model.num_features\\n        self.timm_model_cfg = model.default_cfg\\n\\n        # break up the model\\n        # the stem for the resnet model consists of a convolutional block, norm, act, pool\\n        stem = nn.Sequential(model.conv1, model.bn1, model.act1, model.maxpool)\\n\\n        # stages will consisit of the remaining 4 layers\\n        stages = [model.layer1, model.layer2, model.layer3, model.layer4]\\n        stages = nn.Sequential(*stages)\\n\\n        # creat the module\\n        self.resnet = nn.Sequential(stem, stages)\\n        self.prepare_model(self.resnet)\\n\\n    def forward(self, x: torch.Tensor) -> torch.Tensor:\\n        return self.resnet(x)\\n\\n    def build_param_dicts(self) -> Any:\\n        # model split according to https://github.com/fastai/fastai/blob/master/fastai/vision/learner.py\\n        p0 = {\\n            \\\"params\\\": trainable_params(self.resnet[0])\\n            + trainable_params(self.resnet[1][:3]),\\n            \\\"weight_decay\\\": self.wd,\\n        }\\n        p1 = {\\\"params\\\": trainable_params(self.resnet[1][3:]), \\\"weight_decay\\\": self.wd}\\n        ps = [p0, p1]\\n        ps, _ = build_discriminative_lrs(ps, self.lr, self.lr / self.lr_div)\\n        return self.filter_params(ps)\\n\\n    def freeze_block(self, m: nn.Module):\\n        \\\"\\\"\\\"\\n        Make this block `m` not trainable.\\n        \\\"\\\"\\\"\\n        for p in m.parameters():\\n            p.requires_grad = False\\n        m.eval()\\n\\n    def prepare_model(self, m: nn.Module):\\n        \\\"\\\"\\\"\\n        Freeze the first several stages of the `ResNet`. Commonly used in fine-tuning.\\n        \\\"\\\"\\\"\\n        if self.freeze_at >= 1:\\n            _logger.debug(\\\"Freezing stem\\\")\\n            # freeze the stem of the model\\n            self.freeze_block(m[0])\\n\\n        # freeze the blocks of the model according to\\n        # freeze_at\\n        for idx, stage in enumerate(m[1], start=2):\\n            if self.freeze_at >= idx:\\n                _logger.debug(f\\\"Freezing ResBlock {idx - 2 }\\\")\\n                for block in stage.children():\\n                    self.freeze_block(block)\\n\\n        if self.freeze_bn:\\n            set_bn_eval(m)\\n\\n    def output_shape(self) -> ShapeSpec:\\n        return ShapeSpec(self.num_features, None, None)\";\n",
       "                var nbb_cells = Jupyter.notebook.get_cells();\n",
       "                for (var i = 0; i < nbb_cells.length; ++i) {\n",
       "                    if (nbb_cells[i].input_prompt_number == nbb_cell_id) {\n",
       "                        if (nbb_cells[i].get_text() == nbb_unformatted_code) {\n",
       "                             nbb_cells[i].set_text(nbb_formatted_code);\n",
       "                        }\n",
       "                        break;\n",
       "                    }\n",
       "                }\n",
       "            }, 500);\n",
       "            "
      ],
      "text/plain": [
       "<IPython.core.display.Javascript object>"
      ]
     },
     "metadata": {},
     "output_type": "display_data"
    }
   ],
   "source": [
    "# export\n",
    "class ResNetBackbone(ImageClassificationBackbone):\n",
    "    \"\"\"\n",
    "    A Backbone for ResNet based models from timm. Note: this class\n",
    "    does supports all the models listed\n",
    "    [here](https://github.com/rwightman/pytorch-image-models/blob/e8a64fb88108b592da192e98054095b1ee25e96e/timm/models/resnet.py)\n",
    "    \"\"\"\n",
    "\n",
    "    @use_kwargs_dict(\n",
    "        keep=True,\n",
    "        pretrained=True,\n",
    "        drop_block_rate=0.0,\n",
    "        drop_path_rate=0.0,\n",
    "    )\n",
    "    def __init__(\n",
    "        self,\n",
    "        model_name: str,\n",
    "        input_shape: ShapeSpec,\n",
    "        act: str = None,\n",
    "        lr: float = 1e-03,\n",
    "        wd: float = 1e-02,\n",
    "        lr_div: float = 100,\n",
    "        freeze_at: int = 0,\n",
    "        freeze_bn: bool = False,\n",
    "        **kwargs,\n",
    "    ):\n",
    "        super(ResNetBackbone, self).__init__()\n",
    "        store_attr(\"freeze_at, wd, lr, lr_div, input_shape, freeze_bn\")\n",
    "\n",
    "        if act is not None:\n",
    "            act = ACTIVATION_REGISTRY.get(act)\n",
    "\n",
    "        model = timm.create_model(\n",
    "            model_name,\n",
    "            act_layer=act,\n",
    "            global_pool=\"\",\n",
    "            num_classes=0,\n",
    "            in_chans=input_shape.channels,\n",
    "            **kwargs,\n",
    "        )\n",
    "\n",
    "        assert isinstance(model, ResNet), \"ResNetBackbone supports only ResNet models\"\n",
    "        # save some of the input information from timm models\n",
    "        self.num_features = model.num_features\n",
    "        self.timm_model_cfg = model.default_cfg\n",
    "\n",
    "        # break up the model\n",
    "        # the stem for the resnet model consists of a convolutional block, norm, act, pool\n",
    "        stem = nn.Sequential(model.conv1, model.bn1, model.act1, model.maxpool)\n",
    "\n",
    "        # stages will consisit of the remaining 4 layers\n",
    "        stages = [model.layer1, model.layer2, model.layer3, model.layer4]\n",
    "        stages = nn.Sequential(*stages)\n",
    "\n",
    "        # creat the module\n",
    "        self.resnet = nn.Sequential(stem, stages)\n",
    "        self.prepare_model(self.resnet)\n",
    "\n",
    "    def forward(self, x: torch.Tensor) -> torch.Tensor:\n",
    "        return self.resnet(x)\n",
    "\n",
    "    def build_param_dicts(self) -> Any:\n",
    "        # model split according to https://github.com/fastai/fastai/blob/master/fastai/vision/learner.py\n",
    "        p0 = {\n",
    "            \"params\": trainable_params(self.resnet[0])\n",
    "            + trainable_params(self.resnet[1][:3]),\n",
    "            \"weight_decay\": self.wd,\n",
    "        }\n",
    "        p1 = {\"params\": trainable_params(self.resnet[1][3:]), \"weight_decay\": self.wd}\n",
    "        ps = [p0, p1]\n",
    "        ps, _ = build_discriminative_lrs(ps, self.lr, self.lr / self.lr_div)\n",
    "        return self.filter_params(ps)\n",
    "\n",
    "    def freeze_block(self, m: nn.Module):\n",
    "        \"\"\"\n",
    "        Make this block `m` not trainable.\n",
    "        \"\"\"\n",
    "        for p in m.parameters():\n",
    "            p.requires_grad = False\n",
    "        m.eval()\n",
    "\n",
    "    def prepare_model(self, m: nn.Module):\n",
    "        \"\"\"\n",
    "        Freeze the first several stages of the `ResNet`. Commonly used in fine-tuning.\n",
    "        \"\"\"\n",
    "        if self.freeze_at >= 1:\n",
    "            _logger.debug(\"Freezing stem\")\n",
    "            # freeze the stem of the model\n",
    "            self.freeze_block(m[0])\n",
    "\n",
    "        # freeze the blocks of the model according to\n",
    "        # freeze_at\n",
    "        for idx, stage in enumerate(m[1], start=2):\n",
    "            if self.freeze_at >= idx:\n",
    "                _logger.debug(f\"Freezing ResBlock {idx - 2 }\")\n",
    "                for block in stage.children():\n",
    "                    self.freeze_block(block)\n",
    "\n",
    "        if self.freeze_bn:\n",
    "            set_bn_eval(m)\n",
    "\n",
    "    def output_shape(self) -> ShapeSpec:\n",
    "        return ShapeSpec(self.num_features, None, None)"
   ]
  },
  {
   "cell_type": "markdown",
   "metadata": {},
   "source": [
    "**Arguments to `ResNetBackbone`**:\n",
    "- `input_shape` (ShapeSpec): Shape of the Inputs\n",
    "- `model_name` (str): name of model to instantiate.\n",
    "- `act` (str): name of the activation function to use. If None uses the default activations else the name must be in `ACTIVATION_REGISTRY`.\n",
    "- `lr` (float): learning rate for the modules.\n",
    "- `lr_div` (int, float): factor for discriminative lrs.   \n",
    "- `wd` (float): weight decay for the modules.\n",
    "- `freeze_at` (int): Freeze the first several stages of the ResNet. Commonly used in fine-tuning. `1` means freezing the stem. `2` means freezing the stem and one residual stage, etc.\n",
    "- `pretrained` (bool): load pretrained ImageNet-1k weights if true.\n",
    "- `drop_block_rate` (float): Drop block rate.\n",
    "- `drop_path_rate` (float): Drop path rate.\n",
    "- `bn_tf` (bool): Use Tensorflow BatchNorm defaults for models that support it.\n",
    "- `kwargs` (optional): Optional kwargs passed onto `timm.create_model()`"
   ]
  },
  {
   "cell_type": "markdown",
   "metadata": {},
   "source": [
    "`ResNetBackbone` is a `ImageClassificationBackbone` class that is resposible to converting ResNet based models into a appropriate backbone for Image Classification tasks. \n",
    "\n",
    "Note that each resnet block at 1 stem and 4 convolutional blocks in the model. You can freeze some or all of these blocks by setting `freeze_at`. If `0` then the whole model is traininable. `1` freezes only the stem, `2` freezes the stem and a block and so on. We also train the ResNet model using discriminative Lr's for finetuning.\n",
    "So the 3 and 4 blocks are trained with a learning rate of `lr` and the stem, 1 block, 2 block are trained with learning rates `lr`/`lr_div`. Weight decay `wd` is applied to the whole model."
   ]
  },
  {
   "cell_type": "code",
   "execution_count": null,
   "metadata": {},
   "outputs": [
    {
     "data": {
      "text/markdown": [
       "<h4 id=\"ResNetBackbone.prepare_model\" class=\"doc_header\"><code>ResNetBackbone.prepare_model</code><a href=\"__main__.py#L82\" class=\"source_link\" style=\"float:right\">[source]</a></h4>\n",
       "\n",
       "> <code>ResNetBackbone.prepare_model</code>(**`m`**:`Module`)\n",
       "\n",
       "Freeze the first several stages of the `ResNet`. Commonly used in fine-tuning."
      ],
      "text/plain": [
       "<IPython.core.display.Markdown object>"
      ]
     },
     "metadata": {},
     "output_type": "display_data"
    },
    {
     "data": {
      "application/javascript": [
       "\n",
       "            setTimeout(function() {\n",
       "                var nbb_cell_id = 23;\n",
       "                var nbb_unformatted_code = \"show_doc(ResNetBackbone.prepare_model)\";\n",
       "                var nbb_formatted_code = \"show_doc(ResNetBackbone.prepare_model)\";\n",
       "                var nbb_cells = Jupyter.notebook.get_cells();\n",
       "                for (var i = 0; i < nbb_cells.length; ++i) {\n",
       "                    if (nbb_cells[i].input_prompt_number == nbb_cell_id) {\n",
       "                        if (nbb_cells[i].get_text() == nbb_unformatted_code) {\n",
       "                             nbb_cells[i].set_text(nbb_formatted_code);\n",
       "                        }\n",
       "                        break;\n",
       "                    }\n",
       "                }\n",
       "            }, 500);\n",
       "            "
      ],
      "text/plain": [
       "<IPython.core.display.Javascript object>"
      ]
     },
     "metadata": {},
     "output_type": "display_data"
    }
   ],
   "source": [
    "show_doc(ResNetBackbone.prepare_model)"
   ]
  },
  {
   "cell_type": "code",
   "execution_count": null,
   "metadata": {},
   "outputs": [
    {
     "data": {
      "text/markdown": [
       "<h4 id=\"ResNetBackbone.freeze_block\" class=\"doc_header\"><code>ResNetBackbone.freeze_block</code><a href=\"__main__.py#L74\" class=\"source_link\" style=\"float:right\">[source]</a></h4>\n",
       "\n",
       "> <code>ResNetBackbone.freeze_block</code>(**`m`**:`Module`)\n",
       "\n",
       "Make this block `m` not trainable."
      ],
      "text/plain": [
       "<IPython.core.display.Markdown object>"
      ]
     },
     "metadata": {},
     "output_type": "display_data"
    },
    {
     "data": {
      "application/javascript": [
       "\n",
       "            setTimeout(function() {\n",
       "                var nbb_cell_id = 24;\n",
       "                var nbb_unformatted_code = \"show_doc(ResNetBackbone.freeze_block)\";\n",
       "                var nbb_formatted_code = \"show_doc(ResNetBackbone.freeze_block)\";\n",
       "                var nbb_cells = Jupyter.notebook.get_cells();\n",
       "                for (var i = 0; i < nbb_cells.length; ++i) {\n",
       "                    if (nbb_cells[i].input_prompt_number == nbb_cell_id) {\n",
       "                        if (nbb_cells[i].get_text() == nbb_unformatted_code) {\n",
       "                             nbb_cells[i].set_text(nbb_formatted_code);\n",
       "                        }\n",
       "                        break;\n",
       "                    }\n",
       "                }\n",
       "            }, 500);\n",
       "            "
      ],
      "text/plain": [
       "<IPython.core.display.Javascript object>"
      ]
     },
     "metadata": {},
     "output_type": "display_data"
    }
   ],
   "source": [
    "show_doc(ResNetBackbone.freeze_block)"
   ]
  },
  {
   "cell_type": "markdown",
   "metadata": {},
   "source": [
    "### Dataclass"
   ]
  },
  {
   "cell_type": "markdown",
   "metadata": {},
   "source": [
    "This class can be instantiated from a config as follows - "
   ]
  },
  {
   "cell_type": "code",
   "execution_count": null,
   "metadata": {},
   "outputs": [
    {
     "data": {
      "application/javascript": [
       "\n",
       "            setTimeout(function() {\n",
       "                var nbb_cell_id = 25;\n",
       "                var nbb_unformatted_code = \"# export\\n@dataclass\\nclass ResNetBackboneDataClass:\\n    \\\"\\\"\\\"\\n    Base config file for `ResNetBackbone`\\n    \\\"\\\"\\\"\\n\\n    model_name: str = MISSING\\n    act: Optional[str] = None\\n    lr: Any = 1e-03\\n    lr_div: Any = 10\\n    wd: Any = 0.0\\n    freeze_at: int = 0\\n    pretrained: bool = True\\n    drop_block_rate: Optional[float] = None\\n    drop_path_rate: Optional[float] = None\\n    bn_tf: bool = False\";\n",
       "                var nbb_formatted_code = \"# export\\n@dataclass\\nclass ResNetBackboneDataClass:\\n    \\\"\\\"\\\"\\n    Base config file for `ResNetBackbone`\\n    \\\"\\\"\\\"\\n\\n    model_name: str = MISSING\\n    act: Optional[str] = None\\n    lr: Any = 1e-03\\n    lr_div: Any = 10\\n    wd: Any = 0.0\\n    freeze_at: int = 0\\n    pretrained: bool = True\\n    drop_block_rate: Optional[float] = None\\n    drop_path_rate: Optional[float] = None\\n    bn_tf: bool = False\";\n",
       "                var nbb_cells = Jupyter.notebook.get_cells();\n",
       "                for (var i = 0; i < nbb_cells.length; ++i) {\n",
       "                    if (nbb_cells[i].input_prompt_number == nbb_cell_id) {\n",
       "                        if (nbb_cells[i].get_text() == nbb_unformatted_code) {\n",
       "                             nbb_cells[i].set_text(nbb_formatted_code);\n",
       "                        }\n",
       "                        break;\n",
       "                    }\n",
       "                }\n",
       "            }, 500);\n",
       "            "
      ],
      "text/plain": [
       "<IPython.core.display.Javascript object>"
      ]
     },
     "metadata": {},
     "output_type": "display_data"
    }
   ],
   "source": [
    "# export\n",
    "@dataclass\n",
    "class ResNetBackboneDataClass:\n",
    "    \"\"\"\n",
    "    Base config file for `ResNetBackbone`\n",
    "    \"\"\"\n",
    "\n",
    "    model_name: str = MISSING\n",
    "    act: Optional[str] = None\n",
    "    lr: Any = 1e-03\n",
    "    lr_div: Any = 10\n",
    "    wd: Any = 0.0\n",
    "    freeze_at: int = 0\n",
    "    pretrained: bool = True\n",
    "    drop_block_rate: Optional[float] = None\n",
    "    drop_path_rate: Optional[float] = None\n",
    "    bn_tf: bool = False"
   ]
  },
  {
   "cell_type": "code",
   "execution_count": null,
   "metadata": {},
   "outputs": [
    {
     "name": "stderr",
     "output_type": "stream",
     "text": [
      "Loading pretrained weights from url (https://github.com/rwightman/pytorch-image-models/releases/download/v0.1-weights/resnet34-43635321.pth)\n"
     ]
    },
    {
     "data": {
      "application/javascript": [
       "\n",
       "            setTimeout(function() {\n",
       "                var nbb_cell_id = 26;\n",
       "                var nbb_unformatted_code = \"# create config from OmegaConf using `ResNetBackboneConfig` dataclass\\nconf = OmegaConf.structured(ResNetBackboneDataClass(model_name=\\\"resnet34\\\"))\\n# instantiate cls from config\\nm = ResNetBackbone.from_config_dict(conf, input_shape=input_shape)\";\n",
       "                var nbb_formatted_code = \"# create config from OmegaConf using `ResNetBackboneConfig` dataclass\\nconf = OmegaConf.structured(ResNetBackboneDataClass(model_name=\\\"resnet34\\\"))\\n# instantiate cls from config\\nm = ResNetBackbone.from_config_dict(conf, input_shape=input_shape)\";\n",
       "                var nbb_cells = Jupyter.notebook.get_cells();\n",
       "                for (var i = 0; i < nbb_cells.length; ++i) {\n",
       "                    if (nbb_cells[i].input_prompt_number == nbb_cell_id) {\n",
       "                        if (nbb_cells[i].get_text() == nbb_unformatted_code) {\n",
       "                             nbb_cells[i].set_text(nbb_formatted_code);\n",
       "                        }\n",
       "                        break;\n",
       "                    }\n",
       "                }\n",
       "            }, 500);\n",
       "            "
      ],
      "text/plain": [
       "<IPython.core.display.Javascript object>"
      ]
     },
     "metadata": {},
     "output_type": "display_data"
    }
   ],
   "source": [
    "# create config from OmegaConf using `ResNetBackboneConfig` dataclass\n",
    "conf = OmegaConf.structured(ResNetBackboneDataClass(model_name=\"resnet34\"))\n",
    "# instantiate cls from config\n",
    "m = ResNetBackbone.from_config_dict(conf, input_shape=input_shape)"
   ]
  },
  {
   "cell_type": "markdown",
   "metadata": {},
   "source": [
    "## Export -"
   ]
  },
  {
   "cell_type": "code",
   "execution_count": null,
   "metadata": {},
   "outputs": [
    {
     "name": "stdout",
     "output_type": "stream",
     "text": [
      "Converted 04_classification.models.backbones.ipynb.\n"
     ]
    },
    {
     "data": {
      "application/javascript": [
       "\n",
       "            setTimeout(function() {\n",
       "                var nbb_cell_id = 27;\n",
       "                var nbb_unformatted_code = \"# hide\\nnotebook2script(\\\"04_classification.models.backbones.ipynb\\\")\";\n",
       "                var nbb_formatted_code = \"# hide\\nnotebook2script(\\\"04_classification.models.backbones.ipynb\\\")\";\n",
       "                var nbb_cells = Jupyter.notebook.get_cells();\n",
       "                for (var i = 0; i < nbb_cells.length; ++i) {\n",
       "                    if (nbb_cells[i].input_prompt_number == nbb_cell_id) {\n",
       "                        if (nbb_cells[i].get_text() == nbb_unformatted_code) {\n",
       "                             nbb_cells[i].set_text(nbb_formatted_code);\n",
       "                        }\n",
       "                        break;\n",
       "                    }\n",
       "                }\n",
       "            }, 500);\n",
       "            "
      ],
      "text/plain": [
       "<IPython.core.display.Javascript object>"
      ]
     },
     "metadata": {},
     "output_type": "display_data"
    }
   ],
   "source": [
    "# hide\n",
    "notebook2script(\"04_classification.models.backbones.ipynb\")"
   ]
  },
  {
   "cell_type": "code",
   "execution_count": null,
   "metadata": {},
   "outputs": [],
   "source": []
  }
 ],
 "metadata": {
  "kernelspec": {
   "display_name": "gale_dev",
   "language": "python",
   "name": "gale_dev"
  }
 },
 "nbformat": 4,
 "nbformat_minor": 4
}
