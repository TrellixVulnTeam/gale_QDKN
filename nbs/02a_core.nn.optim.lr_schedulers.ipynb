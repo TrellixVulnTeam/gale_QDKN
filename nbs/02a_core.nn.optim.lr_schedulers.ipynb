{
 "cells": [
  {
   "cell_type": "code",
   "execution_count": null,
   "metadata": {},
   "outputs": [],
   "source": [
    "# default_exp core.nn.optim.lr_schedulers"
   ]
  },
  {
   "cell_type": "code",
   "execution_count": null,
   "metadata": {},
   "outputs": [
    {
     "data": {
      "application/javascript": [
       "\n",
       "            setTimeout(function() {\n",
       "                var nbb_cell_id = 2;\n",
       "                var nbb_unformatted_code = \"%load_ext nb_black\\n%load_ext autoreload\\n%autoreload 2\";\n",
       "                var nbb_formatted_code = \"%load_ext nb_black\\n%load_ext autoreload\\n%autoreload 2\";\n",
       "                var nbb_cells = Jupyter.notebook.get_cells();\n",
       "                for (var i = 0; i < nbb_cells.length; ++i) {\n",
       "                    if (nbb_cells[i].input_prompt_number == nbb_cell_id) {\n",
       "                        if (nbb_cells[i].get_text() == nbb_unformatted_code) {\n",
       "                             nbb_cells[i].set_text(nbb_formatted_code);\n",
       "                        }\n",
       "                        break;\n",
       "                    }\n",
       "                }\n",
       "            }, 500);\n",
       "            "
      ],
      "text/plain": [
       "<IPython.core.display.Javascript object>"
      ]
     },
     "metadata": {},
     "output_type": "display_data"
    }
   ],
   "source": [
    "%load_ext nb_black\n",
    "%load_ext autoreload\n",
    "%autoreload 2"
   ]
  },
  {
   "cell_type": "code",
   "execution_count": null,
   "metadata": {},
   "outputs": [
    {
     "data": {
      "application/javascript": [
       "\n",
       "            setTimeout(function() {\n",
       "                var nbb_cell_id = 3;\n",
       "                var nbb_unformatted_code = \"# hide\\nfrom nbdev.export import *\\nfrom nbdev.imports import Config as NbdevConfig\\nfrom nbdev.showdoc import *\\n\\nnbdev_path = NbdevConfig().path(\\\"nbs_path\\\")\";\n",
       "                var nbb_formatted_code = \"# hide\\nfrom nbdev.export import *\\nfrom nbdev.imports import Config as NbdevConfig\\nfrom nbdev.showdoc import *\\n\\nnbdev_path = NbdevConfig().path(\\\"nbs_path\\\")\";\n",
       "                var nbb_cells = Jupyter.notebook.get_cells();\n",
       "                for (var i = 0; i < nbb_cells.length; ++i) {\n",
       "                    if (nbb_cells[i].input_prompt_number == nbb_cell_id) {\n",
       "                        if (nbb_cells[i].get_text() == nbb_unformatted_code) {\n",
       "                             nbb_cells[i].set_text(nbb_formatted_code);\n",
       "                        }\n",
       "                        break;\n",
       "                    }\n",
       "                }\n",
       "            }, 500);\n",
       "            "
      ],
      "text/plain": [
       "<IPython.core.display.Javascript object>"
      ]
     },
     "metadata": {},
     "output_type": "display_data"
    }
   ],
   "source": [
    "# hide\n",
    "from nbdev.export import *\n",
    "from nbdev.imports import Config as NbdevConfig\n",
    "from nbdev.showdoc import *\n",
    "\n",
    "nbdev_path = NbdevConfig().path(\"nbs_path\")"
   ]
  },
  {
   "cell_type": "markdown",
   "metadata": {},
   "source": [
    "# Learning Rate Schedules\n",
    "> LRSchedulers to scheduler learning rate"
   ]
  },
  {
   "cell_type": "code",
   "execution_count": null,
   "metadata": {},
   "outputs": [
    {
     "data": {
      "application/javascript": [
       "\n",
       "            setTimeout(function() {\n",
       "                var nbb_cell_id = 4;\n",
       "                var nbb_unformatted_code = \"# export\\nfrom typing import *\\n\\nimport torch\\nfrom fvcore.common.param_scheduler import *\\nfrom torch.optim import Optimizer\\n\\n# fmt: off\\nfrom torch.optim.lr_scheduler import (CosineAnnealingWarmRestarts, MultiStepLR,\\n                                      OneCycleLR, ReduceLROnPlateau, StepLR)\\n\\n# from gale.core.structures import SCHEDULER_REGISTRY\";\n",
       "                var nbb_formatted_code = \"# export\\nfrom typing import *\\n\\nimport torch\\nfrom fvcore.common.param_scheduler import *\\nfrom torch.optim import Optimizer\\n\\n# fmt: off\\nfrom torch.optim.lr_scheduler import (CosineAnnealingWarmRestarts, MultiStepLR,\\n                                      OneCycleLR, ReduceLROnPlateau, StepLR)\\n\\n# from gale.core.structures import SCHEDULER_REGISTRY\";\n",
       "                var nbb_cells = Jupyter.notebook.get_cells();\n",
       "                for (var i = 0; i < nbb_cells.length; ++i) {\n",
       "                    if (nbb_cells[i].input_prompt_number == nbb_cell_id) {\n",
       "                        if (nbb_cells[i].get_text() == nbb_unformatted_code) {\n",
       "                             nbb_cells[i].set_text(nbb_formatted_code);\n",
       "                        }\n",
       "                        break;\n",
       "                    }\n",
       "                }\n",
       "            }, 500);\n",
       "            "
      ],
      "text/plain": [
       "<IPython.core.display.Javascript object>"
      ]
     },
     "metadata": {},
     "output_type": "display_data"
    }
   ],
   "source": [
    "# export\n",
    "from typing import *\n",
    "\n",
    "import torch\n",
    "from fvcore.common.param_scheduler import *\n",
    "from torch.optim import Optimizer\n",
    "\n",
    "# fmt: off\n",
    "from torch.optim.lr_scheduler import (CosineAnnealingWarmRestarts, MultiStepLR,\n",
    "                                      OneCycleLR, ReduceLROnPlateau, StepLR)\n",
    "\n",
    "# from gale.core.structures import SCHEDULER_REGISTRY"
   ]
  },
  {
   "cell_type": "code",
   "execution_count": null,
   "metadata": {},
   "outputs": [
    {
     "data": {
      "application/javascript": [
       "\n",
       "            setTimeout(function() {\n",
       "                var nbb_cell_id = 5;\n",
       "                var nbb_unformatted_code = \"from gale.core.nn.optim.optimizers import Adam\\nimport matplotlib.pyplot as plt\";\n",
       "                var nbb_formatted_code = \"from gale.core.nn.optim.optimizers import Adam\\nimport matplotlib.pyplot as plt\";\n",
       "                var nbb_cells = Jupyter.notebook.get_cells();\n",
       "                for (var i = 0; i < nbb_cells.length; ++i) {\n",
       "                    if (nbb_cells[i].input_prompt_number == nbb_cell_id) {\n",
       "                        if (nbb_cells[i].get_text() == nbb_unformatted_code) {\n",
       "                             nbb_cells[i].set_text(nbb_formatted_code);\n",
       "                        }\n",
       "                        break;\n",
       "                    }\n",
       "                }\n",
       "            }, 500);\n",
       "            "
      ],
      "text/plain": [
       "<IPython.core.display.Javascript object>"
      ]
     },
     "metadata": {},
     "output_type": "display_data"
    }
   ],
   "source": [
    "from gale.core.nn.optim.optimizers import Adam\n",
    "import matplotlib.pyplot as plt"
   ]
  },
  {
   "cell_type": "code",
   "execution_count": null,
   "metadata": {},
   "outputs": [
    {
     "data": {
      "application/javascript": [
       "\n",
       "            setTimeout(function() {\n",
       "                var nbb_cell_id = 6;\n",
       "                var nbb_unformatted_code = \"# export\\n# fmt: off\\n_all_ = [\\\"CosineAnnealingWarmRestarts\\\", \\\"OneCycleLR\\\", \\\"ReduceLROnPlateau\\\", \\\"StepLR\\\", \\\"MultiStepLR\\\"]\\n# fmt: on\";\n",
       "                var nbb_formatted_code = \"# export\\n# fmt: off\\n_all_ = [\\\"CosineAnnealingWarmRestarts\\\", \\\"OneCycleLR\\\", \\\"ReduceLROnPlateau\\\", \\\"StepLR\\\", \\\"MultiStepLR\\\"]\\n# fmt: on\";\n",
       "                var nbb_cells = Jupyter.notebook.get_cells();\n",
       "                for (var i = 0; i < nbb_cells.length; ++i) {\n",
       "                    if (nbb_cells[i].input_prompt_number == nbb_cell_id) {\n",
       "                        if (nbb_cells[i].get_text() == nbb_unformatted_code) {\n",
       "                             nbb_cells[i].set_text(nbb_formatted_code);\n",
       "                        }\n",
       "                        break;\n",
       "                    }\n",
       "                }\n",
       "            }, 500);\n",
       "            "
      ],
      "text/plain": [
       "<IPython.core.display.Javascript object>"
      ]
     },
     "metadata": {},
     "output_type": "display_data"
    }
   ],
   "source": [
    "# export\n",
    "# fmt: off\n",
    "_all_ = [\"CosineAnnealingWarmRestarts\", \"OneCycleLR\", \"ReduceLROnPlateau\", \"StepLR\", \"MultiStepLR\"]\n",
    "# fmt: on"
   ]
  },
  {
   "cell_type": "code",
   "execution_count": null,
   "metadata": {},
   "outputs": [
    {
     "data": {
      "application/javascript": [
       "\n",
       "            setTimeout(function() {\n",
       "                var nbb_cell_id = 7;\n",
       "                var nbb_unformatted_code = \"# # export\\n# _torch_meta = [OneCycleLR, CosineAnnealingWarmRestarts, StepLR, MultiStepLR]\\n# for o in _torch_meta:\\n#     SCHEDULER_REGISTRY.register(o)\";\n",
       "                var nbb_formatted_code = \"# # export\\n# _torch_meta = [OneCycleLR, CosineAnnealingWarmRestarts, StepLR, MultiStepLR]\\n# for o in _torch_meta:\\n#     SCHEDULER_REGISTRY.register(o)\";\n",
       "                var nbb_cells = Jupyter.notebook.get_cells();\n",
       "                for (var i = 0; i < nbb_cells.length; ++i) {\n",
       "                    if (nbb_cells[i].input_prompt_number == nbb_cell_id) {\n",
       "                        if (nbb_cells[i].get_text() == nbb_unformatted_code) {\n",
       "                             nbb_cells[i].set_text(nbb_formatted_code);\n",
       "                        }\n",
       "                        break;\n",
       "                    }\n",
       "                }\n",
       "            }, 500);\n",
       "            "
      ],
      "text/plain": [
       "<IPython.core.display.Javascript object>"
      ]
     },
     "metadata": {},
     "output_type": "display_data"
    }
   ],
   "source": [
    "# # export\n",
    "# _torch_meta = [OneCycleLR, CosineAnnealingWarmRestarts, StepLR, MultiStepLR]\n",
    "# for o in _torch_meta:\n",
    "#     SCHEDULER_REGISTRY.register(o)"
   ]
  },
  {
   "cell_type": "code",
   "execution_count": null,
   "metadata": {},
   "outputs": [
    {
     "data": {
      "application/javascript": [
       "\n",
       "            setTimeout(function() {\n",
       "                var nbb_cell_id = 8;\n",
       "                var nbb_unformatted_code = \"# mock training parameters\\nepoch: int = 10\\nbatch_nb: int = 10\\nmax_steps: int = epoch * batch_nb\\n\\n# mock model\\nmodel = [torch.nn.Parameter(torch.randn(2, 2, requires_grad=True))]\\n\\n# mock optimizer\\noptim = Adam(model, lr=1e-04)\";\n",
       "                var nbb_formatted_code = \"# mock training parameters\\nepoch: int = 10\\nbatch_nb: int = 10\\nmax_steps: int = epoch * batch_nb\\n\\n# mock model\\nmodel = [torch.nn.Parameter(torch.randn(2, 2, requires_grad=True))]\\n\\n# mock optimizer\\noptim = Adam(model, lr=1e-04)\";\n",
       "                var nbb_cells = Jupyter.notebook.get_cells();\n",
       "                for (var i = 0; i < nbb_cells.length; ++i) {\n",
       "                    if (nbb_cells[i].input_prompt_number == nbb_cell_id) {\n",
       "                        if (nbb_cells[i].get_text() == nbb_unformatted_code) {\n",
       "                             nbb_cells[i].set_text(nbb_formatted_code);\n",
       "                        }\n",
       "                        break;\n",
       "                    }\n",
       "                }\n",
       "            }, 500);\n",
       "            "
      ],
      "text/plain": [
       "<IPython.core.display.Javascript object>"
      ]
     },
     "metadata": {},
     "output_type": "display_data"
    }
   ],
   "source": [
    "# mock training parameters\n",
    "epoch: int = 10\n",
    "batch_nb: int = 10\n",
    "max_steps: int = epoch * batch_nb\n",
    "\n",
    "# mock model\n",
    "model = [torch.nn.Parameter(torch.randn(2, 2, requires_grad=True))]\n",
    "\n",
    "# mock optimizer\n",
    "optim = Adam(model, lr=1e-04)"
   ]
  },
  {
   "cell_type": "code",
   "execution_count": null,
   "metadata": {},
   "outputs": [
    {
     "data": {
      "application/javascript": [
       "\n",
       "            setTimeout(function() {\n",
       "                var nbb_cell_id = 9;\n",
       "                var nbb_unformatted_code = \"# export\\nclass LRMultiplier(torch.optim.lr_scheduler._LRScheduler):\\n    \\\"\\\"\\\"\\n    A LRScheduler which uses fvcore  `ParamScheduler` to multiply the\\n    learning rate of each param in the optimizer.\\n    Every step, the learning rate of each parameter becomes its initial value\\n    multiplied by the output of the given `ParamScheduler`.\\n    The absolute learning rate value of each parameter can be different.\\n    This scheduler can be used as long as the relative scale among them do\\n    not change during training.\\n\\n    Source: https://github.com/facebookresearch/detectron2/blob/master/detectron2/solver/lr_scheduler.py\\n    \\\"\\\"\\\"\\n\\n    # NOTES: in the most general case, every LR can use its own scheduler.\\n    # Supporting this requires interaction with the optimizer when its parameter\\n    # group is initialized. For example, classyvision implements its own optimizer\\n    # that allows different schedulers for every parameter group.\\n    # To avoid this complexity, we use this class to support the most common cases\\n    # where the relative scale among all LRs stay unchanged during training.  In this\\n    # case we only need a total of one scheduler that defines the relative LR multiplier.\\n\\n    def __init__(\\n        self,\\n        optimizer: Optimizer,\\n        multiplier: ParamScheduler,\\n        max_iter: int,\\n        last_iter: int = -1,\\n    ):\\n        \\\"\\\"\\\"\\n        Args:\\n            optimizer, last_iter: See ``torch.optim.lr_scheduler._LRScheduler``.\\n                ``last_iter`` is the same as ``last_epoch``.\\n            multiplier: a fvcore ParamScheduler that defines the multiplier on\\n                every LR of the optimizer\\n            max_iter: the total number of training iterations\\n        \\\"\\\"\\\"\\n        if not isinstance(multiplier, ParamScheduler):\\n            raise ValueError(\\n                \\\"_LRMultiplier(multiplier=) must be an instance of fvcore \\\"\\n                f\\\"ParamScheduler. Got {multiplier} instead.\\\"\\n            )\\n        self._multiplier = multiplier\\n        self._max_iter = max_iter\\n        super().__init__(optimizer, last_epoch=last_iter)\\n\\n    def state_dict(self):\\n        # fvcore schedulers are stateless. Only keep pytorch scheduler states\\n        return {\\\"base_lrs\\\": self.base_lrs, \\\"last_epoch\\\": self.last_epoch}\\n\\n    def get_lr(self) -> List[float]:\\n        multiplier = self._multiplier(self.last_epoch / self._max_iter)\\n        return [base_lr * multiplier for base_lr in self.base_lrs]\";\n",
       "                var nbb_formatted_code = \"# export\\nclass LRMultiplier(torch.optim.lr_scheduler._LRScheduler):\\n    \\\"\\\"\\\"\\n    A LRScheduler which uses fvcore  `ParamScheduler` to multiply the\\n    learning rate of each param in the optimizer.\\n    Every step, the learning rate of each parameter becomes its initial value\\n    multiplied by the output of the given `ParamScheduler`.\\n    The absolute learning rate value of each parameter can be different.\\n    This scheduler can be used as long as the relative scale among them do\\n    not change during training.\\n\\n    Source: https://github.com/facebookresearch/detectron2/blob/master/detectron2/solver/lr_scheduler.py\\n    \\\"\\\"\\\"\\n\\n    # NOTES: in the most general case, every LR can use its own scheduler.\\n    # Supporting this requires interaction with the optimizer when its parameter\\n    # group is initialized. For example, classyvision implements its own optimizer\\n    # that allows different schedulers for every parameter group.\\n    # To avoid this complexity, we use this class to support the most common cases\\n    # where the relative scale among all LRs stay unchanged during training.  In this\\n    # case we only need a total of one scheduler that defines the relative LR multiplier.\\n\\n    def __init__(\\n        self,\\n        optimizer: Optimizer,\\n        multiplier: ParamScheduler,\\n        max_iter: int,\\n        last_iter: int = -1,\\n    ):\\n        \\\"\\\"\\\"\\n        Args:\\n            optimizer, last_iter: See ``torch.optim.lr_scheduler._LRScheduler``.\\n                ``last_iter`` is the same as ``last_epoch``.\\n            multiplier: a fvcore ParamScheduler that defines the multiplier on\\n                every LR of the optimizer\\n            max_iter: the total number of training iterations\\n        \\\"\\\"\\\"\\n        if not isinstance(multiplier, ParamScheduler):\\n            raise ValueError(\\n                \\\"_LRMultiplier(multiplier=) must be an instance of fvcore \\\"\\n                f\\\"ParamScheduler. Got {multiplier} instead.\\\"\\n            )\\n        self._multiplier = multiplier\\n        self._max_iter = max_iter\\n        super().__init__(optimizer, last_epoch=last_iter)\\n\\n    def state_dict(self):\\n        # fvcore schedulers are stateless. Only keep pytorch scheduler states\\n        return {\\\"base_lrs\\\": self.base_lrs, \\\"last_epoch\\\": self.last_epoch}\\n\\n    def get_lr(self) -> List[float]:\\n        multiplier = self._multiplier(self.last_epoch / self._max_iter)\\n        return [base_lr * multiplier for base_lr in self.base_lrs]\";\n",
       "                var nbb_cells = Jupyter.notebook.get_cells();\n",
       "                for (var i = 0; i < nbb_cells.length; ++i) {\n",
       "                    if (nbb_cells[i].input_prompt_number == nbb_cell_id) {\n",
       "                        if (nbb_cells[i].get_text() == nbb_unformatted_code) {\n",
       "                             nbb_cells[i].set_text(nbb_formatted_code);\n",
       "                        }\n",
       "                        break;\n",
       "                    }\n",
       "                }\n",
       "            }, 500);\n",
       "            "
      ],
      "text/plain": [
       "<IPython.core.display.Javascript object>"
      ]
     },
     "metadata": {},
     "output_type": "display_data"
    }
   ],
   "source": [
    "# export\n",
    "class LRMultiplier(torch.optim.lr_scheduler._LRScheduler):\n",
    "    \"\"\"\n",
    "    A LRScheduler which uses fvcore  `ParamScheduler` to multiply the\n",
    "    learning rate of each param in the optimizer.\n",
    "    Every step, the learning rate of each parameter becomes its initial value\n",
    "    multiplied by the output of the given `ParamScheduler`.\n",
    "    The absolute learning rate value of each parameter can be different.\n",
    "    This scheduler can be used as long as the relative scale among them do\n",
    "    not change during training.\n",
    "\n",
    "    Source: https://github.com/facebookresearch/detectron2/blob/master/detectron2/solver/lr_scheduler.py\n",
    "    \"\"\"\n",
    "\n",
    "    # NOTES: in the most general case, every LR can use its own scheduler.\n",
    "    # Supporting this requires interaction with the optimizer when its parameter\n",
    "    # group is initialized. For example, classyvision implements its own optimizer\n",
    "    # that allows different schedulers for every parameter group.\n",
    "    # To avoid this complexity, we use this class to support the most common cases\n",
    "    # where the relative scale among all LRs stay unchanged during training.  In this\n",
    "    # case we only need a total of one scheduler that defines the relative LR multiplier.\n",
    "\n",
    "    def __init__(\n",
    "        self,\n",
    "        optimizer: Optimizer,\n",
    "        multiplier: ParamScheduler,\n",
    "        max_iter: int,\n",
    "        last_iter: int = -1,\n",
    "    ):\n",
    "        \"\"\"\n",
    "        Args:\n",
    "            optimizer, last_iter: See ``torch.optim.lr_scheduler._LRScheduler``.\n",
    "                ``last_iter`` is the same as ``last_epoch``.\n",
    "            multiplier: a fvcore ParamScheduler that defines the multiplier on\n",
    "                every LR of the optimizer\n",
    "            max_iter: the total number of training iterations\n",
    "        \"\"\"\n",
    "        if not isinstance(multiplier, ParamScheduler):\n",
    "            raise ValueError(\n",
    "                \"_LRMultiplier(multiplier=) must be an instance of fvcore \"\n",
    "                f\"ParamScheduler. Got {multiplier} instead.\"\n",
    "            )\n",
    "        self._multiplier = multiplier\n",
    "        self._max_iter = max_iter\n",
    "        super().__init__(optimizer, last_epoch=last_iter)\n",
    "\n",
    "    def state_dict(self):\n",
    "        # fvcore schedulers are stateless. Only keep pytorch scheduler states\n",
    "        return {\"base_lrs\": self.base_lrs, \"last_epoch\": self.last_epoch}\n",
    "\n",
    "    def get_lr(self) -> List[float]:\n",
    "        multiplier = self._multiplier(self.last_epoch / self._max_iter)\n",
    "        return [base_lr * multiplier for base_lr in self.base_lrs]"
   ]
  },
  {
   "cell_type": "code",
   "execution_count": null,
   "metadata": {},
   "outputs": [
    {
     "data": {
      "application/javascript": [
       "\n",
       "            setTimeout(function() {\n",
       "                var nbb_cell_id = 11;\n",
       "                var nbb_unformatted_code = \"# export\\n#@SCHEDULER_REGISTRY.register()\\ndef CosineLR(\\n    optim: Optimizer, max_iters: int, start_value: int = 1, end_value: int = 0\\n):\\n    \\\"\\\"\\\"\\n    Cosine decay or cosine warmup schedules based on start and end values.\\n    These values are relative to the values of your LR's.\\n    This scheduler is meant to be called after each \\\"training step\\\" .\\n    \\\"\\\"\\\"\\n    param_sched = CosineParamScheduler(start_value, end_value)\\n    scheduler = LRMultiplier(optim, max_iter=max_steps, multiplier=param_sched)\\n    return scheduler\";\n",
       "                var nbb_formatted_code = \"# export\\n# @SCHEDULER_REGISTRY.register()\\ndef CosineLR(\\n    optim: Optimizer, max_iters: int, start_value: int = 1, end_value: int = 0\\n):\\n    \\\"\\\"\\\"\\n    Cosine decay or cosine warmup schedules based on start and end values.\\n    These values are relative to the values of your LR's.\\n    This scheduler is meant to be called after each \\\"training step\\\" .\\n    \\\"\\\"\\\"\\n    param_sched = CosineParamScheduler(start_value, end_value)\\n    scheduler = LRMultiplier(optim, max_iter=max_steps, multiplier=param_sched)\\n    return scheduler\";\n",
       "                var nbb_cells = Jupyter.notebook.get_cells();\n",
       "                for (var i = 0; i < nbb_cells.length; ++i) {\n",
       "                    if (nbb_cells[i].input_prompt_number == nbb_cell_id) {\n",
       "                        if (nbb_cells[i].get_text() == nbb_unformatted_code) {\n",
       "                             nbb_cells[i].set_text(nbb_formatted_code);\n",
       "                        }\n",
       "                        break;\n",
       "                    }\n",
       "                }\n",
       "            }, 500);\n",
       "            "
      ],
      "text/plain": [
       "<IPython.core.display.Javascript object>"
      ]
     },
     "metadata": {},
     "output_type": "display_data"
    }
   ],
   "source": [
    "# export\n",
    "# @SCHEDULER_REGISTRY.register()\n",
    "def CosineLR(\n",
    "    optim: Optimizer, max_iters: int, start_value: int = 1, end_value: int = 0\n",
    "):\n",
    "    \"\"\"\n",
    "    Cosine decay or cosine warmup schedules based on start and end values.\n",
    "    These values are relative to the values of your LR's.\n",
    "    This scheduler is meant to be called after each \"training step\" .\n",
    "    \"\"\"\n",
    "    param_sched = CosineParamScheduler(start_value, end_value)\n",
    "    scheduler = LRMultiplier(optim, max_iter=max_steps, multiplier=param_sched)\n",
    "    return scheduler"
   ]
  },
  {
   "cell_type": "code",
   "execution_count": null,
   "metadata": {},
   "outputs": [
    {
     "data": {
      "text/plain": [
       "<matplotlib.legend.Legend at 0x7fecd432bb38>"
      ]
     },
     "execution_count": null,
     "metadata": {},
     "output_type": "execute_result"
    },
    {
     "data": {
      "image/png": "[encoded data removed]",
      "text/plain": [
       "<Figure size 432x288 with 1 Axes>"
      ]
     },
     "metadata": {
      "needs_background": "light"
     },
     "output_type": "display_data"
    },
    {
     "data": {
      "application/javascript": [
       "\n",
       "            setTimeout(function() {\n",
       "                var nbb_cell_id = 12;\n",
       "                var nbb_unformatted_code = \"scheduler = CosineLR(optim, max_iters=max_steps)\\n\\nlr = []\\n\\nfor _ in range(epoch):\\n    for _ in range(batch_nb):\\n        optim.step()\\n        optim.zero_grad()\\n        scheduler.step()\\n        lr.append(scheduler.get_lr())\\n\\nplt.plot(lr, label=\\\"Cosine Annealing Schedule\\\")\\nplt.legend()\";\n",
       "                var nbb_formatted_code = \"scheduler = CosineLR(optim, max_iters=max_steps)\\n\\nlr = []\\n\\nfor _ in range(epoch):\\n    for _ in range(batch_nb):\\n        optim.step()\\n        optim.zero_grad()\\n        scheduler.step()\\n        lr.append(scheduler.get_lr())\\n\\nplt.plot(lr, label=\\\"Cosine Annealing Schedule\\\")\\nplt.legend()\";\n",
       "                var nbb_cells = Jupyter.notebook.get_cells();\n",
       "                for (var i = 0; i < nbb_cells.length; ++i) {\n",
       "                    if (nbb_cells[i].input_prompt_number == nbb_cell_id) {\n",
       "                        if (nbb_cells[i].get_text() == nbb_unformatted_code) {\n",
       "                             nbb_cells[i].set_text(nbb_formatted_code);\n",
       "                        }\n",
       "                        break;\n",
       "                    }\n",
       "                }\n",
       "            }, 500);\n",
       "            "
      ],
      "text/plain": [
       "<IPython.core.display.Javascript object>"
      ]
     },
     "metadata": {},
     "output_type": "display_data"
    }
   ],
   "source": [
    "scheduler = CosineLR(optim, max_iters=max_steps)\n",
    "\n",
    "lr = []\n",
    "\n",
    "for _ in range(epoch):\n",
    "    for _ in range(batch_nb):\n",
    "        optim.step()\n",
    "        optim.zero_grad()\n",
    "        scheduler.step()\n",
    "        lr.append(scheduler.get_lr())\n",
    "\n",
    "plt.plot(lr, label=\"Cosine Annealing Schedule\")\n",
    "plt.legend()"
   ]
  },
  {
   "cell_type": "code",
   "execution_count": null,
   "metadata": {},
   "outputs": [
    {
     "data": {
      "application/javascript": [
       "\n",
       "            setTimeout(function() {\n",
       "                var nbb_cell_id = 13;\n",
       "                var nbb_unformatted_code = \"# export\\n#@SCHEDULER_REGISTRY.register()\\ndef FlatCosScheduler(optimizer: Optimizer, pct_start: float, max_iters: int):\\n    \\\"\\\"\\\"\\n    Schedule the LearningRate at flat `lr` for `pct_start` of `max_iters` before cosine annealing.\\n    This scheduler is meant to be called after a batch has been used for training.\\n\\n    Inspired From - https://docs.fast.ai/callback.schedule.html#Learner.fit_flat_cos.\\n    \\\"\\\"\\\"\\n\\n    schedulers = [LinearParamScheduler(1, 1), CosineParamScheduler(1, 0)]\\n\\n    sched = CompositeParamScheduler(\\n        schedulers,\\n        lengths=[pct_start, 1 - pct_start],\\n        interval_scaling=[\\\"rescaled\\\", \\\"rescaled\\\"],\\n    )\\n\\n    # Wrap Param Scheduler under LRMultiplier class\\n    sched = LRMultiplier(optimizer, sched, max_iter=max_iters)\\n    return sched\";\n",
       "                var nbb_formatted_code = \"# export\\n# @SCHEDULER_REGISTRY.register()\\ndef FlatCosScheduler(optimizer: Optimizer, pct_start: float, max_iters: int):\\n    \\\"\\\"\\\"\\n    Schedule the LearningRate at flat `lr` for `pct_start` of `max_iters` before cosine annealing.\\n    This scheduler is meant to be called after a batch has been used for training.\\n\\n    Inspired From - https://docs.fast.ai/callback.schedule.html#Learner.fit_flat_cos.\\n    \\\"\\\"\\\"\\n\\n    schedulers = [LinearParamScheduler(1, 1), CosineParamScheduler(1, 0)]\\n\\n    sched = CompositeParamScheduler(\\n        schedulers,\\n        lengths=[pct_start, 1 - pct_start],\\n        interval_scaling=[\\\"rescaled\\\", \\\"rescaled\\\"],\\n    )\\n\\n    # Wrap Param Scheduler under LRMultiplier class\\n    sched = LRMultiplier(optimizer, sched, max_iter=max_iters)\\n    return sched\";\n",
       "                var nbb_cells = Jupyter.notebook.get_cells();\n",
       "                for (var i = 0; i < nbb_cells.length; ++i) {\n",
       "                    if (nbb_cells[i].input_prompt_number == nbb_cell_id) {\n",
       "                        if (nbb_cells[i].get_text() == nbb_unformatted_code) {\n",
       "                             nbb_cells[i].set_text(nbb_formatted_code);\n",
       "                        }\n",
       "                        break;\n",
       "                    }\n",
       "                }\n",
       "            }, 500);\n",
       "            "
      ],
      "text/plain": [
       "<IPython.core.display.Javascript object>"
      ]
     },
     "metadata": {},
     "output_type": "display_data"
    }
   ],
   "source": [
    "# export\n",
    "# @SCHEDULER_REGISTRY.register()\n",
    "def FlatCosScheduler(optimizer: Optimizer, pct_start: float, max_iters: int):\n",
    "    \"\"\"\n",
    "    Schedule the LearningRate at flat `lr` for `pct_start` of `max_iters` before cosine annealing.\n",
    "    This scheduler is meant to be called after a batch has been used for training.\n",
    "\n",
    "    Inspired From - https://docs.fast.ai/callback.schedule.html#Learner.fit_flat_cos.\n",
    "    \"\"\"\n",
    "\n",
    "    schedulers = [LinearParamScheduler(1, 1), CosineParamScheduler(1, 0)]\n",
    "\n",
    "    sched = CompositeParamScheduler(\n",
    "        schedulers,\n",
    "        lengths=[pct_start, 1 - pct_start],\n",
    "        interval_scaling=[\"rescaled\", \"rescaled\"],\n",
    "    )\n",
    "\n",
    "    # Wrap Param Scheduler under LRMultiplier class\n",
    "    sched = LRMultiplier(optimizer, sched, max_iter=max_iters)\n",
    "    return sched"
   ]
  },
  {
   "cell_type": "code",
   "execution_count": null,
   "metadata": {},
   "outputs": [
    {
     "data": {
      "text/plain": [
       "<matplotlib.legend.Legend at 0x7feccfaab6a0>"
      ]
     },
     "execution_count": null,
     "metadata": {},
     "output_type": "execute_result"
    },
    {
     "data": {
      "image/png": "[encoded data removed]",
      "text/plain": [
       "<Figure size 432x288 with 1 Axes>"
      ]
     },
     "metadata": {
      "needs_background": "light"
     },
     "output_type": "display_data"
    },
    {
     "data": {
      "application/javascript": [
       "\n",
       "            setTimeout(function() {\n",
       "                var nbb_cell_id = 14;\n",
       "                var nbb_unformatted_code = \"lr = []\\n\\nscheduler = FlatCosScheduler(optim, pct_start=0.72, max_iters=max_steps)\\n\\nfor _ in range(epoch):\\n    for _ in range(batch_nb):\\n        optim.step()\\n        optim.zero_grad()\\n        scheduler.step()\\n        lr.append(scheduler.get_lr())\\n\\nplt.plot(lr, label=\\\"Flat Cosine Schedule\\\")\\nplt.legend()\";\n",
       "                var nbb_formatted_code = \"lr = []\\n\\nscheduler = FlatCosScheduler(optim, pct_start=0.72, max_iters=max_steps)\\n\\nfor _ in range(epoch):\\n    for _ in range(batch_nb):\\n        optim.step()\\n        optim.zero_grad()\\n        scheduler.step()\\n        lr.append(scheduler.get_lr())\\n\\nplt.plot(lr, label=\\\"Flat Cosine Schedule\\\")\\nplt.legend()\";\n",
       "                var nbb_cells = Jupyter.notebook.get_cells();\n",
       "                for (var i = 0; i < nbb_cells.length; ++i) {\n",
       "                    if (nbb_cells[i].input_prompt_number == nbb_cell_id) {\n",
       "                        if (nbb_cells[i].get_text() == nbb_unformatted_code) {\n",
       "                             nbb_cells[i].set_text(nbb_formatted_code);\n",
       "                        }\n",
       "                        break;\n",
       "                    }\n",
       "                }\n",
       "            }, 500);\n",
       "            "
      ],
      "text/plain": [
       "<IPython.core.display.Javascript object>"
      ]
     },
     "metadata": {},
     "output_type": "display_data"
    }
   ],
   "source": [
    "lr = []\n",
    "\n",
    "scheduler = FlatCosScheduler(optim, pct_start=0.72, max_iters=max_steps)\n",
    "\n",
    "for _ in range(epoch):\n",
    "    for _ in range(batch_nb):\n",
    "        optim.step()\n",
    "        optim.zero_grad()\n",
    "        scheduler.step()\n",
    "        lr.append(scheduler.get_lr())\n",
    "\n",
    "plt.plot(lr, label=\"Flat Cosine Schedule\")\n",
    "plt.legend()"
   ]
  },
  {
   "cell_type": "code",
   "execution_count": null,
   "metadata": {},
   "outputs": [
    {
     "data": {
      "application/javascript": [
       "\n",
       "            setTimeout(function() {\n",
       "                var nbb_cell_id = 15;\n",
       "                var nbb_unformatted_code = \"# export\\nclass WarmupParamScheduler(CompositeParamScheduler):\\n    \\\"\\\"\\\"\\n    Add an initial warmup stage to another scheduler.\\n\\n    Source - https://github.com/facebookresearch/fvcore/blob/master/fvcore/common/param_scheduler.py\\n    \\\"\\\"\\\"\\n\\n    def __init__(\\n        self,\\n        scheduler: ParamScheduler,\\n        warmup_factor: float,\\n        warmup_length: float,\\n        warmup_method: str = \\\"linear\\\",\\n    ):\\n        \\\"\\\"\\\"\\n        Args:\\n            scheduler: warmup will be added at the beginning of this scheduler\\n            warmup_factor: the factor w.r.t the initial value of ``scheduler``, e.g. 0.001\\n            warmup_length: the relative length (in [0, 1]) of warmup steps w.r.t the entire\\n                training, e.g. 0.01\\n            warmup_method: one of \\\"linear\\\" or \\\"constant\\\"\\n        \\\"\\\"\\\"\\n        end_value = scheduler(warmup_length)  # the value to reach when warmup ends\\n        start_value = warmup_factor * scheduler(0.0)\\n        if warmup_method == \\\"constant\\\":\\n            warmup = ConstantParamScheduler(start_value)\\n        elif warmup_method == \\\"linear\\\":\\n            warmup = LinearParamScheduler(start_value, end_value)\\n        else:\\n            raise ValueError(\\\"Unknown warmup method: {}\\\".format(warmup_method))\\n        super().__init__(\\n            [warmup, scheduler],\\n            interval_scaling=[\\\"rescaled\\\", \\\"fixed\\\"],\\n            lengths=[warmup_length, 1 - warmup_length],\\n        )\";\n",
       "                var nbb_formatted_code = \"# export\\nclass WarmupParamScheduler(CompositeParamScheduler):\\n    \\\"\\\"\\\"\\n    Add an initial warmup stage to another scheduler.\\n\\n    Source - https://github.com/facebookresearch/fvcore/blob/master/fvcore/common/param_scheduler.py\\n    \\\"\\\"\\\"\\n\\n    def __init__(\\n        self,\\n        scheduler: ParamScheduler,\\n        warmup_factor: float,\\n        warmup_length: float,\\n        warmup_method: str = \\\"linear\\\",\\n    ):\\n        \\\"\\\"\\\"\\n        Args:\\n            scheduler: warmup will be added at the beginning of this scheduler\\n            warmup_factor: the factor w.r.t the initial value of ``scheduler``, e.g. 0.001\\n            warmup_length: the relative length (in [0, 1]) of warmup steps w.r.t the entire\\n                training, e.g. 0.01\\n            warmup_method: one of \\\"linear\\\" or \\\"constant\\\"\\n        \\\"\\\"\\\"\\n        end_value = scheduler(warmup_length)  # the value to reach when warmup ends\\n        start_value = warmup_factor * scheduler(0.0)\\n        if warmup_method == \\\"constant\\\":\\n            warmup = ConstantParamScheduler(start_value)\\n        elif warmup_method == \\\"linear\\\":\\n            warmup = LinearParamScheduler(start_value, end_value)\\n        else:\\n            raise ValueError(\\\"Unknown warmup method: {}\\\".format(warmup_method))\\n        super().__init__(\\n            [warmup, scheduler],\\n            interval_scaling=[\\\"rescaled\\\", \\\"fixed\\\"],\\n            lengths=[warmup_length, 1 - warmup_length],\\n        )\";\n",
       "                var nbb_cells = Jupyter.notebook.get_cells();\n",
       "                for (var i = 0; i < nbb_cells.length; ++i) {\n",
       "                    if (nbb_cells[i].input_prompt_number == nbb_cell_id) {\n",
       "                        if (nbb_cells[i].get_text() == nbb_unformatted_code) {\n",
       "                             nbb_cells[i].set_text(nbb_formatted_code);\n",
       "                        }\n",
       "                        break;\n",
       "                    }\n",
       "                }\n",
       "            }, 500);\n",
       "            "
      ],
      "text/plain": [
       "<IPython.core.display.Javascript object>"
      ]
     },
     "metadata": {},
     "output_type": "display_data"
    }
   ],
   "source": [
    "# export\n",
    "class WarmupParamScheduler(CompositeParamScheduler):\n",
    "    \"\"\"\n",
    "    Add an initial warmup stage to another scheduler.\n",
    "\n",
    "    Source - https://github.com/facebookresearch/fvcore/blob/master/fvcore/common/param_scheduler.py\n",
    "    \"\"\"\n",
    "\n",
    "    def __init__(\n",
    "        self,\n",
    "        scheduler: ParamScheduler,\n",
    "        warmup_factor: float,\n",
    "        warmup_length: float,\n",
    "        warmup_method: str = \"linear\",\n",
    "    ):\n",
    "        \"\"\"\n",
    "        Args:\n",
    "            scheduler: warmup will be added at the beginning of this scheduler\n",
    "            warmup_factor: the factor w.r.t the initial value of ``scheduler``, e.g. 0.001\n",
    "            warmup_length: the relative length (in [0, 1]) of warmup steps w.r.t the entire\n",
    "                training, e.g. 0.01\n",
    "            warmup_method: one of \"linear\" or \"constant\"\n",
    "        \"\"\"\n",
    "        end_value = scheduler(warmup_length)  # the value to reach when warmup ends\n",
    "        start_value = warmup_factor * scheduler(0.0)\n",
    "        if warmup_method == \"constant\":\n",
    "            warmup = ConstantParamScheduler(start_value)\n",
    "        elif warmup_method == \"linear\":\n",
    "            warmup = LinearParamScheduler(start_value, end_value)\n",
    "        else:\n",
    "            raise ValueError(\"Unknown warmup method: {}\".format(warmup_method))\n",
    "        super().__init__(\n",
    "            [warmup, scheduler],\n",
    "            interval_scaling=[\"rescaled\", \"fixed\"],\n",
    "            lengths=[warmup_length, 1 - warmup_length],\n",
    "        )"
   ]
  },
  {
   "cell_type": "code",
   "execution_count": null,
   "metadata": {},
   "outputs": [
    {
     "data": {
      "application/javascript": [
       "\n",
       "            setTimeout(function() {\n",
       "                var nbb_cell_id = 16;\n",
       "                var nbb_unformatted_code = \"# export\\n# @SCHEDULER_REGISTRY.register()\\ndef WarmupCosineLR(\\n    optimizer: torch.optim.Optimizer,\\n    max_iters: int,\\n    pct_start: Optional[float] = None,\\n    warmup_steps: Optional[int] = None,\\n    warmup_factor: float = (1.0 / 1000),\\n):\\n    \\\"\\\"\\\"\\n    Linearly increase `lr` for `pct_start` or `warmup_steps` before cosine annealing from\\n    `pct_start` or `warmup_steps`.\\n    \\\"\\\"\\\"\\n\\n    # warmup iterations\\n    if pct_start is None and warmup_steps is None:\\n        raise ValueError(\\\"You must define either pct_start OR warmup_steps\\\")\\n\\n    if warmup_steps is not None and (\\n        warmup_steps <= 0 or not isinstance(warmup_steps, int)\\n    ):\\n        raise ValueError(\\n            \\\"Expected positive interger warmup_steps, but got {}\\\".format(warmup_steps)\\n        )\\n    if pct_start is not None and (pct_start <= 0 and not isinstance(pct_start, float)):\\n        raise ValueError(\\n            \\\"Expected positive float pct_start, but got {}\\\".format(pct_start)\\n        )\\n\\n    if pct_start is not None:\\n        warmup_length = pct_start\\n\\n    elif warmup_steps is not None:\\n        warmup_length = warmup_steps / max_iters\\n\\n    sched = CosineParamScheduler(1, 0)\\n\\n    sched = WarmupParamScheduler(\\n        sched,\\n        warmup_factor=warmup_factor,\\n        warmup_length=warmup_length,\\n        warmup_method=\\\"linear\\\",\\n    )\\n    return LRMultiplier(optimizer, multiplier=sched, max_iter=max_iters)\";\n",
       "                var nbb_formatted_code = \"# export\\n# @SCHEDULER_REGISTRY.register()\\ndef WarmupCosineLR(\\n    optimizer: torch.optim.Optimizer,\\n    max_iters: int,\\n    pct_start: Optional[float] = None,\\n    warmup_steps: Optional[int] = None,\\n    warmup_factor: float = (1.0 / 1000),\\n):\\n    \\\"\\\"\\\"\\n    Linearly increase `lr` for `pct_start` or `warmup_steps` before cosine annealing from\\n    `pct_start` or `warmup_steps`.\\n    \\\"\\\"\\\"\\n\\n    # warmup iterations\\n    if pct_start is None and warmup_steps is None:\\n        raise ValueError(\\\"You must define either pct_start OR warmup_steps\\\")\\n\\n    if warmup_steps is not None and (\\n        warmup_steps <= 0 or not isinstance(warmup_steps, int)\\n    ):\\n        raise ValueError(\\n            \\\"Expected positive interger warmup_steps, but got {}\\\".format(warmup_steps)\\n        )\\n    if pct_start is not None and (pct_start <= 0 and not isinstance(pct_start, float)):\\n        raise ValueError(\\n            \\\"Expected positive float pct_start, but got {}\\\".format(pct_start)\\n        )\\n\\n    if pct_start is not None:\\n        warmup_length = pct_start\\n\\n    elif warmup_steps is not None:\\n        warmup_length = warmup_steps / max_iters\\n\\n    sched = CosineParamScheduler(1, 0)\\n\\n    sched = WarmupParamScheduler(\\n        sched,\\n        warmup_factor=warmup_factor,\\n        warmup_length=warmup_length,\\n        warmup_method=\\\"linear\\\",\\n    )\\n    return LRMultiplier(optimizer, multiplier=sched, max_iter=max_iters)\";\n",
       "                var nbb_cells = Jupyter.notebook.get_cells();\n",
       "                for (var i = 0; i < nbb_cells.length; ++i) {\n",
       "                    if (nbb_cells[i].input_prompt_number == nbb_cell_id) {\n",
       "                        if (nbb_cells[i].get_text() == nbb_unformatted_code) {\n",
       "                             nbb_cells[i].set_text(nbb_formatted_code);\n",
       "                        }\n",
       "                        break;\n",
       "                    }\n",
       "                }\n",
       "            }, 500);\n",
       "            "
      ],
      "text/plain": [
       "<IPython.core.display.Javascript object>"
      ]
     },
     "metadata": {},
     "output_type": "display_data"
    }
   ],
   "source": [
    "# export\n",
    "# @SCHEDULER_REGISTRY.register()\n",
    "def WarmupCosineLR(\n",
    "    optimizer: torch.optim.Optimizer,\n",
    "    max_iters: int,\n",
    "    pct_start: Optional[float] = None,\n",
    "    warmup_steps: Optional[int] = None,\n",
    "    warmup_factor: float = (1.0 / 1000),\n",
    "):\n",
    "    \"\"\"\n",
    "    Linearly increase `lr` for `pct_start` or `warmup_steps` before cosine annealing from\n",
    "    `pct_start` or `warmup_steps`.\n",
    "    \"\"\"\n",
    "\n",
    "    # warmup iterations\n",
    "    if pct_start is None and warmup_steps is None:\n",
    "        raise ValueError(\"You must define either pct_start OR warmup_steps\")\n",
    "\n",
    "    if warmup_steps is not None and (\n",
    "        warmup_steps <= 0 or not isinstance(warmup_steps, int)\n",
    "    ):\n",
    "        raise ValueError(\n",
    "            \"Expected positive interger warmup_steps, but got {}\".format(warmup_steps)\n",
    "        )\n",
    "    if pct_start is not None and (pct_start <= 0 and not isinstance(pct_start, float)):\n",
    "        raise ValueError(\n",
    "            \"Expected positive float pct_start, but got {}\".format(pct_start)\n",
    "        )\n",
    "\n",
    "    if pct_start is not None:\n",
    "        warmup_length = pct_start\n",
    "\n",
    "    elif warmup_steps is not None:\n",
    "        warmup_length = warmup_steps / max_iters\n",
    "\n",
    "    sched = CosineParamScheduler(1, 0)\n",
    "\n",
    "    sched = WarmupParamScheduler(\n",
    "        sched,\n",
    "        warmup_factor=warmup_factor,\n",
    "        warmup_length=warmup_length,\n",
    "        warmup_method=\"linear\",\n",
    "    )\n",
    "    return LRMultiplier(optimizer, multiplier=sched, max_iter=max_iters)"
   ]
  },
  {
   "cell_type": "markdown",
   "metadata": {},
   "source": [
    "Arguments to `WarmupCosineLR` -  \n",
    "* `optimizer` (Optimizer): Wrapped Optimizer.\n",
    "* `max_iters` (int): The total number of steps to train for.\n",
    "* `pct_start` (float): The percentage of steps spent increasing the learning rate. Default: None\n",
    "* `warmup_steps` (int): The no. of steps spent increasing the learning rate. Default: None\n",
    "* `warmup_factor` (float): The factor w.r.t the initial value of LR in ``scheduler``\n",
    "\n",
    "> Note: You must either provide `pct_start` or `warmup_steps` & `.step` should be called after a batch has been used for training."
   ]
  },
  {
   "cell_type": "code",
   "execution_count": null,
   "metadata": {},
   "outputs": [
    {
     "data": {
      "text/plain": [
       "[<matplotlib.lines.Line2D at 0x7feccef090f0>]"
      ]
     },
     "execution_count": null,
     "metadata": {},
     "output_type": "execute_result"
    },
    {
     "data": {
      "image/png": "[encoded data removed]",
      "text/plain": [
       "<Figure size 432x288 with 1 Axes>"
      ]
     },
     "metadata": {
      "needs_background": "light"
     },
     "output_type": "display_data"
    },
    {
     "data": {
      "application/javascript": [
       "\n",
       "            setTimeout(function() {\n",
       "                var nbb_cell_id = 17;\n",
       "                var nbb_unformatted_code = \"lr = []\\n\\nscheduler = WarmupCosineLR(optim, pct_start=0.1, max_iters=max_steps)\\n\\nfor _ in range(epoch):\\n    for _ in range(batch_nb):\\n        optim.step()\\n        scheduler.step()\\n        lr.append(scheduler.get_lr())\\n\\nplt.plot(lr)\";\n",
       "                var nbb_formatted_code = \"lr = []\\n\\nscheduler = WarmupCosineLR(optim, pct_start=0.1, max_iters=max_steps)\\n\\nfor _ in range(epoch):\\n    for _ in range(batch_nb):\\n        optim.step()\\n        scheduler.step()\\n        lr.append(scheduler.get_lr())\\n\\nplt.plot(lr)\";\n",
       "                var nbb_cells = Jupyter.notebook.get_cells();\n",
       "                for (var i = 0; i < nbb_cells.length; ++i) {\n",
       "                    if (nbb_cells[i].input_prompt_number == nbb_cell_id) {\n",
       "                        if (nbb_cells[i].get_text() == nbb_unformatted_code) {\n",
       "                             nbb_cells[i].set_text(nbb_formatted_code);\n",
       "                        }\n",
       "                        break;\n",
       "                    }\n",
       "                }\n",
       "            }, 500);\n",
       "            "
      ],
      "text/plain": [
       "<IPython.core.display.Javascript object>"
      ]
     },
     "metadata": {},
     "output_type": "display_data"
    }
   ],
   "source": [
    "lr = []\n",
    "\n",
    "scheduler = WarmupCosineLR(optim, pct_start=0.1, max_iters=max_steps)\n",
    "\n",
    "for _ in range(epoch):\n",
    "    for _ in range(batch_nb):\n",
    "        optim.step()\n",
    "        scheduler.step()\n",
    "        lr.append(scheduler.get_lr())\n",
    "\n",
    "plt.plot(lr)"
   ]
  },
  {
   "cell_type": "code",
   "execution_count": null,
   "metadata": {},
   "outputs": [
    {
     "data": {
      "application/javascript": [
       "\n",
       "            setTimeout(function() {\n",
       "                var nbb_cell_id = 18;\n",
       "                var nbb_unformatted_code = \"# export\\ndef WarmupLinearLR(\\n    optimizer: Optimizer,\\n    max_iters: int,\\n    pct_start: Optional[float] = None,\\n    warmup_steps: Optional[int] = None,\\n    warmup_factor: float = (1.0 / 1000),\\n):\\n    \\\"\\\"\\\"\\n    Linearly increase `lr` for `pct_start` or `warmup_steps` before\\n    linear decreasing of `lr`.\\n    \\\"\\\"\\\"\\n    # warmup iterations\\n    if pct_start is None and warmup_steps is None:\\n        raise ValueError(\\\"You must define either pct_start OR warmup_steps\\\")\\n\\n    if warmup_steps is not None and (\\n        warmup_steps <= 0 or not isinstance(warmup_steps, int)\\n    ):\\n        raise ValueError(\\n            \\\"Expected positive interger warmup_steps, but got {}\\\".format(warmup_steps)\\n        )\\n    if pct_start is not None and (pct_start <= 0 and not isinstance(pct_start, float)):\\n        raise ValueError(\\n            \\\"Expected positive float pct_start, but got {}\\\".format(pct_start)\\n        )\\n\\n    if pct_start is not None:\\n        warmup_length = pct_start\\n\\n    elif warmup_steps is not None:\\n        warmup_length = warmup_steps / max_iters\\n\\n    sched = LinearParamScheduler(1, 0)\\n    sched = WarmupParamScheduler(\\n        sched,\\n        warmup_factor=warmup_factor,\\n        warmup_length=warmup_length,\\n        warmup_method=\\\"linear\\\",\\n    )\\n    return LRMultiplier(optimizer, multiplier=sched, max_iter=max_iters)\";\n",
       "                var nbb_formatted_code = \"# export\\ndef WarmupLinearLR(\\n    optimizer: Optimizer,\\n    max_iters: int,\\n    pct_start: Optional[float] = None,\\n    warmup_steps: Optional[int] = None,\\n    warmup_factor: float = (1.0 / 1000),\\n):\\n    \\\"\\\"\\\"\\n    Linearly increase `lr` for `pct_start` or `warmup_steps` before\\n    linear decreasing of `lr`.\\n    \\\"\\\"\\\"\\n    # warmup iterations\\n    if pct_start is None and warmup_steps is None:\\n        raise ValueError(\\\"You must define either pct_start OR warmup_steps\\\")\\n\\n    if warmup_steps is not None and (\\n        warmup_steps <= 0 or not isinstance(warmup_steps, int)\\n    ):\\n        raise ValueError(\\n            \\\"Expected positive interger warmup_steps, but got {}\\\".format(warmup_steps)\\n        )\\n    if pct_start is not None and (pct_start <= 0 and not isinstance(pct_start, float)):\\n        raise ValueError(\\n            \\\"Expected positive float pct_start, but got {}\\\".format(pct_start)\\n        )\\n\\n    if pct_start is not None:\\n        warmup_length = pct_start\\n\\n    elif warmup_steps is not None:\\n        warmup_length = warmup_steps / max_iters\\n\\n    sched = LinearParamScheduler(1, 0)\\n    sched = WarmupParamScheduler(\\n        sched,\\n        warmup_factor=warmup_factor,\\n        warmup_length=warmup_length,\\n        warmup_method=\\\"linear\\\",\\n    )\\n    return LRMultiplier(optimizer, multiplier=sched, max_iter=max_iters)\";\n",
       "                var nbb_cells = Jupyter.notebook.get_cells();\n",
       "                for (var i = 0; i < nbb_cells.length; ++i) {\n",
       "                    if (nbb_cells[i].input_prompt_number == nbb_cell_id) {\n",
       "                        if (nbb_cells[i].get_text() == nbb_unformatted_code) {\n",
       "                             nbb_cells[i].set_text(nbb_formatted_code);\n",
       "                        }\n",
       "                        break;\n",
       "                    }\n",
       "                }\n",
       "            }, 500);\n",
       "            "
      ],
      "text/plain": [
       "<IPython.core.display.Javascript object>"
      ]
     },
     "metadata": {},
     "output_type": "display_data"
    }
   ],
   "source": [
    "# export\n",
    "def WarmupLinearLR(\n",
    "    optimizer: Optimizer,\n",
    "    max_iters: int,\n",
    "    pct_start: Optional[float] = None,\n",
    "    warmup_steps: Optional[int] = None,\n",
    "    warmup_factor: float = (1.0 / 1000),\n",
    "):\n",
    "    \"\"\"\n",
    "    Linearly increase `lr` for `pct_start` or `warmup_steps` before\n",
    "    linear decreasing of `lr`.\n",
    "    \"\"\"\n",
    "    # warmup iterations\n",
    "    if pct_start is None and warmup_steps is None:\n",
    "        raise ValueError(\"You must define either pct_start OR warmup_steps\")\n",
    "\n",
    "    if warmup_steps is not None and (\n",
    "        warmup_steps <= 0 or not isinstance(warmup_steps, int)\n",
    "    ):\n",
    "        raise ValueError(\n",
    "            \"Expected positive interger warmup_steps, but got {}\".format(warmup_steps)\n",
    "        )\n",
    "    if pct_start is not None and (pct_start <= 0 and not isinstance(pct_start, float)):\n",
    "        raise ValueError(\n",
    "            \"Expected positive float pct_start, but got {}\".format(pct_start)\n",
    "        )\n",
    "\n",
    "    if pct_start is not None:\n",
    "        warmup_length = pct_start\n",
    "\n",
    "    elif warmup_steps is not None:\n",
    "        warmup_length = warmup_steps / max_iters\n",
    "\n",
    "    sched = LinearParamScheduler(1, 0)\n",
    "    sched = WarmupParamScheduler(\n",
    "        sched,\n",
    "        warmup_factor=warmup_factor,\n",
    "        warmup_length=warmup_length,\n",
    "        warmup_method=\"linear\",\n",
    "    )\n",
    "    return LRMultiplier(optimizer, multiplier=sched, max_iter=max_iters)"
   ]
  },
  {
   "cell_type": "markdown",
   "metadata": {},
   "source": [
    "Arguments to `WarmupLinearLR` -  \n",
    "* `optimizer` (Optimizer): Wrapped Optimizer.\n",
    "* `max_iters` (int): The total number of steps to train for.\n",
    "* `pct_start` (float): The percentage of steps spent increasing the learning rate. Default: None\n",
    "* `warmup_steps` (int): The no. of steps spent increasing the learning rate. Default: None\n",
    "* `warmup_factor` (float): The factor w.r.t the initial value of LR in ``scheduler``\n",
    "\n",
    "> Note: You must either provide `pct_start` or `warmup_steps` & `.step` should be called after a batch has been used for training."
   ]
  },
  {
   "cell_type": "code",
   "execution_count": null,
   "metadata": {},
   "outputs": [
    {
     "data": {
      "text/plain": [
       "[<matplotlib.lines.Line2D at 0x7fecd4519cf8>]"
      ]
     },
     "execution_count": null,
     "metadata": {},
     "output_type": "execute_result"
    },
    {
     "data": {
      "image/png": "[encoded data removed]",
      "text/plain": [
       "<Figure size 432x288 with 1 Axes>"
      ]
     },
     "metadata": {
      "needs_background": "light"
     },
     "output_type": "display_data"
    },
    {
     "data": {
      "application/javascript": [
       "\n",
       "            setTimeout(function() {\n",
       "                var nbb_cell_id = 19;\n",
       "                var nbb_unformatted_code = \"lr = []\\n\\nscheduler = WarmupLinearLR(optim, pct_start=0.1, max_iters=max_steps)\\n\\nfor _ in range(epoch):\\n    for _ in range(batch_nb):\\n        optim.step()\\n        scheduler.step()\\n        lr.append(scheduler.get_lr())\\n\\nplt.plot(lr)\";\n",
       "                var nbb_formatted_code = \"lr = []\\n\\nscheduler = WarmupLinearLR(optim, pct_start=0.1, max_iters=max_steps)\\n\\nfor _ in range(epoch):\\n    for _ in range(batch_nb):\\n        optim.step()\\n        scheduler.step()\\n        lr.append(scheduler.get_lr())\\n\\nplt.plot(lr)\";\n",
       "                var nbb_cells = Jupyter.notebook.get_cells();\n",
       "                for (var i = 0; i < nbb_cells.length; ++i) {\n",
       "                    if (nbb_cells[i].input_prompt_number == nbb_cell_id) {\n",
       "                        if (nbb_cells[i].get_text() == nbb_unformatted_code) {\n",
       "                             nbb_cells[i].set_text(nbb_formatted_code);\n",
       "                        }\n",
       "                        break;\n",
       "                    }\n",
       "                }\n",
       "            }, 500);\n",
       "            "
      ],
      "text/plain": [
       "<IPython.core.display.Javascript object>"
      ]
     },
     "metadata": {},
     "output_type": "display_data"
    }
   ],
   "source": [
    "lr = []\n",
    "\n",
    "scheduler = WarmupLinearLR(optim, pct_start=0.1, max_iters=max_steps)\n",
    "\n",
    "for _ in range(epoch):\n",
    "    for _ in range(batch_nb):\n",
    "        optim.step()\n",
    "        scheduler.step()\n",
    "        lr.append(scheduler.get_lr())\n",
    "\n",
    "plt.plot(lr)"
   ]
  },
  {
   "cell_type": "code",
   "execution_count": null,
   "metadata": {},
   "outputs": [
    {
     "data": {
      "application/javascript": [
       "\n",
       "            setTimeout(function() {\n",
       "                var nbb_cell_id = 21;\n",
       "                var nbb_unformatted_code = \"# export\\n# @SCHEDULER_REGISTRY.register()\\ndef WarmupConstantLR(\\n    optimizer: Optimizer,\\n    max_iters: int,\\n    pct_start: Optional[float] = None,\\n    warmup_steps: Optional[int] = None,\\n    warmup_factor: float = (1.0 / 1000),\\n):\\n    \\\"\\\"\\\"\\n    Linearly increase `lr` for `pct_start` or `warmup_steps` after\\n    which keep the `lr` at constant value.\\n    \\\"\\\"\\\"\\n    # warmup iterations\\n    if pct_start is None and warmup_steps is None:\\n        raise ValueError(\\\"You must define either pct_start OR warmup_steps\\\")\\n\\n    if warmup_steps is not None and (\\n        warmup_steps <= 0 or not isinstance(warmup_steps, int)\\n    ):\\n        raise ValueError(\\n            \\\"Expected positive interger warmup_steps, but got {}\\\".format(warmup_steps)\\n        )\\n    if pct_start is not None and (pct_start <= 0 and not isinstance(pct_start, float)):\\n        raise ValueError(\\n            \\\"Expected positive float pct_start, but got {}\\\".format(pct_start)\\n        )\\n\\n    if pct_start is not None:\\n        warmup_length = pct_start\\n\\n    elif warmup_steps is not None:\\n        warmup_length = warmup_steps / max_iters\\n\\n    sched = LinearParamScheduler(1, 1)\\n    sched = WarmupParamScheduler(\\n        sched,\\n        warmup_factor=warmup_factor,\\n        warmup_length=warmup_length,\\n        warmup_method=\\\"linear\\\",\\n    )\\n    return LRMultiplier(optimizer, multiplier=sched, max_iter=max_iters)\";\n",
       "                var nbb_formatted_code = \"# export\\n# @SCHEDULER_REGISTRY.register()\\ndef WarmupConstantLR(\\n    optimizer: Optimizer,\\n    max_iters: int,\\n    pct_start: Optional[float] = None,\\n    warmup_steps: Optional[int] = None,\\n    warmup_factor: float = (1.0 / 1000),\\n):\\n    \\\"\\\"\\\"\\n    Linearly increase `lr` for `pct_start` or `warmup_steps` after\\n    which keep the `lr` at constant value.\\n    \\\"\\\"\\\"\\n    # warmup iterations\\n    if pct_start is None and warmup_steps is None:\\n        raise ValueError(\\\"You must define either pct_start OR warmup_steps\\\")\\n\\n    if warmup_steps is not None and (\\n        warmup_steps <= 0 or not isinstance(warmup_steps, int)\\n    ):\\n        raise ValueError(\\n            \\\"Expected positive interger warmup_steps, but got {}\\\".format(warmup_steps)\\n        )\\n    if pct_start is not None and (pct_start <= 0 and not isinstance(pct_start, float)):\\n        raise ValueError(\\n            \\\"Expected positive float pct_start, but got {}\\\".format(pct_start)\\n        )\\n\\n    if pct_start is not None:\\n        warmup_length = pct_start\\n\\n    elif warmup_steps is not None:\\n        warmup_length = warmup_steps / max_iters\\n\\n    sched = LinearParamScheduler(1, 1)\\n    sched = WarmupParamScheduler(\\n        sched,\\n        warmup_factor=warmup_factor,\\n        warmup_length=warmup_length,\\n        warmup_method=\\\"linear\\\",\\n    )\\n    return LRMultiplier(optimizer, multiplier=sched, max_iter=max_iters)\";\n",
       "                var nbb_cells = Jupyter.notebook.get_cells();\n",
       "                for (var i = 0; i < nbb_cells.length; ++i) {\n",
       "                    if (nbb_cells[i].input_prompt_number == nbb_cell_id) {\n",
       "                        if (nbb_cells[i].get_text() == nbb_unformatted_code) {\n",
       "                             nbb_cells[i].set_text(nbb_formatted_code);\n",
       "                        }\n",
       "                        break;\n",
       "                    }\n",
       "                }\n",
       "            }, 500);\n",
       "            "
      ],
      "text/plain": [
       "<IPython.core.display.Javascript object>"
      ]
     },
     "metadata": {},
     "output_type": "display_data"
    }
   ],
   "source": [
    "# export\n",
    "# @SCHEDULER_REGISTRY.register()\n",
    "def WarmupConstantLR(\n",
    "    optimizer: Optimizer,\n",
    "    max_iters: int,\n",
    "    pct_start: Optional[float] = None,\n",
    "    warmup_steps: Optional[int] = None,\n",
    "    warmup_factor: float = (1.0 / 1000),\n",
    "):\n",
    "    \"\"\"\n",
    "    Linearly increase `lr` for `pct_start` or `warmup_steps` after\n",
    "    which keep the `lr` at constant value.\n",
    "    \"\"\"\n",
    "    # warmup iterations\n",
    "    if pct_start is None and warmup_steps is None:\n",
    "        raise ValueError(\"You must define either pct_start OR warmup_steps\")\n",
    "\n",
    "    if warmup_steps is not None and (\n",
    "        warmup_steps <= 0 or not isinstance(warmup_steps, int)\n",
    "    ):\n",
    "        raise ValueError(\n",
    "            \"Expected positive interger warmup_steps, but got {}\".format(warmup_steps)\n",
    "        )\n",
    "    if pct_start is not None and (pct_start <= 0 and not isinstance(pct_start, float)):\n",
    "        raise ValueError(\n",
    "            \"Expected positive float pct_start, but got {}\".format(pct_start)\n",
    "        )\n",
    "\n",
    "    if pct_start is not None:\n",
    "        warmup_length = pct_start\n",
    "\n",
    "    elif warmup_steps is not None:\n",
    "        warmup_length = warmup_steps / max_iters\n",
    "\n",
    "    sched = LinearParamScheduler(1, 1)\n",
    "    sched = WarmupParamScheduler(\n",
    "        sched,\n",
    "        warmup_factor=warmup_factor,\n",
    "        warmup_length=warmup_length,\n",
    "        warmup_method=\"linear\",\n",
    "    )\n",
    "    return LRMultiplier(optimizer, multiplier=sched, max_iter=max_iters)"
   ]
  },
  {
   "cell_type": "markdown",
   "metadata": {},
   "source": [
    "Arguments to `WarmupConstantLR` -  \n",
    "* `optimizer` (Optimizer): Wrapped Optimizer.\n",
    "* `max_iters` (int): The total number of steps to train for.\n",
    "* `pct_start` (float): The percentage of steps spent increasing the learning rate. Default: None\n",
    "* `warmup_steps` (int): The no. of steps spent increasing the learning rate. Default: None\n",
    "* `warmup_factor` (float): The factor w.r.t the initial value of LR in ``scheduler``\n",
    "\n",
    "> Note: You must either provide `pct_start` or `warmup_steps` & `.step` should be called after a batch has been used for training."
   ]
  },
  {
   "cell_type": "code",
   "execution_count": null,
   "metadata": {},
   "outputs": [
    {
     "data": {
      "text/plain": [
       "[<matplotlib.lines.Line2D at 0x7fecd46ebe48>]"
      ]
     },
     "execution_count": null,
     "metadata": {},
     "output_type": "execute_result"
    },
    {
     "data": {
      "image/png": "[encoded data removed]",
      "text/plain": [
       "<Figure size 432x288 with 1 Axes>"
      ]
     },
     "metadata": {
      "needs_background": "light"
     },
     "output_type": "display_data"
    },
    {
     "data": {
      "application/javascript": [
       "\n",
       "            setTimeout(function() {\n",
       "                var nbb_cell_id = 22;\n",
       "                var nbb_unformatted_code = \"lr = []\\n\\nscheduler = WarmupConstantLR(optim, pct_start=0.1, max_iters=max_steps)\\n\\nfor _ in range(epoch):\\n    for _ in range(batch_nb):\\n        optim.step()\\n        scheduler.step()\\n        lr.append(scheduler.get_lr())\\n\\nplt.plot(lr)\";\n",
       "                var nbb_formatted_code = \"lr = []\\n\\nscheduler = WarmupConstantLR(optim, pct_start=0.1, max_iters=max_steps)\\n\\nfor _ in range(epoch):\\n    for _ in range(batch_nb):\\n        optim.step()\\n        scheduler.step()\\n        lr.append(scheduler.get_lr())\\n\\nplt.plot(lr)\";\n",
       "                var nbb_cells = Jupyter.notebook.get_cells();\n",
       "                for (var i = 0; i < nbb_cells.length; ++i) {\n",
       "                    if (nbb_cells[i].input_prompt_number == nbb_cell_id) {\n",
       "                        if (nbb_cells[i].get_text() == nbb_unformatted_code) {\n",
       "                             nbb_cells[i].set_text(nbb_formatted_code);\n",
       "                        }\n",
       "                        break;\n",
       "                    }\n",
       "                }\n",
       "            }, 500);\n",
       "            "
      ],
      "text/plain": [
       "<IPython.core.display.Javascript object>"
      ]
     },
     "metadata": {},
     "output_type": "display_data"
    }
   ],
   "source": [
    "lr = []\n",
    "\n",
    "scheduler = WarmupConstantLR(optim, pct_start=0.1, max_iters=max_steps)\n",
    "\n",
    "for _ in range(epoch):\n",
    "    for _ in range(batch_nb):\n",
    "        optim.step()\n",
    "        scheduler.step()\n",
    "        lr.append(scheduler.get_lr())\n",
    "\n",
    "plt.plot(lr)"
   ]
  },
  {
   "cell_type": "code",
   "execution_count": null,
   "metadata": {},
   "outputs": [
    {
     "data": {
      "application/javascript": [
       "\n",
       "            setTimeout(function() {\n",
       "                var nbb_cell_id = 23;\n",
       "                var nbb_unformatted_code = \"# export\\n# @SCHEDULER_REGISTRY.register()\\ndef WarmupStepLR(\\n    optimizer: Optimizer,\\n    epochs: int,\\n    num_decays: int,\\n    warmup_epochs: int = 0,\\n    decay_rate: float = 1.0,\\n    warmup_factor: float = 1e-05,\\n):\\n    \\\"\\\"\\\"\\n    Decays the learning rate of each parameter group by `decay_rate` at equal number of epochs\\n    given by `num_decays`. You can optionally add a warmup scheduler using `warmup_epochs`.\\n    This scheduler is meant to be called after each epoch.\\n    \\\"\\\"\\\"\\n    warmup_length = warmup_epochs / epochs\\n\\n    sched = StepWithFixedGammaParamScheduler(\\n        1, num_decays, decay_rate, epochs + 1 - warmup_epochs\\n    )\\n\\n    sched = WarmupParamScheduler(\\n        sched,\\n        warmup_factor=warmup_factor,\\n        warmup_length=warmup_length,\\n        warmup_method=\\\"linear\\\",\\n    )\\n    return LRMultiplier(optimizer, multiplier=sched, max_iter=epochs + 1)\";\n",
       "                var nbb_formatted_code = \"# export\\n# @SCHEDULER_REGISTRY.register()\\ndef WarmupStepLR(\\n    optimizer: Optimizer,\\n    epochs: int,\\n    num_decays: int,\\n    warmup_epochs: int = 0,\\n    decay_rate: float = 1.0,\\n    warmup_factor: float = 1e-05,\\n):\\n    \\\"\\\"\\\"\\n    Decays the learning rate of each parameter group by `decay_rate` at equal number of epochs\\n    given by `num_decays`. You can optionally add a warmup scheduler using `warmup_epochs`.\\n    This scheduler is meant to be called after each epoch.\\n    \\\"\\\"\\\"\\n    warmup_length = warmup_epochs / epochs\\n\\n    sched = StepWithFixedGammaParamScheduler(\\n        1, num_decays, decay_rate, epochs + 1 - warmup_epochs\\n    )\\n\\n    sched = WarmupParamScheduler(\\n        sched,\\n        warmup_factor=warmup_factor,\\n        warmup_length=warmup_length,\\n        warmup_method=\\\"linear\\\",\\n    )\\n    return LRMultiplier(optimizer, multiplier=sched, max_iter=epochs + 1)\";\n",
       "                var nbb_cells = Jupyter.notebook.get_cells();\n",
       "                for (var i = 0; i < nbb_cells.length; ++i) {\n",
       "                    if (nbb_cells[i].input_prompt_number == nbb_cell_id) {\n",
       "                        if (nbb_cells[i].get_text() == nbb_unformatted_code) {\n",
       "                             nbb_cells[i].set_text(nbb_formatted_code);\n",
       "                        }\n",
       "                        break;\n",
       "                    }\n",
       "                }\n",
       "            }, 500);\n",
       "            "
      ],
      "text/plain": [
       "<IPython.core.display.Javascript object>"
      ]
     },
     "metadata": {},
     "output_type": "display_data"
    }
   ],
   "source": [
    "# export\n",
    "# @SCHEDULER_REGISTRY.register()\n",
    "def WarmupStepLR(\n",
    "    optimizer: Optimizer,\n",
    "    epochs: int,\n",
    "    num_decays: int,\n",
    "    warmup_epochs: int = 0,\n",
    "    decay_rate: float = 1.0,\n",
    "    warmup_factor: float = 1e-05,\n",
    "):\n",
    "    \"\"\"\n",
    "    Decays the learning rate of each parameter group by `decay_rate` at equal number of epochs\n",
    "    given by `num_decays`. You can optionally add a warmup scheduler using `warmup_epochs`.\n",
    "    This scheduler is meant to be called after each epoch.\n",
    "    \"\"\"\n",
    "    warmup_length = warmup_epochs / epochs\n",
    "\n",
    "    sched = StepWithFixedGammaParamScheduler(\n",
    "        1, num_decays, decay_rate, epochs + 1 - warmup_epochs\n",
    "    )\n",
    "\n",
    "    sched = WarmupParamScheduler(\n",
    "        sched,\n",
    "        warmup_factor=warmup_factor,\n",
    "        warmup_length=warmup_length,\n",
    "        warmup_method=\"linear\",\n",
    "    )\n",
    "    return LRMultiplier(optimizer, multiplier=sched, max_iter=epochs + 1)"
   ]
  },
  {
   "cell_type": "code",
   "execution_count": null,
   "metadata": {},
   "outputs": [
    {
     "data": {
      "text/plain": [
       "[<matplotlib.lines.Line2D at 0x7fecd4691c88>]"
      ]
     },
     "execution_count": null,
     "metadata": {},
     "output_type": "execute_result"
    },
    {
     "data": {
      "image/png": "[encoded data removed]",
      "text/plain": [
       "<Figure size 432x288 with 1 Axes>"
      ]
     },
     "metadata": {
      "needs_background": "light"
     },
     "output_type": "display_data"
    },
    {
     "data": {
      "application/javascript": [
       "\n",
       "            setTimeout(function() {\n",
       "                var nbb_cell_id = 24;\n",
       "                var nbb_unformatted_code = \"lr = []\\nepoch = 50\\n\\nscheduler = WarmupStepLR(\\n    optim, epochs=epoch, num_decays=5, warmup_epochs=3, decay_rate=0.8\\n)\\n\\nfor _ in range(epoch):\\n    for _ in range(batch_nb):\\n        optim.step()\\n    # scheduler is called after each epoch\\n    scheduler.step()\\n    lr.append(scheduler.get_lr())\\n\\nplt.plot(lr)\";\n",
       "                var nbb_formatted_code = \"lr = []\\nepoch = 50\\n\\nscheduler = WarmupStepLR(\\n    optim, epochs=epoch, num_decays=5, warmup_epochs=3, decay_rate=0.8\\n)\\n\\nfor _ in range(epoch):\\n    for _ in range(batch_nb):\\n        optim.step()\\n    # scheduler is called after each epoch\\n    scheduler.step()\\n    lr.append(scheduler.get_lr())\\n\\nplt.plot(lr)\";\n",
       "                var nbb_cells = Jupyter.notebook.get_cells();\n",
       "                for (var i = 0; i < nbb_cells.length; ++i) {\n",
       "                    if (nbb_cells[i].input_prompt_number == nbb_cell_id) {\n",
       "                        if (nbb_cells[i].get_text() == nbb_unformatted_code) {\n",
       "                             nbb_cells[i].set_text(nbb_formatted_code);\n",
       "                        }\n",
       "                        break;\n",
       "                    }\n",
       "                }\n",
       "            }, 500);\n",
       "            "
      ],
      "text/plain": [
       "<IPython.core.display.Javascript object>"
      ]
     },
     "metadata": {},
     "output_type": "display_data"
    }
   ],
   "source": [
    "lr = []\n",
    "epoch = 50\n",
    "\n",
    "scheduler = WarmupStepLR(\n",
    "    optim, epochs=epoch, num_decays=5, warmup_epochs=3, decay_rate=0.8\n",
    ")\n",
    "\n",
    "for _ in range(epoch):\n",
    "    for _ in range(batch_nb):\n",
    "        optim.step()\n",
    "    # scheduler is called after each epoch\n",
    "    scheduler.step()\n",
    "    lr.append(scheduler.get_lr())\n",
    "\n",
    "plt.plot(lr)"
   ]
  },
  {
   "cell_type": "markdown",
   "metadata": {},
   "source": [
    "## Export -"
   ]
  },
  {
   "cell_type": "code",
   "execution_count": null,
   "metadata": {},
   "outputs": [
    {
     "name": "stdout",
     "output_type": "stream",
     "text": [
      "Converted 00_core.logging.ipynb.\n",
      "Converted 00a_core.structures.ipynb.\n",
      "Converted 00b_core.visualize.ipynb.\n",
      "Converted 01_core.nn.utils.ipynb.\n",
      "Converted 01a_core.nn.losses.ipynb.\n",
      "Converted 02_core.nn.optim.optimizers.ipynb.\n",
      "Converted 02a_core.nn.optim.lr_schedulers.ipynb.\n",
      "Converted 03_core.config.ipynb.\n",
      "Converted 03a_core.classes.ipynb.\n",
      "Converted 04_classification.modelling.backbones.ipynb.\n",
      "Converted 05_collections.pandas.ipynb.\n",
      "Converted 06a_collections.callbacks.notebook.ipynb.\n",
      "Converted 06b_collections.callbacks.ema.ipynb.\n",
      "Converted index.ipynb.\n"
     ]
    },
    {
     "data": {
      "application/javascript": [
       "\n",
       "            setTimeout(function() {\n",
       "                var nbb_cell_id = 25;\n",
       "                var nbb_unformatted_code = \"# hide\\nnotebook2script()\";\n",
       "                var nbb_formatted_code = \"# hide\\nnotebook2script()\";\n",
       "                var nbb_cells = Jupyter.notebook.get_cells();\n",
       "                for (var i = 0; i < nbb_cells.length; ++i) {\n",
       "                    if (nbb_cells[i].input_prompt_number == nbb_cell_id) {\n",
       "                        if (nbb_cells[i].get_text() == nbb_unformatted_code) {\n",
       "                             nbb_cells[i].set_text(nbb_formatted_code);\n",
       "                        }\n",
       "                        break;\n",
       "                    }\n",
       "                }\n",
       "            }, 500);\n",
       "            "
      ],
      "text/plain": [
       "<IPython.core.display.Javascript object>"
      ]
     },
     "metadata": {},
     "output_type": "display_data"
    }
   ],
   "source": [
    "# hide\n",
    "notebook2script()"
   ]
  },
  {
   "cell_type": "code",
   "execution_count": null,
   "metadata": {},
   "outputs": [],
   "source": []
  }
 ],
 "metadata": {
  "kernelspec": {
   "display_name": "gale",
   "language": "python",
   "name": "gale"
  }
 },
 "nbformat": 4,
 "nbformat_minor": 5
}
