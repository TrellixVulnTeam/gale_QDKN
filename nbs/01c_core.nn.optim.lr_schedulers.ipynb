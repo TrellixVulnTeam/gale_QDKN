{
 "cells": [
  {
   "cell_type": "code",
   "execution_count": null,
   "id": "banner-tracker",
   "metadata": {},
   "outputs": [],
   "source": [
    "# default_exp core.nn.optim.lr_schedulers"
   ]
  },
  {
   "cell_type": "code",
   "execution_count": null,
   "id": "italic-astrology",
   "metadata": {},
   "outputs": [],
   "source": [
    "# %load_ext nb_black\n",
    "%load_ext autoreload\n",
    "%autoreload 2"
   ]
  },
  {
   "cell_type": "code",
   "execution_count": null,
   "id": "fewer-nation",
   "metadata": {},
   "outputs": [],
   "source": [
    "# hide\n",
    "from nbdev.export import *\n",
    "from nbdev.imports import Config as NbdevConfig\n",
    "from nbdev.showdoc import *\n",
    "\n",
    "nbdev_path = NbdevConfig().path(\"nbs_path\")"
   ]
  },
  {
   "cell_type": "markdown",
   "id": "tested-student",
   "metadata": {},
   "source": [
    "# Learning Rate Schedules\n",
    "> LRSchedulers to scheduler learning rate"
   ]
  },
  {
   "cell_type": "code",
   "execution_count": null,
   "id": "perfect-bracket",
   "metadata": {},
   "outputs": [],
   "source": [
    "# export\n",
    "from typing import *\n",
    "\n",
    "import torch\n",
    "from fvcore.common.param_scheduler import *\n",
    "from torch.optim import Optimizer\n",
    "from torch.optim.lr_scheduler import (\n",
    "    CosineAnnealingWarmRestarts,\n",
    "    MultiStepLR,\n",
    "    OneCycleLR,\n",
    "    ReduceLROnPlateau,\n",
    "    StepLR,\n",
    ")"
   ]
  },
  {
   "cell_type": "code",
   "execution_count": null,
   "id": "surrounded-thirty",
   "metadata": {},
   "outputs": [],
   "source": [
    "from gale.core.nn.optim.optimizers import Adam\n",
    "import matplotlib.pyplot as plt"
   ]
  },
  {
   "cell_type": "code",
   "execution_count": null,
   "id": "roman-bridges",
   "metadata": {},
   "outputs": [],
   "source": [
    "# export\n",
    "_all_ = [\"CosineAnnealingWarmRestarts\", \"MultiStepLR\", \"OneCycleLR\", \"ReduceLROnPlateau\", \"StepLR\"]"
   ]
  },
  {
   "cell_type": "code",
   "execution_count": null,
   "id": "flexible-smoke",
   "metadata": {},
   "outputs": [],
   "source": [
    "# export\n",
    "class LRMultiplier(torch.optim.lr_scheduler._LRScheduler):\n",
    "    \"\"\"\n",
    "    A LRScheduler which uses fvcore  `ParamScheduler` to multiply the\n",
    "    learning rate of each param in the optimizer.\n",
    "    Every step, the learning rate of each parameter becomes its initial value\n",
    "    multiplied by the output of the given `ParamScheduler`.\n",
    "    The absolute learning rate value of each parameter can be different.\n",
    "    This scheduler can be used as long as the relative scale among them do\n",
    "    not change during training.\n",
    "\n",
    "    Source: https://github.com/facebookresearch/detectron2/blob/master/detectron2/solver/lr_scheduler.py\n",
    "    \"\"\"\n",
    "\n",
    "    # NOTES: in the most general case, every LR can use its own scheduler.\n",
    "    # Supporting this requires interaction with the optimizer when its parameter\n",
    "    # group is initialized. For example, classyvision implements its own optimizer\n",
    "    # that allows different schedulers for every parameter group.\n",
    "    # To avoid this complexity, we use this class to support the most common cases\n",
    "    # where the relative scale among all LRs stay unchanged during training.  In this\n",
    "    # case we only need a total of one scheduler that defines the relative LR multiplier.\n",
    "\n",
    "    def __init__(\n",
    "        self,\n",
    "        optimizer: Optimizer,\n",
    "        multiplier: ParamScheduler,\n",
    "        max_iter: int,\n",
    "        last_iter: int = -1,\n",
    "    ):\n",
    "        \"\"\"\n",
    "        Args:\n",
    "            optimizer, last_iter: See ``torch.optim.lr_scheduler._LRScheduler``.\n",
    "                ``last_iter`` is the same as ``last_epoch``.\n",
    "            multiplier: a fvcore ParamScheduler that defines the multiplier on\n",
    "                every LR of the optimizer\n",
    "            max_iter: the total number of training iterations\n",
    "        \"\"\"\n",
    "        if not isinstance(multiplier, ParamScheduler):\n",
    "            raise ValueError(\n",
    "                \"_LRMultiplier(multiplier=) must be an instance of fvcore \"\n",
    "                f\"ParamScheduler. Got {multiplier} instead.\"\n",
    "            )\n",
    "        self._multiplier = multiplier\n",
    "        self._max_iter = max_iter\n",
    "        super().__init__(optimizer, last_epoch=last_iter)\n",
    "\n",
    "    def state_dict(self):\n",
    "        # fvcore schedulers are stateless. Only keep pytorch scheduler states\n",
    "        return {\"base_lrs\": self.base_lrs, \"last_epoch\": self.last_epoch}\n",
    "\n",
    "    def get_lr(self) -> List[float]:\n",
    "        multiplier = self._multiplier(self.last_epoch / self._max_iter)\n",
    "        return [base_lr * multiplier for base_lr in self.base_lrs]"
   ]
  },
  {
   "cell_type": "code",
   "execution_count": null,
   "id": "exposed-holly",
   "metadata": {},
   "outputs": [],
   "source": [
    "# mock training parameters\n",
    "epoch: int = 10\n",
    "batch_nb: int = 10\n",
    "max_steps: int = epoch * batch_nb\n",
    "\n",
    "# mock model\n",
    "model = [torch.nn.Parameter(torch.randn(2, 2, requires_grad=True))]\n",
    "\n",
    "# mock optimizer\n",
    "optim = Adam(model, lr=0.1)"
   ]
  },
  {
   "cell_type": "code",
   "execution_count": null,
   "id": "patent-fruit",
   "metadata": {},
   "outputs": [
    {
     "data": {
      "image/png": "[encoded data removed]",
      "text/plain": [
       "<Figure size 432x288 with 1 Axes>"
      ]
     },
     "metadata": {
      "needs_background": "light"
     },
     "output_type": "display_data"
    }
   ],
   "source": [
    "# Param Scheduler from fvcore\n",
    "param_sched = CosineParamScheduler(1, 0)\n",
    "scheduler = LRMultiplier(optim, max_iter=max_steps, multiplier=param_sched)\n",
    "\n",
    "lr = []\n",
    "\n",
    "for _ in range(epoch):\n",
    "    for _ in range(batch_nb):\n",
    "        optim.step()\n",
    "        optim.zero_grad()\n",
    "        scheduler.step()\n",
    "        lr.append(scheduler.get_lr())\n",
    "\n",
    "plt.plot(lr);"
   ]
  },
  {
   "cell_type": "code",
   "execution_count": null,
   "id": "lucky-patrol",
   "metadata": {},
   "outputs": [],
   "source": [
    "# export\n",
    "def FlatCosScheduler(optimizer: Optimizer, pct_start: float, max_iters: int):\n",
    "    \"\"\"\n",
    "    Schedule the LearningRate at flat `lr` for `pct_start` of `max_iters` before cosine annealing.\n",
    "\n",
    "    Inspired From - https://docs.fast.ai/callback.schedule.html#Learner.fit_flat_cos.\n",
    "    \"\"\"\n",
    "\n",
    "    schedulers = [LinearParamScheduler(1, 1), CosineParamScheduler(1, 0)]\n",
    "\n",
    "    sched = CompositeParamScheduler(\n",
    "        schedulers,\n",
    "        lengths=[pct_start, 1 - pct_start],\n",
    "        interval_scaling=[\"rescaled\", \"rescaled\"],\n",
    "    )\n",
    "\n",
    "    # Wrap Param Scheduler under LRMultiplier class\n",
    "    sched = LRMultiplier(optimizer, sched, max_iter=max_iters)\n",
    "    return sched"
   ]
  },
  {
   "cell_type": "markdown",
   "id": "animated-fashion",
   "metadata": {},
   "source": [
    "> Note:  `.step` should be called after a batch has been used for training."
   ]
  },
  {
   "cell_type": "code",
   "execution_count": null,
   "id": "round-scroll",
   "metadata": {},
   "outputs": [
    {
     "data": {
      "image/png": "[encoded data removed]",
      "text/plain": [
       "<Figure size 432x288 with 1 Axes>"
      ]
     },
     "metadata": {
      "needs_background": "light"
     },
     "output_type": "display_data"
    }
   ],
   "source": [
    "lr = []\n",
    "\n",
    "scheduler = FlatCosScheduler(optim, pct_start=0.72, max_iters=max_steps)\n",
    "\n",
    "for _ in range(epoch):\n",
    "    for _ in range(batch_nb):\n",
    "        optim.step()\n",
    "        optim.zero_grad()\n",
    "        scheduler.step()\n",
    "        lr.append(scheduler.get_lr())\n",
    "\n",
    "plt.plot(lr);"
   ]
  },
  {
   "cell_type": "markdown",
   "id": "instant-cooler",
   "metadata": {},
   "source": [
    "> Tip: You can also set `pct_start=0` for `CosineAnnealing` only."
   ]
  },
  {
   "cell_type": "code",
   "execution_count": null,
   "id": "lightweight-disclaimer",
   "metadata": {},
   "outputs": [
    {
     "data": {
      "image/png": "[encoded data removed]",
      "text/plain": [
       "<Figure size 432x288 with 1 Axes>"
      ]
     },
     "metadata": {
      "needs_background": "light"
     },
     "output_type": "display_data"
    }
   ],
   "source": [
    "lr = []\n",
    "\n",
    "scheduler = FlatCosScheduler(optim, pct_start=0.0, max_iters=max_steps)\n",
    "\n",
    "for _ in range(epoch):\n",
    "    for _ in range(batch_nb):\n",
    "        optim.step()\n",
    "        optim.zero_grad()\n",
    "        scheduler.step()\n",
    "        lr.append(scheduler.get_lr())\n",
    "\n",
    "plt.plot(lr);"
   ]
  },
  {
   "cell_type": "code",
   "execution_count": null,
   "id": "solved-weapon",
   "metadata": {},
   "outputs": [],
   "source": [
    "# export\n",
    "class WarmupParamScheduler(CompositeParamScheduler):\n",
    "    \"\"\"\n",
    "    Add an initial warmup stage to another scheduler.\n",
    "\n",
    "    Source - https://github.com/facebookresearch/fvcore/blob/master/fvcore/common/param_scheduler.py\n",
    "    \"\"\"\n",
    "\n",
    "    def __init__(\n",
    "        self,\n",
    "        scheduler: ParamScheduler,\n",
    "        warmup_factor: float,\n",
    "        warmup_length: float,\n",
    "        warmup_method: str = \"linear\",\n",
    "    ):\n",
    "        \"\"\"\n",
    "        Args:\n",
    "            scheduler: warmup will be added at the beginning of this scheduler\n",
    "            warmup_factor: the factor w.r.t the initial value of ``scheduler``, e.g. 0.001\n",
    "            warmup_length: the relative length (in [0, 1]) of warmup steps w.r.t the entire\n",
    "                training, e.g. 0.01\n",
    "            warmup_method: one of \"linear\" or \"constant\"\n",
    "        \"\"\"\n",
    "        end_value = scheduler(warmup_length)  # the value to reach when warmup ends\n",
    "        start_value = warmup_factor * scheduler(0.0)\n",
    "        if warmup_method == \"constant\":\n",
    "            warmup = ConstantParamScheduler(start_value)\n",
    "        elif warmup_method == \"linear\":\n",
    "            warmup = LinearParamScheduler(start_value, end_value)\n",
    "        else:\n",
    "            raise ValueError(\"Unknown warmup method: {}\".format(warmup_method))\n",
    "        super().__init__(\n",
    "            [warmup, scheduler],\n",
    "            interval_scaling=[\"rescaled\", \"fixed\"],\n",
    "            lengths=[warmup_length, 1 - warmup_length],\n",
    "        )"
   ]
  },
  {
   "cell_type": "code",
   "execution_count": null,
   "id": "polar-aviation",
   "metadata": {},
   "outputs": [],
   "source": [
    "# export\n",
    "def WarmupCosineLR(\n",
    "    optimizer: torch.optim.Optimizer,\n",
    "    max_iters: int,\n",
    "    pct_start: Optional[float] = None,\n",
    "    warmup_steps: Optional[int] = None,\n",
    "):\n",
    "    \"\"\"\n",
    "    Linearly increase `lr` for `pct_start` or `warmup_steps` before cosine annealing from\n",
    "    `pct_start` or `warmup_steps`.\n",
    "    \"\"\"\n",
    "\n",
    "    # warmup iterations\n",
    "    if pct_start is None and warmup_steps is None:\n",
    "        raise ValueError(\"You must define either pct_start OR warmup_steps\")\n",
    "\n",
    "    if warmup_steps is not None and (\n",
    "        warmup_steps <= 0 or not isinstance(warmup_steps, int)\n",
    "    ):\n",
    "        raise ValueError(\n",
    "            \"Expected positive interger warmup_steps, but got {}\".format(warmup_steps)\n",
    "        )\n",
    "    if pct_start is not None and (pct_start <= 0 and not isinstance(pct_start, float)):\n",
    "        raise ValueError(\n",
    "            \"Expected positive float pct_start, but got {}\".format(pct_start)\n",
    "        )\n",
    "\n",
    "    if pct_start is not None:\n",
    "        warmup_length = pct_start\n",
    "\n",
    "    elif warmup_steps is not None:\n",
    "        warmup_length = warmup_steps / max_iters\n",
    "\n",
    "    sched = CosineParamScheduler(1, 0)\n",
    "\n",
    "    sched = WarmupParamScheduler(\n",
    "        sched,\n",
    "        warmup_factor=(1.0 / 1000),\n",
    "        warmup_length=warmup_length,\n",
    "        warmup_method=\"linear\",\n",
    "    )\n",
    "    return LRMultiplier(optimizer, multiplier=sched, max_iter=max_iters)"
   ]
  },
  {
   "cell_type": "markdown",
   "id": "young-provider",
   "metadata": {},
   "source": [
    "Arguments to `WarmupCosineLR` -  \n",
    "* `optimizer` (Optimizer): Wrapped Optimizer.\n",
    "* `max_iters` (int): The total number of steps to train for.\n",
    "* `pct_start` (float): The percentage of steps spent increasing the learning rate. Default: None\n",
    "* `warmup_steps` (int): The no. of steps spent increasing the learning rate. Default: None\n",
    "\n",
    "> Note: You must either provide `pct_start` or `warmup_steps` & `.step` should be called after a batch has been used for training."
   ]
  },
  {
   "cell_type": "code",
   "execution_count": null,
   "id": "usual-characterization",
   "metadata": {},
   "outputs": [
    {
     "data": {
      "image/png": "[encoded data removed]",
      "text/plain": [
       "<Figure size 432x288 with 1 Axes>"
      ]
     },
     "metadata": {
      "needs_background": "light"
     },
     "output_type": "display_data"
    }
   ],
   "source": [
    "lr = []\n",
    "\n",
    "scheduler = WarmupCosineLR(optim, pct_start=0.1, max_iters=max_steps)\n",
    "\n",
    "for _ in range(epoch):\n",
    "    for _ in range(batch_nb):\n",
    "        optim.step()\n",
    "        scheduler.step()\n",
    "        lr.append(scheduler.get_lr())\n",
    "\n",
    "plt.plot(lr);"
   ]
  },
  {
   "cell_type": "code",
   "execution_count": null,
   "id": "italic-desperate",
   "metadata": {},
   "outputs": [],
   "source": [
    "# export\n",
    "def WarmupLinearLR(\n",
    "    optimizer: Optimizer,\n",
    "    max_iters: int,\n",
    "    pct_start: Optional[float] = None,\n",
    "    warmup_steps: Optional[int] = None,\n",
    "):\n",
    "    \"\"\"\n",
    "    Linearly increase `lr` for `pct_start` or `warmup_steps` before\n",
    "    linear decreasing of `lr`.\n",
    "    \"\"\"\n",
    "    # warmup iterations\n",
    "    if pct_start is None and warmup_steps is None:\n",
    "        raise ValueError(\"You must define either pct_start OR warmup_steps\")\n",
    "\n",
    "    if warmup_steps is not None and (\n",
    "        warmup_steps <= 0 or not isinstance(warmup_steps, int)\n",
    "    ):\n",
    "        raise ValueError(\n",
    "            \"Expected positive interger warmup_steps, but got {}\".format(warmup_steps)\n",
    "        )\n",
    "    if pct_start is not None and (pct_start <= 0 and not isinstance(pct_start, float)):\n",
    "        raise ValueError(\n",
    "            \"Expected positive float pct_start, but got {}\".format(pct_start)\n",
    "        )\n",
    "\n",
    "    if pct_start is not None:\n",
    "        warmup_length = pct_start\n",
    "\n",
    "    elif warmup_steps is not None:\n",
    "        warmup_length = warmup_steps / max_iters\n",
    "\n",
    "    sched = LinearParamScheduler(1, 0)\n",
    "    sched = WarmupParamScheduler(\n",
    "        sched,\n",
    "        warmup_factor=(1.0 / 1000),\n",
    "        warmup_length=warmup_length,\n",
    "        warmup_method=\"linear\",\n",
    "    )\n",
    "    return LRMultiplier(optimizer, multiplier=sched, max_iter=max_iters)"
   ]
  },
  {
   "cell_type": "markdown",
   "id": "sitting-eating",
   "metadata": {},
   "source": [
    "Arguments to `WarmupLinearLR` -  \n",
    "* `optimizer` (Optimizer): Wrapped Optimizer.\n",
    "* `max_iters` (int): The total number of steps to train for.\n",
    "* `pct_start` (float): The percentage of steps spent increasing the learning rate. Default: None\n",
    "* `warmup_steps` (int): The no. of steps spent increasing the learning rate. Default: None\n",
    "\n",
    "> Note: You must either provide `pct_start` or `warmup_steps` & `.step` should be called after a batch has been used for training."
   ]
  },
  {
   "cell_type": "code",
   "execution_count": null,
   "id": "extraordinary-morning",
   "metadata": {},
   "outputs": [
    {
     "data": {
      "image/png": "[encoded data removed]",
      "text/plain": [
       "<Figure size 432x288 with 1 Axes>"
      ]
     },
     "metadata": {
      "needs_background": "light"
     },
     "output_type": "display_data"
    }
   ],
   "source": [
    "lr = []\n",
    "\n",
    "scheduler = WarmupLinearLR(optim, pct_start=0.1, max_iters=max_steps)\n",
    "\n",
    "for _ in range(epoch):\n",
    "    for _ in range(batch_nb):\n",
    "        optim.step()\n",
    "        scheduler.step()\n",
    "        lr.append(scheduler.get_lr())\n",
    "\n",
    "plt.plot(lr);"
   ]
  },
  {
   "cell_type": "code",
   "execution_count": null,
   "id": "ancient-trash",
   "metadata": {},
   "outputs": [],
   "source": [
    "# export\n",
    "def WarmupConstantLR(\n",
    "    optimizer: Optimizer,\n",
    "    max_iters: int,\n",
    "    pct_start: Optional[float] = None,\n",
    "    warmup_steps: Optional[int] = None,\n",
    "):\n",
    "    \"\"\"\n",
    "    Linearly increase `lr` for `pct_start` or `warmup_steps` after\n",
    "    which keep the `lr` at constant value.\n",
    "    \"\"\"\n",
    "    # warmup iterations\n",
    "    if pct_start is None and warmup_steps is None:\n",
    "        raise ValueError(\"You must define either pct_start OR warmup_steps\")\n",
    "\n",
    "    if warmup_steps is not None and (\n",
    "        warmup_steps <= 0 or not isinstance(warmup_steps, int)\n",
    "    ):\n",
    "        raise ValueError(\n",
    "            \"Expected positive interger warmup_steps, but got {}\".format(warmup_steps)\n",
    "        )\n",
    "    if pct_start is not None and (pct_start <= 0 and not isinstance(pct_start, float)):\n",
    "        raise ValueError(\n",
    "            \"Expected positive float pct_start, but got {}\".format(pct_start)\n",
    "        )\n",
    "\n",
    "    if pct_start is not None:\n",
    "        warmup_length = pct_start\n",
    "\n",
    "    elif warmup_steps is not None:\n",
    "        warmup_length = warmup_steps / max_iters\n",
    "\n",
    "    sched = LinearParamScheduler(1, 1)\n",
    "    sched = WarmupParamScheduler(\n",
    "        sched,\n",
    "        warmup_factor=(1.0 / 1000),\n",
    "        warmup_length=warmup_length,\n",
    "        warmup_method=\"linear\",\n",
    "    )\n",
    "    return LRMultiplier(optimizer, multiplier=sched, max_iter=max_iters)"
   ]
  },
  {
   "cell_type": "markdown",
   "id": "marine-principal",
   "metadata": {},
   "source": [
    "Arguments to `WarmupConstantLR` -  \n",
    "* `optimizer` (Optimizer): Wrapped Optimizer.\n",
    "* `max_iters` (int): The total number of steps to train for.\n",
    "* `pct_start` (float): The percentage of steps spent increasing the learning rate. Default: None\n",
    "* `warmup_steps` (int): The no. of steps spent increasing the learning rate. Default: None\n",
    "\n",
    "> Note: You must either provide `pct_start` or `warmup_steps` & `.step` should be called after a batch has been used for training."
   ]
  },
  {
   "cell_type": "code",
   "execution_count": null,
   "id": "trying-teaching",
   "metadata": {},
   "outputs": [
    {
     "data": {
      "image/png": "[encoded data removed]",
      "text/plain": [
       "<Figure size 432x288 with 1 Axes>"
      ]
     },
     "metadata": {
      "needs_background": "light"
     },
     "output_type": "display_data"
    }
   ],
   "source": [
    "lr = []\n",
    "\n",
    "scheduler = WarmupConstantLR(optim, pct_start=0.1, max_iters=max_steps)\n",
    "\n",
    "for _ in range(epoch):\n",
    "    for _ in range(batch_nb):\n",
    "        optim.step()\n",
    "        scheduler.step()\n",
    "        lr.append(scheduler.get_lr())\n",
    "\n",
    "plt.plot(lr);"
   ]
  },
  {
   "cell_type": "markdown",
   "id": "vanilla-projector",
   "metadata": {},
   "source": [
    "# Export -"
   ]
  },
  {
   "cell_type": "code",
   "execution_count": null,
   "id": "million-lover",
   "metadata": {},
   "outputs": [
    {
     "name": "stdout",
     "output_type": "stream",
     "text": [
      "Converted 00_core.logging.ipynb.\n",
      "Converted 00a_core.structures.ipynb.\n",
      "Converted 00b_core.visualize.ipynb.\n",
      "Converted 01_core.nn.utils.ipynb.\n",
      "Converted 01a_core.nn.losses.ipynb.\n",
      "Converted 01b_core.nn.optim.optimizers.ipynb.\n",
      "Converted 01c_core.nn.optim.lr_schedulers.ipynb.\n",
      "Converted 03_collections.pandas.ipynb.\n"
     ]
    }
   ],
   "source": [
    "# hide\n",
    "notebook2script()"
   ]
  },
  {
   "cell_type": "code",
   "execution_count": null,
   "id": "baking-experience",
   "metadata": {},
   "outputs": [],
   "source": []
  }
 ],
 "metadata": {
  "kernelspec": {
   "display_name": "gale",
   "language": "python",
   "name": "gale"
  }
 },
 "nbformat": 4,
 "nbformat_minor": 5
}
