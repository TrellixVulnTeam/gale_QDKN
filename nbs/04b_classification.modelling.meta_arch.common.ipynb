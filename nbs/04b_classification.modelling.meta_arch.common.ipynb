{
 "cells": [
  {
   "cell_type": "code",
   "execution_count": null,
   "metadata": {},
   "outputs": [],
   "source": [
    "# default_exp classification.modelling.meta_arch.common"
   ]
  },
  {
   "cell_type": "code",
   "execution_count": null,
   "metadata": {},
   "outputs": [
    {
     "data": {
      "application/javascript": [
       "\n",
       "            setTimeout(function() {\n",
       "                var nbb_cell_id = 2;\n",
       "                var nbb_unformatted_code = \"# hide\\n%load_ext nb_black\\n%load_ext autoreload\\n%autoreload 2\";\n",
       "                var nbb_formatted_code = \"# hide\\n%load_ext nb_black\\n%load_ext autoreload\\n%autoreload 2\";\n",
       "                var nbb_cells = Jupyter.notebook.get_cells();\n",
       "                for (var i = 0; i < nbb_cells.length; ++i) {\n",
       "                    if (nbb_cells[i].input_prompt_number == nbb_cell_id) {\n",
       "                        if (nbb_cells[i].get_text() == nbb_unformatted_code) {\n",
       "                             nbb_cells[i].set_text(nbb_formatted_code);\n",
       "                        }\n",
       "                        break;\n",
       "                    }\n",
       "                }\n",
       "            }, 500);\n",
       "            "
      ],
      "text/plain": [
       "<IPython.core.display.Javascript object>"
      ]
     },
     "metadata": {},
     "output_type": "display_data"
    }
   ],
   "source": [
    "# hide\n",
    "%load_ext nb_black\n",
    "%load_ext autoreload\n",
    "%autoreload 2"
   ]
  },
  {
   "cell_type": "code",
   "execution_count": null,
   "metadata": {},
   "outputs": [
    {
     "data": {
      "application/javascript": [
       "\n",
       "            setTimeout(function() {\n",
       "                var nbb_cell_id = 3;\n",
       "                var nbb_unformatted_code = \"# hide\\nimport warnings\\n\\nfrom nbdev.export import *\\nfrom nbdev.showdoc import *\\n\\nwarnings.filterwarnings(\\\"ignore\\\")\";\n",
       "                var nbb_formatted_code = \"# hide\\nimport warnings\\n\\nfrom nbdev.export import *\\nfrom nbdev.showdoc import *\\n\\nwarnings.filterwarnings(\\\"ignore\\\")\";\n",
       "                var nbb_cells = Jupyter.notebook.get_cells();\n",
       "                for (var i = 0; i < nbb_cells.length; ++i) {\n",
       "                    if (nbb_cells[i].input_prompt_number == nbb_cell_id) {\n",
       "                        if (nbb_cells[i].get_text() == nbb_unformatted_code) {\n",
       "                             nbb_cells[i].set_text(nbb_formatted_code);\n",
       "                        }\n",
       "                        break;\n",
       "                    }\n",
       "                }\n",
       "            }, 500);\n",
       "            "
      ],
      "text/plain": [
       "<IPython.core.display.Javascript object>"
      ]
     },
     "metadata": {},
     "output_type": "display_data"
    }
   ],
   "source": [
    "# hide\n",
    "import warnings\n",
    "\n",
    "from nbdev.export import *\n",
    "from nbdev.showdoc import *\n",
    "\n",
    "warnings.filterwarnings(\"ignore\")"
   ]
  },
  {
   "cell_type": "markdown",
   "metadata": {},
   "source": [
    "# Meta Architectures : Generalized Image Classifier \n",
    "> Default Model Architectures for Image Classification"
   ]
  },
  {
   "cell_type": "code",
   "execution_count": null,
   "metadata": {},
   "outputs": [
    {
     "data": {
      "application/javascript": [
       "\n",
       "            setTimeout(function() {\n",
       "                var nbb_cell_id = 4;\n",
       "                var nbb_unformatted_code = \"# export\\nimport logging\\nfrom typing import *\\n\\nimport torch\\nfrom omegaconf import DictConfig, OmegaConf\\nfrom pytorch_lightning.core.memory import get_human_readable_count\\nfrom torch.nn import Module\\n\\nfrom gale.classification.modelling.backbones import ImageClassificationBackbone\\nfrom gale.classification.modelling.build import build_backbone, build_head\\nfrom gale.classification.modelling.heads import ImageClassificationHead\\nfrom gale.core.classes import GaleModule\\nfrom gale.core.nn.shape_spec import ShapeSpec\\n\\n_logger = logging.getLogger(__name__)\";\n",
       "                var nbb_formatted_code = \"# export\\nimport logging\\nfrom typing import *\\n\\nimport torch\\nfrom omegaconf import DictConfig, OmegaConf\\nfrom pytorch_lightning.core.memory import get_human_readable_count\\nfrom torch.nn import Module\\n\\nfrom gale.classification.modelling.backbones import ImageClassificationBackbone\\nfrom gale.classification.modelling.build import build_backbone, build_head\\nfrom gale.classification.modelling.heads import ImageClassificationHead\\nfrom gale.core.classes import GaleModule\\nfrom gale.core.nn.shape_spec import ShapeSpec\\n\\n_logger = logging.getLogger(__name__)\";\n",
       "                var nbb_cells = Jupyter.notebook.get_cells();\n",
       "                for (var i = 0; i < nbb_cells.length; ++i) {\n",
       "                    if (nbb_cells[i].input_prompt_number == nbb_cell_id) {\n",
       "                        if (nbb_cells[i].get_text() == nbb_unformatted_code) {\n",
       "                             nbb_cells[i].set_text(nbb_formatted_code);\n",
       "                        }\n",
       "                        break;\n",
       "                    }\n",
       "                }\n",
       "            }, 500);\n",
       "            "
      ],
      "text/plain": [
       "<IPython.core.display.Javascript object>"
      ]
     },
     "metadata": {},
     "output_type": "display_data"
    }
   ],
   "source": [
    "# export\n",
    "import logging\n",
    "from typing import *\n",
    "\n",
    "import torch\n",
    "from omegaconf import DictConfig, OmegaConf\n",
    "from pytorch_lightning.core.memory import get_human_readable_count\n",
    "from torch.nn import Module\n",
    "\n",
    "from gale.classification.modelling.backbones import ImageClassificationBackbone\n",
    "from gale.classification.modelling.build import build_backbone, build_head\n",
    "from gale.classification.modelling.heads import ImageClassificationHead\n",
    "from gale.core.classes import GaleModule\n",
    "from gale.core.nn.shape_spec import ShapeSpec\n",
    "\n",
    "_logger = logging.getLogger(__name__)"
   ]
  },
  {
   "cell_type": "code",
   "execution_count": null,
   "metadata": {},
   "outputs": [
    {
     "data": {
      "application/javascript": [
       "\n",
       "            setTimeout(function() {\n",
       "                var nbb_cell_id = 6;\n",
       "                var nbb_unformatted_code = \"# hide\\nfrom gale.core.utils.logger import setup_logger\\n\\nsetup_logger()\\n_logger = logging.getLogger(\\\"gale.classification.modelling.meta_arch.common\\\")\";\n",
       "                var nbb_formatted_code = \"# hide\\nfrom gale.core.utils.logger import setup_logger\\n\\nsetup_logger()\\n_logger = logging.getLogger(\\\"gale.classification.modelling.meta_arch.common\\\")\";\n",
       "                var nbb_cells = Jupyter.notebook.get_cells();\n",
       "                for (var i = 0; i < nbb_cells.length; ++i) {\n",
       "                    if (nbb_cells[i].input_prompt_number == nbb_cell_id) {\n",
       "                        if (nbb_cells[i].get_text() == nbb_unformatted_code) {\n",
       "                             nbb_cells[i].set_text(nbb_formatted_code);\n",
       "                        }\n",
       "                        break;\n",
       "                    }\n",
       "                }\n",
       "            }, 500);\n",
       "            "
      ],
      "text/plain": [
       "<IPython.core.display.Javascript object>"
      ]
     },
     "metadata": {},
     "output_type": "display_data"
    }
   ],
   "source": [
    "# hide\n",
    "from gale.core.utils.logger import setup_logger\n",
    "\n",
    "setup_logger()\n",
    "_logger = logging.getLogger(\"gale.classification.modelling.meta_arch.common\")"
   ]
  },
  {
   "cell_type": "code",
   "execution_count": null,
   "metadata": {},
   "outputs": [
    {
     "data": {
      "application/javascript": [
       "\n",
       "            setTimeout(function() {\n",
       "                var nbb_cell_id = 7;\n",
       "                var nbb_unformatted_code = \"# export\\nclass GeneralizedImageClassifier(GaleModule):\\n    \\\"\\\"\\\"\\n    A General Image Classifier. Any models that contains the following 2 components:\\n    1. Feature extractor (aka backbone)\\n    2. Image Classification head (Pooling + Classifier)\\n    \\\"\\\"\\\"\\n\\n    def __init__(\\n        self,\\n        backbone: ImageClassificationBackbone,\\n        head: ImageClassificationHead,\\n    ):\\n        \\\"\\\"\\\"\\n        Arguments:\\n        1. `backbone`: a `ImageClassificationBackbone` module, must follow gale's backbone interface\\n        2. `head`: a head containg the classifier. and the pooling layer, must be an instance of\\n        `ImageClassificationHead`.\\n        \\\"\\\"\\\"\\n        super(GeneralizedImageClassifier, self).__init__()\\n        self.backbone = backbone\\n        assert isinstance(backbone, ImageClassificationBackbone)\\n        self.head = head\\n        assert isinstance(head, ImageClassificationHead)\\n\\n    def forward(self, batched_inputs: torch.Tensor) -> torch.Tensor:\\n        \\\"\\\"\\\"\\n        Runs the batched_inputs through `backbone` followed by the `head`.\\n        Returns a Tensor which contains the logits for the batched_inputs.\\n        \\\"\\\"\\\"\\n        out = self.backbone(batched_inputs)\\n        out = self.head(out)\\n        return out\\n\\n    @classmethod\\n    def from_config_dict(cls, cfg: DictConfig):\\n        \\\"\\\"\\\"\\n        Instantiate the Meta Architecture from gale config\\n        \\\"\\\"\\\"\\n        # fmt: off\\n        \\n        if not hasattr(cfg.model, \\\"backbone\\\"):\\n            _logger.error(\\\"Configuration for model backbone not found\\\")\\n            raise ValueError\\n            \\n        if not hasattr(cfg.model, \\\"head\\\"):\\n            _logger.error(\\\"Configuration for model head not found\\\")\\n            raise ValueError\\n            \\n        input_shape = ShapeSpec(cfg.input.channels, cfg.input.height, cfg.input.width)\\n        _logger.debug(f\\\"Inputs: {input_shape}\\\")\\n        \\n        backbone = build_backbone(cfg, input_shape=input_shape)\\n        param_count = get_human_readable_count(sum([m.numel() for m in backbone.parameters()]))\\n        _logger.debug('Backbone {} created, param count: {}.'.format(cfg.model.backbone.name, param_count))\\n        \\n        head = build_head(cfg, backbone.output_shape())\\n        param_count = get_human_readable_count(sum([m.numel() for m in head.parameters()]))\\n        _logger.debug('Head {} created, param count: {}.'.format(cfg.model.head.name, param_count))\\n        \\n        kwds = {\\\"backbone\\\": backbone, \\\"head\\\": head}\\n        \\n        instance = cls(**kwds)\\n        instance._cfg = OmegaConf.to_container(cfg.model, resolve=True)\\n        instance.input_shape = input_shape\\n        param_count = get_human_readable_count(sum([m.numel() for m in instance.parameters()]))\\n        _logger.info(\\\"Model created, param count: {}.\\\".format(param_count))\\n        # fmt: on\\n        return instance\\n\\n    def build_param_dicts(self):\\n        \\\"\\\"\\\"\\n        Builds up the Paramters dicts for optimization.\\n        \\\"\\\"\\\"\\n        backbone_params = self.backbone.build_param_dicts()\\n        head_params = self.head.build_param_dicts()\\n        return backbone_params + head_params\\n\\n    def get_lrs(self) -> List:\\n        \\\"\\\"\\\"\\n        Returns a List containining the Lrs' for\\n        each parameter group. This is required to build schedulers\\n        like `torch.optim.lr_scheduler.OneCycleScheduler` which needs\\n        the max lrs' for all the Param Groups.\\n        \\\"\\\"\\\"\\n        lrs = []\\n\\n        for p in self.build_param_dicts():\\n            lrs.append(p[\\\"lr\\\"])\\n        return lrs\";\n",
       "                var nbb_formatted_code = \"# export\\nclass GeneralizedImageClassifier(GaleModule):\\n    \\\"\\\"\\\"\\n    A General Image Classifier. Any models that contains the following 2 components:\\n    1. Feature extractor (aka backbone)\\n    2. Image Classification head (Pooling + Classifier)\\n    \\\"\\\"\\\"\\n\\n    def __init__(\\n        self,\\n        backbone: ImageClassificationBackbone,\\n        head: ImageClassificationHead,\\n    ):\\n        \\\"\\\"\\\"\\n        Arguments:\\n        1. `backbone`: a `ImageClassificationBackbone` module, must follow gale's backbone interface\\n        2. `head`: a head containg the classifier. and the pooling layer, must be an instance of\\n        `ImageClassificationHead`.\\n        \\\"\\\"\\\"\\n        super(GeneralizedImageClassifier, self).__init__()\\n        self.backbone = backbone\\n        assert isinstance(backbone, ImageClassificationBackbone)\\n        self.head = head\\n        assert isinstance(head, ImageClassificationHead)\\n\\n    def forward(self, batched_inputs: torch.Tensor) -> torch.Tensor:\\n        \\\"\\\"\\\"\\n        Runs the batched_inputs through `backbone` followed by the `head`.\\n        Returns a Tensor which contains the logits for the batched_inputs.\\n        \\\"\\\"\\\"\\n        out = self.backbone(batched_inputs)\\n        out = self.head(out)\\n        return out\\n\\n    @classmethod\\n    def from_config_dict(cls, cfg: DictConfig):\\n        \\\"\\\"\\\"\\n        Instantiate the Meta Architecture from gale config\\n        \\\"\\\"\\\"\\n        # fmt: off\\n        \\n        if not hasattr(cfg.model, \\\"backbone\\\"):\\n            _logger.error(\\\"Configuration for model backbone not found\\\")\\n            raise ValueError\\n            \\n        if not hasattr(cfg.model, \\\"head\\\"):\\n            _logger.error(\\\"Configuration for model head not found\\\")\\n            raise ValueError\\n            \\n        input_shape = ShapeSpec(cfg.input.channels, cfg.input.height, cfg.input.width)\\n        _logger.debug(f\\\"Inputs: {input_shape}\\\")\\n        \\n        backbone = build_backbone(cfg, input_shape=input_shape)\\n        param_count = get_human_readable_count(sum([m.numel() for m in backbone.parameters()]))\\n        _logger.debug('Backbone {} created, param count: {}.'.format(cfg.model.backbone.name, param_count))\\n        \\n        head = build_head(cfg, backbone.output_shape())\\n        param_count = get_human_readable_count(sum([m.numel() for m in head.parameters()]))\\n        _logger.debug('Head {} created, param count: {}.'.format(cfg.model.head.name, param_count))\\n        \\n        kwds = {\\\"backbone\\\": backbone, \\\"head\\\": head}\\n        \\n        instance = cls(**kwds)\\n        instance._cfg = OmegaConf.to_container(cfg.model, resolve=True)\\n        instance.input_shape = input_shape\\n        param_count = get_human_readable_count(sum([m.numel() for m in instance.parameters()]))\\n        _logger.info(\\\"Model created, param count: {}.\\\".format(param_count))\\n        # fmt: on\\n        return instance\\n\\n    def build_param_dicts(self):\\n        \\\"\\\"\\\"\\n        Builds up the Paramters dicts for optimization.\\n        \\\"\\\"\\\"\\n        backbone_params = self.backbone.build_param_dicts()\\n        head_params = self.head.build_param_dicts()\\n        return backbone_params + head_params\\n\\n    def get_lrs(self) -> List:\\n        \\\"\\\"\\\"\\n        Returns a List containining the Lrs' for\\n        each parameter group. This is required to build schedulers\\n        like `torch.optim.lr_scheduler.OneCycleScheduler` which needs\\n        the max lrs' for all the Param Groups.\\n        \\\"\\\"\\\"\\n        lrs = []\\n\\n        for p in self.build_param_dicts():\\n            lrs.append(p[\\\"lr\\\"])\\n        return lrs\";\n",
       "                var nbb_cells = Jupyter.notebook.get_cells();\n",
       "                for (var i = 0; i < nbb_cells.length; ++i) {\n",
       "                    if (nbb_cells[i].input_prompt_number == nbb_cell_id) {\n",
       "                        if (nbb_cells[i].get_text() == nbb_unformatted_code) {\n",
       "                             nbb_cells[i].set_text(nbb_formatted_code);\n",
       "                        }\n",
       "                        break;\n",
       "                    }\n",
       "                }\n",
       "            }, 500);\n",
       "            "
      ],
      "text/plain": [
       "<IPython.core.display.Javascript object>"
      ]
     },
     "metadata": {},
     "output_type": "display_data"
    }
   ],
   "source": [
    "# export\n",
    "class GeneralizedImageClassifier(GaleModule):\n",
    "    \"\"\"\n",
    "    A General Image Classifier. Any models that contains the following 2 components:\n",
    "    1. Feature extractor (aka backbone)\n",
    "    2. Image Classification head (Pooling + Classifier)\n",
    "    \"\"\"\n",
    "\n",
    "    def __init__(\n",
    "        self,\n",
    "        backbone: ImageClassificationBackbone,\n",
    "        head: ImageClassificationHead,\n",
    "    ):\n",
    "        \"\"\"\n",
    "        Arguments:\n",
    "        1. `backbone`: a `ImageClassificationBackbone` module, must follow gale's backbone interface\n",
    "        2. `head`: a head containg the classifier. and the pooling layer, must be an instance of\n",
    "        `ImageClassificationHead`.\n",
    "        \"\"\"\n",
    "        super(GeneralizedImageClassifier, self).__init__()\n",
    "        self.backbone = backbone\n",
    "        assert isinstance(backbone, ImageClassificationBackbone)\n",
    "        self.head = head\n",
    "        assert isinstance(head, ImageClassificationHead)\n",
    "\n",
    "    def forward(self, batched_inputs: torch.Tensor) -> torch.Tensor:\n",
    "        \"\"\"\n",
    "        Runs the batched_inputs through `backbone` followed by the `head`.\n",
    "        Returns a Tensor which contains the logits for the batched_inputs.\n",
    "        \"\"\"\n",
    "        out = self.backbone(batched_inputs)\n",
    "        out = self.head(out)\n",
    "        return out\n",
    "\n",
    "    @classmethod\n",
    "    def from_config_dict(cls, cfg: DictConfig):\n",
    "        \"\"\"\n",
    "        Instantiate the Meta Architecture from gale config\n",
    "        \"\"\"\n",
    "        # fmt: off\n",
    "        \n",
    "        if not hasattr(cfg.model, \"backbone\"):\n",
    "            _logger.error(\"Configuration for model backbone not found\")\n",
    "            raise ValueError\n",
    "            \n",
    "        if not hasattr(cfg.model, \"head\"):\n",
    "            _logger.error(\"Configuration for model head not found\")\n",
    "            raise ValueError\n",
    "            \n",
    "        input_shape = ShapeSpec(cfg.input.channels, cfg.input.height, cfg.input.width)\n",
    "        _logger.debug(f\"Inputs: {input_shape}\")\n",
    "        \n",
    "        backbone = build_backbone(cfg, input_shape=input_shape)\n",
    "        param_count = get_human_readable_count(sum([m.numel() for m in backbone.parameters()]))\n",
    "        _logger.debug('Backbone {} created, param count: {}.'.format(cfg.model.backbone.name, param_count))\n",
    "        \n",
    "        head = build_head(cfg, backbone.output_shape())\n",
    "        param_count = get_human_readable_count(sum([m.numel() for m in head.parameters()]))\n",
    "        _logger.debug('Head {} created, param count: {}.'.format(cfg.model.head.name, param_count))\n",
    "        \n",
    "        kwds = {\"backbone\": backbone, \"head\": head}\n",
    "        \n",
    "        instance = cls(**kwds)\n",
    "        instance._cfg = OmegaConf.to_container(cfg.model, resolve=True)\n",
    "        instance.input_shape = input_shape\n",
    "        param_count = get_human_readable_count(sum([m.numel() for m in instance.parameters()]))\n",
    "        _logger.info(\"Model created, param count: {}.\".format(param_count))\n",
    "        # fmt: on\n",
    "        return instance\n",
    "\n",
    "    def build_param_dicts(self):\n",
    "        \"\"\"\n",
    "        Builds up the Paramters dicts for optimization.\n",
    "        \"\"\"\n",
    "        backbone_params = self.backbone.build_param_dicts()\n",
    "        head_params = self.head.build_param_dicts()\n",
    "        return backbone_params + head_params\n",
    "\n",
    "    def get_lrs(self) -> List:\n",
    "        \"\"\"\n",
    "        Returns a List containining the Lrs' for\n",
    "        each parameter group. This is required to build schedulers\n",
    "        like `torch.optim.lr_scheduler.OneCycleScheduler` which needs\n",
    "        the max lrs' for all the Param Groups.\n",
    "        \"\"\"\n",
    "        lrs = []\n",
    "\n",
    "        for p in self.build_param_dicts():\n",
    "            lrs.append(p[\"lr\"])\n",
    "        return lrs"
   ]
  },
  {
   "cell_type": "code",
   "execution_count": null,
   "metadata": {},
   "outputs": [
    {
     "data": {
      "text/markdown": [
       "<h2 id=\"GeneralizedImageClassifier\" class=\"doc_header\"><code>class</code> <code>GeneralizedImageClassifier</code><a href=\"\" class=\"source_link\" style=\"float:right\">[source]</a></h2>\n",
       "\n",
       "> <code>GeneralizedImageClassifier</code>(**`backbone`**:[`ImageClassificationBackbone`](/gale/classification.modelling.backbones.html#ImageClassificationBackbone), **`head`**:[`ImageClassificationHead`](/gale/classification.modelling.heads.html#ImageClassificationHead)) :: [`GaleModule`](/gale/core.classes.html#GaleModule)\n",
       "\n",
       "A General Image Classifier. Any models that contains the following 2 components:\n",
       "1. Feature extractor (aka backbone)\n",
       "2. Image Classification head (Pooling + Classifier)"
      ],
      "text/plain": [
       "<IPython.core.display.Markdown object>"
      ]
     },
     "metadata": {},
     "output_type": "display_data"
    },
    {
     "data": {
      "text/markdown": [
       "<h4 id=\"GeneralizedImageClassifier.__init__\" class=\"doc_header\"><code>GeneralizedImageClassifier.__init__</code><a href=\"__main__.py#L9\" class=\"source_link\" style=\"float:right\">[source]</a></h4>\n",
       "\n",
       "> <code>GeneralizedImageClassifier.__init__</code>(**`backbone`**:[`ImageClassificationBackbone`](/gale/classification.modelling.backbones.html#ImageClassificationBackbone), **`head`**:[`ImageClassificationHead`](/gale/classification.modelling.heads.html#ImageClassificationHead))\n",
       "\n",
       "Arguments:\n",
       "1. `backbone`: a [`ImageClassificationBackbone`](/gale/classification.modelling.backbones.html#ImageClassificationBackbone) module, must follow gale's backbone interface\n",
       "2. `head`: a head containg the classifier. and the pooling layer, must be an instance of\n",
       "[`ImageClassificationHead`](/gale/classification.modelling.heads.html#ImageClassificationHead)."
      ],
      "text/plain": [
       "<IPython.core.display.Markdown object>"
      ]
     },
     "metadata": {},
     "output_type": "display_data"
    },
    {
     "data": {
      "application/javascript": [
       "\n",
       "            setTimeout(function() {\n",
       "                var nbb_cell_id = 9;\n",
       "                var nbb_unformatted_code = \"show_doc(GeneralizedImageClassifier)\\nshow_doc(GeneralizedImageClassifier.__init__)\";\n",
       "                var nbb_formatted_code = \"show_doc(GeneralizedImageClassifier)\\nshow_doc(GeneralizedImageClassifier.__init__)\";\n",
       "                var nbb_cells = Jupyter.notebook.get_cells();\n",
       "                for (var i = 0; i < nbb_cells.length; ++i) {\n",
       "                    if (nbb_cells[i].input_prompt_number == nbb_cell_id) {\n",
       "                        if (nbb_cells[i].get_text() == nbb_unformatted_code) {\n",
       "                             nbb_cells[i].set_text(nbb_formatted_code);\n",
       "                        }\n",
       "                        break;\n",
       "                    }\n",
       "                }\n",
       "            }, 500);\n",
       "            "
      ],
      "text/plain": [
       "<IPython.core.display.Javascript object>"
      ]
     },
     "metadata": {},
     "output_type": "display_data"
    }
   ],
   "source": [
    "show_doc(GeneralizedImageClassifier)\n",
    "show_doc(GeneralizedImageClassifier.__init__)"
   ]
  },
  {
   "cell_type": "code",
   "execution_count": null,
   "metadata": {},
   "outputs": [
    {
     "data": {
      "text/markdown": [
       "<h4 id=\"GeneralizedImageClassifier.from_config_dict\" class=\"doc_header\"><code>GeneralizedImageClassifier.from_config_dict</code><a href=\"__main__.py#L35\" class=\"source_link\" style=\"float:right\">[source]</a></h4>\n",
       "\n",
       "> <code>GeneralizedImageClassifier.from_config_dict</code>(**`cfg`**:`DictConfig`)\n",
       "\n",
       "Instantiate the Meta Architecture from gale config"
      ],
      "text/plain": [
       "<IPython.core.display.Markdown object>"
      ]
     },
     "metadata": {},
     "output_type": "display_data"
    },
    {
     "data": {
      "application/javascript": [
       "\n",
       "            setTimeout(function() {\n",
       "                var nbb_cell_id = 10;\n",
       "                var nbb_unformatted_code = \"show_doc(GeneralizedImageClassifier.from_config_dict)\";\n",
       "                var nbb_formatted_code = \"show_doc(GeneralizedImageClassifier.from_config_dict)\";\n",
       "                var nbb_cells = Jupyter.notebook.get_cells();\n",
       "                for (var i = 0; i < nbb_cells.length; ++i) {\n",
       "                    if (nbb_cells[i].input_prompt_number == nbb_cell_id) {\n",
       "                        if (nbb_cells[i].get_text() == nbb_unformatted_code) {\n",
       "                             nbb_cells[i].set_text(nbb_formatted_code);\n",
       "                        }\n",
       "                        break;\n",
       "                    }\n",
       "                }\n",
       "            }, 500);\n",
       "            "
      ],
      "text/plain": [
       "<IPython.core.display.Javascript object>"
      ]
     },
     "metadata": {},
     "output_type": "display_data"
    }
   ],
   "source": [
    "show_doc(GeneralizedImageClassifier.from_config_dict)"
   ]
  },
  {
   "cell_type": "code",
   "execution_count": null,
   "metadata": {},
   "outputs": [
    {
     "data": {
      "text/markdown": [
       "<h4 id=\"GeneralizedImageClassifier.forward\" class=\"doc_header\"><code>GeneralizedImageClassifier.forward</code><a href=\"__main__.py#L26\" class=\"source_link\" style=\"float:right\">[source]</a></h4>\n",
       "\n",
       "> <code>GeneralizedImageClassifier.forward</code>(**`batched_inputs`**:`Tensor`)\n",
       "\n",
       "Runs the batched_inputs through `backbone` followed by the `head`.\n",
       "Returns a Tensor which contains the logits for the batched_inputs."
      ],
      "text/plain": [
       "<IPython.core.display.Markdown object>"
      ]
     },
     "metadata": {},
     "output_type": "display_data"
    },
    {
     "data": {
      "application/javascript": [
       "\n",
       "            setTimeout(function() {\n",
       "                var nbb_cell_id = 12;\n",
       "                var nbb_unformatted_code = \"show_doc(GeneralizedImageClassifier.forward)\";\n",
       "                var nbb_formatted_code = \"show_doc(GeneralizedImageClassifier.forward)\";\n",
       "                var nbb_cells = Jupyter.notebook.get_cells();\n",
       "                for (var i = 0; i < nbb_cells.length; ++i) {\n",
       "                    if (nbb_cells[i].input_prompt_number == nbb_cell_id) {\n",
       "                        if (nbb_cells[i].get_text() == nbb_unformatted_code) {\n",
       "                             nbb_cells[i].set_text(nbb_formatted_code);\n",
       "                        }\n",
       "                        break;\n",
       "                    }\n",
       "                }\n",
       "            }, 500);\n",
       "            "
      ],
      "text/plain": [
       "<IPython.core.display.Javascript object>"
      ]
     },
     "metadata": {},
     "output_type": "display_data"
    }
   ],
   "source": [
    "show_doc(GeneralizedImageClassifier.forward)"
   ]
  },
  {
   "cell_type": "code",
   "execution_count": null,
   "metadata": {},
   "outputs": [
    {
     "data": {
      "text/markdown": [
       "<h4 id=\"GeneralizedImageClassifier.build_param_dicts\" class=\"doc_header\"><code>GeneralizedImageClassifier.build_param_dicts</code><a href=\"__main__.py#L71\" class=\"source_link\" style=\"float:right\">[source]</a></h4>\n",
       "\n",
       "> <code>GeneralizedImageClassifier.build_param_dicts</code>()\n",
       "\n",
       "Builds up the Paramters dicts for optimization."
      ],
      "text/plain": [
       "<IPython.core.display.Markdown object>"
      ]
     },
     "metadata": {},
     "output_type": "display_data"
    },
    {
     "data": {
      "application/javascript": [
       "\n",
       "            setTimeout(function() {\n",
       "                var nbb_cell_id = 13;\n",
       "                var nbb_unformatted_code = \"show_doc(GeneralizedImageClassifier.build_param_dicts)\";\n",
       "                var nbb_formatted_code = \"show_doc(GeneralizedImageClassifier.build_param_dicts)\";\n",
       "                var nbb_cells = Jupyter.notebook.get_cells();\n",
       "                for (var i = 0; i < nbb_cells.length; ++i) {\n",
       "                    if (nbb_cells[i].input_prompt_number == nbb_cell_id) {\n",
       "                        if (nbb_cells[i].get_text() == nbb_unformatted_code) {\n",
       "                             nbb_cells[i].set_text(nbb_formatted_code);\n",
       "                        }\n",
       "                        break;\n",
       "                    }\n",
       "                }\n",
       "            }, 500);\n",
       "            "
      ],
      "text/plain": [
       "<IPython.core.display.Javascript object>"
      ]
     },
     "metadata": {},
     "output_type": "display_data"
    }
   ],
   "source": [
    "show_doc(GeneralizedImageClassifier.build_param_dicts)"
   ]
  },
  {
   "cell_type": "markdown",
   "metadata": {},
   "source": [
    "> Note: Any Custom Meta Architecture that you build should inherit from `GaleModule` and must be registered in `META_ARCH_REGISTRY`."
   ]
  },
  {
   "cell_type": "markdown",
   "metadata": {},
   "source": [
    "## Instantiation via config"
   ]
  },
  {
   "cell_type": "code",
   "execution_count": null,
   "metadata": {},
   "outputs": [
    {
     "data": {
      "application/javascript": [
       "\n",
       "            setTimeout(function() {\n",
       "                var nbb_cell_id = 14;\n",
       "                var nbb_unformatted_code = \"from dataclasses import dataclass, field\\nfrom omegaconf import MISSING, OmegaConf\";\n",
       "                var nbb_formatted_code = \"from dataclasses import dataclass, field\\nfrom omegaconf import MISSING, OmegaConf\";\n",
       "                var nbb_cells = Jupyter.notebook.get_cells();\n",
       "                for (var i = 0; i < nbb_cells.length; ++i) {\n",
       "                    if (nbb_cells[i].input_prompt_number == nbb_cell_id) {\n",
       "                        if (nbb_cells[i].get_text() == nbb_unformatted_code) {\n",
       "                             nbb_cells[i].set_text(nbb_formatted_code);\n",
       "                        }\n",
       "                        break;\n",
       "                    }\n",
       "                }\n",
       "            }, 500);\n",
       "            "
      ],
      "text/plain": [
       "<IPython.core.display.Javascript object>"
      ]
     },
     "metadata": {},
     "output_type": "display_data"
    }
   ],
   "source": [
    "from dataclasses import dataclass, field\n",
    "from omegaconf import MISSING, OmegaConf"
   ]
  },
  {
   "cell_type": "markdown",
   "metadata": {},
   "source": [
    "dataclasses for config creation - "
   ]
  },
  {
   "cell_type": "code",
   "execution_count": null,
   "metadata": {},
   "outputs": [
    {
     "data": {
      "application/javascript": [
       "\n",
       "            setTimeout(function() {\n",
       "                var nbb_cell_id = 15;\n",
       "                var nbb_unformatted_code = \"@dataclass\\nclass BackboneConf:\\n    model_name: str = \\\"resnet18\\\"\\n    act: Any = None\\n    lr: Any = 1e-03\\n    lr_div: Any = 10\\n    wd: Any = 0.0\\n    freeze_at: int = 2\\n    pretrained: bool = True\\n    drop_block_rate: Any = None\\n    drop_path_rate: Any = None\\n    bn_tf: bool = False\\n\\n\\n@dataclass\\nclass HeadConf:\\n    num_classes: int = MISSING\\n    act: str = \\\"ReLU\\\"\\n    lin_ftrs: Any = None\\n    ps: Any = 0.5\\n    concat_pool: bool = True\\n    first_bn: bool = True\\n    bn_final: bool = False\\n    lr: float = 0.002\\n    wd: float = 0\\n    filter_wd: bool = False\";\n",
       "                var nbb_formatted_code = \"@dataclass\\nclass BackboneConf:\\n    model_name: str = \\\"resnet18\\\"\\n    act: Any = None\\n    lr: Any = 1e-03\\n    lr_div: Any = 10\\n    wd: Any = 0.0\\n    freeze_at: int = 2\\n    pretrained: bool = True\\n    drop_block_rate: Any = None\\n    drop_path_rate: Any = None\\n    bn_tf: bool = False\\n\\n\\n@dataclass\\nclass HeadConf:\\n    num_classes: int = MISSING\\n    act: str = \\\"ReLU\\\"\\n    lin_ftrs: Any = None\\n    ps: Any = 0.5\\n    concat_pool: bool = True\\n    first_bn: bool = True\\n    bn_final: bool = False\\n    lr: float = 0.002\\n    wd: float = 0\\n    filter_wd: bool = False\";\n",
       "                var nbb_cells = Jupyter.notebook.get_cells();\n",
       "                for (var i = 0; i < nbb_cells.length; ++i) {\n",
       "                    if (nbb_cells[i].input_prompt_number == nbb_cell_id) {\n",
       "                        if (nbb_cells[i].get_text() == nbb_unformatted_code) {\n",
       "                             nbb_cells[i].set_text(nbb_formatted_code);\n",
       "                        }\n",
       "                        break;\n",
       "                    }\n",
       "                }\n",
       "            }, 500);\n",
       "            "
      ],
      "text/plain": [
       "<IPython.core.display.Javascript object>"
      ]
     },
     "metadata": {},
     "output_type": "display_data"
    }
   ],
   "source": [
    "@dataclass\n",
    "class BackboneConf:\n",
    "    model_name: str = \"resnet18\"\n",
    "    act: Any = None\n",
    "    lr: Any = 1e-03\n",
    "    lr_div: Any = 10\n",
    "    wd: Any = 0.0\n",
    "    freeze_at: int = 2\n",
    "    pretrained: bool = True\n",
    "    drop_block_rate: Any = None\n",
    "    drop_path_rate: Any = None\n",
    "    bn_tf: bool = False\n",
    "\n",
    "\n",
    "@dataclass\n",
    "class HeadConf:\n",
    "    num_classes: int = MISSING\n",
    "    act: str = \"ReLU\"\n",
    "    lin_ftrs: Any = None\n",
    "    ps: Any = 0.5\n",
    "    concat_pool: bool = True\n",
    "    first_bn: bool = True\n",
    "    bn_final: bool = False\n",
    "    lr: float = 0.002\n",
    "    wd: float = 0\n",
    "    filter_wd: bool = False"
   ]
  },
  {
   "cell_type": "code",
   "execution_count": null,
   "metadata": {},
   "outputs": [
    {
     "data": {
      "application/javascript": [
       "\n",
       "            setTimeout(function() {\n",
       "                var nbb_cell_id = 16;\n",
       "                var nbb_unformatted_code = \"b_args = OmegaConf.structured(BackboneConf())\\nh_args = OmegaConf.structured(HeadConf(num_classes=10))\\n\\n# Backbone config\\nb = OmegaConf.create()\\nb.name = \\\"ResNetBackbone\\\"\\nb.init_args = b_args\\n\\n# Head config\\nh = OmegaConf.create()\\nh.name = \\\"FastaiHead\\\"\\nh.init_args = h_args\\n\\ni = OmegaConf.create()\\ni.channels = 3\\ni.height = 224\\ni.width = 224\\n\\nm = OmegaConf.create()\\nm.backbone = b\\nm.head = h\\n\\n# config\\nconf = OmegaConf.create(dict(input=i, model=m))\\nconf = OmegaConf.structured(conf)\";\n",
       "                var nbb_formatted_code = \"b_args = OmegaConf.structured(BackboneConf())\\nh_args = OmegaConf.structured(HeadConf(num_classes=10))\\n\\n# Backbone config\\nb = OmegaConf.create()\\nb.name = \\\"ResNetBackbone\\\"\\nb.init_args = b_args\\n\\n# Head config\\nh = OmegaConf.create()\\nh.name = \\\"FastaiHead\\\"\\nh.init_args = h_args\\n\\ni = OmegaConf.create()\\ni.channels = 3\\ni.height = 224\\ni.width = 224\\n\\nm = OmegaConf.create()\\nm.backbone = b\\nm.head = h\\n\\n# config\\nconf = OmegaConf.create(dict(input=i, model=m))\\nconf = OmegaConf.structured(conf)\";\n",
       "                var nbb_cells = Jupyter.notebook.get_cells();\n",
       "                for (var i = 0; i < nbb_cells.length; ++i) {\n",
       "                    if (nbb_cells[i].input_prompt_number == nbb_cell_id) {\n",
       "                        if (nbb_cells[i].get_text() == nbb_unformatted_code) {\n",
       "                             nbb_cells[i].set_text(nbb_formatted_code);\n",
       "                        }\n",
       "                        break;\n",
       "                    }\n",
       "                }\n",
       "            }, 500);\n",
       "            "
      ],
      "text/plain": [
       "<IPython.core.display.Javascript object>"
      ]
     },
     "metadata": {},
     "output_type": "display_data"
    }
   ],
   "source": [
    "b_args = OmegaConf.structured(BackboneConf())\n",
    "h_args = OmegaConf.structured(HeadConf(num_classes=10))\n",
    "\n",
    "# Backbone config\n",
    "b = OmegaConf.create()\n",
    "b.name = \"ResNetBackbone\"\n",
    "b.init_args = b_args\n",
    "\n",
    "# Head config\n",
    "h = OmegaConf.create()\n",
    "h.name = \"FastaiHead\"\n",
    "h.init_args = h_args\n",
    "\n",
    "i = OmegaConf.create()\n",
    "i.channels = 3\n",
    "i.height = 224\n",
    "i.width = 224\n",
    "\n",
    "m = OmegaConf.create()\n",
    "m.backbone = b\n",
    "m.head = h\n",
    "\n",
    "# config\n",
    "conf = OmegaConf.create(dict(input=i, model=m))\n",
    "conf = OmegaConf.structured(conf)"
   ]
  },
  {
   "cell_type": "code",
   "execution_count": null,
   "metadata": {},
   "outputs": [
    {
     "name": "stdout",
     "output_type": "stream",
     "text": [
      "\u001b[32m[04/25 22:32:16 gale.classification.modelling.meta_arch.common]: \u001b[0mInputs: ShapeSpec(channels=3, height=224, width=224)\n",
      "\u001b[32m[04/25 22:32:16 gale.classification.modelling.meta_arch.common]: \u001b[0mBackbone ResNetBackbone created, param count: 11.2 M.\n",
      "\u001b[32m[04/25 22:32:16 gale.classification.modelling.meta_arch.common]: \u001b[0mHead FastaiHead created, param count: 532 K.\n",
      "\u001b[32m[04/25 22:32:16 gale.classification.modelling.meta_arch.common]: \u001b[0mModel created, param count: 11.7 M.\n"
     ]
    },
    {
     "data": {
      "application/javascript": [
       "\n",
       "            setTimeout(function() {\n",
       "                var nbb_cell_id = 17;\n",
       "                var nbb_unformatted_code = \"m = GeneralizedImageClassifier.from_config_dict(conf)\\n\\ninp = torch.randn(2, m.input_shape.channels, m.input_shape.height, m.input_shape.width)\\no = m(inp)\";\n",
       "                var nbb_formatted_code = \"m = GeneralizedImageClassifier.from_config_dict(conf)\\n\\ninp = torch.randn(2, m.input_shape.channels, m.input_shape.height, m.input_shape.width)\\no = m(inp)\";\n",
       "                var nbb_cells = Jupyter.notebook.get_cells();\n",
       "                for (var i = 0; i < nbb_cells.length; ++i) {\n",
       "                    if (nbb_cells[i].input_prompt_number == nbb_cell_id) {\n",
       "                        if (nbb_cells[i].get_text() == nbb_unformatted_code) {\n",
       "                             nbb_cells[i].set_text(nbb_formatted_code);\n",
       "                        }\n",
       "                        break;\n",
       "                    }\n",
       "                }\n",
       "            }, 500);\n",
       "            "
      ],
      "text/plain": [
       "<IPython.core.display.Javascript object>"
      ]
     },
     "metadata": {},
     "output_type": "display_data"
    }
   ],
   "source": [
    "m = GeneralizedImageClassifier.from_config_dict(conf)\n",
    "\n",
    "inp = torch.randn(2, m.input_shape.channels, m.input_shape.height, m.input_shape.width)\n",
    "o = m(inp)"
   ]
  },
  {
   "cell_type": "markdown",
   "metadata": {},
   "source": [
    "## Export-"
   ]
  },
  {
   "cell_type": "code",
   "execution_count": null,
   "metadata": {},
   "outputs": [
    {
     "name": "stdout",
     "output_type": "stream",
     "text": [
      "Converted 00_core.utils.logger.ipynb.\n",
      "Converted 00a_core.utils.visualize.ipynb.\n",
      "Converted 00b_core.utils.structures.ipynb.\n",
      "Converted 01_core.nn.utils.ipynb.\n",
      "Converted 01a_core.nn.losses.ipynb.\n",
      "Converted 02_core.nn.optim.optimizers.ipynb.\n",
      "Converted 02a_core.nn.optim.lr_schedulers.ipynb.\n",
      "Converted 03_core.classes.ipynb.\n",
      "Converted 04_classification.modelling.backbones.ipynb.\n",
      "Converted 04a_classification.modelling.heads.ipynb.\n",
      "Converted 04b_classification.modelling.meta_arch.common.ipynb.\n",
      "Converted 04b_classification.modelling.meta_arch.vit.ipynb.\n",
      "Converted 05_classification.data.common.ipynb.\n",
      "Converted 05_classification.data.transforms.ipynb.\n",
      "Converted 06_collections.pandas.ipynb.\n",
      "Converted 06a_collections.callbacks.notebook.ipynb.\n",
      "Converted 06b_collections.callbacks.ema.ipynb.\n",
      "Converted index.ipynb.\n"
     ]
    },
    {
     "data": {
      "application/javascript": [
       "\n",
       "            setTimeout(function() {\n",
       "                var nbb_cell_id = 18;\n",
       "                var nbb_unformatted_code = \"# hide\\nnotebook2script()\";\n",
       "                var nbb_formatted_code = \"# hide\\nnotebook2script()\";\n",
       "                var nbb_cells = Jupyter.notebook.get_cells();\n",
       "                for (var i = 0; i < nbb_cells.length; ++i) {\n",
       "                    if (nbb_cells[i].input_prompt_number == nbb_cell_id) {\n",
       "                        if (nbb_cells[i].get_text() == nbb_unformatted_code) {\n",
       "                             nbb_cells[i].set_text(nbb_formatted_code);\n",
       "                        }\n",
       "                        break;\n",
       "                    }\n",
       "                }\n",
       "            }, 500);\n",
       "            "
      ],
      "text/plain": [
       "<IPython.core.display.Javascript object>"
      ]
     },
     "metadata": {},
     "output_type": "display_data"
    }
   ],
   "source": [
    "# hide\n",
    "notebook2script()"
   ]
  },
  {
   "cell_type": "code",
   "execution_count": null,
   "metadata": {},
   "outputs": [],
   "source": []
  }
 ],
 "metadata": {
  "kernelspec": {
   "display_name": "gale",
   "language": "python",
   "name": "gale"
  }
 },
 "nbformat": 4,
 "nbformat_minor": 4
}
