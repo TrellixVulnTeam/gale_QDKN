{
 "cells": [
  {
   "cell_type": "markdown",
   "metadata": {},
   "source": [
    "# PyTorch Gale\n",
    "**Flexible interface for solving computer vision tasks leveraging [Pytorch Lightning](https://github.com/PyTorchLightning/pytorch-lightning), [PyTorch Image Models](https://github.com/rwightman/pytorch-image-models) , and [Hydra](https://github.com/facebookresearch/hydra).**\n",
    "\n",
    "---\n",
    "\n",
    "<a href=\"https://pytorch.org/get-started/locally/\"><img alt=\"PyTorch\" src=\"https://img.shields.io/badge/-PyTorch-ee4c2c?style=for-the-badge&logo=pytorch&logoColor=white\"></a>\n",
    "<a href=\"https://pytorchlightning.ai/\"><img alt=\"Lightning\" src=\"https://img.shields.io/badge/-Lightning-792ee5?style=for-the-badge\"></a>\n",
    "<a href=\"https://hydra.cc/\"><img alt=\"Config: hydra\" src=\"https://img.shields.io/badge/config-hydra-89b8cd?style=for-the-badge\"></a>\n",
    "<a href=\"https://black.readthedocs.io/en/stable/\"><img alt=\"Code style: black\" src=\"https://img.shields.io/badge/code%20style-black-black.svg?style=for-the-badge\"></a>\n",
    "![CI](https://github.com/benihime91/gale/workflows/CI/badge.svg)\n",
    "![docs](https://github.com/benihime91/gale/workflows/docs/badge.svg)"
   ]
  },
  {
   "cell_type": "markdown",
   "metadata": {},
   "source": [
    "## Installation\n",
    "\n",
    "You can install PyTorch Gale from source\n",
    "\n",
    "```bash\n",
    "git clone https://github.com/benihime91/gale\n",
    "cd gale\n",
    "pip install .\n",
    "```\n",
    "\n",
    "If you plan to develop PyTorch Gale yourself you can use an editable install \n",
    "```bash\n",
    "git clone https://github.com/benihime91/gale\n",
    "pip install -e \"gale[dev]\"\n",
    "```"
   ]
  },
  {
   "cell_type": "markdown",
   "metadata": {},
   "source": [
    "## Introduction\n",
    "PyTorch Gale tasks allow you to train models using `PyTorch Image Models` models, use Hydra to hotswap models, optimizers or schedulers and leverage all the advances features that Lightning has to offer, including custom Callbacks, Loggers, Accelerators and high performance scaling with minimal changes.\n",
    "\n",
    "This project was started as a way to collect interesting techniques dotted throughout Kaggle competitions and varous deep learning forums which have been usefull in training accuracte deep learning models for Computer Vision Tasks. \n",
    "\n",
    "Currently PyTorch Gale only supports Image Classification. The final goal is to be able to support both Object Detection and Image Segmentation hopefully.\n",
    "\n",
    "PyTorch Gale is beta software. The project is under active development and our APIs are subject to change in future releases. The current API of PyTorch Gale is highly inspired from [Detectron 2](https://github.com/facebookresearch/detectron2)."
   ]
  },
  {
   "cell_type": "markdown",
   "metadata": {},
   "source": [
    "## How To Learn\n",
    "The best way to learn PyTorch Gale is to go through the documentation. You should probably get familiar with [PyTorch](https://pytorch.org/) and [PyTorch Lightning](https://pytorch-lightning.readthedocs.io/en/latest/). Next, go through [Hydra docs](https://hydra.cc/docs/next/intro) and [PyTorch Image Models](https://github.com/rwightman/pytorch-image-models)"
   ]
  },
  {
   "cell_type": "markdown",
   "metadata": {},
   "source": [
    "## Contributions\n",
    "Have a question? Found a bug? Missing a specific feature? Ran into a problem? Feel free to file a new issue or PR with respective title and description. If you already found a solution to your problem, don't hesitate to share it. Suggestions for new best practices and tricks are always welcome!\n",
    "\n",
    "After you clone this repository, please run `nbdev_install_git_hooks` in your terminal. This sets up git hooks, which clean up the notebooks to remove the extraneous stuff stored in the notebooks (e.g. which cells you ran) which causes unnecessary merge conflicts."
   ]
  },
  {
   "cell_type": "code",
   "execution_count": null,
   "metadata": {},
   "outputs": [],
   "source": []
  }
 ],
 "metadata": {
  "kernelspec": {
   "display_name": "Python 3",
   "language": "python",
   "name": "python3"
  }
 },
 "nbformat": 4,
 "nbformat_minor": 4
}
