{
 "cells": [
  {
   "cell_type": "code",
   "execution_count": null,
   "id": "e2ba0f60",
   "metadata": {},
   "outputs": [],
   "source": [
    "# hide\n",
    "# skip\n",
    "!git clone https://github.com/benihime91/gale # install gale on colab\n",
    "!pip install -e \"gale[dev]\""
   ]
  },
  {
   "cell_type": "code",
   "execution_count": null,
   "id": "abd763d1",
   "metadata": {},
   "outputs": [],
   "source": [
    "# default_exp utils.structures"
   ]
  },
  {
   "cell_type": "code",
   "execution_count": null,
   "id": "f50bd224",
   "metadata": {},
   "outputs": [
    {
     "data": {
      "application/javascript": [
       "\n",
       "            setTimeout(function() {\n",
       "                var nbb_cell_id = 2;\n",
       "                var nbb_unformatted_code = \"# hide\\n%load_ext nb_black\\n%load_ext autoreload\\n%autoreload 2\\n%matplotlib inline\";\n",
       "                var nbb_formatted_code = \"# hide\\n%load_ext nb_black\\n%load_ext autoreload\\n%autoreload 2\\n%matplotlib inline\";\n",
       "                var nbb_cells = Jupyter.notebook.get_cells();\n",
       "                for (var i = 0; i < nbb_cells.length; ++i) {\n",
       "                    if (nbb_cells[i].input_prompt_number == nbb_cell_id) {\n",
       "                        if (nbb_cells[i].get_text() == nbb_unformatted_code) {\n",
       "                             nbb_cells[i].set_text(nbb_formatted_code);\n",
       "                        }\n",
       "                        break;\n",
       "                    }\n",
       "                }\n",
       "            }, 500);\n",
       "            "
      ],
      "text/plain": [
       "<IPython.core.display.Javascript object>"
      ]
     },
     "metadata": {},
     "output_type": "display_data"
    }
   ],
   "source": [
    "# hide\n",
    "%load_ext nb_black\n",
    "%load_ext autoreload\n",
    "%autoreload 2\n",
    "%matplotlib inline"
   ]
  },
  {
   "cell_type": "code",
   "execution_count": null,
   "id": "ecdb7f4f",
   "metadata": {},
   "outputs": [
    {
     "data": {
      "application/javascript": [
       "\n",
       "            setTimeout(function() {\n",
       "                var nbb_cell_id = 3;\n",
       "                var nbb_unformatted_code = \"# hide\\nimport warnings\\n\\nfrom nbdev.export import *\\nfrom nbdev.showdoc import *\\n\\nwarnings.filterwarnings(\\\"ignore\\\")\";\n",
       "                var nbb_formatted_code = \"# hide\\nimport warnings\\n\\nfrom nbdev.export import *\\nfrom nbdev.showdoc import *\\n\\nwarnings.filterwarnings(\\\"ignore\\\")\";\n",
       "                var nbb_cells = Jupyter.notebook.get_cells();\n",
       "                for (var i = 0; i < nbb_cells.length; ++i) {\n",
       "                    if (nbb_cells[i].input_prompt_number == nbb_cell_id) {\n",
       "                        if (nbb_cells[i].get_text() == nbb_unformatted_code) {\n",
       "                             nbb_cells[i].set_text(nbb_formatted_code);\n",
       "                        }\n",
       "                        break;\n",
       "                    }\n",
       "                }\n",
       "            }, 500);\n",
       "            "
      ],
      "text/plain": [
       "<IPython.core.display.Javascript object>"
      ]
     },
     "metadata": {},
     "output_type": "display_data"
    }
   ],
   "source": [
    "# hide\n",
    "import warnings\n",
    "\n",
    "from nbdev.export import *\n",
    "from nbdev.showdoc import *\n",
    "\n",
    "warnings.filterwarnings(\"ignore\")"
   ]
  },
  {
   "cell_type": "markdown",
   "id": "170d96c7",
   "metadata": {},
   "source": [
    "# Structures\n",
    "> `Registery` and `DatasetCatalog` used in `Gale`"
   ]
  },
  {
   "cell_type": "code",
   "execution_count": null,
   "id": "9a60591c",
   "metadata": {},
   "outputs": [
    {
     "data": {
      "application/javascript": [
       "\n",
       "            setTimeout(function() {\n",
       "                var nbb_cell_id = 4;\n",
       "                var nbb_unformatted_code = \"# export\\nfrom collections import UserDict\\nfrom typing import List\\n\\nfrom fvcore.common.registry import Registry\";\n",
       "                var nbb_formatted_code = \"# export\\nfrom collections import UserDict\\nfrom typing import List\\n\\nfrom fvcore.common.registry import Registry\";\n",
       "                var nbb_cells = Jupyter.notebook.get_cells();\n",
       "                for (var i = 0; i < nbb_cells.length; ++i) {\n",
       "                    if (nbb_cells[i].input_prompt_number == nbb_cell_id) {\n",
       "                        if (nbb_cells[i].get_text() == nbb_unformatted_code) {\n",
       "                             nbb_cells[i].set_text(nbb_formatted_code);\n",
       "                        }\n",
       "                        break;\n",
       "                    }\n",
       "                }\n",
       "            }, 500);\n",
       "            "
      ],
      "text/plain": [
       "<IPython.core.display.Javascript object>"
      ]
     },
     "metadata": {},
     "output_type": "display_data"
    }
   ],
   "source": [
    "# export\n",
    "from collections import UserDict\n",
    "from typing import List\n",
    "\n",
    "from fvcore.common.registry import Registry"
   ]
  },
  {
   "cell_type": "markdown",
   "id": "85011279",
   "metadata": {},
   "source": [
    "## Registry-"
   ]
  },
  {
   "cell_type": "code",
   "execution_count": null,
   "id": "b57f3789",
   "metadata": {},
   "outputs": [
    {
     "data": {
      "application/javascript": [
       "\n",
       "            setTimeout(function() {\n",
       "                var nbb_cell_id = 5;\n",
       "                var nbb_unformatted_code = \"# export\\nRegistry.__doc__ = \\\"\\\"\\\"\\nThe registry that provides `name -> object mapping`, to support third-party users' custom modules.\\n\\\"\\\"\\\"\\nRegistry.register.__doc__ = \\\"\\\"\\\"\\nRegister the given object under the the name `obj.__name__`. Can also be used a `decorator`.\\n\\\"\\\"\\\"\\nRegistry.get.__doc__ = \\\"Retrive an object from the Registry\\\"\";\n",
       "                var nbb_formatted_code = \"# export\\nRegistry.__doc__ = \\\"\\\"\\\"\\nThe registry that provides `name -> object mapping`, to support third-party users' custom modules.\\n\\\"\\\"\\\"\\nRegistry.register.__doc__ = \\\"\\\"\\\"\\nRegister the given object under the the name `obj.__name__`. Can also be used a `decorator`.\\n\\\"\\\"\\\"\\nRegistry.get.__doc__ = \\\"Retrive an object from the Registry\\\"\";\n",
       "                var nbb_cells = Jupyter.notebook.get_cells();\n",
       "                for (var i = 0; i < nbb_cells.length; ++i) {\n",
       "                    if (nbb_cells[i].input_prompt_number == nbb_cell_id) {\n",
       "                        if (nbb_cells[i].get_text() == nbb_unformatted_code) {\n",
       "                             nbb_cells[i].set_text(nbb_formatted_code);\n",
       "                        }\n",
       "                        break;\n",
       "                    }\n",
       "                }\n",
       "            }, 500);\n",
       "            "
      ],
      "text/plain": [
       "<IPython.core.display.Javascript object>"
      ]
     },
     "metadata": {},
     "output_type": "display_data"
    }
   ],
   "source": [
    "# export\n",
    "Registry.__doc__ = \"\"\"\n",
    "The registry that provides `name -> object mapping`, to support third-party users' custom modules.\n",
    "\"\"\"\n",
    "Registry.register.__doc__ = \"\"\"\n",
    "Register the given object under the the name `obj.__name__`. Can also be used a `decorator`.\n",
    "\"\"\"\n",
    "Registry.get.__doc__ = \"Retrive an object from the Registry\""
   ]
  },
  {
   "cell_type": "code",
   "execution_count": null,
   "id": "9dbd5fae",
   "metadata": {},
   "outputs": [
    {
     "data": {
      "text/markdown": [
       "<h2 id=\"Registry\" class=\"doc_header\"><code>class</code> <code>Registry</code><a href=\"fvcore/common/registry.py#L8\" class=\"source_link\" style=\"float:right\">[source]</a></h2>\n",
       "\n",
       "> <code>Registry</code>(**\\*`args`**, **\\*\\*`kwds`**) :: `Iterable`\n",
       "\n",
       "The registry that provides `name -> object mapping`, to support third-party users' custom modules."
      ],
      "text/plain": [
       "<IPython.core.display.Markdown object>"
      ]
     },
     "metadata": {},
     "output_type": "display_data"
    },
    {
     "data": {
      "application/javascript": [
       "\n",
       "            setTimeout(function() {\n",
       "                var nbb_cell_id = 6;\n",
       "                var nbb_unformatted_code = \"show_doc(Registry)\";\n",
       "                var nbb_formatted_code = \"show_doc(Registry)\";\n",
       "                var nbb_cells = Jupyter.notebook.get_cells();\n",
       "                for (var i = 0; i < nbb_cells.length; ++i) {\n",
       "                    if (nbb_cells[i].input_prompt_number == nbb_cell_id) {\n",
       "                        if (nbb_cells[i].get_text() == nbb_unformatted_code) {\n",
       "                             nbb_cells[i].set_text(nbb_formatted_code);\n",
       "                        }\n",
       "                        break;\n",
       "                    }\n",
       "                }\n",
       "            }, 500);\n",
       "            "
      ],
      "text/plain": [
       "<IPython.core.display.Javascript object>"
      ]
     },
     "metadata": {},
     "output_type": "display_data"
    }
   ],
   "source": [
    "show_doc(Registry)"
   ]
  },
  {
   "cell_type": "code",
   "execution_count": null,
   "id": "2b47477b",
   "metadata": {},
   "outputs": [
    {
     "data": {
      "text/markdown": [
       "<h4 id=\"Registry.register\" class=\"doc_header\"><code>Registry.register</code><a href=\"fvcore/common/registry.py#L50\" class=\"source_link\" style=\"float:right\">[source]</a></h4>\n",
       "\n",
       "> <code>Registry.register</code>(**`obj`**:`Any`=*`None`*)\n",
       "\n",
       "Register the given object under the the name `obj.__name__`. Can also be used a `decorator`."
      ],
      "text/plain": [
       "<IPython.core.display.Markdown object>"
      ]
     },
     "metadata": {},
     "output_type": "display_data"
    },
    {
     "data": {
      "application/javascript": [
       "\n",
       "            setTimeout(function() {\n",
       "                var nbb_cell_id = 7;\n",
       "                var nbb_unformatted_code = \"show_doc(Registry.register)\";\n",
       "                var nbb_formatted_code = \"show_doc(Registry.register)\";\n",
       "                var nbb_cells = Jupyter.notebook.get_cells();\n",
       "                for (var i = 0; i < nbb_cells.length; ++i) {\n",
       "                    if (nbb_cells[i].input_prompt_number == nbb_cell_id) {\n",
       "                        if (nbb_cells[i].get_text() == nbb_unformatted_code) {\n",
       "                             nbb_cells[i].set_text(nbb_formatted_code);\n",
       "                        }\n",
       "                        break;\n",
       "                    }\n",
       "                }\n",
       "            }, 500);\n",
       "            "
      ],
      "text/plain": [
       "<IPython.core.display.Javascript object>"
      ]
     },
     "metadata": {},
     "output_type": "display_data"
    }
   ],
   "source": [
    "show_doc(Registry.register)"
   ]
  },
  {
   "cell_type": "code",
   "execution_count": null,
   "id": "40e7277b",
   "metadata": {},
   "outputs": [
    {
     "data": {
      "text/markdown": [
       "<h4 id=\"Registry.get\" class=\"doc_header\"><code>Registry.get</code><a href=\"fvcore/common/registry.py#L68\" class=\"source_link\" style=\"float:right\">[source]</a></h4>\n",
       "\n",
       "> <code>Registry.get</code>(**`name`**:`str`)\n",
       "\n",
       "Retrive an object from the Registry"
      ],
      "text/plain": [
       "<IPython.core.display.Markdown object>"
      ]
     },
     "metadata": {},
     "output_type": "display_data"
    },
    {
     "data": {
      "application/javascript": [
       "\n",
       "            setTimeout(function() {\n",
       "                var nbb_cell_id = 8;\n",
       "                var nbb_unformatted_code = \"show_doc(Registry.get)\";\n",
       "                var nbb_formatted_code = \"show_doc(Registry.get)\";\n",
       "                var nbb_cells = Jupyter.notebook.get_cells();\n",
       "                for (var i = 0; i < nbb_cells.length; ++i) {\n",
       "                    if (nbb_cells[i].input_prompt_number == nbb_cell_id) {\n",
       "                        if (nbb_cells[i].get_text() == nbb_unformatted_code) {\n",
       "                             nbb_cells[i].set_text(nbb_formatted_code);\n",
       "                        }\n",
       "                        break;\n",
       "                    }\n",
       "                }\n",
       "            }, 500);\n",
       "            "
      ],
      "text/plain": [
       "<IPython.core.display.Javascript object>"
      ]
     },
     "metadata": {},
     "output_type": "display_data"
    }
   ],
   "source": [
    "show_doc(Registry.get)"
   ]
  },
  {
   "cell_type": "markdown",
   "id": "46a28fc4",
   "metadata": {},
   "source": [
    "To create a `registry` (e.g. a backbone registry):\n",
    "\n",
    "```python\n",
    "BACKBONE_REGISTRY = Registry('BACKBONE')\n",
    "```\n",
    "\n",
    "To register an object:\n",
    "\n",
    "```python\n",
    "@BACKBONE_REGISTRY.register()\n",
    "class MyBackbone():\n",
    "    ...\n",
    "```"
   ]
  },
  {
   "cell_type": "markdown",
   "id": "d01a615a",
   "metadata": {},
   "source": [
    "## Registry instances"
   ]
  },
  {
   "cell_type": "markdown",
   "id": "07271235",
   "metadata": {},
   "source": [
    "### Activation Registry\n"
   ]
  },
  {
   "cell_type": "code",
   "execution_count": null,
   "id": "564ed3c1",
   "metadata": {},
   "outputs": [
    {
     "data": {
      "application/javascript": [
       "\n",
       "            setTimeout(function() {\n",
       "                var nbb_cell_id = 9;\n",
       "                var nbb_unformatted_code = \"# export\\nACTIVATION_REGISTRY = Registry(\\\"Activations\\\")\\nACTIVATION_REGISTRY.__doc__ = \\\"Registry of `Activation` functions\\\"\";\n",
       "                var nbb_formatted_code = \"# export\\nACTIVATION_REGISTRY = Registry(\\\"Activations\\\")\\nACTIVATION_REGISTRY.__doc__ = \\\"Registry of `Activation` functions\\\"\";\n",
       "                var nbb_cells = Jupyter.notebook.get_cells();\n",
       "                for (var i = 0; i < nbb_cells.length; ++i) {\n",
       "                    if (nbb_cells[i].input_prompt_number == nbb_cell_id) {\n",
       "                        if (nbb_cells[i].get_text() == nbb_unformatted_code) {\n",
       "                             nbb_cells[i].set_text(nbb_formatted_code);\n",
       "                        }\n",
       "                        break;\n",
       "                    }\n",
       "                }\n",
       "            }, 500);\n",
       "            "
      ],
      "text/plain": [
       "<IPython.core.display.Javascript object>"
      ]
     },
     "metadata": {},
     "output_type": "display_data"
    }
   ],
   "source": [
    "# export\n",
    "ACTIVATION_REGISTRY = Registry(\"Activations\")\n",
    "ACTIVATION_REGISTRY.__doc__ = \"Registry of `Activation` functions\""
   ]
  },
  {
   "cell_type": "code",
   "execution_count": null,
   "id": "88fc9b9a",
   "metadata": {},
   "outputs": [
    {
     "data": {
      "text/markdown": [
       "<h4 id=\"Activations\" class=\"doc_header\"><code>Activations</code><a href=\"\" class=\"source_link\" style=\"float:right\">[source]</a></h4>\n",
       "\n",
       "Registry of `Activation` functions"
      ],
      "text/plain": [
       "<IPython.core.display.Markdown object>"
      ]
     },
     "metadata": {},
     "output_type": "display_data"
    },
    {
     "data": {
      "application/javascript": [
       "\n",
       "            setTimeout(function() {\n",
       "                var nbb_cell_id = 10;\n",
       "                var nbb_unformatted_code = \"show_doc(ACTIVATION_REGISTRY)\";\n",
       "                var nbb_formatted_code = \"show_doc(ACTIVATION_REGISTRY)\";\n",
       "                var nbb_cells = Jupyter.notebook.get_cells();\n",
       "                for (var i = 0; i < nbb_cells.length; ++i) {\n",
       "                    if (nbb_cells[i].input_prompt_number == nbb_cell_id) {\n",
       "                        if (nbb_cells[i].get_text() == nbb_unformatted_code) {\n",
       "                             nbb_cells[i].set_text(nbb_formatted_code);\n",
       "                        }\n",
       "                        break;\n",
       "                    }\n",
       "                }\n",
       "            }, 500);\n",
       "            "
      ],
      "text/plain": [
       "<IPython.core.display.Javascript object>"
      ]
     },
     "metadata": {},
     "output_type": "display_data"
    }
   ],
   "source": [
    "show_doc(ACTIVATION_REGISTRY)"
   ]
  },
  {
   "cell_type": "markdown",
   "id": "bf118d8c",
   "metadata": {},
   "source": [
    "### Image Classifier BackBonesS"
   ]
  },
  {
   "cell_type": "code",
   "execution_count": null,
   "id": "2adbf192",
   "metadata": {},
   "outputs": [
    {
     "data": {
      "application/javascript": [
       "\n",
       "            setTimeout(function() {\n",
       "                var nbb_cell_id = 11;\n",
       "                var nbb_unformatted_code = \"# export\\nIMAGE_CLASSIFIER_BACKBONES = Registry(\\\"Image Classification Backbones\\\")\\nIMAGE_CLASSIFIER_BACKBONES.__doc__ = \\\"\\\"\\\"\\nRegistry for Backbones used in Image Classification.\\n\\\"\\\"\\\"\";\n",
       "                var nbb_formatted_code = \"# export\\nIMAGE_CLASSIFIER_BACKBONES = Registry(\\\"Image Classification Backbones\\\")\\nIMAGE_CLASSIFIER_BACKBONES.__doc__ = \\\"\\\"\\\"\\nRegistry for Backbones used in Image Classification.\\n\\\"\\\"\\\"\";\n",
       "                var nbb_cells = Jupyter.notebook.get_cells();\n",
       "                for (var i = 0; i < nbb_cells.length; ++i) {\n",
       "                    if (nbb_cells[i].input_prompt_number == nbb_cell_id) {\n",
       "                        if (nbb_cells[i].get_text() == nbb_unformatted_code) {\n",
       "                             nbb_cells[i].set_text(nbb_formatted_code);\n",
       "                        }\n",
       "                        break;\n",
       "                    }\n",
       "                }\n",
       "            }, 500);\n",
       "            "
      ],
      "text/plain": [
       "<IPython.core.display.Javascript object>"
      ]
     },
     "metadata": {},
     "output_type": "display_data"
    }
   ],
   "source": [
    "# export\n",
    "IMAGE_CLASSIFIER_BACKBONES = Registry(\"Image Classification Backbones\")\n",
    "IMAGE_CLASSIFIER_BACKBONES.__doc__ = \"\"\"\n",
    "Registry for Backbones used in Image Classification.\n",
    "\"\"\""
   ]
  },
  {
   "cell_type": "code",
   "execution_count": null,
   "id": "8e6f152f",
   "metadata": {},
   "outputs": [
    {
     "data": {
      "text/markdown": [
       "<h4 id=\"Image Classification Backbones\" class=\"doc_header\"><code>Image Classification Backbones</code><a href=\"\" class=\"source_link\" style=\"float:right\">[source]</a></h4>\n",
       "\n",
       "Registry for Backbones used in Image Classification."
      ],
      "text/plain": [
       "<IPython.core.display.Markdown object>"
      ]
     },
     "metadata": {},
     "output_type": "display_data"
    },
    {
     "data": {
      "application/javascript": [
       "\n",
       "            setTimeout(function() {\n",
       "                var nbb_cell_id = 12;\n",
       "                var nbb_unformatted_code = \"show_doc(IMAGE_CLASSIFIER_BACKBONES)\";\n",
       "                var nbb_formatted_code = \"show_doc(IMAGE_CLASSIFIER_BACKBONES)\";\n",
       "                var nbb_cells = Jupyter.notebook.get_cells();\n",
       "                for (var i = 0; i < nbb_cells.length; ++i) {\n",
       "                    if (nbb_cells[i].input_prompt_number == nbb_cell_id) {\n",
       "                        if (nbb_cells[i].get_text() == nbb_unformatted_code) {\n",
       "                             nbb_cells[i].set_text(nbb_formatted_code);\n",
       "                        }\n",
       "                        break;\n",
       "                    }\n",
       "                }\n",
       "            }, 500);\n",
       "            "
      ],
      "text/plain": [
       "<IPython.core.display.Javascript object>"
      ]
     },
     "metadata": {},
     "output_type": "display_data"
    }
   ],
   "source": [
    "show_doc(IMAGE_CLASSIFIER_BACKBONES)"
   ]
  },
  {
   "cell_type": "markdown",
   "id": "82c1aeab",
   "metadata": {},
   "source": [
    "### Classification Heads Registry"
   ]
  },
  {
   "cell_type": "code",
   "execution_count": null,
   "id": "65ac1f2c",
   "metadata": {},
   "outputs": [
    {
     "data": {
      "application/javascript": [
       "\n",
       "            setTimeout(function() {\n",
       "                var nbb_cell_id = 13;\n",
       "                var nbb_unformatted_code = \"# export\\nIMAGE_CLASSIFIER_HEADS = Registry(\\\"Image Classification Heads\\\")\\nIMAGE_CLASSIFIER_HEADS.__doc__ = \\\"\\\"\\\"\\nRegistry for Classification heads in a `Gale` model.\\nHeads take feature maps and returns predictions.\\n\\\"\\\"\\\"\";\n",
       "                var nbb_formatted_code = \"# export\\nIMAGE_CLASSIFIER_HEADS = Registry(\\\"Image Classification Heads\\\")\\nIMAGE_CLASSIFIER_HEADS.__doc__ = \\\"\\\"\\\"\\nRegistry for Classification heads in a `Gale` model.\\nHeads take feature maps and returns predictions.\\n\\\"\\\"\\\"\";\n",
       "                var nbb_cells = Jupyter.notebook.get_cells();\n",
       "                for (var i = 0; i < nbb_cells.length; ++i) {\n",
       "                    if (nbb_cells[i].input_prompt_number == nbb_cell_id) {\n",
       "                        if (nbb_cells[i].get_text() == nbb_unformatted_code) {\n",
       "                             nbb_cells[i].set_text(nbb_formatted_code);\n",
       "                        }\n",
       "                        break;\n",
       "                    }\n",
       "                }\n",
       "            }, 500);\n",
       "            "
      ],
      "text/plain": [
       "<IPython.core.display.Javascript object>"
      ]
     },
     "metadata": {},
     "output_type": "display_data"
    }
   ],
   "source": [
    "# export\n",
    "IMAGE_CLASSIFIER_HEADS = Registry(\"Image Classification Heads\")\n",
    "IMAGE_CLASSIFIER_HEADS.__doc__ = \"\"\"\n",
    "Registry for Classification heads in a `Gale` model.\n",
    "Heads take feature maps and returns predictions.\n",
    "\"\"\""
   ]
  },
  {
   "cell_type": "code",
   "execution_count": null,
   "id": "b3ac91b1",
   "metadata": {},
   "outputs": [
    {
     "data": {
      "text/markdown": [
       "<h4 id=\"Image Classification Heads\" class=\"doc_header\"><code>Image Classification Heads</code><a href=\"\" class=\"source_link\" style=\"float:right\">[source]</a></h4>\n",
       "\n",
       "Registry for Classification heads in a `Gale` model.\n",
       "Heads take feature maps and returns predictions."
      ],
      "text/plain": [
       "<IPython.core.display.Markdown object>"
      ]
     },
     "metadata": {},
     "output_type": "display_data"
    },
    {
     "data": {
      "application/javascript": [
       "\n",
       "            setTimeout(function() {\n",
       "                var nbb_cell_id = 14;\n",
       "                var nbb_unformatted_code = \"show_doc(IMAGE_CLASSIFIER_HEADS)\";\n",
       "                var nbb_formatted_code = \"show_doc(IMAGE_CLASSIFIER_HEADS)\";\n",
       "                var nbb_cells = Jupyter.notebook.get_cells();\n",
       "                for (var i = 0; i < nbb_cells.length; ++i) {\n",
       "                    if (nbb_cells[i].input_prompt_number == nbb_cell_id) {\n",
       "                        if (nbb_cells[i].get_text() == nbb_unformatted_code) {\n",
       "                             nbb_cells[i].set_text(nbb_formatted_code);\n",
       "                        }\n",
       "                        break;\n",
       "                    }\n",
       "                }\n",
       "            }, 500);\n",
       "            "
      ],
      "text/plain": [
       "<IPython.core.display.Javascript object>"
      ]
     },
     "metadata": {},
     "output_type": "display_data"
    }
   ],
   "source": [
    "show_doc(IMAGE_CLASSIFIER_HEADS)"
   ]
  },
  {
   "cell_type": "markdown",
   "id": "922671bd",
   "metadata": {},
   "source": [
    "### Model Architecure Registry"
   ]
  },
  {
   "cell_type": "code",
   "execution_count": null,
   "id": "f7706c68",
   "metadata": {},
   "outputs": [
    {
     "data": {
      "application/javascript": [
       "\n",
       "            setTimeout(function() {\n",
       "                var nbb_cell_id = 15;\n",
       "                var nbb_unformatted_code = \"# export\\nMETA_ARCH_REGISTRY = Registry(\\\"Model Architectures\\\")\\nMETA_ARCH_REGISTRY.__doc__ = \\\"\\\"\\\"\\nRegistry for meta-architectures, i.e. the whole model.\\nThe registered object will be called with `cfg`\\nand expected to return a `nn.Module` object.\\n\\\"\\\"\\\"\";\n",
       "                var nbb_formatted_code = \"# export\\nMETA_ARCH_REGISTRY = Registry(\\\"Model Architectures\\\")\\nMETA_ARCH_REGISTRY.__doc__ = \\\"\\\"\\\"\\nRegistry for meta-architectures, i.e. the whole model.\\nThe registered object will be called with `cfg`\\nand expected to return a `nn.Module` object.\\n\\\"\\\"\\\"\";\n",
       "                var nbb_cells = Jupyter.notebook.get_cells();\n",
       "                for (var i = 0; i < nbb_cells.length; ++i) {\n",
       "                    if (nbb_cells[i].input_prompt_number == nbb_cell_id) {\n",
       "                        if (nbb_cells[i].get_text() == nbb_unformatted_code) {\n",
       "                             nbb_cells[i].set_text(nbb_formatted_code);\n",
       "                        }\n",
       "                        break;\n",
       "                    }\n",
       "                }\n",
       "            }, 500);\n",
       "            "
      ],
      "text/plain": [
       "<IPython.core.display.Javascript object>"
      ]
     },
     "metadata": {},
     "output_type": "display_data"
    }
   ],
   "source": [
    "# export\n",
    "META_ARCH_REGISTRY = Registry(\"Model Architectures\")\n",
    "META_ARCH_REGISTRY.__doc__ = \"\"\"\n",
    "Registry for meta-architectures, i.e. the whole model.\n",
    "The registered object will be called with `cfg`\n",
    "and expected to return a `nn.Module` object.\n",
    "\"\"\""
   ]
  },
  {
   "cell_type": "code",
   "execution_count": null,
   "id": "efa60cb5",
   "metadata": {},
   "outputs": [
    {
     "data": {
      "text/markdown": [
       "<h4 id=\"Model Architectures\" class=\"doc_header\"><code>Model Architectures</code><a href=\"\" class=\"source_link\" style=\"float:right\">[source]</a></h4>\n",
       "\n",
       "Registry for meta-architectures, i.e. the whole model.\n",
       "The registered object will be called with `cfg`\n",
       "and expected to return a `nn.Module` object."
      ],
      "text/plain": [
       "<IPython.core.display.Markdown object>"
      ]
     },
     "metadata": {},
     "output_type": "display_data"
    },
    {
     "data": {
      "application/javascript": [
       "\n",
       "            setTimeout(function() {\n",
       "                var nbb_cell_id = 16;\n",
       "                var nbb_unformatted_code = \"show_doc(META_ARCH_REGISTRY)\";\n",
       "                var nbb_formatted_code = \"show_doc(META_ARCH_REGISTRY)\";\n",
       "                var nbb_cells = Jupyter.notebook.get_cells();\n",
       "                for (var i = 0; i < nbb_cells.length; ++i) {\n",
       "                    if (nbb_cells[i].input_prompt_number == nbb_cell_id) {\n",
       "                        if (nbb_cells[i].get_text() == nbb_unformatted_code) {\n",
       "                             nbb_cells[i].set_text(nbb_formatted_code);\n",
       "                        }\n",
       "                        break;\n",
       "                    }\n",
       "                }\n",
       "            }, 500);\n",
       "            "
      ],
      "text/plain": [
       "<IPython.core.display.Javascript object>"
      ]
     },
     "metadata": {},
     "output_type": "display_data"
    }
   ],
   "source": [
    "show_doc(META_ARCH_REGISTRY)"
   ]
  },
  {
   "cell_type": "markdown",
   "id": "9f73fa07",
   "metadata": {},
   "source": [
    "### Optimizer Registry"
   ]
  },
  {
   "cell_type": "code",
   "execution_count": null,
   "id": "131a9e56",
   "metadata": {},
   "outputs": [
    {
     "data": {
      "application/javascript": [
       "\n",
       "            setTimeout(function() {\n",
       "                var nbb_cell_id = 17;\n",
       "                var nbb_unformatted_code = \"# export\\nOPTIM_REGISTRY = Registry(\\\"Optimizers\\\")\\nOPTIM_REGISTRY.__doc__ = \\\"\\\"\\\"\\nRegistry for `optimizers`. Should be a subclass\\nof `torch.optim.Optimizer`\\n\\\"\\\"\\\"\";\n",
       "                var nbb_formatted_code = \"# export\\nOPTIM_REGISTRY = Registry(\\\"Optimizers\\\")\\nOPTIM_REGISTRY.__doc__ = \\\"\\\"\\\"\\nRegistry for `optimizers`. Should be a subclass\\nof `torch.optim.Optimizer`\\n\\\"\\\"\\\"\";\n",
       "                var nbb_cells = Jupyter.notebook.get_cells();\n",
       "                for (var i = 0; i < nbb_cells.length; ++i) {\n",
       "                    if (nbb_cells[i].input_prompt_number == nbb_cell_id) {\n",
       "                        if (nbb_cells[i].get_text() == nbb_unformatted_code) {\n",
       "                             nbb_cells[i].set_text(nbb_formatted_code);\n",
       "                        }\n",
       "                        break;\n",
       "                    }\n",
       "                }\n",
       "            }, 500);\n",
       "            "
      ],
      "text/plain": [
       "<IPython.core.display.Javascript object>"
      ]
     },
     "metadata": {},
     "output_type": "display_data"
    }
   ],
   "source": [
    "# export\n",
    "OPTIM_REGISTRY = Registry(\"Optimizers\")\n",
    "OPTIM_REGISTRY.__doc__ = \"\"\"\n",
    "Registry for `optimizers`. Should be a subclass\n",
    "of `torch.optim.Optimizer`\n",
    "\"\"\""
   ]
  },
  {
   "cell_type": "code",
   "execution_count": null,
   "id": "254ff13a",
   "metadata": {},
   "outputs": [
    {
     "data": {
      "text/markdown": [
       "<h4 id=\"Optimizers\" class=\"doc_header\"><code>Optimizers</code><a href=\"\" class=\"source_link\" style=\"float:right\">[source]</a></h4>\n",
       "\n",
       "Registry for `optimizers`. Should be a subclass\n",
       "of `torch.optim.Optimizer`"
      ],
      "text/plain": [
       "<IPython.core.display.Markdown object>"
      ]
     },
     "metadata": {},
     "output_type": "display_data"
    },
    {
     "data": {
      "application/javascript": [
       "\n",
       "            setTimeout(function() {\n",
       "                var nbb_cell_id = 18;\n",
       "                var nbb_unformatted_code = \"show_doc(OPTIM_REGISTRY)\";\n",
       "                var nbb_formatted_code = \"show_doc(OPTIM_REGISTRY)\";\n",
       "                var nbb_cells = Jupyter.notebook.get_cells();\n",
       "                for (var i = 0; i < nbb_cells.length; ++i) {\n",
       "                    if (nbb_cells[i].input_prompt_number == nbb_cell_id) {\n",
       "                        if (nbb_cells[i].get_text() == nbb_unformatted_code) {\n",
       "                             nbb_cells[i].set_text(nbb_formatted_code);\n",
       "                        }\n",
       "                        break;\n",
       "                    }\n",
       "                }\n",
       "            }, 500);\n",
       "            "
      ],
      "text/plain": [
       "<IPython.core.display.Javascript object>"
      ]
     },
     "metadata": {},
     "output_type": "display_data"
    }
   ],
   "source": [
    "show_doc(OPTIM_REGISTRY)"
   ]
  },
  {
   "cell_type": "markdown",
   "id": "68eeacff",
   "metadata": {},
   "source": [
    "### LRScheduler Registry"
   ]
  },
  {
   "cell_type": "code",
   "execution_count": null,
   "id": "a2a59749",
   "metadata": {},
   "outputs": [
    {
     "data": {
      "application/javascript": [
       "\n",
       "            setTimeout(function() {\n",
       "                var nbb_cell_id = 19;\n",
       "                var nbb_unformatted_code = \"# export\\nSCHEDULER_REGISTRY = Registry(\\\"LRSchedulers\\\")\\nSCHEDULER_REGISTRY.__doc__ = \\\"\\\"\\\"\\nRegistry for `lr_schedulers`. Should be a subclass\\nof `torch.optim.lr_scheduler._LRScheduler`\\n\\\"\\\"\\\"\";\n",
       "                var nbb_formatted_code = \"# export\\nSCHEDULER_REGISTRY = Registry(\\\"LRSchedulers\\\")\\nSCHEDULER_REGISTRY.__doc__ = \\\"\\\"\\\"\\nRegistry for `lr_schedulers`. Should be a subclass\\nof `torch.optim.lr_scheduler._LRScheduler`\\n\\\"\\\"\\\"\";\n",
       "                var nbb_cells = Jupyter.notebook.get_cells();\n",
       "                for (var i = 0; i < nbb_cells.length; ++i) {\n",
       "                    if (nbb_cells[i].input_prompt_number == nbb_cell_id) {\n",
       "                        if (nbb_cells[i].get_text() == nbb_unformatted_code) {\n",
       "                             nbb_cells[i].set_text(nbb_formatted_code);\n",
       "                        }\n",
       "                        break;\n",
       "                    }\n",
       "                }\n",
       "            }, 500);\n",
       "            "
      ],
      "text/plain": [
       "<IPython.core.display.Javascript object>"
      ]
     },
     "metadata": {},
     "output_type": "display_data"
    }
   ],
   "source": [
    "# export\n",
    "SCHEDULER_REGISTRY = Registry(\"LRSchedulers\")\n",
    "SCHEDULER_REGISTRY.__doc__ = \"\"\"\n",
    "Registry for `lr_schedulers`. Should be a subclass\n",
    "of `torch.optim.lr_scheduler._LRScheduler`\n",
    "\"\"\""
   ]
  },
  {
   "cell_type": "code",
   "execution_count": null,
   "id": "092ffd4a",
   "metadata": {},
   "outputs": [
    {
     "data": {
      "text/markdown": [
       "<h4 id=\"LRSchedulers\" class=\"doc_header\"><code>LRSchedulers</code><a href=\"\" class=\"source_link\" style=\"float:right\">[source]</a></h4>\n",
       "\n",
       "Registry for `lr_schedulers`. Should be a subclass\n",
       "of `torch.optim.lr_scheduler._LRScheduler`"
      ],
      "text/plain": [
       "<IPython.core.display.Markdown object>"
      ]
     },
     "metadata": {},
     "output_type": "display_data"
    },
    {
     "data": {
      "application/javascript": [
       "\n",
       "            setTimeout(function() {\n",
       "                var nbb_cell_id = 20;\n",
       "                var nbb_unformatted_code = \"show_doc(SCHEDULER_REGISTRY)\";\n",
       "                var nbb_formatted_code = \"show_doc(SCHEDULER_REGISTRY)\";\n",
       "                var nbb_cells = Jupyter.notebook.get_cells();\n",
       "                for (var i = 0; i < nbb_cells.length; ++i) {\n",
       "                    if (nbb_cells[i].input_prompt_number == nbb_cell_id) {\n",
       "                        if (nbb_cells[i].get_text() == nbb_unformatted_code) {\n",
       "                             nbb_cells[i].set_text(nbb_formatted_code);\n",
       "                        }\n",
       "                        break;\n",
       "                    }\n",
       "                }\n",
       "            }, 500);\n",
       "            "
      ],
      "text/plain": [
       "<IPython.core.display.Javascript object>"
      ]
     },
     "metadata": {},
     "output_type": "display_data"
    }
   ],
   "source": [
    "show_doc(SCHEDULER_REGISTRY)"
   ]
  },
  {
   "cell_type": "markdown",
   "id": "57a0a6c8",
   "metadata": {},
   "source": [
    "### Loss Registry"
   ]
  },
  {
   "cell_type": "code",
   "execution_count": null,
   "id": "5acbea3d",
   "metadata": {},
   "outputs": [
    {
     "data": {
      "application/javascript": [
       "\n",
       "            setTimeout(function() {\n",
       "                var nbb_cell_id = 31;\n",
       "                var nbb_unformatted_code = \"# export\\nLOSS_REGISTRY = Registry(\\\"Loss Functions\\\")\\nLOSS_REGISTRY.__doc__ = \\\"\\\"\\\"\\nRegistry for custom Loss Functions\\n\\\"\\\"\\\"\";\n",
       "                var nbb_formatted_code = \"# export\\nLOSS_REGISTRY = Registry(\\\"Loss Functions\\\")\\nLOSS_REGISTRY.__doc__ = \\\"\\\"\\\"\\nRegistry for custom Loss Functions\\n\\\"\\\"\\\"\";\n",
       "                var nbb_cells = Jupyter.notebook.get_cells();\n",
       "                for (var i = 0; i < nbb_cells.length; ++i) {\n",
       "                    if (nbb_cells[i].input_prompt_number == nbb_cell_id) {\n",
       "                        if (nbb_cells[i].get_text() == nbb_unformatted_code) {\n",
       "                             nbb_cells[i].set_text(nbb_formatted_code);\n",
       "                        }\n",
       "                        break;\n",
       "                    }\n",
       "                }\n",
       "            }, 500);\n",
       "            "
      ],
      "text/plain": [
       "<IPython.core.display.Javascript object>"
      ]
     },
     "metadata": {},
     "output_type": "display_data"
    }
   ],
   "source": [
    "# export\n",
    "LOSS_REGISTRY = Registry(\"Loss Functions\")\n",
    "LOSS_REGISTRY.__doc__ = \"\"\"\n",
    "Registry for custom Loss Functions\n",
    "\"\"\""
   ]
  },
  {
   "cell_type": "code",
   "execution_count": null,
   "id": "143c700d",
   "metadata": {},
   "outputs": [
    {
     "data": {
      "text/markdown": [
       "<h4 id=\"Loss Functions\" class=\"doc_header\"><code>Loss Functions</code><a href=\"\" class=\"source_link\" style=\"float:right\">[source]</a></h4>\n",
       "\n",
       "Registry for custom Loss Functions"
      ],
      "text/plain": [
       "<IPython.core.display.Markdown object>"
      ]
     },
     "metadata": {},
     "output_type": "display_data"
    },
    {
     "data": {
      "application/javascript": [
       "\n",
       "            setTimeout(function() {\n",
       "                var nbb_cell_id = 32;\n",
       "                var nbb_unformatted_code = \"show_doc(LOSS_REGISTRY)\";\n",
       "                var nbb_formatted_code = \"show_doc(LOSS_REGISTRY)\";\n",
       "                var nbb_cells = Jupyter.notebook.get_cells();\n",
       "                for (var i = 0; i < nbb_cells.length; ++i) {\n",
       "                    if (nbb_cells[i].input_prompt_number == nbb_cell_id) {\n",
       "                        if (nbb_cells[i].get_text() == nbb_unformatted_code) {\n",
       "                             nbb_cells[i].set_text(nbb_formatted_code);\n",
       "                        }\n",
       "                        break;\n",
       "                    }\n",
       "                }\n",
       "            }, 500);\n",
       "            "
      ],
      "text/plain": [
       "<IPython.core.display.Javascript object>"
      ]
     },
     "metadata": {},
     "output_type": "display_data"
    }
   ],
   "source": [
    "show_doc(LOSS_REGISTRY)"
   ]
  },
  {
   "cell_type": "markdown",
   "id": "3d5003c7",
   "metadata": {},
   "source": [
    "## Dataset Catalog\n",
    "> A global dictionary that stores information about the Datasets and how to obtain them."
   ]
  },
  {
   "cell_type": "code",
   "execution_count": null,
   "id": "4f685c47",
   "metadata": {},
   "outputs": [
    {
     "data": {
      "application/javascript": [
       "\n",
       "            setTimeout(function() {\n",
       "                var nbb_cell_id = 23;\n",
       "                var nbb_unformatted_code = \"# hide\\n# export\\nclass _DatasetCatalog(UserDict):\\n    \\\"\\\"\\\"\\n    A global dictionary that stores information about the datasets and how to obtain them.\\n    It contains a mapping from strings\\n    (which are names that identify a dataset, e.g. `coco_2014_train`)\\n    to a function which parses the dataset and returns the samples in the\\n    format of `list[dict]`.\\n\\n    The purpose of having this catalog is to make it easy to choose\\n    different datasets, by just using the strings in the config.\\n    \\\"\\\"\\\"\\n\\n    def register(self, name, func):\\n        \\\"\\\"\\\"\\n        Arguments:\\n        * `name` (str): the name that identifies a dataset, e.g. `coco_2014_train`.\\n        * `func` (callable): a callable which takes no arguments and returns a list of dicts. It must return the same results if called multiple times.\\n        \\\"\\\"\\\"\\n        assert callable(\\n            func\\n        ), \\\"You must register a function with `DatasetCatalog.register`!\\\"\\n        assert name not in self, \\\"Dataset '{}' is already registered!\\\".format(name)\\n        self[name] = func\\n\\n    def get(self, name, **kwargs):\\n        \\\"\\\"\\\"\\n        Call the registered function and return its results.\\n\\n        Arguments:\\n        * `name` (str): the name that identifies a dataset, e.g. `coco_2014_train`.\\n\\n        Returns:\\n        * `list[dict]`: dataset annotations.\\n        \\\"\\\"\\\"\\n        try:\\n            f = self[name]\\n        except KeyError as e:\\n            raise KeyError(\\n                \\\"Dataset '{}' is not registered! Available datasets are: {}\\\".format(\\n                    name, \\\", \\\".join(list(self.keys()))\\n                )\\n            ) from e\\n        return f(**kwargs)\\n\\n    def list(self) -> List[str]:\\n        \\\"\\\"\\\"\\n        List all registered datasets.\\n\\n\\n        Returns:\\n            `list[str]`\\n        \\\"\\\"\\\"\\n        return list(self.keys())\\n\\n    def remove(self, name):\\n        \\\"\\\"\\\"\\n        Alias of ``pop``.\\n        \\\"\\\"\\\"\\n        self.pop(name)\\n\\n    def __str__(self):\\n        return \\\"DatasetCatalog(registered datasets: {})\\\".format(\\\", \\\".join(self.keys()))\\n\\n    __repr__ = __str__\\n\\n\\nDatasetCatalog = _DatasetCatalog()\";\n",
       "                var nbb_formatted_code = \"# hide\\n# export\\nclass _DatasetCatalog(UserDict):\\n    \\\"\\\"\\\"\\n    A global dictionary that stores information about the datasets and how to obtain them.\\n    It contains a mapping from strings\\n    (which are names that identify a dataset, e.g. `coco_2014_train`)\\n    to a function which parses the dataset and returns the samples in the\\n    format of `list[dict]`.\\n\\n    The purpose of having this catalog is to make it easy to choose\\n    different datasets, by just using the strings in the config.\\n    \\\"\\\"\\\"\\n\\n    def register(self, name, func):\\n        \\\"\\\"\\\"\\n        Arguments:\\n        * `name` (str): the name that identifies a dataset, e.g. `coco_2014_train`.\\n        * `func` (callable): a callable which takes no arguments and returns a list of dicts. It must return the same results if called multiple times.\\n        \\\"\\\"\\\"\\n        assert callable(\\n            func\\n        ), \\\"You must register a function with `DatasetCatalog.register`!\\\"\\n        assert name not in self, \\\"Dataset '{}' is already registered!\\\".format(name)\\n        self[name] = func\\n\\n    def get(self, name, **kwargs):\\n        \\\"\\\"\\\"\\n        Call the registered function and return its results.\\n\\n        Arguments:\\n        * `name` (str): the name that identifies a dataset, e.g. `coco_2014_train`.\\n\\n        Returns:\\n        * `list[dict]`: dataset annotations.\\n        \\\"\\\"\\\"\\n        try:\\n            f = self[name]\\n        except KeyError as e:\\n            raise KeyError(\\n                \\\"Dataset '{}' is not registered! Available datasets are: {}\\\".format(\\n                    name, \\\", \\\".join(list(self.keys()))\\n                )\\n            ) from e\\n        return f(**kwargs)\\n\\n    def list(self) -> List[str]:\\n        \\\"\\\"\\\"\\n        List all registered datasets.\\n\\n\\n        Returns:\\n            `list[str]`\\n        \\\"\\\"\\\"\\n        return list(self.keys())\\n\\n    def remove(self, name):\\n        \\\"\\\"\\\"\\n        Alias of ``pop``.\\n        \\\"\\\"\\\"\\n        self.pop(name)\\n\\n    def __str__(self):\\n        return \\\"DatasetCatalog(registered datasets: {})\\\".format(\\\", \\\".join(self.keys()))\\n\\n    __repr__ = __str__\\n\\n\\nDatasetCatalog = _DatasetCatalog()\";\n",
       "                var nbb_cells = Jupyter.notebook.get_cells();\n",
       "                for (var i = 0; i < nbb_cells.length; ++i) {\n",
       "                    if (nbb_cells[i].input_prompt_number == nbb_cell_id) {\n",
       "                        if (nbb_cells[i].get_text() == nbb_unformatted_code) {\n",
       "                             nbb_cells[i].set_text(nbb_formatted_code);\n",
       "                        }\n",
       "                        break;\n",
       "                    }\n",
       "                }\n",
       "            }, 500);\n",
       "            "
      ],
      "text/plain": [
       "<IPython.core.display.Javascript object>"
      ]
     },
     "metadata": {},
     "output_type": "display_data"
    }
   ],
   "source": [
    "# hide\n",
    "# export\n",
    "class _DatasetCatalog(UserDict):\n",
    "    \"\"\"\n",
    "    A global dictionary that stores information about the datasets and how to obtain them.\n",
    "    It contains a mapping from strings\n",
    "    (which are names that identify a dataset, e.g. `coco_2014_train`)\n",
    "    to a function which parses the dataset and returns the samples in the\n",
    "    format of `list[dict]`.\n",
    "\n",
    "    The purpose of having this catalog is to make it easy to choose\n",
    "    different datasets, by just using the strings in the config.\n",
    "    \"\"\"\n",
    "\n",
    "    def register(self, name, func):\n",
    "        \"\"\"\n",
    "        Arguments:\n",
    "        * `name` (str): the name that identifies a dataset, e.g. `coco_2014_train`.\n",
    "        * `func` (callable): a callable which takes no arguments and returns a list of dicts. It must return the same results if called multiple times.\n",
    "        \"\"\"\n",
    "        assert callable(\n",
    "            func\n",
    "        ), \"You must register a function with `DatasetCatalog.register`!\"\n",
    "        assert name not in self, \"Dataset '{}' is already registered!\".format(name)\n",
    "        self[name] = func\n",
    "\n",
    "    def get(self, name, **kwargs):\n",
    "        \"\"\"\n",
    "        Call the registered function and return its results.\n",
    "\n",
    "        Arguments:\n",
    "        * `name` (str): the name that identifies a dataset, e.g. `coco_2014_train`.\n",
    "\n",
    "        Returns:\n",
    "        * `list[dict]`: dataset annotations.\n",
    "        \"\"\"\n",
    "        try:\n",
    "            f = self[name]\n",
    "        except KeyError as e:\n",
    "            raise KeyError(\n",
    "                \"Dataset '{}' is not registered! Available datasets are: {}\".format(\n",
    "                    name, \", \".join(list(self.keys()))\n",
    "                )\n",
    "            ) from e\n",
    "        return f(**kwargs)\n",
    "\n",
    "    def list(self) -> List[str]:\n",
    "        \"\"\"\n",
    "        List all registered datasets.\n",
    "\n",
    "\n",
    "        Returns:\n",
    "            `list[str]`\n",
    "        \"\"\"\n",
    "        return list(self.keys())\n",
    "\n",
    "    def remove(self, name):\n",
    "        \"\"\"\n",
    "        Alias of ``pop``.\n",
    "        \"\"\"\n",
    "        self.pop(name)\n",
    "\n",
    "    def __str__(self):\n",
    "        return \"DatasetCatalog(registered datasets: {})\".format(\", \".join(self.keys()))\n",
    "\n",
    "    __repr__ = __str__\n",
    "\n",
    "\n",
    "DatasetCatalog = _DatasetCatalog()"
   ]
  },
  {
   "cell_type": "code",
   "execution_count": null,
   "id": "1dfd94db",
   "metadata": {},
   "outputs": [
    {
     "data": {
      "text/markdown": [
       "<h4 id=\"DatasetCatalog(registered datasets: )\" class=\"doc_header\"><code>DatasetCatalog(registered datasets: )</code><a href=\"\" class=\"source_link\" style=\"float:right\">[source]</a></h4>\n",
       "\n",
       "A global dictionary that stores information about the datasets and how to obtain them.\n",
       "It contains a mapping from strings\n",
       "(which are names that identify a dataset, e.g. `coco_2014_train`)\n",
       "to a function which parses the dataset and returns the samples in the\n",
       "format of `list[dict]`.\n",
       "\n",
       "The purpose of having this catalog is to make it easy to choose\n",
       "different datasets, by just using the strings in the config."
      ],
      "text/plain": [
       "<IPython.core.display.Markdown object>"
      ]
     },
     "metadata": {},
     "output_type": "display_data"
    },
    {
     "data": {
      "application/javascript": [
       "\n",
       "            setTimeout(function() {\n",
       "                var nbb_cell_id = 24;\n",
       "                var nbb_unformatted_code = \"show_doc(DatasetCatalog)\";\n",
       "                var nbb_formatted_code = \"show_doc(DatasetCatalog)\";\n",
       "                var nbb_cells = Jupyter.notebook.get_cells();\n",
       "                for (var i = 0; i < nbb_cells.length; ++i) {\n",
       "                    if (nbb_cells[i].input_prompt_number == nbb_cell_id) {\n",
       "                        if (nbb_cells[i].get_text() == nbb_unformatted_code) {\n",
       "                             nbb_cells[i].set_text(nbb_formatted_code);\n",
       "                        }\n",
       "                        break;\n",
       "                    }\n",
       "                }\n",
       "            }, 500);\n",
       "            "
      ],
      "text/plain": [
       "<IPython.core.display.Javascript object>"
      ]
     },
     "metadata": {},
     "output_type": "display_data"
    }
   ],
   "source": [
    "show_doc(DatasetCatalog)"
   ]
  },
  {
   "cell_type": "code",
   "execution_count": null,
   "id": "da1f64c2",
   "metadata": {},
   "outputs": [
    {
     "data": {
      "text/markdown": [
       "<h4 id=\"_DatasetCatalog.register\" class=\"doc_header\"><code>_DatasetCatalog.register</code><a href=\"__main__.py#L15\" class=\"source_link\" style=\"float:right\">[source]</a></h4>\n",
       "\n",
       "> <code>_DatasetCatalog.register</code>(**`name`**, **`func`**)\n",
       "\n",
       "Arguments:\n",
       "* `name` (str): the name that identifies a dataset, e.g. `coco_2014_train`.\n",
       "* `func` (callable): a callable which takes no arguments and returns a list of dicts. It must return the same results if called multiple times."
      ],
      "text/plain": [
       "<IPython.core.display.Markdown object>"
      ]
     },
     "metadata": {},
     "output_type": "display_data"
    },
    {
     "data": {
      "application/javascript": [
       "\n",
       "            setTimeout(function() {\n",
       "                var nbb_cell_id = 25;\n",
       "                var nbb_unformatted_code = \"show_doc(DatasetCatalog.register)\";\n",
       "                var nbb_formatted_code = \"show_doc(DatasetCatalog.register)\";\n",
       "                var nbb_cells = Jupyter.notebook.get_cells();\n",
       "                for (var i = 0; i < nbb_cells.length; ++i) {\n",
       "                    if (nbb_cells[i].input_prompt_number == nbb_cell_id) {\n",
       "                        if (nbb_cells[i].get_text() == nbb_unformatted_code) {\n",
       "                             nbb_cells[i].set_text(nbb_formatted_code);\n",
       "                        }\n",
       "                        break;\n",
       "                    }\n",
       "                }\n",
       "            }, 500);\n",
       "            "
      ],
      "text/plain": [
       "<IPython.core.display.Javascript object>"
      ]
     },
     "metadata": {},
     "output_type": "display_data"
    }
   ],
   "source": [
    "show_doc(DatasetCatalog.register)"
   ]
  },
  {
   "cell_type": "code",
   "execution_count": null,
   "id": "35088850",
   "metadata": {},
   "outputs": [
    {
     "data": {
      "text/markdown": [
       "<h4 id=\"_DatasetCatalog.get\" class=\"doc_header\"><code>_DatasetCatalog.get</code><a href=\"__main__.py#L27\" class=\"source_link\" style=\"float:right\">[source]</a></h4>\n",
       "\n",
       "> <code>_DatasetCatalog.get</code>(**`name`**, **\\*\\*`kwargs`**)\n",
       "\n",
       "Call the registered function and return its results.\n",
       "\n",
       "Arguments:\n",
       "* `name` (str): the name that identifies a dataset, e.g. `coco_2014_train`.\n",
       "\n",
       "Returns:\n",
       "* `list[dict]`: dataset annotations."
      ],
      "text/plain": [
       "<IPython.core.display.Markdown object>"
      ]
     },
     "metadata": {},
     "output_type": "display_data"
    },
    {
     "data": {
      "application/javascript": [
       "\n",
       "            setTimeout(function() {\n",
       "                var nbb_cell_id = 26;\n",
       "                var nbb_unformatted_code = \"show_doc(DatasetCatalog.get)\";\n",
       "                var nbb_formatted_code = \"show_doc(DatasetCatalog.get)\";\n",
       "                var nbb_cells = Jupyter.notebook.get_cells();\n",
       "                for (var i = 0; i < nbb_cells.length; ++i) {\n",
       "                    if (nbb_cells[i].input_prompt_number == nbb_cell_id) {\n",
       "                        if (nbb_cells[i].get_text() == nbb_unformatted_code) {\n",
       "                             nbb_cells[i].set_text(nbb_formatted_code);\n",
       "                        }\n",
       "                        break;\n",
       "                    }\n",
       "                }\n",
       "            }, 500);\n",
       "            "
      ],
      "text/plain": [
       "<IPython.core.display.Javascript object>"
      ]
     },
     "metadata": {},
     "output_type": "display_data"
    }
   ],
   "source": [
    "show_doc(DatasetCatalog.get)"
   ]
  },
  {
   "cell_type": "code",
   "execution_count": null,
   "id": "d09865b8",
   "metadata": {},
   "outputs": [
    {
     "data": {
      "text/markdown": [
       "<h4 id=\"_DatasetCatalog.remove\" class=\"doc_header\"><code>_DatasetCatalog.remove</code><a href=\"__main__.py#L57\" class=\"source_link\" style=\"float:right\">[source]</a></h4>\n",
       "\n",
       "> <code>_DatasetCatalog.remove</code>(**`name`**)\n",
       "\n",
       "Alias of ``pop``."
      ],
      "text/plain": [
       "<IPython.core.display.Markdown object>"
      ]
     },
     "metadata": {},
     "output_type": "display_data"
    },
    {
     "data": {
      "application/javascript": [
       "\n",
       "            setTimeout(function() {\n",
       "                var nbb_cell_id = 27;\n",
       "                var nbb_unformatted_code = \"show_doc(DatasetCatalog.remove)\";\n",
       "                var nbb_formatted_code = \"show_doc(DatasetCatalog.remove)\";\n",
       "                var nbb_cells = Jupyter.notebook.get_cells();\n",
       "                for (var i = 0; i < nbb_cells.length; ++i) {\n",
       "                    if (nbb_cells[i].input_prompt_number == nbb_cell_id) {\n",
       "                        if (nbb_cells[i].get_text() == nbb_unformatted_code) {\n",
       "                             nbb_cells[i].set_text(nbb_formatted_code);\n",
       "                        }\n",
       "                        break;\n",
       "                    }\n",
       "                }\n",
       "            }, 500);\n",
       "            "
      ],
      "text/plain": [
       "<IPython.core.display.Javascript object>"
      ]
     },
     "metadata": {},
     "output_type": "display_data"
    }
   ],
   "source": [
    "show_doc(DatasetCatalog.remove)"
   ]
  },
  {
   "cell_type": "markdown",
   "id": "9e6f2252",
   "metadata": {},
   "source": [
    "## Export-"
   ]
  },
  {
   "cell_type": "code",
   "execution_count": null,
   "id": "25df57af",
   "metadata": {},
   "outputs": [
    {
     "name": "stdout",
     "output_type": "stream",
     "text": [
      "Converted 00b_utils.structures.ipynb.\n"
     ]
    },
    {
     "data": {
      "application/javascript": [
       "\n",
       "            setTimeout(function() {\n",
       "                var nbb_cell_id = 33;\n",
       "                var nbb_unformatted_code = \"# hide\\nnotebook2script(\\\"00b_utils.structures.ipynb\\\")\";\n",
       "                var nbb_formatted_code = \"# hide\\nnotebook2script(\\\"00b_utils.structures.ipynb\\\")\";\n",
       "                var nbb_cells = Jupyter.notebook.get_cells();\n",
       "                for (var i = 0; i < nbb_cells.length; ++i) {\n",
       "                    if (nbb_cells[i].input_prompt_number == nbb_cell_id) {\n",
       "                        if (nbb_cells[i].get_text() == nbb_unformatted_code) {\n",
       "                             nbb_cells[i].set_text(nbb_formatted_code);\n",
       "                        }\n",
       "                        break;\n",
       "                    }\n",
       "                }\n",
       "            }, 500);\n",
       "            "
      ],
      "text/plain": [
       "<IPython.core.display.Javascript object>"
      ]
     },
     "metadata": {},
     "output_type": "display_data"
    }
   ],
   "source": [
    "# hide\n",
    "notebook2script(\"00b_utils.structures.ipynb\")"
   ]
  },
  {
   "cell_type": "code",
   "execution_count": null,
   "id": "88943fda",
   "metadata": {},
   "outputs": [],
   "source": []
  }
 ],
 "metadata": {
  "kernelspec": {
   "display_name": "gale_dev",
   "language": "python",
   "name": "gale_dev"
  }
 },
 "nbformat": 4,
 "nbformat_minor": 5
}
