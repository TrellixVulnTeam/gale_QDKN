{
 "cells": [
  {
   "cell_type": "code",
   "execution_count": null,
   "metadata": {},
   "outputs": [],
   "source": [
    "# default_exp config.optimizers"
   ]
  },
  {
   "cell_type": "code",
   "execution_count": null,
   "metadata": {},
   "outputs": [
    {
     "data": {
      "application/javascript": [
       "\n",
       "            setTimeout(function() {\n",
       "                var nbb_cell_id = 2;\n",
       "                var nbb_unformatted_code = \"# hide\\n%load_ext nb_black\\n%load_ext autoreload\\n%autoreload 2\";\n",
       "                var nbb_formatted_code = \"# hide\\n%load_ext nb_black\\n%load_ext autoreload\\n%autoreload 2\";\n",
       "                var nbb_cells = Jupyter.notebook.get_cells();\n",
       "                for (var i = 0; i < nbb_cells.length; ++i) {\n",
       "                    if (nbb_cells[i].input_prompt_number == nbb_cell_id) {\n",
       "                        if (nbb_cells[i].get_text() == nbb_unformatted_code) {\n",
       "                             nbb_cells[i].set_text(nbb_formatted_code);\n",
       "                        }\n",
       "                        break;\n",
       "                    }\n",
       "                }\n",
       "            }, 500);\n",
       "            "
      ],
      "text/plain": [
       "<IPython.core.display.Javascript object>"
      ]
     },
     "metadata": {},
     "output_type": "display_data"
    }
   ],
   "source": [
    "# hide\n",
    "%load_ext nb_black\n",
    "%load_ext autoreload\n",
    "%autoreload 2"
   ]
  },
  {
   "cell_type": "code",
   "execution_count": null,
   "metadata": {},
   "outputs": [
    {
     "data": {
      "application/javascript": [
       "\n",
       "            setTimeout(function() {\n",
       "                var nbb_cell_id = 3;\n",
       "                var nbb_unformatted_code = \"# hide\\nimport warnings\\n\\nfrom nbdev.export import *\\nfrom nbdev.showdoc import *\\n\\nwarnings.filterwarnings(\\\"ignore\\\")\";\n",
       "                var nbb_formatted_code = \"# hide\\nimport warnings\\n\\nfrom nbdev.export import *\\nfrom nbdev.showdoc import *\\n\\nwarnings.filterwarnings(\\\"ignore\\\")\";\n",
       "                var nbb_cells = Jupyter.notebook.get_cells();\n",
       "                for (var i = 0; i < nbb_cells.length; ++i) {\n",
       "                    if (nbb_cells[i].input_prompt_number == nbb_cell_id) {\n",
       "                        if (nbb_cells[i].get_text() == nbb_unformatted_code) {\n",
       "                             nbb_cells[i].set_text(nbb_formatted_code);\n",
       "                        }\n",
       "                        break;\n",
       "                    }\n",
       "                }\n",
       "            }, 500);\n",
       "            "
      ],
      "text/plain": [
       "<IPython.core.display.Javascript object>"
      ]
     },
     "metadata": {},
     "output_type": "display_data"
    }
   ],
   "source": [
    "# hide\n",
    "import warnings\n",
    "\n",
    "from nbdev.export import *\n",
    "from nbdev.showdoc import *\n",
    "\n",
    "warnings.filterwarnings(\"ignore\")"
   ]
  },
  {
   "cell_type": "markdown",
   "metadata": {},
   "source": [
    "# Optimizer Configs\n",
    "> Structured configs for available `Optimizers`"
   ]
  },
  {
   "cell_type": "code",
   "execution_count": null,
   "metadata": {},
   "outputs": [
    {
     "data": {
      "application/javascript": [
       "\n",
       "            setTimeout(function() {\n",
       "                var nbb_cell_id = 4;\n",
       "                var nbb_unformatted_code = \"# export\\nfrom dataclasses import dataclass\\nfrom functools import partial\\nfrom typing import *\\n\\nfrom hydra.utils import instantiate\\nfrom omegaconf import MISSING, DictConfig, OmegaConf\\n\\nfrom gale.config.utility import get_class_path\\nfrom gale.core.nn.optim.optimizers import *\";\n",
       "                var nbb_formatted_code = \"# export\\nfrom dataclasses import dataclass\\nfrom functools import partial\\nfrom typing import *\\n\\nfrom hydra.utils import instantiate\\nfrom omegaconf import MISSING, DictConfig, OmegaConf\\n\\nfrom gale.config.utility import get_class_path\\nfrom gale.core.nn.optim.optimizers import *\";\n",
       "                var nbb_cells = Jupyter.notebook.get_cells();\n",
       "                for (var i = 0; i < nbb_cells.length; ++i) {\n",
       "                    if (nbb_cells[i].input_prompt_number == nbb_cell_id) {\n",
       "                        if (nbb_cells[i].get_text() == nbb_unformatted_code) {\n",
       "                             nbb_cells[i].set_text(nbb_formatted_code);\n",
       "                        }\n",
       "                        break;\n",
       "                    }\n",
       "                }\n",
       "            }, 500);\n",
       "            "
      ],
      "text/plain": [
       "<IPython.core.display.Javascript object>"
      ]
     },
     "metadata": {},
     "output_type": "display_data"
    }
   ],
   "source": [
    "# export\n",
    "from dataclasses import dataclass\n",
    "from functools import partial\n",
    "from typing import *\n",
    "\n",
    "from hydra.utils import instantiate\n",
    "from omegaconf import MISSING, DictConfig, OmegaConf\n",
    "\n",
    "from gale.config.utility import get_class_path\n",
    "from gale.core.nn.optim.optimizers import *"
   ]
  },
  {
   "cell_type": "markdown",
   "metadata": {},
   "source": [
    "## Utility "
   ]
  },
  {
   "cell_type": "code",
   "execution_count": null,
   "metadata": {},
   "outputs": [
    {
     "data": {
      "application/javascript": [
       "\n",
       "            setTimeout(function() {\n",
       "                var nbb_cell_id = 5;\n",
       "                var nbb_unformatted_code = \"# export\\ndef create_optimizer(\\n    config: DictConfig, params: Iterable, **kwargs: Optional[Dict[str, Any]]\\n):\\n    \\\"\\\"\\\"\\n    Convenience method to obtain a Optimizer from config given params.\\n\\n    Args:\\n        name: config for the Optimizer. Config can be created via `OptimizerParams`.\\n        kwargs: Optional kwargs of the optimizer used during instantiation.\\n    \\\"\\\"\\\"\\n    instance = instantiate(config, params=params, **kwargs)\\n    return instance\";\n",
       "                var nbb_formatted_code = \"# export\\ndef create_optimizer(\\n    config: DictConfig, params: Iterable, **kwargs: Optional[Dict[str, Any]]\\n):\\n    \\\"\\\"\\\"\\n    Convenience method to obtain a Optimizer from config given params.\\n\\n    Args:\\n        name: config for the Optimizer. Config can be created via `OptimizerParams`.\\n        kwargs: Optional kwargs of the optimizer used during instantiation.\\n    \\\"\\\"\\\"\\n    instance = instantiate(config, params=params, **kwargs)\\n    return instance\";\n",
       "                var nbb_cells = Jupyter.notebook.get_cells();\n",
       "                for (var i = 0; i < nbb_cells.length; ++i) {\n",
       "                    if (nbb_cells[i].input_prompt_number == nbb_cell_id) {\n",
       "                        if (nbb_cells[i].get_text() == nbb_unformatted_code) {\n",
       "                             nbb_cells[i].set_text(nbb_formatted_code);\n",
       "                        }\n",
       "                        break;\n",
       "                    }\n",
       "                }\n",
       "            }, 500);\n",
       "            "
      ],
      "text/plain": [
       "<IPython.core.display.Javascript object>"
      ]
     },
     "metadata": {},
     "output_type": "display_data"
    }
   ],
   "source": [
    "# export\n",
    "def create_optimizer(\n",
    "    config: DictConfig, params: Iterable, **kwargs: Optional[Dict[str, Any]]\n",
    "):\n",
    "    \"\"\"\n",
    "    Convenience method to obtain a Optimizer from config given params.\n",
    "\n",
    "    Args:\n",
    "        name: config for the Optimizer. Config can be created via `OptimizerParams`.\n",
    "        kwargs: Optional kwargs of the optimizer used during instantiation.\n",
    "    \"\"\"\n",
    "    instance = instantiate(config, params=params, **kwargs)\n",
    "    return instance"
   ]
  },
  {
   "cell_type": "code",
   "execution_count": null,
   "metadata": {},
   "outputs": [
    {
     "data": {
      "application/javascript": [
       "\n",
       "            setTimeout(function() {\n",
       "                var nbb_cell_id = 6;\n",
       "                var nbb_unformatted_code = \"# export\\n@dataclass\\nclass OptimizerParams:\\n    \\\"\\\"\\\"\\n    Base Optimizer params with no values.\\n    \\\"\\\"\\\"\\n\\n    _target_: str = MISSING\\n    lr: Optional[float] = 2e-03\\n    weight_decay: Optional[float] = 0.0\";\n",
       "                var nbb_formatted_code = \"# export\\n@dataclass\\nclass OptimizerParams:\\n    \\\"\\\"\\\"\\n    Base Optimizer params with no values.\\n    \\\"\\\"\\\"\\n\\n    _target_: str = MISSING\\n    lr: Optional[float] = 2e-03\\n    weight_decay: Optional[float] = 0.0\";\n",
       "                var nbb_cells = Jupyter.notebook.get_cells();\n",
       "                for (var i = 0; i < nbb_cells.length; ++i) {\n",
       "                    if (nbb_cells[i].input_prompt_number == nbb_cell_id) {\n",
       "                        if (nbb_cells[i].get_text() == nbb_unformatted_code) {\n",
       "                             nbb_cells[i].set_text(nbb_formatted_code);\n",
       "                        }\n",
       "                        break;\n",
       "                    }\n",
       "                }\n",
       "            }, 500);\n",
       "            "
      ],
      "text/plain": [
       "<IPython.core.display.Javascript object>"
      ]
     },
     "metadata": {},
     "output_type": "display_data"
    }
   ],
   "source": [
    "# export\n",
    "@dataclass\n",
    "class OptimizerParams:\n",
    "    \"\"\"\n",
    "    Base Optimizer params with no values.\n",
    "    \"\"\"\n",
    "\n",
    "    _target_: str = MISSING\n",
    "    lr: Optional[float] = 2e-03\n",
    "    weight_decay: Optional[float] = 0.0"
   ]
  },
  {
   "cell_type": "code",
   "execution_count": null,
   "metadata": {},
   "outputs": [
    {
     "data": {
      "application/javascript": [
       "\n",
       "            setTimeout(function() {\n",
       "                var nbb_cell_id = 7;\n",
       "                var nbb_unformatted_code = \"# export\\n@dataclass\\nclass SGDConfig(OptimizerParams):\\n    \\\"\\\"\\\"\\n    Default configuration for `SGD` optimizer.\\n    \\\"\\\"\\\"\\n\\n    _target_: str = get_class_path(SGD)\\n    momentum: float = 0\\n    dampening: float = 0\\n    nesterov: bool = False\";\n",
       "                var nbb_formatted_code = \"# export\\n@dataclass\\nclass SGDConfig(OptimizerParams):\\n    \\\"\\\"\\\"\\n    Default configuration for `SGD` optimizer.\\n    \\\"\\\"\\\"\\n\\n    _target_: str = get_class_path(SGD)\\n    momentum: float = 0\\n    dampening: float = 0\\n    nesterov: bool = False\";\n",
       "                var nbb_cells = Jupyter.notebook.get_cells();\n",
       "                for (var i = 0; i < nbb_cells.length; ++i) {\n",
       "                    if (nbb_cells[i].input_prompt_number == nbb_cell_id) {\n",
       "                        if (nbb_cells[i].get_text() == nbb_unformatted_code) {\n",
       "                             nbb_cells[i].set_text(nbb_formatted_code);\n",
       "                        }\n",
       "                        break;\n",
       "                    }\n",
       "                }\n",
       "            }, 500);\n",
       "            "
      ],
      "text/plain": [
       "<IPython.core.display.Javascript object>"
      ]
     },
     "metadata": {},
     "output_type": "display_data"
    }
   ],
   "source": [
    "# export\n",
    "@dataclass\n",
    "class SGDConfig(OptimizerParams):\n",
    "    \"\"\"\n",
    "    Default configuration for `SGD` optimizer.\n",
    "    \"\"\"\n",
    "\n",
    "    _target_: str = get_class_path(SGD)\n",
    "    momentum: float = 0\n",
    "    dampening: float = 0\n",
    "    nesterov: bool = False"
   ]
  },
  {
   "cell_type": "code",
   "execution_count": null,
   "metadata": {},
   "outputs": [
    {
     "data": {
      "application/javascript": [
       "\n",
       "            setTimeout(function() {\n",
       "                var nbb_cell_id = 8;\n",
       "                var nbb_unformatted_code = \"import torch\\n\\nparam = [torch.nn.Parameter(torch.randn(1, 2))]\\n\\ncfg = OmegaConf.structured(SGDConfig(lr=1e-03))\\nobj = create_optimizer(cfg, params=param)\\nassert isinstance(obj, SGD)\";\n",
       "                var nbb_formatted_code = \"import torch\\n\\nparam = [torch.nn.Parameter(torch.randn(1, 2))]\\n\\ncfg = OmegaConf.structured(SGDConfig(lr=1e-03))\\nobj = create_optimizer(cfg, params=param)\\nassert isinstance(obj, SGD)\";\n",
       "                var nbb_cells = Jupyter.notebook.get_cells();\n",
       "                for (var i = 0; i < nbb_cells.length; ++i) {\n",
       "                    if (nbb_cells[i].input_prompt_number == nbb_cell_id) {\n",
       "                        if (nbb_cells[i].get_text() == nbb_unformatted_code) {\n",
       "                             nbb_cells[i].set_text(nbb_formatted_code);\n",
       "                        }\n",
       "                        break;\n",
       "                    }\n",
       "                }\n",
       "            }, 500);\n",
       "            "
      ],
      "text/plain": [
       "<IPython.core.display.Javascript object>"
      ]
     },
     "metadata": {},
     "output_type": "display_data"
    }
   ],
   "source": [
    "import torch\n",
    "\n",
    "param = [torch.nn.Parameter(torch.randn(1, 2))]\n",
    "\n",
    "cfg = OmegaConf.structured(SGDConfig(lr=1e-03))\n",
    "obj = create_optimizer(cfg, params=param)\n",
    "assert isinstance(obj, SGD)"
   ]
  },
  {
   "cell_type": "code",
   "execution_count": null,
   "metadata": {},
   "outputs": [
    {
     "data": {
      "application/javascript": [
       "\n",
       "            setTimeout(function() {\n",
       "                var nbb_cell_id = 9;\n",
       "                var nbb_unformatted_code = \"# export\\n@dataclass\\nclass AdamConfig(OptimizerParams):\\n    \\\"\\\"\\\"\\n    Default configuration for Adam optimizer.\\n    \\\"\\\"\\\"\\n\\n    _target_: str = get_class_path(Adam)\\n    betas: Tuple[float, float] = (0.9, 0.999)\\n    eps: float = 1e-08\\n    amsgrad: bool = False\";\n",
       "                var nbb_formatted_code = \"# export\\n@dataclass\\nclass AdamConfig(OptimizerParams):\\n    \\\"\\\"\\\"\\n    Default configuration for Adam optimizer.\\n    \\\"\\\"\\\"\\n\\n    _target_: str = get_class_path(Adam)\\n    betas: Tuple[float, float] = (0.9, 0.999)\\n    eps: float = 1e-08\\n    amsgrad: bool = False\";\n",
       "                var nbb_cells = Jupyter.notebook.get_cells();\n",
       "                for (var i = 0; i < nbb_cells.length; ++i) {\n",
       "                    if (nbb_cells[i].input_prompt_number == nbb_cell_id) {\n",
       "                        if (nbb_cells[i].get_text() == nbb_unformatted_code) {\n",
       "                             nbb_cells[i].set_text(nbb_formatted_code);\n",
       "                        }\n",
       "                        break;\n",
       "                    }\n",
       "                }\n",
       "            }, 500);\n",
       "            "
      ],
      "text/plain": [
       "<IPython.core.display.Javascript object>"
      ]
     },
     "metadata": {},
     "output_type": "display_data"
    }
   ],
   "source": [
    "# export\n",
    "@dataclass\n",
    "class AdamConfig(OptimizerParams):\n",
    "    \"\"\"\n",
    "    Default configuration for Adam optimizer.\n",
    "    \"\"\"\n",
    "\n",
    "    _target_: str = get_class_path(Adam)\n",
    "    betas: Tuple[float, float] = (0.9, 0.999)\n",
    "    eps: float = 1e-08\n",
    "    amsgrad: bool = False"
   ]
  },
  {
   "cell_type": "code",
   "execution_count": null,
   "metadata": {},
   "outputs": [
    {
     "data": {
      "application/javascript": [
       "\n",
       "            setTimeout(function() {\n",
       "                var nbb_cell_id = 10;\n",
       "                var nbb_unformatted_code = \"cfg = OmegaConf.structured(AdamConfig(lr=1e-03))\\nobj = create_optimizer(cfg, params=param)\\nassert isinstance(obj, Adam)\";\n",
       "                var nbb_formatted_code = \"cfg = OmegaConf.structured(AdamConfig(lr=1e-03))\\nobj = create_optimizer(cfg, params=param)\\nassert isinstance(obj, Adam)\";\n",
       "                var nbb_cells = Jupyter.notebook.get_cells();\n",
       "                for (var i = 0; i < nbb_cells.length; ++i) {\n",
       "                    if (nbb_cells[i].input_prompt_number == nbb_cell_id) {\n",
       "                        if (nbb_cells[i].get_text() == nbb_unformatted_code) {\n",
       "                             nbb_cells[i].set_text(nbb_formatted_code);\n",
       "                        }\n",
       "                        break;\n",
       "                    }\n",
       "                }\n",
       "            }, 500);\n",
       "            "
      ],
      "text/plain": [
       "<IPython.core.display.Javascript object>"
      ]
     },
     "metadata": {},
     "output_type": "display_data"
    }
   ],
   "source": [
    "cfg = OmegaConf.structured(AdamConfig(lr=1e-03))\n",
    "obj = create_optimizer(cfg, params=param)\n",
    "assert isinstance(obj, Adam)"
   ]
  },
  {
   "cell_type": "code",
   "execution_count": null,
   "metadata": {},
   "outputs": [
    {
     "data": {
      "application/javascript": [
       "\n",
       "            setTimeout(function() {\n",
       "                var nbb_cell_id = 11;\n",
       "                var nbb_unformatted_code = \"# export\\n@dataclass\\nclass AdamWConfig(OptimizerParams):\\n    \\\"\\\"\\\"\\n    Default configuration for AdamW optimizer.\\n    \\\"\\\"\\\"\\n\\n    _target_: str = get_class_path(AdamW)\\n    betas: Tuple[float, float] = (0.95, 0.999)\\n    eps: float = 1e-05\\n    weight_decay: float = 1e-02\\n    amsgrad: bool = False\";\n",
       "                var nbb_formatted_code = \"# export\\n@dataclass\\nclass AdamWConfig(OptimizerParams):\\n    \\\"\\\"\\\"\\n    Default configuration for AdamW optimizer.\\n    \\\"\\\"\\\"\\n\\n    _target_: str = get_class_path(AdamW)\\n    betas: Tuple[float, float] = (0.95, 0.999)\\n    eps: float = 1e-05\\n    weight_decay: float = 1e-02\\n    amsgrad: bool = False\";\n",
       "                var nbb_cells = Jupyter.notebook.get_cells();\n",
       "                for (var i = 0; i < nbb_cells.length; ++i) {\n",
       "                    if (nbb_cells[i].input_prompt_number == nbb_cell_id) {\n",
       "                        if (nbb_cells[i].get_text() == nbb_unformatted_code) {\n",
       "                             nbb_cells[i].set_text(nbb_formatted_code);\n",
       "                        }\n",
       "                        break;\n",
       "                    }\n",
       "                }\n",
       "            }, 500);\n",
       "            "
      ],
      "text/plain": [
       "<IPython.core.display.Javascript object>"
      ]
     },
     "metadata": {},
     "output_type": "display_data"
    }
   ],
   "source": [
    "# export\n",
    "@dataclass\n",
    "class AdamWConfig(OptimizerParams):\n",
    "    \"\"\"\n",
    "    Default configuration for AdamW optimizer.\n",
    "    \"\"\"\n",
    "\n",
    "    _target_: str = get_class_path(AdamW)\n",
    "    betas: Tuple[float, float] = (0.95, 0.999)\n",
    "    eps: float = 1e-05\n",
    "    weight_decay: float = 1e-02\n",
    "    amsgrad: bool = False"
   ]
  },
  {
   "cell_type": "code",
   "execution_count": null,
   "metadata": {},
   "outputs": [
    {
     "data": {
      "application/javascript": [
       "\n",
       "            setTimeout(function() {\n",
       "                var nbb_cell_id = 12;\n",
       "                var nbb_unformatted_code = \"cfg = OmegaConf.structured(AdamWConfig(lr=1e-03))\\nobj = create_optimizer(cfg, params=param)\\nassert isinstance(obj, AdamW)\";\n",
       "                var nbb_formatted_code = \"cfg = OmegaConf.structured(AdamWConfig(lr=1e-03))\\nobj = create_optimizer(cfg, params=param)\\nassert isinstance(obj, AdamW)\";\n",
       "                var nbb_cells = Jupyter.notebook.get_cells();\n",
       "                for (var i = 0; i < nbb_cells.length; ++i) {\n",
       "                    if (nbb_cells[i].input_prompt_number == nbb_cell_id) {\n",
       "                        if (nbb_cells[i].get_text() == nbb_unformatted_code) {\n",
       "                             nbb_cells[i].set_text(nbb_formatted_code);\n",
       "                        }\n",
       "                        break;\n",
       "                    }\n",
       "                }\n",
       "            }, 500);\n",
       "            "
      ],
      "text/plain": [
       "<IPython.core.display.Javascript object>"
      ]
     },
     "metadata": {},
     "output_type": "display_data"
    }
   ],
   "source": [
    "cfg = OmegaConf.structured(AdamWConfig(lr=1e-03))\n",
    "obj = create_optimizer(cfg, params=param)\n",
    "assert isinstance(obj, AdamW)"
   ]
  },
  {
   "cell_type": "code",
   "execution_count": null,
   "metadata": {},
   "outputs": [
    {
     "data": {
      "application/javascript": [
       "\n",
       "            setTimeout(function() {\n",
       "                var nbb_cell_id = 13;\n",
       "                var nbb_unformatted_code = \"# export\\n@dataclass\\nclass RMSpropTFConfig(OptimizerParams):\\n    \\\"\\\"\\\"\\n    Default configuration for RMSpropTF optimizer from `timm`.\\n    \\\"\\\"\\\"\\n\\n    _target_: str = get_class_path(RMSpropTF)\\n    alpha: float = 0.9\\n    eps: float = 1e-10\\n    weight_decay: float = 0\\n    momentum: float = 0.0\\n    centered: bool = False\\n    decoupled_decay: bool = False\\n    lr_in_momentum: bool = True\";\n",
       "                var nbb_formatted_code = \"# export\\n@dataclass\\nclass RMSpropTFConfig(OptimizerParams):\\n    \\\"\\\"\\\"\\n    Default configuration for RMSpropTF optimizer from `timm`.\\n    \\\"\\\"\\\"\\n\\n    _target_: str = get_class_path(RMSpropTF)\\n    alpha: float = 0.9\\n    eps: float = 1e-10\\n    weight_decay: float = 0\\n    momentum: float = 0.0\\n    centered: bool = False\\n    decoupled_decay: bool = False\\n    lr_in_momentum: bool = True\";\n",
       "                var nbb_cells = Jupyter.notebook.get_cells();\n",
       "                for (var i = 0; i < nbb_cells.length; ++i) {\n",
       "                    if (nbb_cells[i].input_prompt_number == nbb_cell_id) {\n",
       "                        if (nbb_cells[i].get_text() == nbb_unformatted_code) {\n",
       "                             nbb_cells[i].set_text(nbb_formatted_code);\n",
       "                        }\n",
       "                        break;\n",
       "                    }\n",
       "                }\n",
       "            }, 500);\n",
       "            "
      ],
      "text/plain": [
       "<IPython.core.display.Javascript object>"
      ]
     },
     "metadata": {},
     "output_type": "display_data"
    }
   ],
   "source": [
    "# export\n",
    "@dataclass\n",
    "class RMSpropTFConfig(OptimizerParams):\n",
    "    \"\"\"\n",
    "    Default configuration for RMSpropTF optimizer from `timm`.\n",
    "    \"\"\"\n",
    "\n",
    "    _target_: str = get_class_path(RMSpropTF)\n",
    "    alpha: float = 0.9\n",
    "    eps: float = 1e-10\n",
    "    weight_decay: float = 0\n",
    "    momentum: float = 0.0\n",
    "    centered: bool = False\n",
    "    decoupled_decay: bool = False\n",
    "    lr_in_momentum: bool = True"
   ]
  },
  {
   "cell_type": "code",
   "execution_count": null,
   "metadata": {},
   "outputs": [
    {
     "data": {
      "application/javascript": [
       "\n",
       "            setTimeout(function() {\n",
       "                var nbb_cell_id = 14;\n",
       "                var nbb_unformatted_code = \"cfg = OmegaConf.structured(RMSpropTFConfig(lr=1e-03))\\nobj = create_optimizer(cfg, params=param)\\nassert isinstance(obj, RMSpropTF)\";\n",
       "                var nbb_formatted_code = \"cfg = OmegaConf.structured(RMSpropTFConfig(lr=1e-03))\\nobj = create_optimizer(cfg, params=param)\\nassert isinstance(obj, RMSpropTF)\";\n",
       "                var nbb_cells = Jupyter.notebook.get_cells();\n",
       "                for (var i = 0; i < nbb_cells.length; ++i) {\n",
       "                    if (nbb_cells[i].input_prompt_number == nbb_cell_id) {\n",
       "                        if (nbb_cells[i].get_text() == nbb_unformatted_code) {\n",
       "                             nbb_cells[i].set_text(nbb_formatted_code);\n",
       "                        }\n",
       "                        break;\n",
       "                    }\n",
       "                }\n",
       "            }, 500);\n",
       "            "
      ],
      "text/plain": [
       "<IPython.core.display.Javascript object>"
      ]
     },
     "metadata": {},
     "output_type": "display_data"
    }
   ],
   "source": [
    "cfg = OmegaConf.structured(RMSpropTFConfig(lr=1e-03))\n",
    "obj = create_optimizer(cfg, params=param)\n",
    "assert isinstance(obj, RMSpropTF)"
   ]
  },
  {
   "cell_type": "code",
   "execution_count": null,
   "metadata": {},
   "outputs": [
    {
     "data": {
      "application/javascript": [
       "\n",
       "            setTimeout(function() {\n",
       "                var nbb_cell_id = 15;\n",
       "                var nbb_unformatted_code = \"# export\\n@dataclass\\nclass RangerConfig(OptimizerParams):\\n    \\\"\\\"\\\"\\n    Default configuration for Ranger (RAdom + LookAhead) optimizer.\\n    \\\"\\\"\\\"\\n\\n    _target_: str = get_class_path(Ranger)\\n    betas: Tuple[float, float] = (0.95, 0.999)\\n    eps: float = 1e-05\\n    k: int = 6\\n    alpha: float = 0.5\";\n",
       "                var nbb_formatted_code = \"# export\\n@dataclass\\nclass RangerConfig(OptimizerParams):\\n    \\\"\\\"\\\"\\n    Default configuration for Ranger (RAdom + LookAhead) optimizer.\\n    \\\"\\\"\\\"\\n\\n    _target_: str = get_class_path(Ranger)\\n    betas: Tuple[float, float] = (0.95, 0.999)\\n    eps: float = 1e-05\\n    k: int = 6\\n    alpha: float = 0.5\";\n",
       "                var nbb_cells = Jupyter.notebook.get_cells();\n",
       "                for (var i = 0; i < nbb_cells.length; ++i) {\n",
       "                    if (nbb_cells[i].input_prompt_number == nbb_cell_id) {\n",
       "                        if (nbb_cells[i].get_text() == nbb_unformatted_code) {\n",
       "                             nbb_cells[i].set_text(nbb_formatted_code);\n",
       "                        }\n",
       "                        break;\n",
       "                    }\n",
       "                }\n",
       "            }, 500);\n",
       "            "
      ],
      "text/plain": [
       "<IPython.core.display.Javascript object>"
      ]
     },
     "metadata": {},
     "output_type": "display_data"
    }
   ],
   "source": [
    "# export\n",
    "@dataclass\n",
    "class RangerConfig(OptimizerParams):\n",
    "    \"\"\"\n",
    "    Default configuration for Ranger (RAdom + LookAhead) optimizer.\n",
    "    \"\"\"\n",
    "\n",
    "    _target_: str = get_class_path(Ranger)\n",
    "    betas: Tuple[float, float] = (0.95, 0.999)\n",
    "    eps: float = 1e-05\n",
    "    k: int = 6\n",
    "    alpha: float = 0.5"
   ]
  },
  {
   "cell_type": "code",
   "execution_count": null,
   "metadata": {},
   "outputs": [
    {
     "data": {
      "application/javascript": [
       "\n",
       "            setTimeout(function() {\n",
       "                var nbb_cell_id = 16;\n",
       "                var nbb_unformatted_code = \"from timm.optim import Lookahead\\n\\ncfg = OmegaConf.structured(RangerConfig(lr=1e-03))\\nobj = create_optimizer(cfg, params=param)\\nassert isinstance(obj, Lookahead)\";\n",
       "                var nbb_formatted_code = \"from timm.optim import Lookahead\\n\\ncfg = OmegaConf.structured(RangerConfig(lr=1e-03))\\nobj = create_optimizer(cfg, params=param)\\nassert isinstance(obj, Lookahead)\";\n",
       "                var nbb_cells = Jupyter.notebook.get_cells();\n",
       "                for (var i = 0; i < nbb_cells.length; ++i) {\n",
       "                    if (nbb_cells[i].input_prompt_number == nbb_cell_id) {\n",
       "                        if (nbb_cells[i].get_text() == nbb_unformatted_code) {\n",
       "                             nbb_cells[i].set_text(nbb_formatted_code);\n",
       "                        }\n",
       "                        break;\n",
       "                    }\n",
       "                }\n",
       "            }, 500);\n",
       "            "
      ],
      "text/plain": [
       "<IPython.core.display.Javascript object>"
      ]
     },
     "metadata": {},
     "output_type": "display_data"
    }
   ],
   "source": [
    "from timm.optim import Lookahead\n",
    "\n",
    "cfg = OmegaConf.structured(RangerConfig(lr=1e-03))\n",
    "obj = create_optimizer(cfg, params=param)\n",
    "assert isinstance(obj, Lookahead)"
   ]
  },
  {
   "cell_type": "code",
   "execution_count": null,
   "metadata": {},
   "outputs": [
    {
     "data": {
      "application/javascript": [
       "\n",
       "            setTimeout(function() {\n",
       "                var nbb_cell_id = 17;\n",
       "                var nbb_unformatted_code = \"# export\\n@dataclass\\nclass RangerGCConfig(OptimizerParams):\\n    \\\"\\\"\\\"\\n    Default configuration for RangerGC\\n    (RAdom + LookAhead + Gradient Centralization) optimizer.\\n    \\\"\\\"\\\"\\n\\n    _target_: str = get_class_path(RangerGC)\\n    alpha: float = 0.5\\n    k: int = 6\\n    N_sma_threshhold: int = 5\\n    betas: Tuple[float, float] = (0.95, 0.999)\\n    eps: float = 1e-05\\n    use_gc: bool = True\\n    gc_conv_only: bool = False\";\n",
       "                var nbb_formatted_code = \"# export\\n@dataclass\\nclass RangerGCConfig(OptimizerParams):\\n    \\\"\\\"\\\"\\n    Default configuration for RangerGC\\n    (RAdom + LookAhead + Gradient Centralization) optimizer.\\n    \\\"\\\"\\\"\\n\\n    _target_: str = get_class_path(RangerGC)\\n    alpha: float = 0.5\\n    k: int = 6\\n    N_sma_threshhold: int = 5\\n    betas: Tuple[float, float] = (0.95, 0.999)\\n    eps: float = 1e-05\\n    use_gc: bool = True\\n    gc_conv_only: bool = False\";\n",
       "                var nbb_cells = Jupyter.notebook.get_cells();\n",
       "                for (var i = 0; i < nbb_cells.length; ++i) {\n",
       "                    if (nbb_cells[i].input_prompt_number == nbb_cell_id) {\n",
       "                        if (nbb_cells[i].get_text() == nbb_unformatted_code) {\n",
       "                             nbb_cells[i].set_text(nbb_formatted_code);\n",
       "                        }\n",
       "                        break;\n",
       "                    }\n",
       "                }\n",
       "            }, 500);\n",
       "            "
      ],
      "text/plain": [
       "<IPython.core.display.Javascript object>"
      ]
     },
     "metadata": {},
     "output_type": "display_data"
    }
   ],
   "source": [
    "# export\n",
    "@dataclass\n",
    "class RangerGCConfig(OptimizerParams):\n",
    "    \"\"\"\n",
    "    Default configuration for RangerGC\n",
    "    (RAdom + LookAhead + Gradient Centralization) optimizer.\n",
    "    \"\"\"\n",
    "\n",
    "    _target_: str = get_class_path(RangerGC)\n",
    "    alpha: float = 0.5\n",
    "    k: int = 6\n",
    "    N_sma_threshhold: int = 5\n",
    "    betas: Tuple[float, float] = (0.95, 0.999)\n",
    "    eps: float = 1e-05\n",
    "    use_gc: bool = True\n",
    "    gc_conv_only: bool = False"
   ]
  },
  {
   "cell_type": "code",
   "execution_count": null,
   "metadata": {},
   "outputs": [
    {
     "data": {
      "application/javascript": [
       "\n",
       "            setTimeout(function() {\n",
       "                var nbb_cell_id = 18;\n",
       "                var nbb_unformatted_code = \"cfg = OmegaConf.structured(RangerGCConfig(lr=1e-03))\\nobj = create_optimizer(cfg, params=param)\\nassert isinstance(obj, RangerGC)\";\n",
       "                var nbb_formatted_code = \"cfg = OmegaConf.structured(RangerGCConfig(lr=1e-03))\\nobj = create_optimizer(cfg, params=param)\\nassert isinstance(obj, RangerGC)\";\n",
       "                var nbb_cells = Jupyter.notebook.get_cells();\n",
       "                for (var i = 0; i < nbb_cells.length; ++i) {\n",
       "                    if (nbb_cells[i].input_prompt_number == nbb_cell_id) {\n",
       "                        if (nbb_cells[i].get_text() == nbb_unformatted_code) {\n",
       "                             nbb_cells[i].set_text(nbb_formatted_code);\n",
       "                        }\n",
       "                        break;\n",
       "                    }\n",
       "                }\n",
       "            }, 500);\n",
       "            "
      ],
      "text/plain": [
       "<IPython.core.display.Javascript object>"
      ]
     },
     "metadata": {},
     "output_type": "display_data"
    }
   ],
   "source": [
    "cfg = OmegaConf.structured(RangerGCConfig(lr=1e-03))\n",
    "obj = create_optimizer(cfg, params=param)\n",
    "assert isinstance(obj, RangerGC)"
   ]
  },
  {
   "cell_type": "code",
   "execution_count": null,
   "metadata": {},
   "outputs": [
    {
     "data": {
      "application/javascript": [
       "\n",
       "            setTimeout(function() {\n",
       "                var nbb_cell_id = 19;\n",
       "                var nbb_unformatted_code = \"# export\\n@dataclass\\nclass SGDPConfig(OptimizerParams):\\n    \\\"\\\"\\\"\\n    Default configuration for SGDP Optimizer.\\n    \\\"\\\"\\\"\\n\\n    _target_: str = get_class_path(SGDP)\\n    momentum: float = 0\\n    dampening: float = 0\\n    nesterov: bool = False\\n    eps: float = 1e-08\\n    delta: float = 0.1\\n    wd_ratio: float = 0.1\";\n",
       "                var nbb_formatted_code = \"# export\\n@dataclass\\nclass SGDPConfig(OptimizerParams):\\n    \\\"\\\"\\\"\\n    Default configuration for SGDP Optimizer.\\n    \\\"\\\"\\\"\\n\\n    _target_: str = get_class_path(SGDP)\\n    momentum: float = 0\\n    dampening: float = 0\\n    nesterov: bool = False\\n    eps: float = 1e-08\\n    delta: float = 0.1\\n    wd_ratio: float = 0.1\";\n",
       "                var nbb_cells = Jupyter.notebook.get_cells();\n",
       "                for (var i = 0; i < nbb_cells.length; ++i) {\n",
       "                    if (nbb_cells[i].input_prompt_number == nbb_cell_id) {\n",
       "                        if (nbb_cells[i].get_text() == nbb_unformatted_code) {\n",
       "                             nbb_cells[i].set_text(nbb_formatted_code);\n",
       "                        }\n",
       "                        break;\n",
       "                    }\n",
       "                }\n",
       "            }, 500);\n",
       "            "
      ],
      "text/plain": [
       "<IPython.core.display.Javascript object>"
      ]
     },
     "metadata": {},
     "output_type": "display_data"
    }
   ],
   "source": [
    "# export\n",
    "@dataclass\n",
    "class SGDPConfig(OptimizerParams):\n",
    "    \"\"\"\n",
    "    Default configuration for SGDP Optimizer.\n",
    "    \"\"\"\n",
    "\n",
    "    _target_: str = get_class_path(SGDP)\n",
    "    momentum: float = 0\n",
    "    dampening: float = 0\n",
    "    nesterov: bool = False\n",
    "    eps: float = 1e-08\n",
    "    delta: float = 0.1\n",
    "    wd_ratio: float = 0.1"
   ]
  },
  {
   "cell_type": "code",
   "execution_count": null,
   "metadata": {},
   "outputs": [
    {
     "data": {
      "application/javascript": [
       "\n",
       "            setTimeout(function() {\n",
       "                var nbb_cell_id = 20;\n",
       "                var nbb_unformatted_code = \"cfg = OmegaConf.structured(SGDPConfig(lr=1e-03))\\nobj = create_optimizer(cfg, params=param)\\nassert isinstance(obj, SGDP)\";\n",
       "                var nbb_formatted_code = \"cfg = OmegaConf.structured(SGDPConfig(lr=1e-03))\\nobj = create_optimizer(cfg, params=param)\\nassert isinstance(obj, SGDP)\";\n",
       "                var nbb_cells = Jupyter.notebook.get_cells();\n",
       "                for (var i = 0; i < nbb_cells.length; ++i) {\n",
       "                    if (nbb_cells[i].input_prompt_number == nbb_cell_id) {\n",
       "                        if (nbb_cells[i].get_text() == nbb_unformatted_code) {\n",
       "                             nbb_cells[i].set_text(nbb_formatted_code);\n",
       "                        }\n",
       "                        break;\n",
       "                    }\n",
       "                }\n",
       "            }, 500);\n",
       "            "
      ],
      "text/plain": [
       "<IPython.core.display.Javascript object>"
      ]
     },
     "metadata": {},
     "output_type": "display_data"
    }
   ],
   "source": [
    "cfg = OmegaConf.structured(SGDPConfig(lr=1e-03))\n",
    "obj = create_optimizer(cfg, params=param)\n",
    "assert isinstance(obj, SGDP)"
   ]
  },
  {
   "cell_type": "code",
   "execution_count": null,
   "metadata": {},
   "outputs": [
    {
     "data": {
      "application/javascript": [
       "\n",
       "            setTimeout(function() {\n",
       "                var nbb_cell_id = 21;\n",
       "                var nbb_unformatted_code = \"# export\\n@dataclass\\nclass AdamPConfig(OptimizerParams):\\n    \\\"\\\"\\\"\\n    Default configuration for AdamP Optimizer.\\n    \\\"\\\"\\\"\\n\\n    _target_: str = get_class_path(AdamP)\\n    betas: Tuple[float, float] = (0.9, 0.999)\\n    eps: float = 1e-08\\n    delta: float = 0.1\\n    wd_ratio: float = 0.1\\n    nesterov: bool = False\";\n",
       "                var nbb_formatted_code = \"# export\\n@dataclass\\nclass AdamPConfig(OptimizerParams):\\n    \\\"\\\"\\\"\\n    Default configuration for AdamP Optimizer.\\n    \\\"\\\"\\\"\\n\\n    _target_: str = get_class_path(AdamP)\\n    betas: Tuple[float, float] = (0.9, 0.999)\\n    eps: float = 1e-08\\n    delta: float = 0.1\\n    wd_ratio: float = 0.1\\n    nesterov: bool = False\";\n",
       "                var nbb_cells = Jupyter.notebook.get_cells();\n",
       "                for (var i = 0; i < nbb_cells.length; ++i) {\n",
       "                    if (nbb_cells[i].input_prompt_number == nbb_cell_id) {\n",
       "                        if (nbb_cells[i].get_text() == nbb_unformatted_code) {\n",
       "                             nbb_cells[i].set_text(nbb_formatted_code);\n",
       "                        }\n",
       "                        break;\n",
       "                    }\n",
       "                }\n",
       "            }, 500);\n",
       "            "
      ],
      "text/plain": [
       "<IPython.core.display.Javascript object>"
      ]
     },
     "metadata": {},
     "output_type": "display_data"
    }
   ],
   "source": [
    "# export\n",
    "@dataclass\n",
    "class AdamPConfig(OptimizerParams):\n",
    "    \"\"\"\n",
    "    Default configuration for AdamP Optimizer.\n",
    "    \"\"\"\n",
    "\n",
    "    _target_: str = get_class_path(AdamP)\n",
    "    betas: Tuple[float, float] = (0.9, 0.999)\n",
    "    eps: float = 1e-08\n",
    "    delta: float = 0.1\n",
    "    wd_ratio: float = 0.1\n",
    "    nesterov: bool = False"
   ]
  },
  {
   "cell_type": "code",
   "execution_count": null,
   "metadata": {},
   "outputs": [
    {
     "data": {
      "application/javascript": [
       "\n",
       "            setTimeout(function() {\n",
       "                var nbb_cell_id = 22;\n",
       "                var nbb_unformatted_code = \"cfg = OmegaConf.structured(AdamPConfig(lr=1e-03))\\nobj = create_optimizer(cfg, params=param)\\nassert isinstance(obj, AdamP)\";\n",
       "                var nbb_formatted_code = \"cfg = OmegaConf.structured(AdamPConfig(lr=1e-03))\\nobj = create_optimizer(cfg, params=param)\\nassert isinstance(obj, AdamP)\";\n",
       "                var nbb_cells = Jupyter.notebook.get_cells();\n",
       "                for (var i = 0; i < nbb_cells.length; ++i) {\n",
       "                    if (nbb_cells[i].input_prompt_number == nbb_cell_id) {\n",
       "                        if (nbb_cells[i].get_text() == nbb_unformatted_code) {\n",
       "                             nbb_cells[i].set_text(nbb_formatted_code);\n",
       "                        }\n",
       "                        break;\n",
       "                    }\n",
       "                }\n",
       "            }, 500);\n",
       "            "
      ],
      "text/plain": [
       "<IPython.core.display.Javascript object>"
      ]
     },
     "metadata": {},
     "output_type": "display_data"
    }
   ],
   "source": [
    "cfg = OmegaConf.structured(AdamPConfig(lr=1e-03))\n",
    "obj = create_optimizer(cfg, params=param)\n",
    "assert isinstance(obj, AdamP)"
   ]
  },
  {
   "cell_type": "markdown",
   "metadata": {},
   "source": [
    "## Export-"
   ]
  },
  {
   "cell_type": "code",
   "execution_count": null,
   "metadata": {},
   "outputs": [
    {
     "name": "stdout",
     "output_type": "stream",
     "text": [
      "Converted 00_core.logging.ipynb.\n",
      "Converted 00a_core.structures.ipynb.\n",
      "Converted 00b_core.visualize.ipynb.\n",
      "Converted 01_core.nn.utils.ipynb.\n",
      "Converted 01a_core.nn.losses.ipynb.\n",
      "Converted 01b_core.nn.optim.optimizers.ipynb.\n",
      "Converted 01c_core.nn.optim.lr_schedulers.ipynb.\n",
      "Converted 02_config.optimizers.ipynb.\n",
      "Converted 02a_config.schedulers.ipynb.\n",
      "Converted 02b_config.common.ipynb.\n",
      "Converted 03_core.classes.ipynb.\n",
      "Converted 04_classification.modelling.backbones.ipynb.\n",
      "Converted 05_collections.pandas.ipynb.\n",
      "Converted 06a_collections.callbacks.notebook.ipynb.\n",
      "Converted 06b_collections.callbacks.ema.ipynb.\n",
      "Converted index.ipynb.\n"
     ]
    },
    {
     "data": {
      "application/javascript": [
       "\n",
       "            setTimeout(function() {\n",
       "                var nbb_cell_id = 24;\n",
       "                var nbb_unformatted_code = \"# hide\\nnotebook2script()\";\n",
       "                var nbb_formatted_code = \"# hide\\nnotebook2script()\";\n",
       "                var nbb_cells = Jupyter.notebook.get_cells();\n",
       "                for (var i = 0; i < nbb_cells.length; ++i) {\n",
       "                    if (nbb_cells[i].input_prompt_number == nbb_cell_id) {\n",
       "                        if (nbb_cells[i].get_text() == nbb_unformatted_code) {\n",
       "                             nbb_cells[i].set_text(nbb_formatted_code);\n",
       "                        }\n",
       "                        break;\n",
       "                    }\n",
       "                }\n",
       "            }, 500);\n",
       "            "
      ],
      "text/plain": [
       "<IPython.core.display.Javascript object>"
      ]
     },
     "metadata": {},
     "output_type": "display_data"
    }
   ],
   "source": [
    "# hide\n",
    "notebook2script()"
   ]
  },
  {
   "cell_type": "code",
   "execution_count": null,
   "metadata": {},
   "outputs": [],
   "source": []
  }
 ],
 "metadata": {
  "kernelspec": {
   "display_name": "gale",
   "language": "python",
   "name": "gale"
  }
 },
 "nbformat": 4,
 "nbformat_minor": 4
}
